{
 "cells": [
  {
   "cell_type": "markdown",
   "metadata": {},
   "source": [
    "# Помощь в принятии решений для крупного интернет-магазина"
   ]
  },
  {
   "cell_type": "markdown",
   "metadata": {},
   "source": [
    "На основе данных интернет-магазина приотезировать гипотезы для увеличения выручки, которые были подготовлены вместе с отелом маркетинга, и произвести оценку результатов A/B-тестирования различными методами.\n",
    "\n",
    "***Задачи проекта***\n",
    "- Приоритизация гипотез\n",
    "- Запуск A/B-тест \n",
    "- Анализ результатов\n",
    "\n",
    "***Цель проекта***\n",
    "- Выбрать подходящие гипотезы\n"
   ]
  },
  {
   "cell_type": "code",
   "execution_count": 1,
   "metadata": {},
   "outputs": [],
   "source": [
    "#импорт нужных библиотек\n",
    "import pandas as pd\n",
    "import seaborn as sns\n",
    "import matplotlib.pyplot as plt\n",
    "import matplotlib as mpl\n",
    "import numpy as np\n",
    "import scipy.stats as stats\n",
    "import datetime as dt\n",
    "from pandas.plotting import register_matplotlib_converters\n",
    "import warnings\n",
    "warnings.filterwarnings(\"ignore\")"
   ]
  },
  {
   "cell_type": "markdown",
   "metadata": {},
   "source": [
    "## Приоритизация гипотез"
   ]
  },
  {
   "cell_type": "code",
   "execution_count": 2,
   "metadata": {},
   "outputs": [
    {
     "data": {
      "text/html": [
       "<div>\n",
       "<style scoped>\n",
       "    .dataframe tbody tr th:only-of-type {\n",
       "        vertical-align: middle;\n",
       "    }\n",
       "\n",
       "    .dataframe tbody tr th {\n",
       "        vertical-align: top;\n",
       "    }\n",
       "\n",
       "    .dataframe thead th {\n",
       "        text-align: right;\n",
       "    }\n",
       "</style>\n",
       "<table border=\"1\" class=\"dataframe\">\n",
       "  <thead>\n",
       "    <tr style=\"text-align: right;\">\n",
       "      <th></th>\n",
       "      <th>Hypothesis</th>\n",
       "      <th>Reach</th>\n",
       "      <th>Impact</th>\n",
       "      <th>Confidence</th>\n",
       "      <th>Efforts</th>\n",
       "    </tr>\n",
       "  </thead>\n",
       "  <tbody>\n",
       "    <tr>\n",
       "      <th>0</th>\n",
       "      <td>Добавить два новых канала привлечения трафика, что позволит привлекать на 30% больше пользователей</td>\n",
       "      <td>3</td>\n",
       "      <td>10</td>\n",
       "      <td>8</td>\n",
       "      <td>6</td>\n",
       "    </tr>\n",
       "    <tr>\n",
       "      <th>1</th>\n",
       "      <td>Запустить собственную службу доставки, что сократит срок доставки заказов</td>\n",
       "      <td>2</td>\n",
       "      <td>5</td>\n",
       "      <td>4</td>\n",
       "      <td>10</td>\n",
       "    </tr>\n",
       "    <tr>\n",
       "      <th>2</th>\n",
       "      <td>Добавить блоки рекомендаций товаров на сайт интернет магазина, чтобы повысить конверсию и средний чек заказа</td>\n",
       "      <td>8</td>\n",
       "      <td>3</td>\n",
       "      <td>7</td>\n",
       "      <td>3</td>\n",
       "    </tr>\n",
       "    <tr>\n",
       "      <th>3</th>\n",
       "      <td>Изменить структура категорий, что увеличит конверсию, т.к. пользователи быстрее найдут нужный товар</td>\n",
       "      <td>8</td>\n",
       "      <td>3</td>\n",
       "      <td>3</td>\n",
       "      <td>8</td>\n",
       "    </tr>\n",
       "    <tr>\n",
       "      <th>4</th>\n",
       "      <td>Изменить цвет фона главной страницы, чтобы увеличить вовлеченность пользователей</td>\n",
       "      <td>3</td>\n",
       "      <td>1</td>\n",
       "      <td>1</td>\n",
       "      <td>1</td>\n",
       "    </tr>\n",
       "    <tr>\n",
       "      <th>5</th>\n",
       "      <td>Добавить страницу отзывов клиентов о магазине, что позволит увеличить количество заказов</td>\n",
       "      <td>3</td>\n",
       "      <td>2</td>\n",
       "      <td>2</td>\n",
       "      <td>3</td>\n",
       "    </tr>\n",
       "    <tr>\n",
       "      <th>6</th>\n",
       "      <td>Показать на главной странице баннеры с актуальными акциями и распродажами, чтобы увеличить конверсию</td>\n",
       "      <td>5</td>\n",
       "      <td>3</td>\n",
       "      <td>8</td>\n",
       "      <td>3</td>\n",
       "    </tr>\n",
       "    <tr>\n",
       "      <th>7</th>\n",
       "      <td>Добавить форму подписки на все основные страницы, чтобы собрать базу клиентов для email-рассылок</td>\n",
       "      <td>10</td>\n",
       "      <td>7</td>\n",
       "      <td>8</td>\n",
       "      <td>5</td>\n",
       "    </tr>\n",
       "    <tr>\n",
       "      <th>8</th>\n",
       "      <td>Запустить акцию, дающую скидку на товар в день рождения</td>\n",
       "      <td>1</td>\n",
       "      <td>9</td>\n",
       "      <td>9</td>\n",
       "      <td>5</td>\n",
       "    </tr>\n",
       "  </tbody>\n",
       "</table>\n",
       "</div>"
      ],
      "text/plain": [
       "                                                                                                     Hypothesis  \\\n",
       "0            Добавить два новых канала привлечения трафика, что позволит привлекать на 30% больше пользователей   \n",
       "1                                     Запустить собственную службу доставки, что сократит срок доставки заказов   \n",
       "2  Добавить блоки рекомендаций товаров на сайт интернет магазина, чтобы повысить конверсию и средний чек заказа   \n",
       "3           Изменить структура категорий, что увеличит конверсию, т.к. пользователи быстрее найдут нужный товар   \n",
       "4                              Изменить цвет фона главной страницы, чтобы увеличить вовлеченность пользователей   \n",
       "5                      Добавить страницу отзывов клиентов о магазине, что позволит увеличить количество заказов   \n",
       "6          Показать на главной странице баннеры с актуальными акциями и распродажами, чтобы увеличить конверсию   \n",
       "7              Добавить форму подписки на все основные страницы, чтобы собрать базу клиентов для email-рассылок   \n",
       "8                                                       Запустить акцию, дающую скидку на товар в день рождения   \n",
       "\n",
       "   Reach  Impact  Confidence  Efforts  \n",
       "0      3      10           8        6  \n",
       "1      2       5           4       10  \n",
       "2      8       3           7        3  \n",
       "3      8       3           3        8  \n",
       "4      3       1           1        1  \n",
       "5      3       2           2        3  \n",
       "6      5       3           8        3  \n",
       "7     10       7           8        5  \n",
       "8      1       9           9        5  "
      ]
     },
     "execution_count": 2,
     "metadata": {},
     "output_type": "execute_result"
    }
   ],
   "source": [
    "data = pd.read_csv('hypothesis.csv')\n",
    "pd.set_option(\"max_colwidth\", 120)\n",
    "data"
   ]
  },
  {
   "cell_type": "markdown",
   "metadata": {},
   "source": [
    "Применяю фреймворк ICE для приоритезации гипотез. Для этого воспользуюсь формулой: \n",
    "\n",
    "$$ICE = \\frac{Impact * Confidence}{Efforts}$$"
   ]
  },
  {
   "cell_type": "code",
   "execution_count": 3,
   "metadata": {},
   "outputs": [],
   "source": [
    "data['ICE'] = round((data['Impact'] * data['Confidence']) / data['Efforts'], 3)"
   ]
  },
  {
   "cell_type": "code",
   "execution_count": 4,
   "metadata": {},
   "outputs": [
    {
     "data": {
      "text/html": [
       "<div>\n",
       "<style scoped>\n",
       "    .dataframe tbody tr th:only-of-type {\n",
       "        vertical-align: middle;\n",
       "    }\n",
       "\n",
       "    .dataframe tbody tr th {\n",
       "        vertical-align: top;\n",
       "    }\n",
       "\n",
       "    .dataframe thead th {\n",
       "        text-align: right;\n",
       "    }\n",
       "</style>\n",
       "<table border=\"1\" class=\"dataframe\">\n",
       "  <thead>\n",
       "    <tr style=\"text-align: right;\">\n",
       "      <th></th>\n",
       "      <th>Hypothesis</th>\n",
       "      <th>Reach</th>\n",
       "      <th>Impact</th>\n",
       "      <th>Confidence</th>\n",
       "      <th>Efforts</th>\n",
       "      <th>ICE</th>\n",
       "    </tr>\n",
       "  </thead>\n",
       "  <tbody>\n",
       "    <tr>\n",
       "      <th>8</th>\n",
       "      <td>Запустить акцию, дающую скидку на товар в день рождения</td>\n",
       "      <td>1</td>\n",
       "      <td>9</td>\n",
       "      <td>9</td>\n",
       "      <td>5</td>\n",
       "      <td>16.200</td>\n",
       "    </tr>\n",
       "    <tr>\n",
       "      <th>0</th>\n",
       "      <td>Добавить два новых канала привлечения трафика, что позволит привлекать на 30% больше пользователей</td>\n",
       "      <td>3</td>\n",
       "      <td>10</td>\n",
       "      <td>8</td>\n",
       "      <td>6</td>\n",
       "      <td>13.333</td>\n",
       "    </tr>\n",
       "    <tr>\n",
       "      <th>7</th>\n",
       "      <td>Добавить форму подписки на все основные страницы, чтобы собрать базу клиентов для email-рассылок</td>\n",
       "      <td>10</td>\n",
       "      <td>7</td>\n",
       "      <td>8</td>\n",
       "      <td>5</td>\n",
       "      <td>11.200</td>\n",
       "    </tr>\n",
       "    <tr>\n",
       "      <th>6</th>\n",
       "      <td>Показать на главной странице баннеры с актуальными акциями и распродажами, чтобы увеличить конверсию</td>\n",
       "      <td>5</td>\n",
       "      <td>3</td>\n",
       "      <td>8</td>\n",
       "      <td>3</td>\n",
       "      <td>8.000</td>\n",
       "    </tr>\n",
       "    <tr>\n",
       "      <th>2</th>\n",
       "      <td>Добавить блоки рекомендаций товаров на сайт интернет магазина, чтобы повысить конверсию и средний чек заказа</td>\n",
       "      <td>8</td>\n",
       "      <td>3</td>\n",
       "      <td>7</td>\n",
       "      <td>3</td>\n",
       "      <td>7.000</td>\n",
       "    </tr>\n",
       "    <tr>\n",
       "      <th>1</th>\n",
       "      <td>Запустить собственную службу доставки, что сократит срок доставки заказов</td>\n",
       "      <td>2</td>\n",
       "      <td>5</td>\n",
       "      <td>4</td>\n",
       "      <td>10</td>\n",
       "      <td>2.000</td>\n",
       "    </tr>\n",
       "    <tr>\n",
       "      <th>5</th>\n",
       "      <td>Добавить страницу отзывов клиентов о магазине, что позволит увеличить количество заказов</td>\n",
       "      <td>3</td>\n",
       "      <td>2</td>\n",
       "      <td>2</td>\n",
       "      <td>3</td>\n",
       "      <td>1.333</td>\n",
       "    </tr>\n",
       "    <tr>\n",
       "      <th>3</th>\n",
       "      <td>Изменить структура категорий, что увеличит конверсию, т.к. пользователи быстрее найдут нужный товар</td>\n",
       "      <td>8</td>\n",
       "      <td>3</td>\n",
       "      <td>3</td>\n",
       "      <td>8</td>\n",
       "      <td>1.125</td>\n",
       "    </tr>\n",
       "    <tr>\n",
       "      <th>4</th>\n",
       "      <td>Изменить цвет фона главной страницы, чтобы увеличить вовлеченность пользователей</td>\n",
       "      <td>3</td>\n",
       "      <td>1</td>\n",
       "      <td>1</td>\n",
       "      <td>1</td>\n",
       "      <td>1.000</td>\n",
       "    </tr>\n",
       "  </tbody>\n",
       "</table>\n",
       "</div>"
      ],
      "text/plain": [
       "                                                                                                     Hypothesis  \\\n",
       "8                                                       Запустить акцию, дающую скидку на товар в день рождения   \n",
       "0            Добавить два новых канала привлечения трафика, что позволит привлекать на 30% больше пользователей   \n",
       "7              Добавить форму подписки на все основные страницы, чтобы собрать базу клиентов для email-рассылок   \n",
       "6          Показать на главной странице баннеры с актуальными акциями и распродажами, чтобы увеличить конверсию   \n",
       "2  Добавить блоки рекомендаций товаров на сайт интернет магазина, чтобы повысить конверсию и средний чек заказа   \n",
       "1                                     Запустить собственную службу доставки, что сократит срок доставки заказов   \n",
       "5                      Добавить страницу отзывов клиентов о магазине, что позволит увеличить количество заказов   \n",
       "3           Изменить структура категорий, что увеличит конверсию, т.к. пользователи быстрее найдут нужный товар   \n",
       "4                              Изменить цвет фона главной страницы, чтобы увеличить вовлеченность пользователей   \n",
       "\n",
       "   Reach  Impact  Confidence  Efforts     ICE  \n",
       "8      1       9           9        5  16.200  \n",
       "0      3      10           8        6  13.333  \n",
       "7     10       7           8        5  11.200  \n",
       "6      5       3           8        3   8.000  \n",
       "2      8       3           7        3   7.000  \n",
       "1      2       5           4       10   2.000  \n",
       "5      3       2           2        3   1.333  \n",
       "3      8       3           3        8   1.125  \n",
       "4      3       1           1        1   1.000  "
      ]
     },
     "execution_count": 4,
     "metadata": {},
     "output_type": "execute_result"
    }
   ],
   "source": [
    "data.sort_values(by='ICE', ascending=False)"
   ]
  },
  {
   "cell_type": "markdown",
   "metadata": {},
   "source": [
    "Всего было 9 гипотез, для удобства будем считать от 0 до 8 (как записаны индексы)"
   ]
  },
  {
   "cell_type": "markdown",
   "metadata": {},
   "source": [
    "Наиболее перспективные гипотезы по ICE: 8, 0, 7"
   ]
  },
  {
   "cell_type": "code",
   "execution_count": 5,
   "metadata": {},
   "outputs": [
    {
     "name": "stdout",
     "output_type": "stream",
     "text": [
      "Запустить акцию, дающую скидку на товар в день рождения\n",
      "Добавить два новых канала привлечения трафика, что позволит привлекать на 30% больше пользователей\n",
      "Добавить форму подписки на все основные страницы, чтобы собрать базу клиентов для email-рассылок\n"
     ]
    }
   ],
   "source": [
    "print(data['Hypothesis'][8])\n",
    "print(data['Hypothesis'][0])\n",
    "print(data['Hypothesis'][7])"
   ]
  },
  {
   "cell_type": "markdown",
   "metadata": {},
   "source": [
    "Применение фреймворка RICE для приоритезации гипотез. Для этого воспользуюсь формулой:\n",
    "\n",
    "$$RICE = \\frac{Reach * Impact * Confidence} {Efforts} $$"
   ]
  },
  {
   "cell_type": "code",
   "execution_count": 6,
   "metadata": {},
   "outputs": [
    {
     "data": {
      "text/html": [
       "<div>\n",
       "<style scoped>\n",
       "    .dataframe tbody tr th:only-of-type {\n",
       "        vertical-align: middle;\n",
       "    }\n",
       "\n",
       "    .dataframe tbody tr th {\n",
       "        vertical-align: top;\n",
       "    }\n",
       "\n",
       "    .dataframe thead th {\n",
       "        text-align: right;\n",
       "    }\n",
       "</style>\n",
       "<table border=\"1\" class=\"dataframe\">\n",
       "  <thead>\n",
       "    <tr style=\"text-align: right;\">\n",
       "      <th></th>\n",
       "      <th>Hypothesis</th>\n",
       "      <th>Reach</th>\n",
       "      <th>Impact</th>\n",
       "      <th>Confidence</th>\n",
       "      <th>Efforts</th>\n",
       "      <th>ICE</th>\n",
       "      <th>RICE</th>\n",
       "    </tr>\n",
       "  </thead>\n",
       "  <tbody>\n",
       "    <tr>\n",
       "      <th>7</th>\n",
       "      <td>Добавить форму подписки на все основные страницы, чтобы собрать базу клиентов для email-рассылок</td>\n",
       "      <td>10</td>\n",
       "      <td>7</td>\n",
       "      <td>8</td>\n",
       "      <td>5</td>\n",
       "      <td>11.200</td>\n",
       "      <td>112.0</td>\n",
       "    </tr>\n",
       "    <tr>\n",
       "      <th>2</th>\n",
       "      <td>Добавить блоки рекомендаций товаров на сайт интернет магазина, чтобы повысить конверсию и средний чек заказа</td>\n",
       "      <td>8</td>\n",
       "      <td>3</td>\n",
       "      <td>7</td>\n",
       "      <td>3</td>\n",
       "      <td>7.000</td>\n",
       "      <td>56.0</td>\n",
       "    </tr>\n",
       "    <tr>\n",
       "      <th>0</th>\n",
       "      <td>Добавить два новых канала привлечения трафика, что позволит привлекать на 30% больше пользователей</td>\n",
       "      <td>3</td>\n",
       "      <td>10</td>\n",
       "      <td>8</td>\n",
       "      <td>6</td>\n",
       "      <td>13.333</td>\n",
       "      <td>40.0</td>\n",
       "    </tr>\n",
       "    <tr>\n",
       "      <th>6</th>\n",
       "      <td>Показать на главной странице баннеры с актуальными акциями и распродажами, чтобы увеличить конверсию</td>\n",
       "      <td>5</td>\n",
       "      <td>3</td>\n",
       "      <td>8</td>\n",
       "      <td>3</td>\n",
       "      <td>8.000</td>\n",
       "      <td>40.0</td>\n",
       "    </tr>\n",
       "    <tr>\n",
       "      <th>8</th>\n",
       "      <td>Запустить акцию, дающую скидку на товар в день рождения</td>\n",
       "      <td>1</td>\n",
       "      <td>9</td>\n",
       "      <td>9</td>\n",
       "      <td>5</td>\n",
       "      <td>16.200</td>\n",
       "      <td>16.2</td>\n",
       "    </tr>\n",
       "    <tr>\n",
       "      <th>3</th>\n",
       "      <td>Изменить структура категорий, что увеличит конверсию, т.к. пользователи быстрее найдут нужный товар</td>\n",
       "      <td>8</td>\n",
       "      <td>3</td>\n",
       "      <td>3</td>\n",
       "      <td>8</td>\n",
       "      <td>1.125</td>\n",
       "      <td>9.0</td>\n",
       "    </tr>\n",
       "    <tr>\n",
       "      <th>1</th>\n",
       "      <td>Запустить собственную службу доставки, что сократит срок доставки заказов</td>\n",
       "      <td>2</td>\n",
       "      <td>5</td>\n",
       "      <td>4</td>\n",
       "      <td>10</td>\n",
       "      <td>2.000</td>\n",
       "      <td>4.0</td>\n",
       "    </tr>\n",
       "    <tr>\n",
       "      <th>5</th>\n",
       "      <td>Добавить страницу отзывов клиентов о магазине, что позволит увеличить количество заказов</td>\n",
       "      <td>3</td>\n",
       "      <td>2</td>\n",
       "      <td>2</td>\n",
       "      <td>3</td>\n",
       "      <td>1.333</td>\n",
       "      <td>4.0</td>\n",
       "    </tr>\n",
       "    <tr>\n",
       "      <th>4</th>\n",
       "      <td>Изменить цвет фона главной страницы, чтобы увеличить вовлеченность пользователей</td>\n",
       "      <td>3</td>\n",
       "      <td>1</td>\n",
       "      <td>1</td>\n",
       "      <td>1</td>\n",
       "      <td>1.000</td>\n",
       "      <td>3.0</td>\n",
       "    </tr>\n",
       "  </tbody>\n",
       "</table>\n",
       "</div>"
      ],
      "text/plain": [
       "                                                                                                     Hypothesis  \\\n",
       "7              Добавить форму подписки на все основные страницы, чтобы собрать базу клиентов для email-рассылок   \n",
       "2  Добавить блоки рекомендаций товаров на сайт интернет магазина, чтобы повысить конверсию и средний чек заказа   \n",
       "0            Добавить два новых канала привлечения трафика, что позволит привлекать на 30% больше пользователей   \n",
       "6          Показать на главной странице баннеры с актуальными акциями и распродажами, чтобы увеличить конверсию   \n",
       "8                                                       Запустить акцию, дающую скидку на товар в день рождения   \n",
       "3           Изменить структура категорий, что увеличит конверсию, т.к. пользователи быстрее найдут нужный товар   \n",
       "1                                     Запустить собственную службу доставки, что сократит срок доставки заказов   \n",
       "5                      Добавить страницу отзывов клиентов о магазине, что позволит увеличить количество заказов   \n",
       "4                              Изменить цвет фона главной страницы, чтобы увеличить вовлеченность пользователей   \n",
       "\n",
       "   Reach  Impact  Confidence  Efforts     ICE   RICE  \n",
       "7     10       7           8        5  11.200  112.0  \n",
       "2      8       3           7        3   7.000   56.0  \n",
       "0      3      10           8        6  13.333   40.0  \n",
       "6      5       3           8        3   8.000   40.0  \n",
       "8      1       9           9        5  16.200   16.2  \n",
       "3      8       3           3        8   1.125    9.0  \n",
       "1      2       5           4       10   2.000    4.0  \n",
       "5      3       2           2        3   1.333    4.0  \n",
       "4      3       1           1        1   1.000    3.0  "
      ]
     },
     "execution_count": 6,
     "metadata": {},
     "output_type": "execute_result"
    }
   ],
   "source": [
    "data['RICE'] = (data['Reach'] * data['Impact'] * data['Confidence']) / data['Efforts']\n",
    "data.sort_values(by = 'RICE', ascending=False)"
   ]
  },
  {
   "cell_type": "markdown",
   "metadata": {},
   "source": [
    "Наиболее преспективные гипотезы по RICE: 7,2, 0 и 6"
   ]
  },
  {
   "cell_type": "code",
   "execution_count": 7,
   "metadata": {},
   "outputs": [
    {
     "name": "stdout",
     "output_type": "stream",
     "text": [
      "Добавить форму подписки на все основные страницы, чтобы собрать базу клиентов для email-рассылок\n",
      "Добавить блоки рекомендаций товаров на сайт интернет магазина, чтобы повысить конверсию и средний чек заказа\n",
      "Добавить два новых канала привлечения трафика, что позволит привлекать на 30% больше пользователей\n",
      "Показать на главной странице баннеры с актуальными акциями и распродажами, чтобы увеличить конверсию\n"
     ]
    }
   ],
   "source": [
    "print(data['Hypothesis'][7])\n",
    "print(data['Hypothesis'][2])\n",
    "print(data['Hypothesis'][0])\n",
    "print(data['Hypothesis'][6])"
   ]
  },
  {
   "cell_type": "markdown",
   "metadata": {},
   "source": [
    "***Вывод***\n",
    "\n",
    "Наиболее перспективные гипотезы по ICE:\n",
    "- 1) Запустить акцию, дающую скидку на товар в день рождения (8)\n",
    "- 2) Добавить два новых канала привлечения трафика, что позволит привлекать на 30% больше пользователей (0)\n",
    "- 3) Добавить форму подписки на все основные страницы, чтобы собрать базу клиентов для email-рассылок(7)\n",
    "\n",
    "Наиболее перспективные гипотезы по RICE:\n",
    "- 1) Добавить форму подписки на все основные страницы, чтобы собрать базу клиентов для email-рассылок (7)\n",
    "- 2) Добавить блоки рекомендаций товаров на сайт интернет магазина, чтобы повысить конверсию и средний чек заказа(2)\n",
    "- 3) Добавить два новых канала привлечения трафика, что позволит привлекать на 30% больше пользователей (0) и Показать на главной странице баннеры с актуальными акциями и распродажами, чтобы увеличить конверсию (6)\n",
    "\n",
    "По двум фреймфоркам можно выделить гипотезы (которые совпадают) 7 и 0. Также стоит обратить внимание на гипотезу 8. Все значительно поменялось при введение параметра вовлеченности аудитории (Reach), где это большой показатель, тот и изменил результаты по фреймворку ICE. \n",
    "\n",
    "Стоит обратить внимание помимо гипотезы \"Добавить форму подписки на все основные страницы, чтобы собрать базу клиентов для email-рассылок\"(7) и \"Добавить два новых канала привлечения трафика, что позволит привлекать на 30% больше пользователей\"(0) на гипотезу \"Запустить акцию, дающую скидку на товар в день рождения\" (8), так как очень высокие показатели влияния пользователей (Impact = 9) и уверенности в результате (Confidence = 9)."
   ]
  },
  {
   "cell_type": "markdown",
   "metadata": {},
   "source": [
    "## Анализ A/B-теста"
   ]
  },
  {
   "cell_type": "code",
   "execution_count": 8,
   "metadata": {},
   "outputs": [],
   "source": [
    "orders = pd.read_csv('/datasets/orders.csv')\n",
    "visitors = pd.read_csv('/datasets/visitors.csv')"
   ]
  },
  {
   "cell_type": "code",
   "execution_count": 9,
   "metadata": {},
   "outputs": [],
   "source": [
    "orders['date'] = pd.to_datetime(orders['date']).dt.date\n",
    "visitors['date'] = pd.to_datetime(visitors['date']).dt.date"
   ]
  },
  {
   "cell_type": "code",
   "execution_count": 10,
   "metadata": {},
   "outputs": [
    {
     "name": "stdout",
     "output_type": "stream",
     "text": [
      "557\n",
      "640\n"
     ]
    }
   ],
   "source": [
    "print(orders[orders['group'] == 'A']['visitorId'].count())\n",
    "print(orders[orders['group'] == 'B']['visitorId'].count())"
   ]
  },
  {
   "cell_type": "markdown",
   "metadata": {},
   "source": [
    "***Описание А/В- теста***\n",
    "\n",
    "В исследовании буду использовать две группы: А и В.\\\n",
    "Дата начала теста 1 августа 2019 года, дата окончания теста 1 сентября 2019.\\\n",
    "В группе \"А\" 557 пользователей, а в курсе \"В\" 640 пользователей."
   ]
  },
  {
   "cell_type": "markdown",
   "metadata": {},
   "source": [
    "### Построение графика кумулятивной выручки (накапливаемых данных) по группам"
   ]
  },
  {
   "cell_type": "code",
   "execution_count": 11,
   "metadata": {},
   "outputs": [
    {
     "data": {
      "text/html": [
       "<div>\n",
       "<style scoped>\n",
       "    .dataframe tbody tr th:only-of-type {\n",
       "        vertical-align: middle;\n",
       "    }\n",
       "\n",
       "    .dataframe tbody tr th {\n",
       "        vertical-align: top;\n",
       "    }\n",
       "\n",
       "    .dataframe thead th {\n",
       "        text-align: right;\n",
       "    }\n",
       "</style>\n",
       "<table border=\"1\" class=\"dataframe\">\n",
       "  <thead>\n",
       "    <tr style=\"text-align: right;\">\n",
       "      <th></th>\n",
       "      <th>date</th>\n",
       "      <th>group</th>\n",
       "      <th>orders</th>\n",
       "      <th>buyers</th>\n",
       "      <th>revenue</th>\n",
       "      <th>visitors</th>\n",
       "    </tr>\n",
       "  </thead>\n",
       "  <tbody>\n",
       "    <tr>\n",
       "      <th>0</th>\n",
       "      <td>2019-08-01</td>\n",
       "      <td>A</td>\n",
       "      <td>24</td>\n",
       "      <td>20</td>\n",
       "      <td>148579</td>\n",
       "      <td>719</td>\n",
       "    </tr>\n",
       "    <tr>\n",
       "      <th>1</th>\n",
       "      <td>2019-08-01</td>\n",
       "      <td>B</td>\n",
       "      <td>21</td>\n",
       "      <td>20</td>\n",
       "      <td>101217</td>\n",
       "      <td>713</td>\n",
       "    </tr>\n",
       "    <tr>\n",
       "      <th>2</th>\n",
       "      <td>2019-08-02</td>\n",
       "      <td>A</td>\n",
       "      <td>44</td>\n",
       "      <td>38</td>\n",
       "      <td>242401</td>\n",
       "      <td>1338</td>\n",
       "    </tr>\n",
       "    <tr>\n",
       "      <th>3</th>\n",
       "      <td>2019-08-02</td>\n",
       "      <td>B</td>\n",
       "      <td>45</td>\n",
       "      <td>43</td>\n",
       "      <td>266748</td>\n",
       "      <td>1294</td>\n",
       "    </tr>\n",
       "    <tr>\n",
       "      <th>4</th>\n",
       "      <td>2019-08-03</td>\n",
       "      <td>A</td>\n",
       "      <td>68</td>\n",
       "      <td>62</td>\n",
       "      <td>354874</td>\n",
       "      <td>1845</td>\n",
       "    </tr>\n",
       "  </tbody>\n",
       "</table>\n",
       "</div>"
      ],
      "text/plain": [
       "         date group  orders  buyers  revenue  visitors\n",
       "0  2019-08-01     A      24      20   148579       719\n",
       "1  2019-08-01     B      21      20   101217       713\n",
       "2  2019-08-02     A      44      38   242401      1338\n",
       "3  2019-08-02     B      45      43   266748      1294\n",
       "4  2019-08-03     A      68      62   354874      1845"
      ]
     },
     "execution_count": 11,
     "metadata": {},
     "output_type": "execute_result"
    }
   ],
   "source": [
    "datesGroups = orders[['date', 'group']].drop_duplicates()\n",
    "\n",
    "ordersAggregated = datesGroups.apply(lambda x: orders[np.logical_and(orders['date'] <= x['date'], \n",
    "                                                                     orders['group'] == x['group'])]\\\n",
    "                                    .agg({'date' : 'max',\n",
    "                                          'group' : 'max',\n",
    "                                          'transactionId' : 'nunique',\n",
    "                                          'visitorId' : 'nunique',\n",
    "                                          'revenue' : 'sum'}), axis=1).sort_values(by=['date', 'group'])\n",
    "\n",
    "visitorsAggregated = datesGroups.apply(lambda x: visitors[np.logical_and(visitors['date'] <= x['date'], \n",
    "                                                                     visitors['group'] == x['group'])]\\\n",
    "                                    .agg({'date' : 'max',\n",
    "                                          'group' : 'max',\n",
    "                                          'visitors' : 'sum'}), axis=1).sort_values(by=['date', 'group'])\n",
    "\n",
    "cumulativeData = ordersAggregated.merge(visitorsAggregated, left_on=['date', 'group'], right_on = ['date', 'group'])\n",
    "cumulativeData.columns = ['date', 'group', 'orders', 'buyers', 'revenue', 'visitors']\n",
    "\n",
    "cumulativeData.head()"
   ]
  },
  {
   "cell_type": "code",
   "execution_count": 12,
   "metadata": {},
   "outputs": [
    {
     "data": {
      "image/png": "[encoded data removed]",
      "text/plain": [
       "<Figure size 864x720 with 1 Axes>"
      ]
     },
     "metadata": {
      "needs_background": "light"
     },
     "output_type": "display_data"
    }
   ],
   "source": [
    "cumulativeRevenueA = cumulativeData[cumulativeData['group']=='A'][['date','revenue', 'orders']]\n",
    "cumulativeRevenueB = cumulativeData[cumulativeData['group']=='B'][['date', 'revenue', 'orders']]\n",
    "\n",
    "plt.figure(figsize = (12,10))\n",
    "plt.title('График кумулятивной выручки по группам')\n",
    "plt.plot(cumulativeRevenueA['date'], cumulativeRevenueA['revenue'], label='A')\n",
    "\n",
    "plt.plot(cumulativeRevenueB['date'], cumulativeRevenueB['revenue'], label='B')\n",
    "\n",
    "plt.legend();\n"
   ]
  },
  {
   "cell_type": "markdown",
   "metadata": {},
   "source": [
    "***Вывод***\n",
    "\n",
    "Выручка равномерно увеличивается на протяжении всего теста. Группа А равномерно увеличивается на всем протяжении теста, а группа В имеет резкий скачок(17-21 августа), что может свидетельствовать о всплеске числа заказов или о появлении очень дорогих заказов в выборке.\n"
   ]
  },
  {
   "cell_type": "markdown",
   "metadata": {},
   "source": [
    "### Построение графика кумулятивного среднего чека по группам"
   ]
  },
  {
   "cell_type": "code",
   "execution_count": 13,
   "metadata": {},
   "outputs": [
    {
     "data": {
      "image/png": "[encoded data removed]",
      "text/plain": [
       "<Figure size 864x720 with 1 Axes>"
      ]
     },
     "metadata": {
      "needs_background": "light"
     },
     "output_type": "display_data"
    }
   ],
   "source": [
    "plt.figure(figsize = (12,10))\n",
    "plt.title('График кумулятивного среднего чека по группам')\n",
    "plt.plot(cumulativeRevenueA['date'], cumulativeRevenueA['revenue'] / cumulativeRevenueA['orders'], label='A')\n",
    "\n",
    "plt.plot(cumulativeRevenueB['date'], cumulativeRevenueB['revenue']/ cumulativeRevenueB['orders'], label='B')\n",
    "\n",
    "plt.legend();"
   ]
  },
  {
   "cell_type": "markdown",
   "metadata": {},
   "source": [
    "***Вывод***\n",
    "\n",
    "Средний чек для группы А сначала резко упал, потом резко стал возрастать и к концу стал равномерным.\\\n",
    "Падение группы А может быть связано с маленьким количеством заказов в этот период (5-9 августа), потом все нормализовалось.\\\n",
    "Средний чек для группы В возрастал, потом был резкий рост (17-21 августа), потом чуть-чуть упал.\\\n",
    "Резкий рост может быть связан с крупными заказами клиентов.\n",
    "\n",
    "Средний чек для двух групп неравномерный, присутствует и всплески, и падения. "
   ]
  },
  {
   "cell_type": "markdown",
   "metadata": {},
   "source": [
    "### Построение графика относительного измерения кумулятивного среднего чека группы В к группе А."
   ]
  },
  {
   "cell_type": "code",
   "execution_count": 14,
   "metadata": {},
   "outputs": [
    {
     "data": {
      "image/png": "[encoded data removed]",
      "text/plain": [
       "<Figure size 864x720 with 1 Axes>"
      ]
     },
     "metadata": {
      "needs_background": "light"
     },
     "output_type": "display_data"
    }
   ],
   "source": [
    "mergedCumulativeRevenue = cumulativeRevenueA.merge(cumulativeRevenueB, left_on = 'date', right_on = 'date',\n",
    "                                                  how = 'right', suffixes=['A', 'B'])\n",
    "\n",
    "plt.figure(figsize = (12,10))\n",
    "plt.title('График относительного различия среднего чека')\n",
    "plt.plot(mergedCumulativeRevenue['date'], (mergedCumulativeRevenue['revenueB']/\n",
    "                                          mergedCumulativeRevenue['ordersB']) / \n",
    "                                           (mergedCumulativeRevenue['revenueA']/\n",
    "                                           mergedCumulativeRevenue['ordersA']) - 1)\n",
    "\n",
    "plt.axhline(y=0, color='red', linestyle='--');"
   ]
  },
  {
   "cell_type": "markdown",
   "metadata": {},
   "source": [
    "***Вывод***\n",
    "\n",
    "В нескольких точках графика различия между сегментами резко скачет. Есть падение где-то 13 августа, и два резких всплеска: первый где-то 5-9 августа и второй где-то 17-21 августа. Такие всплески могут быть связаны с какими-то выбросами или крупными заказами."
   ]
  },
  {
   "cell_type": "markdown",
   "metadata": {},
   "source": [
    "### Построение графика кумулятивноо среднего количества заказов на посетителя (конверсии) по группам"
   ]
  },
  {
   "cell_type": "code",
   "execution_count": 15,
   "metadata": {},
   "outputs": [
    {
     "data": {
      "image/png": "[encoded data removed]",
      "text/plain": [
       "<Figure size 864x720 with 1 Axes>"
      ]
     },
     "metadata": {
      "needs_background": "light"
     },
     "output_type": "display_data"
    }
   ],
   "source": [
    "cumulativeData['conversion'] = cumulativeData['orders']/cumulativeData['visitors']\n",
    "\n",
    "cumulativeDataA = cumulativeData[cumulativeData['group'] == 'A']\n",
    "\n",
    "cumulativeDataB = cumulativeData[cumulativeData['group'] == 'B']\n",
    "\n",
    "plt.figure(figsize=(12,10))\n",
    "plt.title('График кумулятивного среднего количества заказов на посетителя по группам')\n",
    "plt.plot(cumulativeDataA['date'], cumulativeDataA['conversion'], label = 'A')\n",
    "plt.plot(cumulativeDataB['date'], cumulativeDataB['conversion'], label = 'B')\n",
    "plt.legend()\n",
    "plt.axis([dt.datetime(2019, 8 , 1), dt.datetime(2019, 9, 1), 0, 0.04]);"
   ]
  },
  {
   "cell_type": "markdown",
   "metadata": {},
   "source": [
    "***Вывод***\n",
    "\n",
    "- В начале теста группа А имела большую конверсию, но постепенно сегмент В выровнялся и примерно зафиксировался около значения больше А.\n",
    "- В начале всплеск для группы А, а потом  спад в количестве заказов, в конце спад стабилизировался. \n",
    "- Для группы В тоже произошел небольшой спад вначале, но потом был подъём в среднем количестве заказов.\n",
    "- Потом график стабилизировался. \n",
    "- Решающий период (когда группа А просела, а группа В вырвалась вперед) это с 5-9 августа. \n",
    "- Колебания абсолютного значения в начале и в конце теста не слишком большое: где-то 1-2%."
   ]
  },
  {
   "cell_type": "markdown",
   "metadata": {},
   "source": [
    "### Построение графика относительного изменения кумулятивного среднего количества заказов на посетителя группы В к группе А"
   ]
  },
  {
   "cell_type": "code",
   "execution_count": 16,
   "metadata": {},
   "outputs": [
    {
     "name": "stderr",
     "output_type": "stream",
     "text": [
      "No handles with labels found to put in legend.\n"
     ]
    },
    {
     "data": {
      "image/png": "[encoded data removed]",
      "text/plain": [
       "<Figure size 720x576 with 1 Axes>"
      ]
     },
     "metadata": {
      "needs_background": "light"
     },
     "output_type": "display_data"
    }
   ],
   "source": [
    "mergedCumulativeConversions = cumulativeDataA[['date', 'conversion']].merge(cumulativeDataB[['date', 'conversion']],\n",
    "                                                                           left_on='date',\n",
    "                                                                           right_on = 'date',\n",
    "                                                                           how = 'left',\n",
    "                                                                           suffixes=['A', 'B'])\n",
    "\n",
    "\n",
    "plt.figure(figsize=(10,8))\n",
    "plt.plot(mergedCumulativeConversions['date'], mergedCumulativeConversions['conversionB']/\n",
    "        mergedCumulativeConversions['conversionA'] - 1)\n",
    "plt.title('График относительного различия кумулятивных конверсий')\n",
    "plt.legend()\n",
    "plt.axhline(y = 0, color='red', linestyle='--')\n",
    "plt.axhline(y = 0.15, color='green', linestyle='--')\n",
    "plt.axis([dt.datetime(2019, 8 , 1), dt.datetime(2019, 9, 1), -0.5, 0.5]);"
   ]
  },
  {
   "cell_type": "markdown",
   "metadata": {},
   "source": [
    "***Вывод***\n",
    "\n",
    "Почти с самого начала теста группа В лидирует по конверсии относительно группы А, только в конце слегка опускается (но не ниже 10%)."
   ]
  },
  {
   "cell_type": "markdown",
   "metadata": {},
   "source": [
    "### Построение точечного графика стоимостей заказов "
   ]
  },
  {
   "cell_type": "code",
   "execution_count": 17,
   "metadata": {},
   "outputs": [
    {
     "data": {
      "image/png": "[encoded data removed]",
      "text/plain": [
       "<Figure size 432x288 with 1 Axes>"
      ]
     },
     "metadata": {
      "needs_background": "light"
     },
     "output_type": "display_data"
    }
   ],
   "source": [
    "x_values = pd.Series(range(0, len(orders['revenue'])))\n",
    "plt.ticklabel_format(style='plain')\n",
    "plt.scatter(x_values, orders['revenue']);"
   ]
  },
  {
   "cell_type": "markdown",
   "metadata": {},
   "source": [
    "***Вывод***\n",
    "\n",
    "По графику видно выброс (или аномально дорогой заказ, что маловероятно) в 1200000. Надо исключить это значение и построить график без него."
   ]
  },
  {
   "cell_type": "code",
   "execution_count": 18,
   "metadata": {},
   "outputs": [
    {
     "data": {
      "image/png": "[encoded data removed]",
      "text/plain": [
       "<Figure size 432x288 with 1 Axes>"
      ]
     },
     "metadata": {
      "needs_background": "light"
     },
     "output_type": "display_data"
    }
   ],
   "source": [
    "orders_1 = orders[orders['revenue']< 300000]\n",
    "x_values = pd.Series(range(0, len(orders_1['revenue'])))\n",
    "plt.ticklabel_format(style='plain')\n",
    "plt.scatter(x_values, orders_1['revenue']);"
   ]
  },
  {
   "cell_type": "markdown",
   "metadata": {},
   "source": [
    "***Вывод***\n",
    "\n",
    "Большинство заказов до 25000. По графику можно выбрать границу аномальных заказов между 50000 и 100000."
   ]
  },
  {
   "cell_type": "markdown",
   "metadata": {},
   "source": [
    "### Подсчёт перцентилей стоимости заказов"
   ]
  },
  {
   "cell_type": "code",
   "execution_count": 19,
   "metadata": {},
   "outputs": [
    {
     "name": "stdout",
     "output_type": "stream",
     "text": [
      "[18168.  28000.  58233.2]\n"
     ]
    }
   ],
   "source": [
    "print(np.percentile(orders['revenue'], [90, 95, 99]))"
   ]
  },
  {
   "cell_type": "markdown",
   "metadata": {},
   "source": [
    "***Вывод***\n",
    "\n",
    "Получается не более 5% заказов дороже 28000 и не более 1% дороже 58233 рублей. За верхнюю границу стоимости заказов можно взять 28000 рублей."
   ]
  },
  {
   "cell_type": "markdown",
   "metadata": {},
   "source": [
    "### Построение точечного графика количества заказов по пользователям "
   ]
  },
  {
   "cell_type": "code",
   "execution_count": 20,
   "metadata": {},
   "outputs": [
    {
     "data": {
      "text/html": [
       "<div>\n",
       "<style scoped>\n",
       "    .dataframe tbody tr th:only-of-type {\n",
       "        vertical-align: middle;\n",
       "    }\n",
       "\n",
       "    .dataframe tbody tr th {\n",
       "        vertical-align: top;\n",
       "    }\n",
       "\n",
       "    .dataframe thead th {\n",
       "        text-align: right;\n",
       "    }\n",
       "</style>\n",
       "<table border=\"1\" class=\"dataframe\">\n",
       "  <thead>\n",
       "    <tr style=\"text-align: right;\">\n",
       "      <th></th>\n",
       "      <th>transactionId</th>\n",
       "    </tr>\n",
       "    <tr>\n",
       "      <th>visitorId</th>\n",
       "      <th></th>\n",
       "    </tr>\n",
       "  </thead>\n",
       "  <tbody>\n",
       "    <tr>\n",
       "      <th>4256040402</th>\n",
       "      <td>11</td>\n",
       "    </tr>\n",
       "    <tr>\n",
       "      <th>2458001652</th>\n",
       "      <td>11</td>\n",
       "    </tr>\n",
       "    <tr>\n",
       "      <th>2378935119</th>\n",
       "      <td>9</td>\n",
       "    </tr>\n",
       "    <tr>\n",
       "      <th>2038680547</th>\n",
       "      <td>8</td>\n",
       "    </tr>\n",
       "    <tr>\n",
       "      <th>199603092</th>\n",
       "      <td>5</td>\n",
       "    </tr>\n",
       "    <tr>\n",
       "      <th>...</th>\n",
       "      <td>...</td>\n",
       "    </tr>\n",
       "    <tr>\n",
       "      <th>1484903144</th>\n",
       "      <td>1</td>\n",
       "    </tr>\n",
       "    <tr>\n",
       "      <th>1485964287</th>\n",
       "      <td>1</td>\n",
       "    </tr>\n",
       "    <tr>\n",
       "      <th>1494664757</th>\n",
       "      <td>1</td>\n",
       "    </tr>\n",
       "    <tr>\n",
       "      <th>1495112755</th>\n",
       "      <td>1</td>\n",
       "    </tr>\n",
       "    <tr>\n",
       "      <th>4283872382</th>\n",
       "      <td>1</td>\n",
       "    </tr>\n",
       "  </tbody>\n",
       "</table>\n",
       "<p>1031 rows × 1 columns</p>\n",
       "</div>"
      ],
      "text/plain": [
       "            transactionId\n",
       "visitorId                \n",
       "4256040402             11\n",
       "2458001652             11\n",
       "2378935119              9\n",
       "2038680547              8\n",
       "199603092               5\n",
       "...                   ...\n",
       "1484903144              1\n",
       "1485964287              1\n",
       "1494664757              1\n",
       "1495112755              1\n",
       "4283872382              1\n",
       "\n",
       "[1031 rows x 1 columns]"
      ]
     },
     "execution_count": 20,
     "metadata": {},
     "output_type": "execute_result"
    }
   ],
   "source": [
    "#создание таблицу, где будем количество заказов для каждого пользователя\n",
    "orders_user= orders.groupby('visitorId').agg({'transactionId' : 'nunique'})\n",
    "orders_user.sort_values(by='transactionId', ascending=False)"
   ]
  },
  {
   "cell_type": "code",
   "execution_count": 21,
   "metadata": {},
   "outputs": [
    {
     "data": {
      "image/png": "[encoded data removed]",
      "text/plain": [
       "<Figure size 432x288 with 1 Axes>"
      ]
     },
     "metadata": {
      "needs_background": "light"
     },
     "output_type": "display_data"
    }
   ],
   "source": [
    "x_values = pd.Series(range(0,len(orders_user['transactionId'])))\n",
    "plt.scatter(x_values, orders_user['transactionId']);"
   ]
  },
  {
   "cell_type": "markdown",
   "metadata": {},
   "source": [
    "***Вывод***\n",
    "\n",
    "По графику видно, что есть немного пользователей с большим количеством заказов. Много пользователей с 2-4 заказами."
   ]
  },
  {
   "cell_type": "markdown",
   "metadata": {},
   "source": [
    "### Подсчёт перцентилей количества заказов на пользователя"
   ]
  },
  {
   "cell_type": "code",
   "execution_count": 22,
   "metadata": {},
   "outputs": [
    {
     "name": "stdout",
     "output_type": "stream",
     "text": [
      "[1. 2. 4.]\n"
     ]
    }
   ],
   "source": [
    "print(np.percentile(orders_user['transactionId'], [90, 95, 99]))"
   ]
  },
  {
   "cell_type": "markdown",
   "metadata": {},
   "source": [
    "***Вывод***\n",
    "\n",
    "Не более 5% пользователей сделали более 2 заказов и не более 1% оформили более 4 заказов. За верхнюю границу можно выбрать 2 или 3 заказов на одного пользователя."
   ]
  },
  {
   "cell_type": "markdown",
   "metadata": {},
   "source": [
    "***Вывод***\n",
    "\n",
    "Для определения аномальных пользователей возьмем верхнюю границу: \n",
    "- 2/3 заказа на одного пользователя\n",
    "- 28000 стоимости заказов\n"
   ]
  },
  {
   "cell_type": "markdown",
   "metadata": {},
   "source": [
    "### Подсчет статистической значимости различий в среднем количестве заказов на посетителя между группами по \"сырым\" данным"
   ]
  },
  {
   "cell_type": "code",
   "execution_count": 31,
   "metadata": {},
   "outputs": [
    {
     "data": {
      "text/html": [
       "<div>\n",
       "<style scoped>\n",
       "    .dataframe tbody tr th:only-of-type {\n",
       "        vertical-align: middle;\n",
       "    }\n",
       "\n",
       "    .dataframe tbody tr th {\n",
       "        vertical-align: top;\n",
       "    }\n",
       "\n",
       "    .dataframe thead th {\n",
       "        text-align: right;\n",
       "    }\n",
       "</style>\n",
       "<table border=\"1\" class=\"dataframe\">\n",
       "  <thead>\n",
       "    <tr style=\"text-align: right;\">\n",
       "      <th></th>\n",
       "      <th>date</th>\n",
       "      <th>group</th>\n",
       "      <th>visitors</th>\n",
       "    </tr>\n",
       "  </thead>\n",
       "  <tbody>\n",
       "    <tr>\n",
       "      <th>0</th>\n",
       "      <td>2019-08-01</td>\n",
       "      <td>A</td>\n",
       "      <td>719</td>\n",
       "    </tr>\n",
       "    <tr>\n",
       "      <th>1</th>\n",
       "      <td>2019-08-02</td>\n",
       "      <td>A</td>\n",
       "      <td>619</td>\n",
       "    </tr>\n",
       "    <tr>\n",
       "      <th>2</th>\n",
       "      <td>2019-08-03</td>\n",
       "      <td>A</td>\n",
       "      <td>507</td>\n",
       "    </tr>\n",
       "    <tr>\n",
       "      <th>3</th>\n",
       "      <td>2019-08-04</td>\n",
       "      <td>A</td>\n",
       "      <td>717</td>\n",
       "    </tr>\n",
       "    <tr>\n",
       "      <th>4</th>\n",
       "      <td>2019-08-05</td>\n",
       "      <td>A</td>\n",
       "      <td>756</td>\n",
       "    </tr>\n",
       "    <tr>\n",
       "      <th>...</th>\n",
       "      <td>...</td>\n",
       "      <td>...</td>\n",
       "      <td>...</td>\n",
       "    </tr>\n",
       "    <tr>\n",
       "      <th>57</th>\n",
       "      <td>2019-08-27</td>\n",
       "      <td>B</td>\n",
       "      <td>720</td>\n",
       "    </tr>\n",
       "    <tr>\n",
       "      <th>58</th>\n",
       "      <td>2019-08-28</td>\n",
       "      <td>B</td>\n",
       "      <td>654</td>\n",
       "    </tr>\n",
       "    <tr>\n",
       "      <th>59</th>\n",
       "      <td>2019-08-29</td>\n",
       "      <td>B</td>\n",
       "      <td>531</td>\n",
       "    </tr>\n",
       "    <tr>\n",
       "      <th>60</th>\n",
       "      <td>2019-08-30</td>\n",
       "      <td>B</td>\n",
       "      <td>490</td>\n",
       "    </tr>\n",
       "    <tr>\n",
       "      <th>61</th>\n",
       "      <td>2019-08-31</td>\n",
       "      <td>B</td>\n",
       "      <td>718</td>\n",
       "    </tr>\n",
       "  </tbody>\n",
       "</table>\n",
       "<p>62 rows × 3 columns</p>\n",
       "</div>"
      ],
      "text/plain": [
       "          date group  visitors\n",
       "0   2019-08-01     A       719\n",
       "1   2019-08-02     A       619\n",
       "2   2019-08-03     A       507\n",
       "3   2019-08-04     A       717\n",
       "4   2019-08-05     A       756\n",
       "..         ...   ...       ...\n",
       "57  2019-08-27     B       720\n",
       "58  2019-08-28     B       654\n",
       "59  2019-08-29     B       531\n",
       "60  2019-08-30     B       490\n",
       "61  2019-08-31     B       718\n",
       "\n",
       "[62 rows x 3 columns]"
      ]
     },
     "execution_count": 31,
     "metadata": {},
     "output_type": "execute_result"
    }
   ],
   "source": [
    "visitors"
   ]
  },
  {
   "cell_type": "code",
   "execution_count": 23,
   "metadata": {},
   "outputs": [],
   "source": [
    "visitorsADaily = visitors[visitors['group'] == 'A'][['date', 'visitors']]\n",
    "visitorsADaily.columns = ['date', 'visitorsPerDateA']\n",
    "\n",
    "visitorsACummulative = visitorsADaily.apply(\n",
    "    lambda x: visitorsADaily[visitorsADaily['date'] <= x['date']].agg(\n",
    "        {'date': 'max', 'visitorsPerDateA': 'sum'}\n",
    "    ),\n",
    "    axis=1,\n",
    ")\n",
    "visitorsACummulative.columns = ['date', 'visitorsCummulativeA']\n",
    "\n",
    "visitorsBDaily = visitors[visitors['group'] == 'B'][['date', 'visitors']]\n",
    "visitorsBDaily.columns = ['date', 'visitorsPerDateB']\n",
    "\n",
    "visitorsBCummulative = visitorsBDaily.apply(\n",
    "    lambda x: visitorsBDaily[visitorsBDaily['date'] <= x['date']].agg(\n",
    "        {'date': 'max', 'visitorsPerDateB': 'sum'}\n",
    "    ),\n",
    "    axis=1,\n",
    ")\n",
    "visitorsBCummulative.columns = ['date', 'visitorsCummulativeB']\n",
    "\n",
    "ordersADaily = (\n",
    "    orders[orders['group'] == 'A'][['date', 'transactionId', 'visitorId', 'revenue']]\n",
    "    .groupby('date', as_index=False)\n",
    "    .agg({'transactionId': pd.Series.nunique, 'revenue': 'sum'})\n",
    ")\n",
    "ordersADaily.columns = ['date', 'ordersPerDateA', 'revenuePerDateA']\n",
    "\n",
    "ordersACummulative = ordersADaily.apply(\n",
    "    lambda x: ordersADaily[ordersADaily['date'] <= x['date']].agg(\n",
    "        {'date': 'max', 'ordersPerDateA': 'sum', 'revenuePerDateA': 'sum'}\n",
    "    ),\n",
    "    axis=1,\n",
    ").sort_values(by=['date'])\n",
    "ordersACummulative.columns = [\n",
    "    'date',\n",
    "    'ordersCummulativeA',\n",
    "    'revenueCummulativeA',\n",
    "]\n",
    "\n",
    "ordersBDaily = (\n",
    "    orders[orders['group'] == 'B'][['date', 'transactionId', 'visitorId', 'revenue']]\n",
    "    .groupby('date', as_index=False)\n",
    "    .agg({'transactionId': pd.Series.nunique, 'revenue': 'sum'})\n",
    ")\n",
    "ordersBDaily.columns = ['date', 'ordersPerDateB', 'revenuePerDateB']\n",
    "\n",
    "ordersBCummulative = ordersBDaily.apply(\n",
    "    lambda x: ordersBDaily[ordersBDaily['date'] <= x['date']].agg(\n",
    "        {'date': 'max', 'ordersPerDateB': 'sum', 'revenuePerDateB': 'sum'}\n",
    "    ),\n",
    "    axis=1,\n",
    ").sort_values(by=['date'])\n",
    "ordersBCummulative.columns = [\n",
    "    'date',\n",
    "    'ordersCummulativeB',\n",
    "    'revenueCummulativeB',\n",
    "]\n",
    "\n",
    "data = (\n",
    "    ordersADaily.merge(\n",
    "        ordersBDaily, left_on='date', right_on='date', how='left'\n",
    "    )\n",
    "    .merge(ordersACummulative, left_on='date', right_on='date', how='left')\n",
    "    .merge(ordersBCummulative, left_on='date', right_on='date', how='left')\n",
    "    .merge(visitorsADaily, left_on='date', right_on='date', how='left')\n",
    "    .merge(visitorsBDaily, left_on='date', right_on='date', how='left')\n",
    "    .merge(visitorsACummulative, left_on='date', right_on='date', how='left')\n",
    "    .merge(visitorsBCummulative, left_on='date', right_on='date', how='left')\n",
    ")"
   ]
  },
  {
   "cell_type": "code",
   "execution_count": 24,
   "metadata": {},
   "outputs": [],
   "source": [
    "orders_userA = (orders[orders['group'] == 'A'].groupby('visitorId', as_index=False)\\\n",
    "               .agg({'transactionId' : 'nunique'}))\n",
    "\n",
    "orders_userA.columns = ['visitorId', 'orders']\n",
    "\n",
    "orders_userB = (orders[orders['group'] == 'B'].groupby('visitorId', as_index=False)\\\n",
    "               .agg({'transactionId' : 'nunique'}))\n",
    "\n",
    "orders_userB.columns = ['visitorId', 'orders']"
   ]
  },
  {
   "cell_type": "code",
   "execution_count": 25,
   "metadata": {},
   "outputs": [],
   "source": [
    "sampleA = pd.concat(\n",
    "    [orders_userA['orders'],\n",
    "    pd.Series(0, index=np.arange(\n",
    "        data['visitorsPerDateA'].sum() - len(orders_userA['orders'])\n",
    "    ), name='orders')], axis=0,\n",
    ")\n",
    "\n",
    "sampleB = pd.concat(\n",
    "    [orders_userB['orders'],\n",
    "    pd.Series(0, index=np.arange(\n",
    "        data['visitorsPerDateB'].sum() - len(orders_userB['orders'])\n",
    "    ), name='orders')], axis=0,\n",
    ")"
   ]
  },
  {
   "cell_type": "markdown",
   "metadata": {},
   "source": [
    "Нулевая гипотеза: различий в среднем числе заказов между группами нет.\n",
    "\n",
    "Альтернативная гипотеза: различия в среднем числе заказов между группами есть."
   ]
  },
  {
   "cell_type": "code",
   "execution_count": 26,
   "metadata": {},
   "outputs": [
    {
     "name": "stdout",
     "output_type": "stream",
     "text": [
      "0.017\n",
      "0.138\n"
     ]
    }
   ],
   "source": [
    "print(\"{0:.3f}\".format(stats.mannwhitneyu(sampleA, sampleB,alternative=\"two-sided\")[1]))\n",
    "print(\"{0:.3f}\".format(sampleB.mean() / sampleA.mean() -1))"
   ]
  },
  {
   "cell_type": "markdown",
   "metadata": {},
   "source": [
    "***Вывод***\n",
    "\n",
    "P-value меньше 0.05, значит есть статистически значимые отличия между средним числом заказов двух групп. Получается, нулевую гипотезу опровергаю. Относительное различие среднего количества заказов между сегментами 13.8%, то есть группа В на почти 14% превосходит группу А в среднем количестве заказов."
   ]
  },
  {
   "cell_type": "markdown",
   "metadata": {},
   "source": [
    "### Подсчет статистической значимости различий в среднем чеке заказа между группами по \"сырым\" данным."
   ]
  },
  {
   "cell_type": "markdown",
   "metadata": {},
   "source": [
    "Нулевая гипотеза: различий в среднем чеке  между группами нет.\n",
    "\n",
    "Альтернативная гипотеза: различия в среднем чеке заказов между группами есть."
   ]
  },
  {
   "cell_type": "code",
   "execution_count": 27,
   "metadata": {},
   "outputs": [
    {
     "name": "stdout",
     "output_type": "stream",
     "text": [
      "0.729\n",
      "0.259\n"
     ]
    }
   ],
   "source": [
    "print(\"{0:.3f}\".format(stats.mannwhitneyu(orders[orders['group']=='A']['revenue'], \n",
    "                                          orders[orders['group']=='B']['revenue'],\n",
    "                                         alternative=\"two-sided\")[1]))\n",
    "\n",
    "print(\"{0:.3f}\".format(orders[orders['group']=='B']['revenue'].mean() / \n",
    "                       orders[orders['group']=='A']['revenue'].mean() -1))"
   ]
  },
  {
   "cell_type": "markdown",
   "metadata": {},
   "source": [
    "***Вывод***\n",
    "\n",
    "P-value значительно больше 0.05. Не отвергаю нулевую гипотезу. Значит, в среднем чеке статистически значимых отличий между группами нет. Средний чек группы В на почти 26% больше среднего чека группы А."
   ]
  },
  {
   "cell_type": "markdown",
   "metadata": {},
   "source": [
    "Пусть аномальными пользователями будут:\n",
    "- пользователь совершивший не более 2 заказов \n",
    "- покупка не превысила 28000 рублей\n"
   ]
  },
  {
   "cell_type": "markdown",
   "metadata": {},
   "source": [
    "### Подсчет статистической значимости различий в среднем количестве заказов на посетителя между группами по \"очищенным\" данным"
   ]
  },
  {
   "cell_type": "markdown",
   "metadata": {},
   "source": [
    "Нулевая гипотеза: различий в среднем числе заказов между группами нет.\n",
    "\n",
    "Альтернативная гипотеза: различия в среднем числе заказов между группами есть."
   ]
  },
  {
   "cell_type": "code",
   "execution_count": 28,
   "metadata": {},
   "outputs": [],
   "source": [
    "users_max_orders = pd.concat(\n",
    "    [orders_userA[orders_userA['orders'] > 2]['visitorId'],\n",
    "    orders_userB[orders_userB['orders'] > 2]['visitorId'],],axis=0\n",
    ")\n",
    "\n",
    "users_rich_orders = orders[orders['revenue'] > 28000]['visitorId']\n",
    "\n",
    "abnormalUsers = (pd.concat([users_max_orders, users_rich_orders], axis = 0).drop_duplicates().sort_values())\n",
    "\n",
    "sampleAFiltred = pd.concat([orders_userA[np.logical_not(orders_userA['visitorId'].isin(abnormalUsers))]['orders'],\n",
    "                           pd.Series(0, \n",
    "                                     index=np.arange(data['visitorsPerDateA'].sum() - len(orders_userA['orders'])),\n",
    "                                     name='orders',\n",
    "                                    ),\n",
    "                           ],\n",
    "                           axis = 0)\n",
    "\n",
    "sampleBFiltred = pd.concat([orders_userB[np.logical_not(orders_userB['visitorId'].isin(abnormalUsers))]['orders'],\n",
    "                           pd.Series(0, \n",
    "                                     index=np.arange(data['visitorsPerDateB'].sum() - len(orders_userB['orders'])),\n",
    "                                     name='orders',\n",
    "                                    ),\n",
    "                           ],\n",
    "                           axis = 0)"
   ]
  },
  {
   "cell_type": "code",
   "execution_count": 29,
   "metadata": {},
   "outputs": [
    {
     "name": "stdout",
     "output_type": "stream",
     "text": [
      "0.013\n",
      "0.173\n"
     ]
    }
   ],
   "source": [
    "print('{0:.3f}'.format(stats.mannwhitneyu(sampleAFiltred, sampleBFiltred,alternative=\"two-sided\")[1]))\n",
    "print('{0:.3f}'.format(sampleBFiltred.mean() / sampleAFiltred.mean()-1))"
   ]
  },
  {
   "cell_type": "markdown",
   "metadata": {},
   "source": [
    "***Вывод***\n",
    "\n",
    "Результаты по среднему количеству заказов между группами практически не изменились. То есть различия в среднем числе заказов между группами есть(p-value < 0.05)"
   ]
  },
  {
   "cell_type": "markdown",
   "metadata": {},
   "source": [
    "### Подсчет статистической значимости различий в среднем чеке заказа между группами по \"очищенным\" данным."
   ]
  },
  {
   "cell_type": "markdown",
   "metadata": {},
   "source": [
    "Нулевая гипотеза: различий в среднем чеке  между группами нет.\n",
    "\n",
    "Альтернативная гипотеза: различия в среднем чеке заказов между группами есть."
   ]
  },
  {
   "cell_type": "code",
   "execution_count": 30,
   "metadata": {},
   "outputs": [
    {
     "name": "stdout",
     "output_type": "stream",
     "text": [
      "0.738\n",
      "-0.020\n"
     ]
    }
   ],
   "source": [
    "print(\n",
    "    '{0:.3f}'.format(\n",
    "        stats.mannwhitneyu(\n",
    "            orders[\n",
    "                np.logical_and(\n",
    "                    orders['group'] == 'A',\n",
    "                    np.logical_not(orders['visitorId'].isin(abnormalUsers)),\n",
    "                )\n",
    "            ]['revenue'],\n",
    "            orders[\n",
    "                np.logical_and(\n",
    "                    orders['group'] == 'B',\n",
    "                    np.logical_not(orders['visitorId'].isin(abnormalUsers)),\n",
    "                )\n",
    "            ]['revenue'], alternative=\"two-sided\",\n",
    "        )[1]\n",
    "    )\n",
    ")\n",
    "\n",
    "print(\n",
    "    \"{0:.3f}\".format(\n",
    "        orders[\n",
    "            np.logical_and(\n",
    "                orders['group'] == 'B',\n",
    "                np.logical_not(orders['visitorId'].isin(abnormalUsers)),\n",
    "            )\n",
    "        ]['revenue'].mean()\n",
    "        / orders[\n",
    "            np.logical_and(\n",
    "                orders['group'] == 'A',\n",
    "                np.logical_not(orders['visitorId'].isin(abnormalUsers)),\n",
    "            )\n",
    "        ]['revenue'].mean()\n",
    "        - 1\n",
    "    )\n",
    ")"
   ]
  },
  {
   "cell_type": "markdown",
   "metadata": {},
   "source": [
    "***Вывод***\n",
    "\n",
    "P-value остался почти таким же. То есть нулевую гипотезу не отвергаю.  А вот средний чек группы В стал меньше, чем средний чек группы А на 2%"
   ]
  },
  {
   "cell_type": "markdown",
   "metadata": {},
   "source": [
    "### Итоговый вывод результатов теста"
   ]
  },
  {
   "cell_type": "markdown",
   "metadata": {},
   "source": [
    "Имеющиеся факты:\n",
    "- Есть отличия по среднему количеству заказов и по \"сырым\", и по \"очищенным\" данным. Группа В превосходит группу А на 14% по \"сырым\" данным, и на 17% по \"очищенным\" данным.\n",
    "- Нет статистически значимого различия по среднему чеку между группами  по \"сырым\" данным. После фильтрации аномалий значение p-value не изменилось, а средний чек группы В стал меньше на 2% по сравнению с группой А.\n",
    "- График различия среднего чека показывает, что результаты группы В лучше, чем группы А, т.е. группа В выше по среднему чеку группы А.\n",
    "- График различия среднего количества заказов между группами (конверсии) показывает, что В превосходит группу А по среднему количеству заказов.\n",
    "\n",
    "Тогда можно сделать вывод, что\n",
    "Надо остановить тест, признать победу группы В."
   ]
  },
  {
   "cell_type": "markdown",
   "metadata": {},
   "source": [
    "<div style=\"border:solid Chocolate 2px; padding: 40px\">\n",
    "\n",
    "**Общий вывод по проекту**\n",
    "\n",
    "Лиза, спасибо за твой проект! Ты приложила много усилий, чтобы довести его до конца, все задачи в рамках проекта тебе удалось успешно решить, это видно невооруженным глазом, отличная работа! У меня есть несколько рекомендаций, над которыми стоит поработать.\n",
    "\n",
    "**Отмечу отдельные положительные моменты проекта🙂**:\n",
    "* На разных шагах проекта ты предлагала очень интересные решения и методы для их реализации. Хорошая работа!\n",
    "* Ты активно работала с визуализацией, хорошо, что ты используешь графики в работе над проектами!\n",
    "* Тест для проверки гипотез выбран верно, интерпретация результатов теста также корректна:)\n",
    "* Проект в целом хорошо структурирован и оформлен, это плюс:)\n",
    "\n",
    "    \n",
    "**На что стоит обратить внимание:🙂**:\n",
    "\n",
    "* Важно сформулировать гипотезы перед проведением каждого из тестов.\n",
    "* Попробуй найти пользователей, попавших в обе группы.\n",
    "* Можно поработать над комментариями в желтых блоках, носящих рекомендательный характер.\n",
    "    \n",
    "**Желаю удачи и жду твой проект на повторное ревью!**😉\n",
    "    \n",
    "![gif](https://media.giphy.com/media/l41Yh1olOKd1Tgbw4/giphy.gif)"
   ]
  },
  {
   "cell_type": "markdown",
   "metadata": {},
   "source": [
    "<div style=\"border:solid Chocolate 2px; padding: 40px\">\n",
    "\n",
    "**Общий вывод по проекту: вторая итерация ревью**\n",
    "\n",
    "Лиза, спасибо, что прислала проект с доработками! Все основные моменты исправлены и скорректированы, хорошая работа! \n",
    "    \n",
    "Спешу тебе сообщить, что твой проект принят и ты можешь перейти на следующий спринт🐱‍🏍\n",
    "    \n",
    "Желаю тебе крутых и интересных проектов на следующих спринтах🙌😉"
   ]
  },
  {
   "cell_type": "code",
   "execution_count": null,
   "metadata": {},
   "outputs": [],
   "source": []
  }
 ],
 "metadata": {
  "ExecuteTimeLog": [
   {
    "duration": 1306,
    "start_time": "2023-02-24T07:28:07.802Z"
   },
   {
    "duration": 86,
    "start_time": "2023-02-24T07:28:39.808Z"
   },
   {
    "duration": 28,
    "start_time": "2023-02-24T07:29:08.990Z"
   },
   {
    "duration": 30,
    "start_time": "2023-02-24T07:29:22.217Z"
   },
   {
    "duration": 27,
    "start_time": "2023-02-24T07:29:47.389Z"
   },
   {
    "duration": 29,
    "start_time": "2023-02-24T07:30:00.334Z"
   },
   {
    "duration": 5,
    "start_time": "2023-02-24T07:33:15.605Z"
   },
   {
    "duration": 8,
    "start_time": "2023-02-24T07:33:21.529Z"
   },
   {
    "duration": 4,
    "start_time": "2023-02-24T07:33:58.877Z"
   },
   {
    "duration": 8,
    "start_time": "2023-02-24T07:33:59.780Z"
   },
   {
    "duration": 97,
    "start_time": "2023-02-24T07:34:44.552Z"
   },
   {
    "duration": 9,
    "start_time": "2023-02-24T07:34:51.280Z"
   },
   {
    "duration": 9,
    "start_time": "2023-02-24T07:41:19.225Z"
   },
   {
    "duration": 4,
    "start_time": "2023-02-24T07:45:16.754Z"
   },
   {
    "duration": 71,
    "start_time": "2023-02-24T07:47:57.082Z"
   },
   {
    "duration": 4,
    "start_time": "2023-02-24T07:48:37.234Z"
   },
   {
    "duration": 9,
    "start_time": "2023-02-24T07:48:47.539Z"
   },
   {
    "duration": 71,
    "start_time": "2023-02-24T07:49:05.483Z"
   },
   {
    "duration": 5,
    "start_time": "2023-02-24T07:49:59.201Z"
   },
   {
    "duration": 8,
    "start_time": "2023-02-24T07:50:02.409Z"
   },
   {
    "duration": 7,
    "start_time": "2023-02-24T07:50:55.543Z"
   },
   {
    "duration": 12,
    "start_time": "2023-02-24T07:50:58.557Z"
   },
   {
    "duration": 8,
    "start_time": "2023-02-24T07:53:56.106Z"
   },
   {
    "duration": 32,
    "start_time": "2023-02-24T07:54:32.497Z"
   },
   {
    "duration": 4,
    "start_time": "2023-02-24T07:54:33.499Z"
   },
   {
    "duration": 9,
    "start_time": "2023-02-24T07:54:33.975Z"
   },
   {
    "duration": 3,
    "start_time": "2023-02-24T08:26:20.316Z"
   },
   {
    "duration": 5,
    "start_time": "2023-02-24T08:26:41.377Z"
   },
   {
    "duration": 4,
    "start_time": "2023-02-24T08:27:11.905Z"
   },
   {
    "duration": 12,
    "start_time": "2023-02-24T08:30:02.853Z"
   },
   {
    "duration": 13,
    "start_time": "2023-02-24T08:30:26.206Z"
   },
   {
    "duration": 14,
    "start_time": "2023-02-24T08:30:43.205Z"
   },
   {
    "duration": 4,
    "start_time": "2023-02-24T08:32:22.796Z"
   },
   {
    "duration": 166,
    "start_time": "2023-02-24T08:55:00.793Z"
   },
   {
    "duration": 14,
    "start_time": "2023-02-24T08:55:04.567Z"
   },
   {
    "duration": 11,
    "start_time": "2023-02-24T08:55:12.858Z"
   },
   {
    "duration": 3,
    "start_time": "2023-02-24T09:04:18.608Z"
   },
   {
    "duration": 1157,
    "start_time": "2023-02-24T09:04:34.534Z"
   },
   {
    "duration": 33,
    "start_time": "2023-02-24T09:04:35.693Z"
   },
   {
    "duration": 5,
    "start_time": "2023-02-24T09:04:35.727Z"
   },
   {
    "duration": 12,
    "start_time": "2023-02-24T09:04:35.734Z"
   },
   {
    "duration": 16,
    "start_time": "2023-02-24T09:04:35.748Z"
   },
   {
    "duration": 14,
    "start_time": "2023-02-24T09:04:35.766Z"
   },
   {
    "duration": 8,
    "start_time": "2023-02-24T09:04:35.782Z"
   },
   {
    "duration": 50,
    "start_time": "2023-02-24T09:04:35.791Z"
   },
   {
    "duration": 19,
    "start_time": "2023-02-24T09:04:35.842Z"
   },
   {
    "duration": 17,
    "start_time": "2023-02-24T09:07:35.921Z"
   },
   {
    "duration": 127,
    "start_time": "2023-02-24T09:17:05.347Z"
   },
   {
    "duration": 10,
    "start_time": "2023-02-24T09:17:27.632Z"
   },
   {
    "duration": 15,
    "start_time": "2023-02-24T09:20:46.195Z"
   },
   {
    "duration": 3,
    "start_time": "2023-02-24T09:23:28.094Z"
   },
   {
    "duration": 5,
    "start_time": "2023-02-24T09:27:23.537Z"
   },
   {
    "duration": 9,
    "start_time": "2023-02-24T09:27:33.018Z"
   },
   {
    "duration": 9,
    "start_time": "2023-02-24T09:28:10.755Z"
   },
   {
    "duration": 9,
    "start_time": "2023-02-24T09:29:56.080Z"
   },
   {
    "duration": 10,
    "start_time": "2023-02-24T09:31:29.734Z"
   },
   {
    "duration": 3,
    "start_time": "2023-02-24T09:31:43.224Z"
   },
   {
    "duration": 32,
    "start_time": "2023-02-24T09:31:43.228Z"
   },
   {
    "duration": 3,
    "start_time": "2023-02-24T09:31:43.262Z"
   },
   {
    "duration": 10,
    "start_time": "2023-02-24T09:31:43.266Z"
   },
   {
    "duration": 7,
    "start_time": "2023-02-24T09:31:43.278Z"
   },
   {
    "duration": 14,
    "start_time": "2023-02-24T09:31:43.286Z"
   },
   {
    "duration": 6,
    "start_time": "2023-02-24T09:31:43.301Z"
   },
   {
    "duration": 52,
    "start_time": "2023-02-24T09:31:43.308Z"
   },
   {
    "duration": 267,
    "start_time": "2023-02-24T09:31:43.361Z"
   },
   {
    "duration": 271,
    "start_time": "2023-02-24T09:36:09.890Z"
   },
   {
    "duration": 218,
    "start_time": "2023-02-24T09:38:59.134Z"
   },
   {
    "duration": 236,
    "start_time": "2023-02-24T09:39:23.450Z"
   },
   {
    "duration": 3,
    "start_time": "2023-02-24T09:57:22.203Z"
   },
   {
    "duration": 41,
    "start_time": "2023-02-24T09:57:22.208Z"
   },
   {
    "duration": 4,
    "start_time": "2023-02-24T09:57:22.250Z"
   },
   {
    "duration": 15,
    "start_time": "2023-02-24T09:57:22.256Z"
   },
   {
    "duration": 5,
    "start_time": "2023-02-24T09:57:22.273Z"
   },
   {
    "duration": 13,
    "start_time": "2023-02-24T09:57:22.280Z"
   },
   {
    "duration": 5,
    "start_time": "2023-02-24T09:57:22.295Z"
   },
   {
    "duration": 58,
    "start_time": "2023-02-24T09:57:22.302Z"
   },
   {
    "duration": 317,
    "start_time": "2023-02-24T09:57:22.362Z"
   },
   {
    "duration": 0,
    "start_time": "2023-02-24T09:57:22.681Z"
   },
   {
    "duration": 378,
    "start_time": "2023-02-24T09:59:03.658Z"
   },
   {
    "duration": 12,
    "start_time": "2023-02-24T09:59:37.568Z"
   },
   {
    "duration": 5,
    "start_time": "2023-02-24T09:59:44.311Z"
   },
   {
    "duration": 5,
    "start_time": "2023-02-24T09:59:55.581Z"
   },
   {
    "duration": 6,
    "start_time": "2023-02-24T10:00:03.664Z"
   },
   {
    "duration": 5,
    "start_time": "2023-02-24T10:00:10.611Z"
   },
   {
    "duration": 3,
    "start_time": "2023-02-24T10:01:59.239Z"
   },
   {
    "duration": 35,
    "start_time": "2023-02-24T10:01:59.243Z"
   },
   {
    "duration": 3,
    "start_time": "2023-02-24T10:01:59.279Z"
   },
   {
    "duration": 16,
    "start_time": "2023-02-24T10:01:59.284Z"
   },
   {
    "duration": 12,
    "start_time": "2023-02-24T10:01:59.301Z"
   },
   {
    "duration": 16,
    "start_time": "2023-02-24T10:01:59.315Z"
   },
   {
    "duration": 7,
    "start_time": "2023-02-24T10:01:59.332Z"
   },
   {
    "duration": 51,
    "start_time": "2023-02-24T10:01:59.340Z"
   },
   {
    "duration": 284,
    "start_time": "2023-02-24T10:01:59.393Z"
   },
   {
    "duration": 0,
    "start_time": "2023-02-24T10:01:59.679Z"
   },
   {
    "duration": 285,
    "start_time": "2023-02-24T10:02:14.134Z"
   },
   {
    "duration": 285,
    "start_time": "2023-02-24T10:02:50.760Z"
   },
   {
    "duration": 357,
    "start_time": "2023-02-24T10:03:49.382Z"
   },
   {
    "duration": 246,
    "start_time": "2023-02-24T10:04:06.050Z"
   },
   {
    "duration": 245,
    "start_time": "2023-02-24T10:04:08.583Z"
   },
   {
    "duration": 240,
    "start_time": "2023-02-24T10:04:15.746Z"
   },
   {
    "duration": 314,
    "start_time": "2023-02-24T10:08:29.907Z"
   },
   {
    "duration": 238,
    "start_time": "2023-02-24T10:08:43.297Z"
   },
   {
    "duration": 10,
    "start_time": "2023-02-24T10:09:11.134Z"
   },
   {
    "duration": 9,
    "start_time": "2023-02-24T10:09:33.456Z"
   },
   {
    "duration": 6,
    "start_time": "2023-02-24T10:12:01.101Z"
   },
   {
    "duration": 7,
    "start_time": "2023-02-24T10:12:21.466Z"
   },
   {
    "duration": 277,
    "start_time": "2023-02-24T10:12:22.171Z"
   },
   {
    "duration": 11,
    "start_time": "2023-02-24T10:12:23.561Z"
   },
   {
    "duration": 242,
    "start_time": "2023-02-24T10:12:24.404Z"
   },
   {
    "duration": 231,
    "start_time": "2023-02-24T10:14:00.885Z"
   },
   {
    "duration": 139,
    "start_time": "2023-02-24T10:14:22.178Z"
   },
   {
    "duration": 177,
    "start_time": "2023-02-24T10:14:33.017Z"
   },
   {
    "duration": 276,
    "start_time": "2023-02-24T10:16:06.942Z"
   },
   {
    "duration": 260,
    "start_time": "2023-02-24T10:16:17.147Z"
   },
   {
    "duration": 202,
    "start_time": "2023-02-24T10:16:34.912Z"
   },
   {
    "duration": 178,
    "start_time": "2023-02-24T10:17:58.364Z"
   },
   {
    "duration": 197,
    "start_time": "2023-02-24T10:18:08.593Z"
   },
   {
    "duration": 249,
    "start_time": "2023-02-24T10:44:41.235Z"
   },
   {
    "duration": 12,
    "start_time": "2023-02-24T11:06:57.362Z"
   },
   {
    "duration": 196,
    "start_time": "2023-02-24T11:07:08.839Z"
   },
   {
    "duration": 398,
    "start_time": "2023-02-24T11:07:18.936Z"
   },
   {
    "duration": 393,
    "start_time": "2023-02-24T11:07:23.430Z"
   },
   {
    "duration": 443,
    "start_time": "2023-02-24T11:07:34.033Z"
   },
   {
    "duration": 362,
    "start_time": "2023-02-24T11:07:48.730Z"
   },
   {
    "duration": 250,
    "start_time": "2023-02-24T11:21:39.765Z"
   },
   {
    "duration": 267,
    "start_time": "2023-02-24T11:21:43.608Z"
   },
   {
    "duration": 254,
    "start_time": "2023-02-25T07:38:26.109Z"
   },
   {
    "duration": 150,
    "start_time": "2023-02-25T07:38:36.278Z"
   },
   {
    "duration": 176,
    "start_time": "2023-02-25T07:38:48.114Z"
   },
   {
    "duration": 332,
    "start_time": "2023-02-25T07:42:45.006Z"
   },
   {
    "duration": 298,
    "start_time": "2023-02-25T07:43:00.003Z"
   },
   {
    "duration": 293,
    "start_time": "2023-02-25T07:44:22.859Z"
   },
   {
    "duration": 327,
    "start_time": "2023-02-25T07:44:53.464Z"
   },
   {
    "duration": 281,
    "start_time": "2023-02-25T07:45:07.406Z"
   },
   {
    "duration": 306,
    "start_time": "2023-02-25T07:47:23.642Z"
   },
   {
    "duration": 386,
    "start_time": "2023-02-25T07:47:36.470Z"
   },
   {
    "duration": 2,
    "start_time": "2023-02-25T07:57:55.697Z"
   },
   {
    "duration": 13,
    "start_time": "2023-02-25T07:59:33.855Z"
   },
   {
    "duration": 5,
    "start_time": "2023-02-25T07:59:45.178Z"
   },
   {
    "duration": 10,
    "start_time": "2023-02-25T07:59:52.642Z"
   },
   {
    "duration": 10,
    "start_time": "2023-02-25T08:00:15.399Z"
   },
   {
    "duration": 164,
    "start_time": "2023-02-25T14:33:55.093Z"
   },
   {
    "duration": 115,
    "start_time": "2023-02-25T14:34:01.522Z"
   },
   {
    "duration": 9,
    "start_time": "2023-02-25T14:39:58.715Z"
   },
   {
    "duration": 112,
    "start_time": "2023-02-25T14:40:07.582Z"
   },
   {
    "duration": 123,
    "start_time": "2023-02-25T14:40:20.868Z"
   },
   {
    "duration": 139,
    "start_time": "2023-02-25T14:42:34.126Z"
   },
   {
    "duration": 6,
    "start_time": "2023-02-25T14:52:18.083Z"
   },
   {
    "duration": 132,
    "start_time": "2023-02-25T14:52:42.276Z"
   },
   {
    "duration": 120,
    "start_time": "2023-02-25T14:57:13.872Z"
   },
   {
    "duration": 4,
    "start_time": "2023-02-25T14:57:35.627Z"
   },
   {
    "duration": 10,
    "start_time": "2023-02-25T14:59:37.780Z"
   },
   {
    "duration": 114,
    "start_time": "2023-02-25T14:59:41.899Z"
   },
   {
    "duration": 79,
    "start_time": "2023-02-25T15:01:24.296Z"
   },
   {
    "duration": 5,
    "start_time": "2023-02-25T15:01:50.859Z"
   },
   {
    "duration": 75,
    "start_time": "2023-02-25T16:03:27.857Z"
   },
   {
    "duration": 86,
    "start_time": "2023-02-25T16:03:47.378Z"
   },
   {
    "duration": 76,
    "start_time": "2023-02-25T16:03:58.691Z"
   },
   {
    "duration": 190,
    "start_time": "2023-02-25T16:05:45.350Z"
   },
   {
    "duration": 133,
    "start_time": "2023-02-25T16:18:10.376Z"
   },
   {
    "duration": 203,
    "start_time": "2023-02-25T16:18:32.642Z"
   },
   {
    "duration": 7,
    "start_time": "2023-02-25T16:21:33.013Z"
   },
   {
    "duration": 16,
    "start_time": "2023-02-25T16:22:19.207Z"
   },
   {
    "duration": 11,
    "start_time": "2023-02-25T16:22:25.938Z"
   },
   {
    "duration": 13,
    "start_time": "2023-02-25T16:26:06.911Z"
   },
   {
    "duration": 4,
    "start_time": "2023-02-25T16:26:18.932Z"
   },
   {
    "duration": 35,
    "start_time": "2023-02-25T16:26:18.938Z"
   },
   {
    "duration": 5,
    "start_time": "2023-02-25T16:26:18.975Z"
   },
   {
    "duration": 15,
    "start_time": "2023-02-25T16:26:18.982Z"
   },
   {
    "duration": 9,
    "start_time": "2023-02-25T16:26:18.999Z"
   },
   {
    "duration": 26,
    "start_time": "2023-02-25T16:26:19.010Z"
   },
   {
    "duration": 6,
    "start_time": "2023-02-25T16:26:19.038Z"
   },
   {
    "duration": 49,
    "start_time": "2023-02-25T16:26:19.047Z"
   },
   {
    "duration": 6,
    "start_time": "2023-02-25T16:26:19.098Z"
   },
   {
    "duration": 283,
    "start_time": "2023-02-25T16:26:19.106Z"
   },
   {
    "duration": 14,
    "start_time": "2023-02-25T16:26:19.391Z"
   },
   {
    "duration": 260,
    "start_time": "2023-02-25T16:26:19.407Z"
   },
   {
    "duration": 229,
    "start_time": "2023-02-25T16:26:19.669Z"
   },
   {
    "duration": 407,
    "start_time": "2023-02-25T16:26:19.902Z"
   },
   {
    "duration": 246,
    "start_time": "2023-02-25T16:26:20.311Z"
   },
   {
    "duration": 335,
    "start_time": "2023-02-25T16:26:20.559Z"
   },
   {
    "duration": 132,
    "start_time": "2023-02-25T16:26:20.897Z"
   },
   {
    "duration": 248,
    "start_time": "2023-02-25T16:26:21.031Z"
   },
   {
    "duration": 5,
    "start_time": "2023-02-25T16:26:21.281Z"
   },
   {
    "duration": 23,
    "start_time": "2023-02-25T16:26:21.288Z"
   },
   {
    "duration": 139,
    "start_time": "2023-02-25T16:26:21.312Z"
   },
   {
    "duration": 4,
    "start_time": "2023-02-25T16:26:21.453Z"
   },
   {
    "duration": 213,
    "start_time": "2023-02-25T16:26:21.459Z"
   },
   {
    "duration": 17,
    "start_time": "2023-02-25T16:26:21.674Z"
   },
   {
    "duration": 29,
    "start_time": "2023-02-25T16:26:21.692Z"
   },
   {
    "duration": 6,
    "start_time": "2023-02-25T16:26:30.790Z"
   },
   {
    "duration": 8,
    "start_time": "2023-02-25T16:26:53.255Z"
   },
   {
    "duration": 12,
    "start_time": "2023-02-25T16:28:00.570Z"
   },
   {
    "duration": 3,
    "start_time": "2023-02-25T16:28:52.731Z"
   },
   {
    "duration": 41,
    "start_time": "2023-02-25T16:28:52.736Z"
   },
   {
    "duration": 4,
    "start_time": "2023-02-25T16:28:52.779Z"
   },
   {
    "duration": 13,
    "start_time": "2023-02-25T16:28:52.785Z"
   },
   {
    "duration": 6,
    "start_time": "2023-02-25T16:28:52.801Z"
   },
   {
    "duration": 22,
    "start_time": "2023-02-25T16:28:52.809Z"
   },
   {
    "duration": 11,
    "start_time": "2023-02-25T16:28:52.833Z"
   },
   {
    "duration": 52,
    "start_time": "2023-02-25T16:28:52.846Z"
   },
   {
    "duration": 8,
    "start_time": "2023-02-25T16:28:52.900Z"
   },
   {
    "duration": 263,
    "start_time": "2023-02-25T16:28:52.911Z"
   },
   {
    "duration": 10,
    "start_time": "2023-02-25T16:28:53.176Z"
   },
   {
    "duration": 235,
    "start_time": "2023-02-25T16:28:53.188Z"
   },
   {
    "duration": 228,
    "start_time": "2023-02-25T16:28:53.424Z"
   },
   {
    "duration": 330,
    "start_time": "2023-02-25T16:28:53.654Z"
   },
   {
    "duration": 309,
    "start_time": "2023-02-25T16:28:53.985Z"
   },
   {
    "duration": 339,
    "start_time": "2023-02-25T16:28:54.296Z"
   },
   {
    "duration": 145,
    "start_time": "2023-02-25T16:28:54.636Z"
   },
   {
    "duration": 154,
    "start_time": "2023-02-25T16:28:54.783Z"
   },
   {
    "duration": 9,
    "start_time": "2023-02-25T16:28:54.939Z"
   },
   {
    "duration": 11,
    "start_time": "2023-02-25T16:28:54.950Z"
   },
   {
    "duration": 156,
    "start_time": "2023-02-25T16:28:54.964Z"
   },
   {
    "duration": 5,
    "start_time": "2023-02-25T16:28:55.122Z"
   },
   {
    "duration": 263,
    "start_time": "2023-02-25T16:28:55.129Z"
   },
   {
    "duration": 15,
    "start_time": "2023-02-25T16:28:55.394Z"
   },
   {
    "duration": 23,
    "start_time": "2023-02-25T16:28:55.411Z"
   },
   {
    "duration": 48,
    "start_time": "2023-02-25T16:28:55.436Z"
   },
   {
    "duration": 25,
    "start_time": "2023-02-25T16:30:25.870Z"
   },
   {
    "duration": 11,
    "start_time": "2023-02-25T16:38:43.388Z"
   },
   {
    "duration": 10,
    "start_time": "2023-02-25T17:04:04.581Z"
   },
   {
    "duration": 10,
    "start_time": "2023-02-25T17:21:32.929Z"
   },
   {
    "duration": 16,
    "start_time": "2023-02-25T17:22:09.290Z"
   },
   {
    "duration": 11,
    "start_time": "2023-02-25T17:23:31.990Z"
   },
   {
    "duration": 33,
    "start_time": "2023-02-25T17:23:42.890Z"
   },
   {
    "duration": 37,
    "start_time": "2023-02-25T17:29:44.578Z"
   },
   {
    "duration": 35,
    "start_time": "2023-02-25T17:29:51.969Z"
   },
   {
    "duration": 24,
    "start_time": "2023-02-25T17:30:04.583Z"
   },
   {
    "duration": 1298,
    "start_time": "2023-02-25T17:34:15.278Z"
   },
   {
    "duration": 20,
    "start_time": "2023-02-25T17:34:53.205Z"
   },
   {
    "duration": 32,
    "start_time": "2023-02-25T17:57:23.041Z"
   },
   {
    "duration": 24,
    "start_time": "2023-02-25T17:57:45.473Z"
   },
   {
    "duration": 13,
    "start_time": "2023-02-25T17:57:52.867Z"
   },
   {
    "duration": 9,
    "start_time": "2023-02-25T17:58:07.412Z"
   },
   {
    "duration": 14,
    "start_time": "2023-02-25T17:58:27.773Z"
   },
   {
    "duration": 11,
    "start_time": "2023-02-25T17:58:37.130Z"
   },
   {
    "duration": 13,
    "start_time": "2023-02-25T17:58:38.525Z"
   },
   {
    "duration": 5,
    "start_time": "2023-02-25T17:59:14.686Z"
   },
   {
    "duration": 6,
    "start_time": "2023-02-25T17:59:27.680Z"
   },
   {
    "duration": 6,
    "start_time": "2023-02-25T17:59:50.794Z"
   },
   {
    "duration": 5,
    "start_time": "2023-02-25T18:00:03.794Z"
   },
   {
    "duration": 5,
    "start_time": "2023-02-25T18:00:14.507Z"
   },
   {
    "duration": 337,
    "start_time": "2023-02-25T18:02:50.789Z"
   },
   {
    "duration": 283,
    "start_time": "2023-02-25T18:07:04.081Z"
   },
   {
    "duration": 283,
    "start_time": "2023-02-25T18:07:08.652Z"
   },
   {
    "duration": 208,
    "start_time": "2023-02-25T18:09:11.685Z"
   },
   {
    "duration": 332,
    "start_time": "2023-02-25T18:09:20.636Z"
   },
   {
    "duration": 243,
    "start_time": "2023-02-25T18:09:30.982Z"
   },
   {
    "duration": 367,
    "start_time": "2023-02-25T18:14:49.924Z"
   },
   {
    "duration": 368,
    "start_time": "2023-02-25T18:18:29.400Z"
   },
   {
    "duration": 310,
    "start_time": "2023-02-25T18:18:57.972Z"
   },
   {
    "duration": 10,
    "start_time": "2023-02-25T18:28:58.354Z"
   },
   {
    "duration": 41,
    "start_time": "2023-02-25T18:28:58.366Z"
   },
   {
    "duration": 4,
    "start_time": "2023-02-25T18:28:58.409Z"
   },
   {
    "duration": 16,
    "start_time": "2023-02-25T18:28:58.415Z"
   },
   {
    "duration": 8,
    "start_time": "2023-02-25T18:28:58.432Z"
   },
   {
    "duration": 23,
    "start_time": "2023-02-25T18:28:58.442Z"
   },
   {
    "duration": 7,
    "start_time": "2023-02-25T18:28:58.468Z"
   },
   {
    "duration": 48,
    "start_time": "2023-02-25T18:28:58.477Z"
   },
   {
    "duration": 6,
    "start_time": "2023-02-25T18:28:58.526Z"
   },
   {
    "duration": 279,
    "start_time": "2023-02-25T18:28:58.534Z"
   },
   {
    "duration": 10,
    "start_time": "2023-02-25T18:28:58.815Z"
   },
   {
    "duration": 235,
    "start_time": "2023-02-25T18:28:58.826Z"
   },
   {
    "duration": 218,
    "start_time": "2023-02-25T18:28:59.062Z"
   },
   {
    "duration": 305,
    "start_time": "2023-02-25T18:28:59.282Z"
   },
   {
    "duration": 227,
    "start_time": "2023-02-25T18:28:59.589Z"
   },
   {
    "duration": 347,
    "start_time": "2023-02-25T18:28:59.817Z"
   },
   {
    "duration": 126,
    "start_time": "2023-02-25T18:29:00.169Z"
   },
   {
    "duration": 167,
    "start_time": "2023-02-25T18:29:00.296Z"
   },
   {
    "duration": 5,
    "start_time": "2023-02-25T18:29:00.467Z"
   },
   {
    "duration": 33,
    "start_time": "2023-02-25T18:29:00.477Z"
   },
   {
    "duration": 110,
    "start_time": "2023-02-25T18:29:00.512Z"
   },
   {
    "duration": 5,
    "start_time": "2023-02-25T18:29:00.624Z"
   },
   {
    "duration": 245,
    "start_time": "2023-02-25T18:29:00.631Z"
   },
   {
    "duration": 9,
    "start_time": "2023-02-25T18:29:00.878Z"
   },
   {
    "duration": 28,
    "start_time": "2023-02-25T18:29:00.889Z"
   },
   {
    "duration": 57,
    "start_time": "2023-02-25T18:29:00.919Z"
   },
   {
    "duration": 9,
    "start_time": "2023-02-25T18:29:00.978Z"
   },
   {
    "duration": 28,
    "start_time": "2023-02-25T18:29:00.990Z"
   },
   {
    "duration": 69,
    "start_time": "2023-02-25T18:29:01.020Z"
   },
   {
    "duration": 14,
    "start_time": "2023-02-25T18:29:01.091Z"
   },
   {
    "duration": 5,
    "start_time": "2023-02-25T18:40:12.495Z"
   },
   {
    "duration": 71,
    "start_time": "2023-02-25T18:40:12.502Z"
   },
   {
    "duration": 4,
    "start_time": "2023-02-25T18:40:12.575Z"
   },
   {
    "duration": 20,
    "start_time": "2023-02-25T18:40:12.581Z"
   },
   {
    "duration": 9,
    "start_time": "2023-02-25T18:40:12.603Z"
   },
   {
    "duration": 12,
    "start_time": "2023-02-25T18:40:12.613Z"
   },
   {
    "duration": 8,
    "start_time": "2023-02-25T18:40:12.626Z"
   },
   {
    "duration": 67,
    "start_time": "2023-02-25T18:40:12.636Z"
   },
   {
    "duration": 6,
    "start_time": "2023-02-25T18:40:12.705Z"
   },
   {
    "duration": 306,
    "start_time": "2023-02-25T18:40:12.715Z"
   },
   {
    "duration": 11,
    "start_time": "2023-02-25T18:40:13.023Z"
   },
   {
    "duration": 362,
    "start_time": "2023-02-25T18:40:13.050Z"
   },
   {
    "duration": 282,
    "start_time": "2023-02-25T18:40:13.414Z"
   },
   {
    "duration": 313,
    "start_time": "2023-02-25T18:40:13.697Z"
   },
   {
    "duration": 256,
    "start_time": "2023-02-25T18:40:14.012Z"
   },
   {
    "duration": 288,
    "start_time": "2023-02-25T18:40:14.270Z"
   },
   {
    "duration": 130,
    "start_time": "2023-02-25T18:40:14.563Z"
   },
   {
    "duration": 137,
    "start_time": "2023-02-25T18:40:14.695Z"
   },
   {
    "duration": 15,
    "start_time": "2023-02-25T18:40:14.834Z"
   },
   {
    "duration": 16,
    "start_time": "2023-02-25T18:40:14.854Z"
   },
   {
    "duration": 145,
    "start_time": "2023-02-25T18:40:14.872Z"
   },
   {
    "duration": 4,
    "start_time": "2023-02-25T18:40:15.019Z"
   },
   {
    "duration": 237,
    "start_time": "2023-02-25T18:40:15.025Z"
   },
   {
    "duration": 12,
    "start_time": "2023-02-25T18:40:15.265Z"
   },
   {
    "duration": 34,
    "start_time": "2023-02-25T18:40:15.278Z"
   },
   {
    "duration": 31,
    "start_time": "2023-02-25T18:40:15.313Z"
   },
   {
    "duration": 9,
    "start_time": "2023-02-25T18:40:15.346Z"
   },
   {
    "duration": 29,
    "start_time": "2023-02-25T18:40:15.358Z"
   },
   {
    "duration": 61,
    "start_time": "2023-02-25T18:40:15.388Z"
   },
   {
    "duration": 25,
    "start_time": "2023-02-25T18:40:15.454Z"
   },
   {
    "duration": 3,
    "start_time": "2023-02-25T18:41:59.295Z"
   },
   {
    "duration": 40,
    "start_time": "2023-02-25T18:41:59.300Z"
   },
   {
    "duration": 4,
    "start_time": "2023-02-25T18:41:59.341Z"
   },
   {
    "duration": 29,
    "start_time": "2023-02-25T18:41:59.346Z"
   },
   {
    "duration": 11,
    "start_time": "2023-02-25T18:41:59.377Z"
   },
   {
    "duration": 25,
    "start_time": "2023-02-25T18:41:59.390Z"
   },
   {
    "duration": 8,
    "start_time": "2023-02-25T18:41:59.416Z"
   },
   {
    "duration": 71,
    "start_time": "2023-02-25T18:41:59.426Z"
   },
   {
    "duration": 5,
    "start_time": "2023-02-25T18:41:59.500Z"
   },
   {
    "duration": 264,
    "start_time": "2023-02-25T18:41:59.506Z"
   },
   {
    "duration": 14,
    "start_time": "2023-02-25T18:41:59.771Z"
   },
   {
    "duration": 220,
    "start_time": "2023-02-25T18:41:59.786Z"
   },
   {
    "duration": 209,
    "start_time": "2023-02-25T18:42:00.008Z"
   },
   {
    "duration": 344,
    "start_time": "2023-02-25T18:42:00.218Z"
   },
   {
    "duration": 210,
    "start_time": "2023-02-25T18:42:00.564Z"
   },
   {
    "duration": 287,
    "start_time": "2023-02-25T18:42:00.777Z"
   },
   {
    "duration": 116,
    "start_time": "2023-02-25T18:42:01.067Z"
   },
   {
    "duration": 140,
    "start_time": "2023-02-25T18:42:01.185Z"
   },
   {
    "duration": 4,
    "start_time": "2023-02-25T18:42:01.327Z"
   },
   {
    "duration": 39,
    "start_time": "2023-02-25T18:42:01.332Z"
   },
   {
    "duration": 243,
    "start_time": "2023-02-25T18:42:01.372Z"
   },
   {
    "duration": 4,
    "start_time": "2023-02-25T18:42:01.617Z"
   },
   {
    "duration": 206,
    "start_time": "2023-02-25T18:42:01.622Z"
   },
   {
    "duration": 28,
    "start_time": "2023-02-25T18:42:01.831Z"
   },
   {
    "duration": 30,
    "start_time": "2023-02-25T18:42:01.863Z"
   },
   {
    "duration": 48,
    "start_time": "2023-02-25T18:42:01.895Z"
   },
   {
    "duration": 42,
    "start_time": "2023-02-25T18:42:01.945Z"
   },
   {
    "duration": 22,
    "start_time": "2023-02-25T18:42:01.989Z"
   },
   {
    "duration": 55,
    "start_time": "2023-02-25T18:42:02.013Z"
   },
   {
    "duration": 19,
    "start_time": "2023-02-25T18:42:02.070Z"
   },
   {
    "duration": 1267,
    "start_time": "2023-02-25T18:54:07.688Z"
   },
   {
    "duration": 42,
    "start_time": "2023-02-25T18:54:08.957Z"
   },
   {
    "duration": 8,
    "start_time": "2023-02-25T18:54:09.001Z"
   },
   {
    "duration": 16,
    "start_time": "2023-02-25T18:54:09.011Z"
   },
   {
    "duration": 11,
    "start_time": "2023-02-25T18:54:09.029Z"
   },
   {
    "duration": 28,
    "start_time": "2023-02-25T18:54:09.043Z"
   },
   {
    "duration": 12,
    "start_time": "2023-02-25T18:54:09.072Z"
   },
   {
    "duration": 46,
    "start_time": "2023-02-25T18:54:09.087Z"
   },
   {
    "duration": 7,
    "start_time": "2023-02-25T18:54:09.135Z"
   },
   {
    "duration": 359,
    "start_time": "2023-02-25T18:54:09.146Z"
   },
   {
    "duration": 12,
    "start_time": "2023-02-25T18:54:09.507Z"
   },
   {
    "duration": 477,
    "start_time": "2023-02-25T18:54:09.522Z"
   },
   {
    "duration": 278,
    "start_time": "2023-02-25T18:54:10.001Z"
   },
   {
    "duration": 338,
    "start_time": "2023-02-25T18:54:10.281Z"
   },
   {
    "duration": 274,
    "start_time": "2023-02-25T18:54:10.620Z"
   },
   {
    "duration": 323,
    "start_time": "2023-02-25T18:54:10.895Z"
   },
   {
    "duration": 153,
    "start_time": "2023-02-25T18:54:11.220Z"
   },
   {
    "duration": 169,
    "start_time": "2023-02-25T18:54:11.374Z"
   },
   {
    "duration": 20,
    "start_time": "2023-02-25T18:54:11.546Z"
   },
   {
    "duration": 21,
    "start_time": "2023-02-25T18:54:11.574Z"
   },
   {
    "duration": 139,
    "start_time": "2023-02-25T18:54:11.597Z"
   },
   {
    "duration": 4,
    "start_time": "2023-02-25T18:54:11.738Z"
   },
   {
    "duration": 346,
    "start_time": "2023-02-25T18:54:11.744Z"
   },
   {
    "duration": 10,
    "start_time": "2023-02-25T18:54:12.092Z"
   },
   {
    "duration": 9,
    "start_time": "2023-02-25T18:54:12.104Z"
   },
   {
    "duration": 55,
    "start_time": "2023-02-25T18:54:12.115Z"
   },
   {
    "duration": 15,
    "start_time": "2023-02-25T18:54:12.173Z"
   },
   {
    "duration": 13,
    "start_time": "2023-02-25T18:54:12.190Z"
   },
   {
    "duration": 24,
    "start_time": "2023-02-25T18:54:12.204Z"
   },
   {
    "duration": 38,
    "start_time": "2023-02-25T18:54:12.230Z"
   },
   {
    "duration": 30,
    "start_time": "2023-02-26T07:39:37.173Z"
   },
   {
    "duration": 4,
    "start_time": "2023-02-26T07:40:23.585Z"
   },
   {
    "duration": 13,
    "start_time": "2023-02-26T07:40:24.170Z"
   },
   {
    "duration": 4,
    "start_time": "2023-02-26T07:40:26.736Z"
   },
   {
    "duration": 11,
    "start_time": "2023-02-26T07:40:28.199Z"
   },
   {
    "duration": 4,
    "start_time": "2023-02-26T07:40:31.172Z"
   },
   {
    "duration": 3,
    "start_time": "2023-02-26T07:43:37.774Z"
   },
   {
    "duration": 30,
    "start_time": "2023-02-26T07:43:58.812Z"
   },
   {
    "duration": 32,
    "start_time": "2023-02-26T07:52:02.628Z"
   },
   {
    "duration": 30,
    "start_time": "2023-02-26T07:52:11.035Z"
   },
   {
    "duration": 31,
    "start_time": "2023-02-26T07:52:17.001Z"
   },
   {
    "duration": 30,
    "start_time": "2023-02-26T07:52:30.045Z"
   },
   {
    "duration": 30,
    "start_time": "2023-02-26T07:52:44.335Z"
   },
   {
    "duration": 55,
    "start_time": "2023-02-26T15:19:25.721Z"
   },
   {
    "duration": 5,
    "start_time": "2023-02-26T15:20:14.111Z"
   },
   {
    "duration": 19,
    "start_time": "2023-02-26T15:20:50.908Z"
   },
   {
    "duration": 13,
    "start_time": "2023-02-26T15:24:17.233Z"
   },
   {
    "duration": 3,
    "start_time": "2023-02-26T15:24:58.737Z"
   },
   {
    "duration": 81,
    "start_time": "2023-02-26T15:24:58.743Z"
   },
   {
    "duration": 4,
    "start_time": "2023-02-26T15:24:58.825Z"
   },
   {
    "duration": 19,
    "start_time": "2023-02-26T15:24:58.831Z"
   },
   {
    "duration": 21,
    "start_time": "2023-02-26T15:24:58.853Z"
   },
   {
    "duration": 16,
    "start_time": "2023-02-26T15:24:58.876Z"
   },
   {
    "duration": 10,
    "start_time": "2023-02-26T15:24:58.894Z"
   },
   {
    "duration": 11,
    "start_time": "2023-02-26T15:24:58.906Z"
   },
   {
    "duration": 0,
    "start_time": "2023-02-26T15:24:58.919Z"
   },
   {
    "duration": 0,
    "start_time": "2023-02-26T15:24:58.922Z"
   },
   {
    "duration": 0,
    "start_time": "2023-02-26T15:24:58.923Z"
   },
   {
    "duration": 0,
    "start_time": "2023-02-26T15:24:58.924Z"
   },
   {
    "duration": 0,
    "start_time": "2023-02-26T15:24:58.926Z"
   },
   {
    "duration": 0,
    "start_time": "2023-02-26T15:24:58.927Z"
   },
   {
    "duration": 0,
    "start_time": "2023-02-26T15:24:58.929Z"
   },
   {
    "duration": 0,
    "start_time": "2023-02-26T15:24:58.949Z"
   },
   {
    "duration": 0,
    "start_time": "2023-02-26T15:24:58.951Z"
   },
   {
    "duration": 0,
    "start_time": "2023-02-26T15:24:58.952Z"
   },
   {
    "duration": 0,
    "start_time": "2023-02-26T15:24:58.954Z"
   },
   {
    "duration": 0,
    "start_time": "2023-02-26T15:24:58.956Z"
   },
   {
    "duration": 0,
    "start_time": "2023-02-26T15:24:58.957Z"
   },
   {
    "duration": 0,
    "start_time": "2023-02-26T15:24:58.958Z"
   },
   {
    "duration": 0,
    "start_time": "2023-02-26T15:24:58.959Z"
   },
   {
    "duration": 0,
    "start_time": "2023-02-26T15:24:58.961Z"
   },
   {
    "duration": 0,
    "start_time": "2023-02-26T15:24:58.962Z"
   },
   {
    "duration": 0,
    "start_time": "2023-02-26T15:24:58.963Z"
   },
   {
    "duration": 0,
    "start_time": "2023-02-26T15:24:58.964Z"
   },
   {
    "duration": 0,
    "start_time": "2023-02-26T15:24:58.965Z"
   },
   {
    "duration": 0,
    "start_time": "2023-02-26T15:24:58.966Z"
   },
   {
    "duration": 0,
    "start_time": "2023-02-26T15:24:58.968Z"
   },
   {
    "duration": 0,
    "start_time": "2023-02-26T15:24:58.969Z"
   },
   {
    "duration": 3,
    "start_time": "2023-02-26T15:35:03.828Z"
   },
   {
    "duration": 5,
    "start_time": "2023-02-26T15:40:27.375Z"
   },
   {
    "duration": 37,
    "start_time": "2023-02-26T15:40:27.382Z"
   },
   {
    "duration": 5,
    "start_time": "2023-02-26T15:40:27.421Z"
   },
   {
    "duration": 19,
    "start_time": "2023-02-26T15:40:27.428Z"
   },
   {
    "duration": 20,
    "start_time": "2023-02-26T15:40:27.450Z"
   },
   {
    "duration": 13,
    "start_time": "2023-02-26T15:40:27.473Z"
   },
   {
    "duration": 10,
    "start_time": "2023-02-26T15:40:27.488Z"
   },
   {
    "duration": 97,
    "start_time": "2023-02-26T15:40:27.500Z"
   },
   {
    "duration": 10,
    "start_time": "2023-02-26T15:40:27.599Z"
   },
   {
    "duration": 279,
    "start_time": "2023-02-26T15:40:27.611Z"
   },
   {
    "duration": 15,
    "start_time": "2023-02-26T15:40:27.892Z"
   },
   {
    "duration": 246,
    "start_time": "2023-02-26T15:40:27.910Z"
   },
   {
    "duration": 235,
    "start_time": "2023-02-26T15:40:28.159Z"
   },
   {
    "duration": 463,
    "start_time": "2023-02-26T15:40:28.398Z"
   },
   {
    "duration": 275,
    "start_time": "2023-02-26T15:40:28.863Z"
   },
   {
    "duration": 366,
    "start_time": "2023-02-26T15:40:29.139Z"
   },
   {
    "duration": 148,
    "start_time": "2023-02-26T15:40:29.507Z"
   },
   {
    "duration": 190,
    "start_time": "2023-02-26T15:40:29.656Z"
   },
   {
    "duration": 5,
    "start_time": "2023-02-26T15:40:29.848Z"
   },
   {
    "duration": 26,
    "start_time": "2023-02-26T15:40:29.855Z"
   },
   {
    "duration": 145,
    "start_time": "2023-02-26T15:40:29.888Z"
   },
   {
    "duration": 6,
    "start_time": "2023-02-26T15:40:30.036Z"
   },
   {
    "duration": 253,
    "start_time": "2023-02-26T15:40:30.047Z"
   },
   {
    "duration": 13,
    "start_time": "2023-02-26T15:40:30.307Z"
   },
   {
    "duration": 19,
    "start_time": "2023-02-26T15:40:30.322Z"
   },
   {
    "duration": 52,
    "start_time": "2023-02-26T15:40:30.347Z"
   },
   {
    "duration": 17,
    "start_time": "2023-02-26T15:40:30.401Z"
   },
   {
    "duration": 21,
    "start_time": "2023-02-26T15:40:30.420Z"
   },
   {
    "duration": 64,
    "start_time": "2023-02-26T15:40:30.445Z"
   },
   {
    "duration": 16,
    "start_time": "2023-02-26T15:40:30.511Z"
   },
   {
    "duration": 58,
    "start_time": "2023-02-26T15:41:22.841Z"
   },
   {
    "duration": 315,
    "start_time": "2023-02-26T15:44:18.165Z"
   },
   {
    "duration": 303,
    "start_time": "2023-02-26T15:44:26.581Z"
   },
   {
    "duration": 13,
    "start_time": "2023-02-26T15:44:34.109Z"
   },
   {
    "duration": 42,
    "start_time": "2023-02-26T15:44:34.124Z"
   },
   {
    "duration": 10,
    "start_time": "2023-02-26T15:44:34.168Z"
   },
   {
    "duration": 19,
    "start_time": "2023-02-26T15:44:34.182Z"
   },
   {
    "duration": 14,
    "start_time": "2023-02-26T15:44:34.204Z"
   },
   {
    "duration": 18,
    "start_time": "2023-02-26T15:44:34.220Z"
   },
   {
    "duration": 12,
    "start_time": "2023-02-26T15:44:34.241Z"
   },
   {
    "duration": 51,
    "start_time": "2023-02-26T15:44:34.254Z"
   },
   {
    "duration": 10,
    "start_time": "2023-02-26T15:44:34.309Z"
   },
   {
    "duration": 345,
    "start_time": "2023-02-26T15:44:34.322Z"
   },
   {
    "duration": 315,
    "start_time": "2023-02-26T15:44:34.669Z"
   },
   {
    "duration": 287,
    "start_time": "2023-02-26T15:44:34.987Z"
   },
   {
    "duration": 580,
    "start_time": "2023-02-26T15:44:35.275Z"
   },
   {
    "duration": 253,
    "start_time": "2023-02-26T15:44:35.857Z"
   },
   {
    "duration": 353,
    "start_time": "2023-02-26T15:44:36.112Z"
   },
   {
    "duration": 161,
    "start_time": "2023-02-26T15:44:36.467Z"
   },
   {
    "duration": 145,
    "start_time": "2023-02-26T15:44:36.630Z"
   },
   {
    "duration": 5,
    "start_time": "2023-02-26T15:44:36.777Z"
   },
   {
    "duration": 17,
    "start_time": "2023-02-26T15:44:36.784Z"
   },
   {
    "duration": 138,
    "start_time": "2023-02-26T15:44:36.803Z"
   },
   {
    "duration": 5,
    "start_time": "2023-02-26T15:44:36.947Z"
   },
   {
    "duration": 232,
    "start_time": "2023-02-26T15:44:36.954Z"
   },
   {
    "duration": 15,
    "start_time": "2023-02-26T15:44:37.188Z"
   },
   {
    "duration": 7,
    "start_time": "2023-02-26T15:44:37.205Z"
   },
   {
    "duration": 55,
    "start_time": "2023-02-26T15:44:37.215Z"
   },
   {
    "duration": 12,
    "start_time": "2023-02-26T15:44:37.272Z"
   },
   {
    "duration": 15,
    "start_time": "2023-02-26T15:44:37.286Z"
   },
   {
    "duration": 46,
    "start_time": "2023-02-26T15:44:37.305Z"
   },
   {
    "duration": 13,
    "start_time": "2023-02-26T15:44:37.353Z"
   },
   {
    "duration": 5,
    "start_time": "2023-02-26T15:49:55.316Z"
   },
   {
    "duration": 7,
    "start_time": "2023-02-26T15:50:39.317Z"
   },
   {
    "duration": 7,
    "start_time": "2023-02-26T15:50:54.167Z"
   },
   {
    "duration": 12,
    "start_time": "2023-02-26T15:55:41.233Z"
   },
   {
    "duration": 23,
    "start_time": "2023-02-26T15:55:42.144Z"
   },
   {
    "duration": 13,
    "start_time": "2023-02-26T15:58:19.639Z"
   },
   {
    "duration": 34,
    "start_time": "2023-02-26T15:58:48.292Z"
   },
   {
    "duration": 11,
    "start_time": "2023-02-26T15:59:02.504Z"
   },
   {
    "duration": 30,
    "start_time": "2023-02-26T15:59:14.241Z"
   },
   {
    "duration": 1167,
    "start_time": "2023-02-27T04:31:43.791Z"
   },
   {
    "duration": 94,
    "start_time": "2023-02-27T04:31:44.960Z"
   },
   {
    "duration": 7,
    "start_time": "2023-02-27T04:31:45.056Z"
   },
   {
    "duration": 24,
    "start_time": "2023-02-27T04:31:45.065Z"
   },
   {
    "duration": 15,
    "start_time": "2023-02-27T04:31:45.091Z"
   },
   {
    "duration": 38,
    "start_time": "2023-02-27T04:31:45.107Z"
   },
   {
    "duration": 10,
    "start_time": "2023-02-27T04:31:45.147Z"
   },
   {
    "duration": 156,
    "start_time": "2023-02-27T04:31:45.158Z"
   },
   {
    "duration": 6,
    "start_time": "2023-02-27T04:31:45.316Z"
   },
   {
    "duration": 12,
    "start_time": "2023-02-27T04:31:45.324Z"
   },
   {
    "duration": 288,
    "start_time": "2023-02-27T04:31:45.337Z"
   },
   {
    "duration": 290,
    "start_time": "2023-02-27T04:31:45.627Z"
   },
   {
    "duration": 266,
    "start_time": "2023-02-27T04:31:45.918Z"
   },
   {
    "duration": 342,
    "start_time": "2023-02-27T04:31:46.191Z"
   },
   {
    "duration": 219,
    "start_time": "2023-02-27T04:31:46.535Z"
   },
   {
    "duration": 325,
    "start_time": "2023-02-27T04:31:46.756Z"
   },
   {
    "duration": 140,
    "start_time": "2023-02-27T04:31:47.083Z"
   },
   {
    "duration": 139,
    "start_time": "2023-02-27T04:31:47.225Z"
   },
   {
    "duration": 6,
    "start_time": "2023-02-27T04:31:47.366Z"
   },
   {
    "duration": 24,
    "start_time": "2023-02-27T04:31:47.374Z"
   },
   {
    "duration": 120,
    "start_time": "2023-02-27T04:31:47.400Z"
   },
   {
    "duration": 4,
    "start_time": "2023-02-27T04:31:47.523Z"
   },
   {
    "duration": 286,
    "start_time": "2023-02-27T04:31:47.528Z"
   },
   {
    "duration": 11,
    "start_time": "2023-02-27T04:31:47.815Z"
   },
   {
    "duration": 24,
    "start_time": "2023-02-27T04:31:47.827Z"
   },
   {
    "duration": 42,
    "start_time": "2023-02-27T04:31:47.854Z"
   },
   {
    "duration": 9,
    "start_time": "2023-02-27T04:31:47.898Z"
   },
   {
    "duration": 14,
    "start_time": "2023-02-27T04:31:47.909Z"
   },
   {
    "duration": 30,
    "start_time": "2023-02-27T04:31:47.924Z"
   },
   {
    "duration": 12,
    "start_time": "2023-02-27T04:31:47.956Z"
   },
   {
    "duration": 1260,
    "start_time": "2023-03-04T07:42:06.671Z"
   },
   {
    "duration": 87,
    "start_time": "2023-03-04T07:42:07.934Z"
   },
   {
    "duration": 7,
    "start_time": "2023-03-04T07:42:08.022Z"
   },
   {
    "duration": 23,
    "start_time": "2023-03-04T07:42:08.031Z"
   },
   {
    "duration": 5,
    "start_time": "2023-03-04T07:42:08.058Z"
   },
   {
    "duration": 33,
    "start_time": "2023-03-04T07:42:08.065Z"
   },
   {
    "duration": 24,
    "start_time": "2023-03-04T07:42:08.100Z"
   },
   {
    "duration": 172,
    "start_time": "2023-03-04T07:42:08.126Z"
   },
   {
    "duration": 6,
    "start_time": "2023-03-04T07:42:08.300Z"
   },
   {
    "duration": 22,
    "start_time": "2023-03-04T07:42:08.308Z"
   },
   {
    "duration": 303,
    "start_time": "2023-03-04T07:42:08.332Z"
   },
   {
    "duration": 324,
    "start_time": "2023-03-04T07:42:08.637Z"
   },
   {
    "duration": 225,
    "start_time": "2023-03-04T07:42:08.963Z"
   },
   {
    "duration": 315,
    "start_time": "2023-03-04T07:42:09.190Z"
   },
   {
    "duration": 242,
    "start_time": "2023-03-04T07:42:09.507Z"
   },
   {
    "duration": 316,
    "start_time": "2023-03-04T07:42:09.752Z"
   },
   {
    "duration": 132,
    "start_time": "2023-03-04T07:42:10.070Z"
   },
   {
    "duration": 154,
    "start_time": "2023-03-04T07:42:10.204Z"
   },
   {
    "duration": 4,
    "start_time": "2023-03-04T07:42:10.360Z"
   },
   {
    "duration": 13,
    "start_time": "2023-03-04T07:42:10.365Z"
   },
   {
    "duration": 138,
    "start_time": "2023-03-04T07:42:10.380Z"
   },
   {
    "duration": 4,
    "start_time": "2023-03-04T07:42:10.519Z"
   },
   {
    "duration": 297,
    "start_time": "2023-03-04T07:42:10.524Z"
   },
   {
    "duration": 9,
    "start_time": "2023-03-04T07:42:10.822Z"
   },
   {
    "duration": 15,
    "start_time": "2023-03-04T07:42:10.833Z"
   },
   {
    "duration": 22,
    "start_time": "2023-03-04T07:42:10.852Z"
   },
   {
    "duration": 8,
    "start_time": "2023-03-04T07:42:10.876Z"
   },
   {
    "duration": 11,
    "start_time": "2023-03-04T07:42:10.886Z"
   },
   {
    "duration": 48,
    "start_time": "2023-03-04T07:42:10.898Z"
   },
   {
    "duration": 17,
    "start_time": "2023-03-04T07:42:10.949Z"
   },
   {
    "duration": 10,
    "start_time": "2023-03-04T07:42:17.855Z"
   }
  ],
  "kernelspec": {
   "display_name": "Python 3 (ipykernel)",
   "language": "python",
   "name": "python3"
  },
  "language_info": {
   "codemirror_mode": {
    "name": "ipython",
    "version": 3
   },
   "file_extension": ".py",
   "mimetype": "text/x-python",
   "name": "python",
   "nbconvert_exporter": "python",
   "pygments_lexer": "ipython3",
   "version": "3.9.12"
  },
  "toc": {
   "base_numbering": 1,
   "nav_menu": {},
   "number_sections": true,
   "sideBar": true,
   "skip_h1_title": true,
   "title_cell": "Table of Contents",
   "title_sidebar": "Contents",
   "toc_cell": false,
   "toc_position": {},
   "toc_section_display": true,
   "toc_window_display": true
  }
 },
 "nbformat": 4,
 "nbformat_minor": 2
}
