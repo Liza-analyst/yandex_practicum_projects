{
 "cells": [
  {
   "cell_type": "markdown",
   "metadata": {},
   "source": [
    "# Продажа квартир в Санкт-Петербурге — анализ рынка недвижимости\n"
   ]
  },
  {
   "cell_type": "markdown",
   "metadata": {},
   "source": [
    "# Исследование объявлений о продаже квартир\n",
    "\n",
    "***Описание данных***\n",
    "На основе данных сервиса Яндекс Недвижимость — архив объявлений о продаже квартир в Санкт-Петербурге и соседних населённых пунктах за несколько лет выполнить цель проекта (определить рыночную стоимость). По каждой квартире на продажу доступны два вида данных. Первые вписаны пользователем, вторые — получены автоматически на основе картографических данных. \n",
    "\n",
    "***Задачи и цели проекта:***\n",
    "- Определить рыночную стоимость объектов недвижимости\n",
    "- Установить параметры, влияющие на цену объектов"
   ]
  },
  {
   "cell_type": "markdown",
   "metadata": {},
   "source": [
    "### Откройте файл с данными и изучите общую информацию. "
   ]
  },
  {
   "cell_type": "code",
   "execution_count": 1,
   "metadata": {},
   "outputs": [],
   "source": [
    "#подключение нужных библиотек\n",
    "import pandas as pd\n",
    "import matplotlib.pyplot as plt\n",
    "import seaborn as sns\n",
    "import warnings \n",
    "warnings.filterwarnings(\"ignore\")"
   ]
  },
  {
   "cell_type": "code",
   "execution_count": 2,
   "metadata": {},
   "outputs": [
    {
     "data": {
      "text/html": [
       "<div>\n",
       "<style scoped>\n",
       "    .dataframe tbody tr th:only-of-type {\n",
       "        vertical-align: middle;\n",
       "    }\n",
       "\n",
       "    .dataframe tbody tr th {\n",
       "        vertical-align: top;\n",
       "    }\n",
       "\n",
       "    .dataframe thead th {\n",
       "        text-align: right;\n",
       "    }\n",
       "</style>\n",
       "<table border=\"1\" class=\"dataframe\">\n",
       "  <thead>\n",
       "    <tr style=\"text-align: right;\">\n",
       "      <th></th>\n",
       "      <th>total_images</th>\n",
       "      <th>last_price</th>\n",
       "      <th>total_area</th>\n",
       "      <th>first_day_exposition</th>\n",
       "      <th>rooms</th>\n",
       "      <th>ceiling_height</th>\n",
       "      <th>floors_total</th>\n",
       "      <th>living_area</th>\n",
       "      <th>floor</th>\n",
       "      <th>is_apartment</th>\n",
       "      <th>studio</th>\n",
       "      <th>open_plan</th>\n",
       "      <th>kitchen_area</th>\n",
       "      <th>balcony</th>\n",
       "      <th>locality_name</th>\n",
       "      <th>airports_nearest</th>\n",
       "      <th>cityCenters_nearest</th>\n",
       "      <th>parks_around3000</th>\n",
       "      <th>parks_nearest</th>\n",
       "      <th>ponds_around3000</th>\n",
       "      <th>ponds_nearest</th>\n",
       "      <th>days_exposition</th>\n",
       "    </tr>\n",
       "  </thead>\n",
       "  <tbody>\n",
       "    <tr>\n",
       "      <th>0</th>\n",
       "      <td>20</td>\n",
       "      <td>13000000.0</td>\n",
       "      <td>108.00</td>\n",
       "      <td>2019-03-07T00:00:00</td>\n",
       "      <td>3</td>\n",
       "      <td>2.70</td>\n",
       "      <td>16.0</td>\n",
       "      <td>51.0</td>\n",
       "      <td>8</td>\n",
       "      <td>NaN</td>\n",
       "      <td>False</td>\n",
       "      <td>False</td>\n",
       "      <td>25.00</td>\n",
       "      <td>NaN</td>\n",
       "      <td>Санкт-Петербург</td>\n",
       "      <td>18863.0</td>\n",
       "      <td>16028.0</td>\n",
       "      <td>1.0</td>\n",
       "      <td>482.0</td>\n",
       "      <td>2.0</td>\n",
       "      <td>755.0</td>\n",
       "      <td>NaN</td>\n",
       "    </tr>\n",
       "    <tr>\n",
       "      <th>1</th>\n",
       "      <td>7</td>\n",
       "      <td>3350000.0</td>\n",
       "      <td>40.40</td>\n",
       "      <td>2018-12-04T00:00:00</td>\n",
       "      <td>1</td>\n",
       "      <td>NaN</td>\n",
       "      <td>11.0</td>\n",
       "      <td>18.6</td>\n",
       "      <td>1</td>\n",
       "      <td>NaN</td>\n",
       "      <td>False</td>\n",
       "      <td>False</td>\n",
       "      <td>11.00</td>\n",
       "      <td>2.0</td>\n",
       "      <td>посёлок Шушары</td>\n",
       "      <td>12817.0</td>\n",
       "      <td>18603.0</td>\n",
       "      <td>0.0</td>\n",
       "      <td>NaN</td>\n",
       "      <td>0.0</td>\n",
       "      <td>NaN</td>\n",
       "      <td>81.0</td>\n",
       "    </tr>\n",
       "    <tr>\n",
       "      <th>2</th>\n",
       "      <td>10</td>\n",
       "      <td>5196000.0</td>\n",
       "      <td>56.00</td>\n",
       "      <td>2015-08-20T00:00:00</td>\n",
       "      <td>2</td>\n",
       "      <td>NaN</td>\n",
       "      <td>5.0</td>\n",
       "      <td>34.3</td>\n",
       "      <td>4</td>\n",
       "      <td>NaN</td>\n",
       "      <td>False</td>\n",
       "      <td>False</td>\n",
       "      <td>8.30</td>\n",
       "      <td>0.0</td>\n",
       "      <td>Санкт-Петербург</td>\n",
       "      <td>21741.0</td>\n",
       "      <td>13933.0</td>\n",
       "      <td>1.0</td>\n",
       "      <td>90.0</td>\n",
       "      <td>2.0</td>\n",
       "      <td>574.0</td>\n",
       "      <td>558.0</td>\n",
       "    </tr>\n",
       "    <tr>\n",
       "      <th>3</th>\n",
       "      <td>0</td>\n",
       "      <td>64900000.0</td>\n",
       "      <td>159.00</td>\n",
       "      <td>2015-07-24T00:00:00</td>\n",
       "      <td>3</td>\n",
       "      <td>NaN</td>\n",
       "      <td>14.0</td>\n",
       "      <td>NaN</td>\n",
       "      <td>9</td>\n",
       "      <td>NaN</td>\n",
       "      <td>False</td>\n",
       "      <td>False</td>\n",
       "      <td>NaN</td>\n",
       "      <td>0.0</td>\n",
       "      <td>Санкт-Петербург</td>\n",
       "      <td>28098.0</td>\n",
       "      <td>6800.0</td>\n",
       "      <td>2.0</td>\n",
       "      <td>84.0</td>\n",
       "      <td>3.0</td>\n",
       "      <td>234.0</td>\n",
       "      <td>424.0</td>\n",
       "    </tr>\n",
       "    <tr>\n",
       "      <th>4</th>\n",
       "      <td>2</td>\n",
       "      <td>10000000.0</td>\n",
       "      <td>100.00</td>\n",
       "      <td>2018-06-19T00:00:00</td>\n",
       "      <td>2</td>\n",
       "      <td>3.03</td>\n",
       "      <td>14.0</td>\n",
       "      <td>32.0</td>\n",
       "      <td>13</td>\n",
       "      <td>NaN</td>\n",
       "      <td>False</td>\n",
       "      <td>False</td>\n",
       "      <td>41.00</td>\n",
       "      <td>NaN</td>\n",
       "      <td>Санкт-Петербург</td>\n",
       "      <td>31856.0</td>\n",
       "      <td>8098.0</td>\n",
       "      <td>2.0</td>\n",
       "      <td>112.0</td>\n",
       "      <td>1.0</td>\n",
       "      <td>48.0</td>\n",
       "      <td>121.0</td>\n",
       "    </tr>\n",
       "    <tr>\n",
       "      <th>...</th>\n",
       "      <td>...</td>\n",
       "      <td>...</td>\n",
       "      <td>...</td>\n",
       "      <td>...</td>\n",
       "      <td>...</td>\n",
       "      <td>...</td>\n",
       "      <td>...</td>\n",
       "      <td>...</td>\n",
       "      <td>...</td>\n",
       "      <td>...</td>\n",
       "      <td>...</td>\n",
       "      <td>...</td>\n",
       "      <td>...</td>\n",
       "      <td>...</td>\n",
       "      <td>...</td>\n",
       "      <td>...</td>\n",
       "      <td>...</td>\n",
       "      <td>...</td>\n",
       "      <td>...</td>\n",
       "      <td>...</td>\n",
       "      <td>...</td>\n",
       "      <td>...</td>\n",
       "    </tr>\n",
       "    <tr>\n",
       "      <th>23694</th>\n",
       "      <td>9</td>\n",
       "      <td>9700000.0</td>\n",
       "      <td>133.81</td>\n",
       "      <td>2017-03-21T00:00:00</td>\n",
       "      <td>3</td>\n",
       "      <td>3.70</td>\n",
       "      <td>5.0</td>\n",
       "      <td>73.3</td>\n",
       "      <td>3</td>\n",
       "      <td>NaN</td>\n",
       "      <td>False</td>\n",
       "      <td>False</td>\n",
       "      <td>13.83</td>\n",
       "      <td>NaN</td>\n",
       "      <td>Санкт-Петербург</td>\n",
       "      <td>24665.0</td>\n",
       "      <td>4232.0</td>\n",
       "      <td>1.0</td>\n",
       "      <td>796.0</td>\n",
       "      <td>3.0</td>\n",
       "      <td>381.0</td>\n",
       "      <td>NaN</td>\n",
       "    </tr>\n",
       "    <tr>\n",
       "      <th>23695</th>\n",
       "      <td>14</td>\n",
       "      <td>3100000.0</td>\n",
       "      <td>59.00</td>\n",
       "      <td>2018-01-15T00:00:00</td>\n",
       "      <td>3</td>\n",
       "      <td>NaN</td>\n",
       "      <td>5.0</td>\n",
       "      <td>38.0</td>\n",
       "      <td>4</td>\n",
       "      <td>NaN</td>\n",
       "      <td>False</td>\n",
       "      <td>False</td>\n",
       "      <td>8.50</td>\n",
       "      <td>NaN</td>\n",
       "      <td>Тосно</td>\n",
       "      <td>NaN</td>\n",
       "      <td>NaN</td>\n",
       "      <td>NaN</td>\n",
       "      <td>NaN</td>\n",
       "      <td>NaN</td>\n",
       "      <td>NaN</td>\n",
       "      <td>45.0</td>\n",
       "    </tr>\n",
       "    <tr>\n",
       "      <th>23696</th>\n",
       "      <td>18</td>\n",
       "      <td>2500000.0</td>\n",
       "      <td>56.70</td>\n",
       "      <td>2018-02-11T00:00:00</td>\n",
       "      <td>2</td>\n",
       "      <td>NaN</td>\n",
       "      <td>3.0</td>\n",
       "      <td>29.7</td>\n",
       "      <td>1</td>\n",
       "      <td>NaN</td>\n",
       "      <td>False</td>\n",
       "      <td>False</td>\n",
       "      <td>NaN</td>\n",
       "      <td>NaN</td>\n",
       "      <td>село Рождествено</td>\n",
       "      <td>NaN</td>\n",
       "      <td>NaN</td>\n",
       "      <td>NaN</td>\n",
       "      <td>NaN</td>\n",
       "      <td>NaN</td>\n",
       "      <td>NaN</td>\n",
       "      <td>NaN</td>\n",
       "    </tr>\n",
       "    <tr>\n",
       "      <th>23697</th>\n",
       "      <td>13</td>\n",
       "      <td>11475000.0</td>\n",
       "      <td>76.75</td>\n",
       "      <td>2017-03-28T00:00:00</td>\n",
       "      <td>2</td>\n",
       "      <td>3.00</td>\n",
       "      <td>17.0</td>\n",
       "      <td>NaN</td>\n",
       "      <td>12</td>\n",
       "      <td>NaN</td>\n",
       "      <td>False</td>\n",
       "      <td>False</td>\n",
       "      <td>23.30</td>\n",
       "      <td>2.0</td>\n",
       "      <td>Санкт-Петербург</td>\n",
       "      <td>39140.0</td>\n",
       "      <td>10364.0</td>\n",
       "      <td>2.0</td>\n",
       "      <td>173.0</td>\n",
       "      <td>3.0</td>\n",
       "      <td>196.0</td>\n",
       "      <td>602.0</td>\n",
       "    </tr>\n",
       "    <tr>\n",
       "      <th>23698</th>\n",
       "      <td>4</td>\n",
       "      <td>1350000.0</td>\n",
       "      <td>32.30</td>\n",
       "      <td>2017-07-21T00:00:00</td>\n",
       "      <td>1</td>\n",
       "      <td>2.50</td>\n",
       "      <td>5.0</td>\n",
       "      <td>12.3</td>\n",
       "      <td>1</td>\n",
       "      <td>NaN</td>\n",
       "      <td>False</td>\n",
       "      <td>False</td>\n",
       "      <td>9.00</td>\n",
       "      <td>NaN</td>\n",
       "      <td>поселок Новый Учхоз</td>\n",
       "      <td>NaN</td>\n",
       "      <td>NaN</td>\n",
       "      <td>NaN</td>\n",
       "      <td>NaN</td>\n",
       "      <td>NaN</td>\n",
       "      <td>NaN</td>\n",
       "      <td>NaN</td>\n",
       "    </tr>\n",
       "  </tbody>\n",
       "</table>\n",
       "<p>23699 rows × 22 columns</p>\n",
       "</div>"
      ],
      "text/plain": [
       "       total_images  last_price  total_area first_day_exposition  rooms  \\\n",
       "0                20  13000000.0      108.00  2019-03-07T00:00:00      3   \n",
       "1                 7   3350000.0       40.40  2018-12-04T00:00:00      1   \n",
       "2                10   5196000.0       56.00  2015-08-20T00:00:00      2   \n",
       "3                 0  64900000.0      159.00  2015-07-24T00:00:00      3   \n",
       "4                 2  10000000.0      100.00  2018-06-19T00:00:00      2   \n",
       "...             ...         ...         ...                  ...    ...   \n",
       "23694             9   9700000.0      133.81  2017-03-21T00:00:00      3   \n",
       "23695            14   3100000.0       59.00  2018-01-15T00:00:00      3   \n",
       "23696            18   2500000.0       56.70  2018-02-11T00:00:00      2   \n",
       "23697            13  11475000.0       76.75  2017-03-28T00:00:00      2   \n",
       "23698             4   1350000.0       32.30  2017-07-21T00:00:00      1   \n",
       "\n",
       "       ceiling_height  floors_total  living_area  floor is_apartment  studio  \\\n",
       "0                2.70          16.0         51.0      8          NaN   False   \n",
       "1                 NaN          11.0         18.6      1          NaN   False   \n",
       "2                 NaN           5.0         34.3      4          NaN   False   \n",
       "3                 NaN          14.0          NaN      9          NaN   False   \n",
       "4                3.03          14.0         32.0     13          NaN   False   \n",
       "...               ...           ...          ...    ...          ...     ...   \n",
       "23694            3.70           5.0         73.3      3          NaN   False   \n",
       "23695             NaN           5.0         38.0      4          NaN   False   \n",
       "23696             NaN           3.0         29.7      1          NaN   False   \n",
       "23697            3.00          17.0          NaN     12          NaN   False   \n",
       "23698            2.50           5.0         12.3      1          NaN   False   \n",
       "\n",
       "       open_plan  kitchen_area  balcony        locality_name  \\\n",
       "0          False         25.00      NaN      Санкт-Петербург   \n",
       "1          False         11.00      2.0       посёлок Шушары   \n",
       "2          False          8.30      0.0      Санкт-Петербург   \n",
       "3          False           NaN      0.0      Санкт-Петербург   \n",
       "4          False         41.00      NaN      Санкт-Петербург   \n",
       "...          ...           ...      ...                  ...   \n",
       "23694      False         13.83      NaN      Санкт-Петербург   \n",
       "23695      False          8.50      NaN                Тосно   \n",
       "23696      False           NaN      NaN     село Рождествено   \n",
       "23697      False         23.30      2.0      Санкт-Петербург   \n",
       "23698      False          9.00      NaN  поселок Новый Учхоз   \n",
       "\n",
       "       airports_nearest  cityCenters_nearest  parks_around3000  parks_nearest  \\\n",
       "0               18863.0              16028.0               1.0          482.0   \n",
       "1               12817.0              18603.0               0.0            NaN   \n",
       "2               21741.0              13933.0               1.0           90.0   \n",
       "3               28098.0               6800.0               2.0           84.0   \n",
       "4               31856.0               8098.0               2.0          112.0   \n",
       "...                 ...                  ...               ...            ...   \n",
       "23694           24665.0               4232.0               1.0          796.0   \n",
       "23695               NaN                  NaN               NaN            NaN   \n",
       "23696               NaN                  NaN               NaN            NaN   \n",
       "23697           39140.0              10364.0               2.0          173.0   \n",
       "23698               NaN                  NaN               NaN            NaN   \n",
       "\n",
       "       ponds_around3000  ponds_nearest  days_exposition  \n",
       "0                   2.0          755.0              NaN  \n",
       "1                   0.0            NaN             81.0  \n",
       "2                   2.0          574.0            558.0  \n",
       "3                   3.0          234.0            424.0  \n",
       "4                   1.0           48.0            121.0  \n",
       "...                 ...            ...              ...  \n",
       "23694               3.0          381.0              NaN  \n",
       "23695               NaN            NaN             45.0  \n",
       "23696               NaN            NaN              NaN  \n",
       "23697               3.0          196.0            602.0  \n",
       "23698               NaN            NaN              NaN  \n",
       "\n",
       "[23699 rows x 22 columns]"
      ]
     },
     "execution_count": 2,
     "metadata": {},
     "output_type": "execute_result"
    }
   ],
   "source": [
    "data = pd.read_csv('real_estate_data.csv', sep='\\t')\n",
    "pd.set_option('display.max_columns', None)\n",
    "data"
   ]
  },
  {
   "cell_type": "code",
   "execution_count": 3,
   "metadata": {},
   "outputs": [
    {
     "data": {
      "image/png": "[encoded data removed]",
      "text/plain": [
       "<Figure size 1080x1440 with 20 Axes>"
      ]
     },
     "metadata": {
      "needs_background": "light"
     },
     "output_type": "display_data"
    }
   ],
   "source": [
    "data.hist(figsize = (15,20));"
   ]
  },
  {
   "cell_type": "markdown",
   "metadata": {},
   "source": [
    "По графику видно, что у некоторых столбцов возможны проблемы с данными, т.е. у столбцов: ceiling_height (Высота потолков), last_price (цена объекта), cityCenters_nearest (расстояние до центра города), parks_around3000 (расстояние до парка около 3000 м), ponds_around3000 (расстояние до водоема около 3000м)."
   ]
  },
  {
   "cell_type": "markdown",
   "metadata": {},
   "source": [
    "### Предобработка данных"
   ]
  },
  {
   "cell_type": "code",
   "execution_count": 4,
   "metadata": {
    "scrolled": false
   },
   "outputs": [
    {
     "name": "stdout",
     "output_type": "stream",
     "text": [
      "<class 'pandas.core.frame.DataFrame'>\n",
      "RangeIndex: 23699 entries, 0 to 23698\n",
      "Data columns (total 22 columns):\n",
      " #   Column                Non-Null Count  Dtype  \n",
      "---  ------                --------------  -----  \n",
      " 0   total_images          23699 non-null  int64  \n",
      " 1   last_price            23699 non-null  float64\n",
      " 2   total_area            23699 non-null  float64\n",
      " 3   first_day_exposition  23699 non-null  object \n",
      " 4   rooms                 23699 non-null  int64  \n",
      " 5   ceiling_height        14504 non-null  float64\n",
      " 6   floors_total          23613 non-null  float64\n",
      " 7   living_area           21796 non-null  float64\n",
      " 8   floor                 23699 non-null  int64  \n",
      " 9   is_apartment          2775 non-null   object \n",
      " 10  studio                23699 non-null  bool   \n",
      " 11  open_plan             23699 non-null  bool   \n",
      " 12  kitchen_area          21421 non-null  float64\n",
      " 13  balcony               12180 non-null  float64\n",
      " 14  locality_name         23650 non-null  object \n",
      " 15  airports_nearest      18157 non-null  float64\n",
      " 16  cityCenters_nearest   18180 non-null  float64\n",
      " 17  parks_around3000      18181 non-null  float64\n",
      " 18  parks_nearest         8079 non-null   float64\n",
      " 19  ponds_around3000      18181 non-null  float64\n",
      " 20  ponds_nearest         9110 non-null   float64\n",
      " 21  days_exposition       20518 non-null  float64\n",
      "dtypes: bool(2), float64(14), int64(3), object(3)\n",
      "memory usage: 3.7+ MB\n"
     ]
    },
    {
     "data": {
      "text/plain": [
       "(23699, 22)"
      ]
     },
     "execution_count": 4,
     "metadata": {},
     "output_type": "execute_result"
    }
   ],
   "source": [
    "#общая информация \n",
    "data.info() \n",
    "data.shape"
   ]
  },
  {
   "cell_type": "code",
   "execution_count": 5,
   "metadata": {},
   "outputs": [
    {
     "data": {
      "text/plain": [
       "total_images                0\n",
       "last_price                  0\n",
       "total_area                  0\n",
       "first_day_exposition        0\n",
       "rooms                       0\n",
       "ceiling_height           9195\n",
       "floors_total               86\n",
       "living_area              1903\n",
       "floor                       0\n",
       "is_apartment            20924\n",
       "studio                      0\n",
       "open_plan                   0\n",
       "kitchen_area             2278\n",
       "balcony                 11519\n",
       "locality_name              49\n",
       "airports_nearest         5542\n",
       "cityCenters_nearest      5519\n",
       "parks_around3000         5518\n",
       "parks_nearest           15620\n",
       "ponds_around3000         5518\n",
       "ponds_nearest           14589\n",
       "days_exposition          3181\n",
       "dtype: int64"
      ]
     },
     "execution_count": 5,
     "metadata": {},
     "output_type": "execute_result"
    }
   ],
   "source": [
    "#количество пропусков\n",
    "data.isnull().sum() "
   ]
  },
  {
   "cell_type": "markdown",
   "metadata": {},
   "source": [
    "Достаточно много пропусков в данных. \n",
    "\n",
    "Пропуски есть в столбцах: \n",
    "- ceiling_height,\n",
    "- floors_total ,\n",
    "- living_area, \n",
    "- is_apartment,\n",
    "- kitchen_area,\n",
    "- balcony, \n",
    "- airports_nearest,\n",
    "- cityCenters_nearest,\n",
    "- parks_around3000,\n",
    "- parks_nearest,\n",
    "- ponds_around3000,\n",
    "- ponds_nearest ,\n",
    "- days_exposition. \n",
    "\n",
    "Столбцы \"ceiling_height\" и \"floors_total\" - неизвестно сейчас, как заполнить пропуски. В столбце \"living_area\" - по среднему значению."
   ]
  },
  {
   "cell_type": "markdown",
   "metadata": {},
   "source": [
    "***Столбец floors_total***"
   ]
  },
  {
   "cell_type": "markdown",
   "metadata": {},
   "source": [
    "В этом столбце пропуски нельзя заполнить ни медианным, ни средним значением, так как количество этажей во всем доме либо есть, либо его нет. Поэтому удалим те строки, в которых есть пропуски в этом столбце."
   ]
  },
  {
   "cell_type": "code",
   "execution_count": 6,
   "metadata": {},
   "outputs": [],
   "source": [
    "#удаляем значения NaN\n",
    "data = data.dropna(subset = ['floors_total'])"
   ]
  },
  {
   "cell_type": "code",
   "execution_count": 7,
   "metadata": {},
   "outputs": [
    {
     "data": {
      "text/plain": [
       "0"
      ]
     },
     "execution_count": 7,
     "metadata": {},
     "output_type": "execute_result"
    }
   ],
   "source": [
    "#проверка, что удалились все пропуски\n",
    "data['floors_total'].isnull().sum()"
   ]
  },
  {
   "cell_type": "markdown",
   "metadata": {},
   "source": [
    "***Столбец is_apartment.*** \n",
    "\n",
    "Пропуски обусловлены тем, что когда человек  отвечал на вопрос: \"Это апартаменты?\", пропуском он подразумевал False\n"
   ]
  },
  {
   "cell_type": "code",
   "execution_count": 8,
   "metadata": {},
   "outputs": [
    {
     "data": {
      "text/plain": [
       "0"
      ]
     },
     "execution_count": 8,
     "metadata": {},
     "output_type": "execute_result"
    }
   ],
   "source": [
    "data['is_apartment'] = data['is_apartment'].fillna(False)\n",
    "data['is_apartment'].isnull().sum() #проверка, что заменили все пропуски"
   ]
  },
  {
   "cell_type": "markdown",
   "metadata": {},
   "source": [
    "***Столбец living_area***"
   ]
  },
  {
   "cell_type": "markdown",
   "metadata": {},
   "source": [
    "Жилая площадь не может быть меньше 6.00 по гос.стандарту. "
   ]
  },
  {
   "cell_type": "code",
   "execution_count": 9,
   "metadata": {},
   "outputs": [
    {
     "data": {
      "text/html": [
       "<div>\n",
       "<style scoped>\n",
       "    .dataframe tbody tr th:only-of-type {\n",
       "        vertical-align: middle;\n",
       "    }\n",
       "\n",
       "    .dataframe tbody tr th {\n",
       "        vertical-align: top;\n",
       "    }\n",
       "\n",
       "    .dataframe thead th {\n",
       "        text-align: right;\n",
       "    }\n",
       "</style>\n",
       "<table border=\"1\" class=\"dataframe\">\n",
       "  <thead>\n",
       "    <tr style=\"text-align: right;\">\n",
       "      <th></th>\n",
       "      <th>total_images</th>\n",
       "      <th>last_price</th>\n",
       "      <th>total_area</th>\n",
       "      <th>first_day_exposition</th>\n",
       "      <th>rooms</th>\n",
       "      <th>ceiling_height</th>\n",
       "      <th>floors_total</th>\n",
       "      <th>living_area</th>\n",
       "      <th>floor</th>\n",
       "      <th>is_apartment</th>\n",
       "      <th>studio</th>\n",
       "      <th>open_plan</th>\n",
       "      <th>kitchen_area</th>\n",
       "      <th>balcony</th>\n",
       "      <th>locality_name</th>\n",
       "      <th>airports_nearest</th>\n",
       "      <th>cityCenters_nearest</th>\n",
       "      <th>parks_around3000</th>\n",
       "      <th>parks_nearest</th>\n",
       "      <th>ponds_around3000</th>\n",
       "      <th>ponds_nearest</th>\n",
       "      <th>days_exposition</th>\n",
       "    </tr>\n",
       "  </thead>\n",
       "  <tbody>\n",
       "    <tr>\n",
       "      <th>0</th>\n",
       "      <td>20</td>\n",
       "      <td>13000000.0</td>\n",
       "      <td>108.00</td>\n",
       "      <td>2019-03-07T00:00:00</td>\n",
       "      <td>3</td>\n",
       "      <td>2.70</td>\n",
       "      <td>16.0</td>\n",
       "      <td>51.0</td>\n",
       "      <td>8</td>\n",
       "      <td>False</td>\n",
       "      <td>False</td>\n",
       "      <td>False</td>\n",
       "      <td>25.00</td>\n",
       "      <td>NaN</td>\n",
       "      <td>Санкт-Петербург</td>\n",
       "      <td>18863.0</td>\n",
       "      <td>16028.0</td>\n",
       "      <td>1.0</td>\n",
       "      <td>482.0</td>\n",
       "      <td>2.0</td>\n",
       "      <td>755.0</td>\n",
       "      <td>NaN</td>\n",
       "    </tr>\n",
       "    <tr>\n",
       "      <th>1</th>\n",
       "      <td>7</td>\n",
       "      <td>3350000.0</td>\n",
       "      <td>40.40</td>\n",
       "      <td>2018-12-04T00:00:00</td>\n",
       "      <td>1</td>\n",
       "      <td>NaN</td>\n",
       "      <td>11.0</td>\n",
       "      <td>18.6</td>\n",
       "      <td>1</td>\n",
       "      <td>False</td>\n",
       "      <td>False</td>\n",
       "      <td>False</td>\n",
       "      <td>11.00</td>\n",
       "      <td>2.0</td>\n",
       "      <td>посёлок Шушары</td>\n",
       "      <td>12817.0</td>\n",
       "      <td>18603.0</td>\n",
       "      <td>0.0</td>\n",
       "      <td>NaN</td>\n",
       "      <td>0.0</td>\n",
       "      <td>NaN</td>\n",
       "      <td>81.0</td>\n",
       "    </tr>\n",
       "    <tr>\n",
       "      <th>2</th>\n",
       "      <td>10</td>\n",
       "      <td>5196000.0</td>\n",
       "      <td>56.00</td>\n",
       "      <td>2015-08-20T00:00:00</td>\n",
       "      <td>2</td>\n",
       "      <td>NaN</td>\n",
       "      <td>5.0</td>\n",
       "      <td>34.3</td>\n",
       "      <td>4</td>\n",
       "      <td>False</td>\n",
       "      <td>False</td>\n",
       "      <td>False</td>\n",
       "      <td>8.30</td>\n",
       "      <td>0.0</td>\n",
       "      <td>Санкт-Петербург</td>\n",
       "      <td>21741.0</td>\n",
       "      <td>13933.0</td>\n",
       "      <td>1.0</td>\n",
       "      <td>90.0</td>\n",
       "      <td>2.0</td>\n",
       "      <td>574.0</td>\n",
       "      <td>558.0</td>\n",
       "    </tr>\n",
       "    <tr>\n",
       "      <th>4</th>\n",
       "      <td>2</td>\n",
       "      <td>10000000.0</td>\n",
       "      <td>100.00</td>\n",
       "      <td>2018-06-19T00:00:00</td>\n",
       "      <td>2</td>\n",
       "      <td>3.03</td>\n",
       "      <td>14.0</td>\n",
       "      <td>32.0</td>\n",
       "      <td>13</td>\n",
       "      <td>False</td>\n",
       "      <td>False</td>\n",
       "      <td>False</td>\n",
       "      <td>41.00</td>\n",
       "      <td>NaN</td>\n",
       "      <td>Санкт-Петербург</td>\n",
       "      <td>31856.0</td>\n",
       "      <td>8098.0</td>\n",
       "      <td>2.0</td>\n",
       "      <td>112.0</td>\n",
       "      <td>1.0</td>\n",
       "      <td>48.0</td>\n",
       "      <td>121.0</td>\n",
       "    </tr>\n",
       "    <tr>\n",
       "      <th>5</th>\n",
       "      <td>10</td>\n",
       "      <td>2890000.0</td>\n",
       "      <td>30.40</td>\n",
       "      <td>2018-09-10T00:00:00</td>\n",
       "      <td>1</td>\n",
       "      <td>NaN</td>\n",
       "      <td>12.0</td>\n",
       "      <td>14.4</td>\n",
       "      <td>5</td>\n",
       "      <td>False</td>\n",
       "      <td>False</td>\n",
       "      <td>False</td>\n",
       "      <td>9.10</td>\n",
       "      <td>NaN</td>\n",
       "      <td>городской посёлок Янино-1</td>\n",
       "      <td>NaN</td>\n",
       "      <td>NaN</td>\n",
       "      <td>NaN</td>\n",
       "      <td>NaN</td>\n",
       "      <td>NaN</td>\n",
       "      <td>NaN</td>\n",
       "      <td>55.0</td>\n",
       "    </tr>\n",
       "    <tr>\n",
       "      <th>...</th>\n",
       "      <td>...</td>\n",
       "      <td>...</td>\n",
       "      <td>...</td>\n",
       "      <td>...</td>\n",
       "      <td>...</td>\n",
       "      <td>...</td>\n",
       "      <td>...</td>\n",
       "      <td>...</td>\n",
       "      <td>...</td>\n",
       "      <td>...</td>\n",
       "      <td>...</td>\n",
       "      <td>...</td>\n",
       "      <td>...</td>\n",
       "      <td>...</td>\n",
       "      <td>...</td>\n",
       "      <td>...</td>\n",
       "      <td>...</td>\n",
       "      <td>...</td>\n",
       "      <td>...</td>\n",
       "      <td>...</td>\n",
       "      <td>...</td>\n",
       "      <td>...</td>\n",
       "    </tr>\n",
       "    <tr>\n",
       "      <th>23693</th>\n",
       "      <td>9</td>\n",
       "      <td>4600000.0</td>\n",
       "      <td>62.40</td>\n",
       "      <td>2016-08-05T00:00:00</td>\n",
       "      <td>3</td>\n",
       "      <td>2.60</td>\n",
       "      <td>9.0</td>\n",
       "      <td>40.0</td>\n",
       "      <td>8</td>\n",
       "      <td>False</td>\n",
       "      <td>False</td>\n",
       "      <td>False</td>\n",
       "      <td>8.00</td>\n",
       "      <td>0.0</td>\n",
       "      <td>Петергоф</td>\n",
       "      <td>45602.0</td>\n",
       "      <td>34104.0</td>\n",
       "      <td>1.0</td>\n",
       "      <td>352.0</td>\n",
       "      <td>1.0</td>\n",
       "      <td>675.0</td>\n",
       "      <td>239.0</td>\n",
       "    </tr>\n",
       "    <tr>\n",
       "      <th>23694</th>\n",
       "      <td>9</td>\n",
       "      <td>9700000.0</td>\n",
       "      <td>133.81</td>\n",
       "      <td>2017-03-21T00:00:00</td>\n",
       "      <td>3</td>\n",
       "      <td>3.70</td>\n",
       "      <td>5.0</td>\n",
       "      <td>73.3</td>\n",
       "      <td>3</td>\n",
       "      <td>False</td>\n",
       "      <td>False</td>\n",
       "      <td>False</td>\n",
       "      <td>13.83</td>\n",
       "      <td>NaN</td>\n",
       "      <td>Санкт-Петербург</td>\n",
       "      <td>24665.0</td>\n",
       "      <td>4232.0</td>\n",
       "      <td>1.0</td>\n",
       "      <td>796.0</td>\n",
       "      <td>3.0</td>\n",
       "      <td>381.0</td>\n",
       "      <td>NaN</td>\n",
       "    </tr>\n",
       "    <tr>\n",
       "      <th>23695</th>\n",
       "      <td>14</td>\n",
       "      <td>3100000.0</td>\n",
       "      <td>59.00</td>\n",
       "      <td>2018-01-15T00:00:00</td>\n",
       "      <td>3</td>\n",
       "      <td>NaN</td>\n",
       "      <td>5.0</td>\n",
       "      <td>38.0</td>\n",
       "      <td>4</td>\n",
       "      <td>False</td>\n",
       "      <td>False</td>\n",
       "      <td>False</td>\n",
       "      <td>8.50</td>\n",
       "      <td>NaN</td>\n",
       "      <td>Тосно</td>\n",
       "      <td>NaN</td>\n",
       "      <td>NaN</td>\n",
       "      <td>NaN</td>\n",
       "      <td>NaN</td>\n",
       "      <td>NaN</td>\n",
       "      <td>NaN</td>\n",
       "      <td>45.0</td>\n",
       "    </tr>\n",
       "    <tr>\n",
       "      <th>23696</th>\n",
       "      <td>18</td>\n",
       "      <td>2500000.0</td>\n",
       "      <td>56.70</td>\n",
       "      <td>2018-02-11T00:00:00</td>\n",
       "      <td>2</td>\n",
       "      <td>NaN</td>\n",
       "      <td>3.0</td>\n",
       "      <td>29.7</td>\n",
       "      <td>1</td>\n",
       "      <td>False</td>\n",
       "      <td>False</td>\n",
       "      <td>False</td>\n",
       "      <td>NaN</td>\n",
       "      <td>NaN</td>\n",
       "      <td>село Рождествено</td>\n",
       "      <td>NaN</td>\n",
       "      <td>NaN</td>\n",
       "      <td>NaN</td>\n",
       "      <td>NaN</td>\n",
       "      <td>NaN</td>\n",
       "      <td>NaN</td>\n",
       "      <td>NaN</td>\n",
       "    </tr>\n",
       "    <tr>\n",
       "      <th>23698</th>\n",
       "      <td>4</td>\n",
       "      <td>1350000.0</td>\n",
       "      <td>32.30</td>\n",
       "      <td>2017-07-21T00:00:00</td>\n",
       "      <td>1</td>\n",
       "      <td>2.50</td>\n",
       "      <td>5.0</td>\n",
       "      <td>12.3</td>\n",
       "      <td>1</td>\n",
       "      <td>False</td>\n",
       "      <td>False</td>\n",
       "      <td>False</td>\n",
       "      <td>9.00</td>\n",
       "      <td>NaN</td>\n",
       "      <td>поселок Новый Учхоз</td>\n",
       "      <td>NaN</td>\n",
       "      <td>NaN</td>\n",
       "      <td>NaN</td>\n",
       "      <td>NaN</td>\n",
       "      <td>NaN</td>\n",
       "      <td>NaN</td>\n",
       "      <td>NaN</td>\n",
       "    </tr>\n",
       "  </tbody>\n",
       "</table>\n",
       "<p>21736 rows × 22 columns</p>\n",
       "</div>"
      ],
      "text/plain": [
       "       total_images  last_price  total_area first_day_exposition  rooms  \\\n",
       "0                20  13000000.0      108.00  2019-03-07T00:00:00      3   \n",
       "1                 7   3350000.0       40.40  2018-12-04T00:00:00      1   \n",
       "2                10   5196000.0       56.00  2015-08-20T00:00:00      2   \n",
       "4                 2  10000000.0      100.00  2018-06-19T00:00:00      2   \n",
       "5                10   2890000.0       30.40  2018-09-10T00:00:00      1   \n",
       "...             ...         ...         ...                  ...    ...   \n",
       "23693             9   4600000.0       62.40  2016-08-05T00:00:00      3   \n",
       "23694             9   9700000.0      133.81  2017-03-21T00:00:00      3   \n",
       "23695            14   3100000.0       59.00  2018-01-15T00:00:00      3   \n",
       "23696            18   2500000.0       56.70  2018-02-11T00:00:00      2   \n",
       "23698             4   1350000.0       32.30  2017-07-21T00:00:00      1   \n",
       "\n",
       "       ceiling_height  floors_total  living_area  floor  is_apartment  studio  \\\n",
       "0                2.70          16.0         51.0      8         False   False   \n",
       "1                 NaN          11.0         18.6      1         False   False   \n",
       "2                 NaN           5.0         34.3      4         False   False   \n",
       "4                3.03          14.0         32.0     13         False   False   \n",
       "5                 NaN          12.0         14.4      5         False   False   \n",
       "...               ...           ...          ...    ...           ...     ...   \n",
       "23693            2.60           9.0         40.0      8         False   False   \n",
       "23694            3.70           5.0         73.3      3         False   False   \n",
       "23695             NaN           5.0         38.0      4         False   False   \n",
       "23696             NaN           3.0         29.7      1         False   False   \n",
       "23698            2.50           5.0         12.3      1         False   False   \n",
       "\n",
       "       open_plan  kitchen_area  balcony              locality_name  \\\n",
       "0          False         25.00      NaN            Санкт-Петербург   \n",
       "1          False         11.00      2.0             посёлок Шушары   \n",
       "2          False          8.30      0.0            Санкт-Петербург   \n",
       "4          False         41.00      NaN            Санкт-Петербург   \n",
       "5          False          9.10      NaN  городской посёлок Янино-1   \n",
       "...          ...           ...      ...                        ...   \n",
       "23693      False          8.00      0.0                   Петергоф   \n",
       "23694      False         13.83      NaN            Санкт-Петербург   \n",
       "23695      False          8.50      NaN                      Тосно   \n",
       "23696      False           NaN      NaN           село Рождествено   \n",
       "23698      False          9.00      NaN        поселок Новый Учхоз   \n",
       "\n",
       "       airports_nearest  cityCenters_nearest  parks_around3000  parks_nearest  \\\n",
       "0               18863.0              16028.0               1.0          482.0   \n",
       "1               12817.0              18603.0               0.0            NaN   \n",
       "2               21741.0              13933.0               1.0           90.0   \n",
       "4               31856.0               8098.0               2.0          112.0   \n",
       "5                   NaN                  NaN               NaN            NaN   \n",
       "...                 ...                  ...               ...            ...   \n",
       "23693           45602.0              34104.0               1.0          352.0   \n",
       "23694           24665.0               4232.0               1.0          796.0   \n",
       "23695               NaN                  NaN               NaN            NaN   \n",
       "23696               NaN                  NaN               NaN            NaN   \n",
       "23698               NaN                  NaN               NaN            NaN   \n",
       "\n",
       "       ponds_around3000  ponds_nearest  days_exposition  \n",
       "0                   2.0          755.0              NaN  \n",
       "1                   0.0            NaN             81.0  \n",
       "2                   2.0          574.0            558.0  \n",
       "4                   1.0           48.0            121.0  \n",
       "5                   NaN            NaN             55.0  \n",
       "...                 ...            ...              ...  \n",
       "23693               1.0          675.0            239.0  \n",
       "23694               3.0          381.0              NaN  \n",
       "23695               NaN            NaN             45.0  \n",
       "23696               NaN            NaN              NaN  \n",
       "23698               NaN            NaN              NaN  \n",
       "\n",
       "[21736 rows x 22 columns]"
      ]
     },
     "execution_count": 9,
     "metadata": {},
     "output_type": "execute_result"
    }
   ],
   "source": [
    "# находим срез удовлятворяющей  условию гос.стандарта (минимальная жилая плошадь 6.00)\n",
    "data = data.query('living_area > 6') \n",
    "data"
   ]
  },
  {
   "cell_type": "code",
   "execution_count": 10,
   "metadata": {},
   "outputs": [
    {
     "data": {
      "text/plain": [
       "19251      6.5\n",
       "20994      8.0\n",
       "23208      8.0\n",
       "114        8.3\n",
       "2309       8.4\n",
       "         ...  \n",
       "12859    322.3\n",
       "4237     332.0\n",
       "12401    347.5\n",
       "5358     409.0\n",
       "19540    409.7\n",
       "Name: living_area, Length: 21736, dtype: float64"
      ]
     },
     "execution_count": 10,
     "metadata": {},
     "output_type": "execute_result"
    }
   ],
   "source": [
    "data['living_area'].sort_values() #проверка, что убрались значения, неудовлетворяющие нашему условию"
   ]
  },
  {
   "cell_type": "markdown",
   "metadata": {},
   "source": [
    "***Столбец kitchen_area***"
   ]
  },
  {
   "cell_type": "markdown",
   "metadata": {},
   "source": [
    "Площадь кухни не может быть меньше 4.50 метров по гос.стандарту"
   ]
  },
  {
   "cell_type": "code",
   "execution_count": 11,
   "metadata": {},
   "outputs": [],
   "source": [
    "data = data.query('kitchen_area >4.50') # находим срез удовлятворяющий условию гос.стандарта"
   ]
  },
  {
   "cell_type": "code",
   "execution_count": 12,
   "metadata": {},
   "outputs": [
    {
     "data": {
      "text/plain": [
       "18231      4.6\n",
       "11217      4.6\n",
       "17138      4.6\n",
       "21020      4.6\n",
       "7436       4.7\n",
       "         ...  \n",
       "16239     93.2\n",
       "5358     100.0\n",
       "2489     100.7\n",
       "20215    107.0\n",
       "19540    112.0\n",
       "Name: kitchen_area, Length: 20868, dtype: float64"
      ]
     },
     "execution_count": 12,
     "metadata": {},
     "output_type": "execute_result"
    }
   ],
   "source": [
    "data['kitchen_area'].sort_values() # проверяем что нет значений, которые меньшe 4.5"
   ]
  },
  {
   "cell_type": "markdown",
   "metadata": {},
   "source": [
    "***Столбец balcony*** \n",
    "\n",
    "Если в данном столбце пропуск, то балкона нет. Пропуски нужно заполнить нулем."
   ]
  },
  {
   "cell_type": "code",
   "execution_count": 13,
   "metadata": {},
   "outputs": [],
   "source": [
    "data['balcony'] = data['balcony'].fillna(0)"
   ]
  },
  {
   "cell_type": "code",
   "execution_count": 14,
   "metadata": {},
   "outputs": [
    {
     "data": {
      "text/plain": [
       "0    0.0\n",
       "1    2.0\n",
       "2    0.0\n",
       "4    0.0\n",
       "5    0.0\n",
       "Name: balcony, dtype: float64"
      ]
     },
     "execution_count": 14,
     "metadata": {},
     "output_type": "execute_result"
    }
   ],
   "source": [
    "data['balcony'].head()"
   ]
  },
  {
   "cell_type": "markdown",
   "metadata": {},
   "source": [
    "***Столбец locality_name***"
   ]
  },
  {
   "cell_type": "markdown",
   "metadata": {},
   "source": [
    "Сначала удалим пропуски, где не написано название поселка."
   ]
  },
  {
   "cell_type": "code",
   "execution_count": 15,
   "metadata": {},
   "outputs": [
    {
     "data": {
      "text/plain": [
       "0"
      ]
     },
     "execution_count": 15,
     "metadata": {},
     "output_type": "execute_result"
    }
   ],
   "source": [
    "data = data.dropna(subset = ['locality_name'])\n",
    "data['locality_name'].isnull().sum() #проверка, что удалили пустые значения"
   ]
  },
  {
   "cell_type": "code",
   "execution_count": 16,
   "metadata": {
    "scrolled": false
   },
   "outputs": [
    {
     "data": {
      "text/plain": [
       "array(['Санкт-Петербург', 'посёлок Шушары', 'городской посёлок Янино-1',\n",
       "       'посёлок Парголово', 'посёлок Мурино', 'Ломоносов', 'Сертолово',\n",
       "       'Петергоф', 'Пушкин', 'деревня Кудрово', 'Колпино', 'Гатчина',\n",
       "       'поселок Мурино', 'деревня Фёдоровское', 'Выборг', 'Кронштадт',\n",
       "       'Кировск', 'деревня Новое Девяткино', 'посёлок Металлострой',\n",
       "       'посёлок городского типа Лебяжье',\n",
       "       'посёлок городского типа Сиверский', 'поселок Молодцово',\n",
       "       'поселок городского типа Кузьмоловский',\n",
       "       'садовое товарищество Новая Ропша', 'Павловск',\n",
       "       'деревня Пикколово', 'Всеволожск', 'Волхов', 'Кингисепп',\n",
       "       'Приозерск', 'Сестрорецк', 'деревня Куттузи', 'посёлок Аннино',\n",
       "       'деревня Заклинье', 'поселок Торковичи', 'поселок Первомайское',\n",
       "       'Красное Село', 'посёлок Понтонный', 'деревня Старая',\n",
       "       'деревня Лесколово', 'село Путилово', 'Ивангород', 'Мурино',\n",
       "       'Сланцы', 'Шлиссельбург', 'Сясьстрой', 'Никольское', 'Зеленогорск',\n",
       "       'Сосновый Бор', 'поселок Новый Свет', 'деревня Оржицы',\n",
       "       'деревня Кальтино', 'Кудрово', 'поселок Романовка',\n",
       "       'посёлок Бугры', 'поселок Бугры', 'поселок городского типа Рощино',\n",
       "       'Луга', 'Волосово', 'Отрадное', 'село Павлово', 'поселок Оредеж',\n",
       "       'посёлок городского типа Красный Бор', 'Коммунар',\n",
       "       'посёлок Молодёжное', 'деревня Нурма',\n",
       "       'поселок городского типа Синявино', 'Тосно', 'посёлок Новый Свет',\n",
       "       'посёлок городского типа Кузьмоловский', 'посёлок Стрельна',\n",
       "       'Бокситогорск', 'посёлок Александровская', 'деревня Лопухинка',\n",
       "       'поселок Терволово', 'поселок городского типа Советский', 'Кириши',\n",
       "       'Подпорожье', 'посёлок Петровское',\n",
       "       'посёлок городского типа Токсово', 'поселок Сельцо',\n",
       "       'посёлок городского типа Вырица', 'деревня Келози',\n",
       "       'деревня Вартемяги', 'посёлок Тельмана',\n",
       "       'городской поселок Большая Ижора', 'Тихвин', 'деревня Агалатово',\n",
       "       'посёлок Новогорелово', 'городской посёлок Лесогорский',\n",
       "       'деревня Лаголово', 'поселок Цвелодубово',\n",
       "       'поселок городского типа Рахья', 'поселок городского типа Вырица',\n",
       "       'деревня Белогорка', 'поселок Заводской',\n",
       "       'городской посёлок Новоселье', 'деревня Большие Колпаны',\n",
       "       'деревня Горбунки', 'деревня Заневка', 'Приморск',\n",
       "       'городской посёлок Фёдоровское', 'деревня Мистолово',\n",
       "       'Новая Ладога', 'поселок Зимитицы', 'поселок Барышево',\n",
       "       'деревня Разметелево', 'поселок городского типа имени Свердлова',\n",
       "       'деревня Пеники', 'поселок Рябово', 'деревня Пудомяги',\n",
       "       'деревня Бегуницы', 'посёлок Поляны', 'городской посёлок Мга',\n",
       "       'поселок Елизаветино', 'посёлок городского типа Кузнечное',\n",
       "       'деревня Колтуши', 'поселок Запорожское',\n",
       "       'посёлок городского типа Рощино', 'деревня Гостилицы',\n",
       "       'деревня Малое Карлино', 'посёлок Мичуринское',\n",
       "       'посёлок городского типа имени Морозова', 'посёлок Сосново',\n",
       "       'деревня Аро', 'поселок Ильичёво', 'посёлок городского типа Тайцы',\n",
       "       'деревня Малое Верево', 'поселок станции Вещево',\n",
       "       'деревня Калитино', 'посёлок городского типа Ульяновка',\n",
       "       'деревня Чудской Бор', 'поселок городского типа Дубровка',\n",
       "       'деревня Мины', 'поселок Войсковицы',\n",
       "       'посёлок городского типа имени Свердлова', 'деревня Коркино',\n",
       "       'посёлок Ропша', 'поселок городского типа Приладожский',\n",
       "       'посёлок Щеглово', 'посёлок Гаврилово', 'Лодейное Поле',\n",
       "       'Пикалёво', 'деревня Рабитицы', 'деревня Кузьмолово',\n",
       "       'деревня Малые Колпаны', 'поселок Тельмана',\n",
       "       'городской посёлок Назия', 'посёлок Репино',\n",
       "       'городской посёлок Павлово', 'посёлок Ильичёво', 'поселок Углово',\n",
       "       'деревня Низино', 'поселок Старая Малукса',\n",
       "       'садовое товарищество Рахья', 'поселок Аннино', 'поселок Победа',\n",
       "       'деревня Меньково', 'деревня Старые Бегуницы', 'посёлок Сапёрный',\n",
       "       'поселок Семрино', 'поселок Гаврилово', 'поселок Глажево',\n",
       "       'поселок Кобринское', 'деревня Гарболово', 'деревня Юкки',\n",
       "       'поселок станции Приветнинское', 'деревня Мануйлово',\n",
       "       'поселок Поляны', 'поселок Цвылёво', 'поселок Мельниково',\n",
       "       'посёлок Плодовое', 'посёлок Пудость', 'посёлок Усть-Луга',\n",
       "       'Светогорск', 'посёлок Победа', 'Любань', 'поселок Селезнёво',\n",
       "       'поселок городского типа Рябово', 'Каменногорск', 'деревня Кривко',\n",
       "       'деревня Парицы', 'поселок Жилпосёлок',\n",
       "       'посёлок городского типа Мга', 'городской поселок Янино-1',\n",
       "       'посёлок Войскорово', 'село Никольское', 'посёлок Терволово',\n",
       "       'поселок Стеклянный', 'посёлок Мыза-Ивановка',\n",
       "       'село Русско-Высоцкое', 'поселок городского типа Лебяжье',\n",
       "       'поселок городского типа Форносово', 'поселок Житково',\n",
       "       'поселок городского типа Красный Бор', 'городской посёлок Виллози',\n",
       "       'деревня Шпаньково', 'деревня Кипень', 'посёлок Сумино',\n",
       "       'посёлок Возрождение', 'деревня Старосиверская',\n",
       "       'посёлок Кикерино', 'поселок Возрождение',\n",
       "       'деревня Старое Хинколово', 'посёлок Пригородный',\n",
       "       'посёлок Торфяное', 'городской посёлок Будогощь',\n",
       "       'поселок Суходолье', 'поселок Красная Долина', 'деревня Хапо-Ое',\n",
       "       'поселок городского типа Дружная Горка', 'деревня Извара',\n",
       "       'поселок Лисий Нос', 'деревня Яльгелево', 'посёлок Стеклянный',\n",
       "       'село Рождествено', 'деревня Сяськелево', 'деревня Камышовка',\n",
       "       'садоводческое некоммерческое товарищество Лесная Поляна',\n",
       "       'поселок Жилгородок', 'посёлок городского типа Павлово',\n",
       "       'деревня Ялгино', 'деревня Батово', 'поселок Новый Учхоз',\n",
       "       'поселок Гончарово', 'поселок Почап', 'посёлок Сапёрное',\n",
       "       'посёлок Платформа 69-й километр', 'поселок Каложицы',\n",
       "       'деревня Фалилеево', 'деревня Пельгора',\n",
       "       'поселок городского типа Лесогорский', 'деревня Торошковичи',\n",
       "       'посёлок Белоостров', 'посёлок Алексеевка',\n",
       "       'посёлок городского типа Важины', 'поселок Глебычево',\n",
       "       'поселок Лукаши', 'посёлок Песочный', 'поселок Петровское',\n",
       "       'деревня Щеглово', 'городской посёлок Рощино',\n",
       "       'поселок городского типа Никольский', 'поселок Кингисеппский',\n",
       "       'посёлок при железнодорожной станции Вещево', 'поселок Ушаки',\n",
       "       'деревня Старополье', 'деревня Котлы', 'деревня Сижно',\n",
       "       'деревня Лампово', 'деревня Торосово',\n",
       "       'посёлок Форт Красная Горка', 'деревня Новолисино',\n",
       "       'посёлок станции Громово', 'поселок городского типа Ефимовский',\n",
       "       'деревня Глинка', 'посёлок Мельниково',\n",
       "       'поселок городского типа Назия', 'деревня Старая Пустошь',\n",
       "       'поселок Коммунары', 'поселок Починок', 'деревня Разбегаево',\n",
       "       'посёлок городского типа Рябово', 'поселок Гладкое',\n",
       "       'посёлок при железнодорожной станции Приветнинское',\n",
       "       'поселок Тёсово-4', 'посёлок Жилгородок', 'деревня Бор',\n",
       "       'посёлок Коробицыно', 'деревня Большая Вруда', 'деревня Курковицы',\n",
       "       'посёлок Лисий Нос', 'поселок Серебрянский',\n",
       "       'городской посёлок Советский', 'посёлок Кобралово',\n",
       "       'поселок Кобралово', 'поселок городского типа Кондратьево',\n",
       "       'поселок Любань', 'деревня Реброво', 'деревня Зимитицы',\n",
       "       'деревня Тойворово', 'поселок Семиозерье', 'поселок Лесное',\n",
       "       'поселок Совхозный', 'поселок Усть-Луга', 'посёлок Суйда',\n",
       "       'посёлок городского типа Форносово', 'деревня Нижние Осельки',\n",
       "       'поселок Мичуринское', 'поселок Перово', 'Высоцк',\n",
       "       'поселок Гарболово', 'село Копорье', 'село Шум',\n",
       "       'поселок Котельский', 'посёлок Ленинское',\n",
       "       'деревня Большая Пустомержа', 'деревня Пижма',\n",
       "       'коттеджный поселок Кивеннапа Север', 'поселок Коробицыно',\n",
       "       'поселок Ромашки', 'деревня Каськово', 'деревня Куровицы',\n",
       "       'поселок Сумино', 'поселок городского типа Большая Ижора',\n",
       "       'поселок Кирпичное', 'деревня Ям-Тесово', 'деревня Терпилицы',\n",
       "       'посёлок городского типа Вознесенье',\n",
       "       'поселок городского типа Токсово', 'посёлок Шугозеро',\n",
       "       'деревня Ваганово', 'поселок Пушное', 'садовое товарищество Садко',\n",
       "       'деревня Выскатка', 'поселок Громово', 'посёлок станции Свирь',\n",
       "       'деревня Кисельня', 'село Старая Ладога', 'посёлок Старая Малукса',\n",
       "       'поселок Калитино', 'посёлок Высокоключевой',\n",
       "       'садовое товарищество Приладожский',\n",
       "       'посёлок Пансионат Зелёный Бор', 'посёлок Перово',\n",
       "       'деревня Ненимяки', 'поселок Пансионат Зелёный Бор',\n",
       "       'деревня Снегирёвка', 'деревня Рапполово', 'деревня Пустынка',\n",
       "       'поселок Рабитицы', 'деревня Большой Сабск', 'посёлок Усть-Ижора',\n",
       "       'деревня Лупполово', 'деревня Большое Рейзино',\n",
       "       'деревня Малая Романовка', 'деревня Суоранда',\n",
       "       'поселок Дружноселье', 'село Паша', 'поселок Володарское',\n",
       "       'деревня Нижняя', 'коттеджный посёлок Лесное', 'деревня Тихковицы',\n",
       "       'деревня Борисова Грива', 'посёлок Дзержинского'], dtype=object)"
      ]
     },
     "execution_count": 16,
     "metadata": {},
     "output_type": "execute_result"
    }
   ],
   "source": [
    "data['locality_name'].unique() #посмотрим все варианты уникальных значений"
   ]
  },
  {
   "cell_type": "code",
   "execution_count": 17,
   "metadata": {},
   "outputs": [],
   "source": [
    "#функция распределяющая все названия на поселки, села, деревни, пгт, садовые товарищества и прочие(тут города и модет названия поселков где не указано типа)\n",
    "def type_locality_name(locality):\n",
    "    if 'посёлок' in locality:\n",
    "        return 'поселок'\n",
    "    if 'поселок' in locality:\n",
    "        return 'поселок'\n",
    "    if 'поселок при железнодорожной станции' in locality or 'посёлок при железнодорожной станции' in locality:\n",
    "        return 'поселок'\n",
    "    if 'деревня' in locality:\n",
    "        return 'деревня'\n",
    "    if 'село' in locality:\n",
    "        return 'село'\n",
    "    if 'посёлок городского типа'  in locality or 'поселок городского типа' in locality:\n",
    "        return 'пгт'\n",
    "    if 'городской посёлок' in locality or 'городской поселок' in locality:\n",
    "        return 'пгт'\n",
    "    if 'садовое товарищество' in locality or 'садовое некоммерческое товарищество' in locality:\n",
    "        return 'садовое товарищество'\n",
    "    else:\n",
    "        return 'прочие'"
   ]
  },
  {
   "cell_type": "code",
   "execution_count": 18,
   "metadata": {},
   "outputs": [],
   "source": [
    "data['locality_type'] = data['locality_name'].apply(type_locality_name)"
   ]
  },
  {
   "cell_type": "code",
   "execution_count": 19,
   "metadata": {},
   "outputs": [
    {
     "data": {
      "text/html": [
       "<div>\n",
       "<style scoped>\n",
       "    .dataframe tbody tr th:only-of-type {\n",
       "        vertical-align: middle;\n",
       "    }\n",
       "\n",
       "    .dataframe tbody tr th {\n",
       "        vertical-align: top;\n",
       "    }\n",
       "\n",
       "    .dataframe thead th {\n",
       "        text-align: right;\n",
       "    }\n",
       "</style>\n",
       "<table border=\"1\" class=\"dataframe\">\n",
       "  <thead>\n",
       "    <tr style=\"text-align: right;\">\n",
       "      <th></th>\n",
       "      <th>total_images</th>\n",
       "      <th>last_price</th>\n",
       "      <th>total_area</th>\n",
       "      <th>first_day_exposition</th>\n",
       "      <th>rooms</th>\n",
       "      <th>ceiling_height</th>\n",
       "      <th>floors_total</th>\n",
       "      <th>living_area</th>\n",
       "      <th>floor</th>\n",
       "      <th>is_apartment</th>\n",
       "      <th>studio</th>\n",
       "      <th>open_plan</th>\n",
       "      <th>kitchen_area</th>\n",
       "      <th>balcony</th>\n",
       "      <th>locality_name</th>\n",
       "      <th>airports_nearest</th>\n",
       "      <th>cityCenters_nearest</th>\n",
       "      <th>parks_around3000</th>\n",
       "      <th>parks_nearest</th>\n",
       "      <th>ponds_around3000</th>\n",
       "      <th>ponds_nearest</th>\n",
       "      <th>days_exposition</th>\n",
       "      <th>locality_type</th>\n",
       "    </tr>\n",
       "  </thead>\n",
       "  <tbody>\n",
       "    <tr>\n",
       "      <th>0</th>\n",
       "      <td>20</td>\n",
       "      <td>13000000.0</td>\n",
       "      <td>108.0</td>\n",
       "      <td>2019-03-07T00:00:00</td>\n",
       "      <td>3</td>\n",
       "      <td>2.70</td>\n",
       "      <td>16.0</td>\n",
       "      <td>51.0</td>\n",
       "      <td>8</td>\n",
       "      <td>False</td>\n",
       "      <td>False</td>\n",
       "      <td>False</td>\n",
       "      <td>25.0</td>\n",
       "      <td>0.0</td>\n",
       "      <td>Санкт-Петербург</td>\n",
       "      <td>18863.0</td>\n",
       "      <td>16028.0</td>\n",
       "      <td>1.0</td>\n",
       "      <td>482.0</td>\n",
       "      <td>2.0</td>\n",
       "      <td>755.0</td>\n",
       "      <td>NaN</td>\n",
       "      <td>прочие</td>\n",
       "    </tr>\n",
       "    <tr>\n",
       "      <th>1</th>\n",
       "      <td>7</td>\n",
       "      <td>3350000.0</td>\n",
       "      <td>40.4</td>\n",
       "      <td>2018-12-04T00:00:00</td>\n",
       "      <td>1</td>\n",
       "      <td>NaN</td>\n",
       "      <td>11.0</td>\n",
       "      <td>18.6</td>\n",
       "      <td>1</td>\n",
       "      <td>False</td>\n",
       "      <td>False</td>\n",
       "      <td>False</td>\n",
       "      <td>11.0</td>\n",
       "      <td>2.0</td>\n",
       "      <td>посёлок Шушары</td>\n",
       "      <td>12817.0</td>\n",
       "      <td>18603.0</td>\n",
       "      <td>0.0</td>\n",
       "      <td>NaN</td>\n",
       "      <td>0.0</td>\n",
       "      <td>NaN</td>\n",
       "      <td>81.0</td>\n",
       "      <td>поселок</td>\n",
       "    </tr>\n",
       "    <tr>\n",
       "      <th>2</th>\n",
       "      <td>10</td>\n",
       "      <td>5196000.0</td>\n",
       "      <td>56.0</td>\n",
       "      <td>2015-08-20T00:00:00</td>\n",
       "      <td>2</td>\n",
       "      <td>NaN</td>\n",
       "      <td>5.0</td>\n",
       "      <td>34.3</td>\n",
       "      <td>4</td>\n",
       "      <td>False</td>\n",
       "      <td>False</td>\n",
       "      <td>False</td>\n",
       "      <td>8.3</td>\n",
       "      <td>0.0</td>\n",
       "      <td>Санкт-Петербург</td>\n",
       "      <td>21741.0</td>\n",
       "      <td>13933.0</td>\n",
       "      <td>1.0</td>\n",
       "      <td>90.0</td>\n",
       "      <td>2.0</td>\n",
       "      <td>574.0</td>\n",
       "      <td>558.0</td>\n",
       "      <td>прочие</td>\n",
       "    </tr>\n",
       "    <tr>\n",
       "      <th>4</th>\n",
       "      <td>2</td>\n",
       "      <td>10000000.0</td>\n",
       "      <td>100.0</td>\n",
       "      <td>2018-06-19T00:00:00</td>\n",
       "      <td>2</td>\n",
       "      <td>3.03</td>\n",
       "      <td>14.0</td>\n",
       "      <td>32.0</td>\n",
       "      <td>13</td>\n",
       "      <td>False</td>\n",
       "      <td>False</td>\n",
       "      <td>False</td>\n",
       "      <td>41.0</td>\n",
       "      <td>0.0</td>\n",
       "      <td>Санкт-Петербург</td>\n",
       "      <td>31856.0</td>\n",
       "      <td>8098.0</td>\n",
       "      <td>2.0</td>\n",
       "      <td>112.0</td>\n",
       "      <td>1.0</td>\n",
       "      <td>48.0</td>\n",
       "      <td>121.0</td>\n",
       "      <td>прочие</td>\n",
       "    </tr>\n",
       "    <tr>\n",
       "      <th>5</th>\n",
       "      <td>10</td>\n",
       "      <td>2890000.0</td>\n",
       "      <td>30.4</td>\n",
       "      <td>2018-09-10T00:00:00</td>\n",
       "      <td>1</td>\n",
       "      <td>NaN</td>\n",
       "      <td>12.0</td>\n",
       "      <td>14.4</td>\n",
       "      <td>5</td>\n",
       "      <td>False</td>\n",
       "      <td>False</td>\n",
       "      <td>False</td>\n",
       "      <td>9.1</td>\n",
       "      <td>0.0</td>\n",
       "      <td>городской посёлок Янино-1</td>\n",
       "      <td>NaN</td>\n",
       "      <td>NaN</td>\n",
       "      <td>NaN</td>\n",
       "      <td>NaN</td>\n",
       "      <td>NaN</td>\n",
       "      <td>NaN</td>\n",
       "      <td>55.0</td>\n",
       "      <td>поселок</td>\n",
       "    </tr>\n",
       "  </tbody>\n",
       "</table>\n",
       "</div>"
      ],
      "text/plain": [
       "   total_images  last_price  total_area first_day_exposition  rooms  \\\n",
       "0            20  13000000.0       108.0  2019-03-07T00:00:00      3   \n",
       "1             7   3350000.0        40.4  2018-12-04T00:00:00      1   \n",
       "2            10   5196000.0        56.0  2015-08-20T00:00:00      2   \n",
       "4             2  10000000.0       100.0  2018-06-19T00:00:00      2   \n",
       "5            10   2890000.0        30.4  2018-09-10T00:00:00      1   \n",
       "\n",
       "   ceiling_height  floors_total  living_area  floor  is_apartment  studio  \\\n",
       "0            2.70          16.0         51.0      8         False   False   \n",
       "1             NaN          11.0         18.6      1         False   False   \n",
       "2             NaN           5.0         34.3      4         False   False   \n",
       "4            3.03          14.0         32.0     13         False   False   \n",
       "5             NaN          12.0         14.4      5         False   False   \n",
       "\n",
       "   open_plan  kitchen_area  balcony              locality_name  \\\n",
       "0      False          25.0      0.0            Санкт-Петербург   \n",
       "1      False          11.0      2.0             посёлок Шушары   \n",
       "2      False           8.3      0.0            Санкт-Петербург   \n",
       "4      False          41.0      0.0            Санкт-Петербург   \n",
       "5      False           9.1      0.0  городской посёлок Янино-1   \n",
       "\n",
       "   airports_nearest  cityCenters_nearest  parks_around3000  parks_nearest  \\\n",
       "0           18863.0              16028.0               1.0          482.0   \n",
       "1           12817.0              18603.0               0.0            NaN   \n",
       "2           21741.0              13933.0               1.0           90.0   \n",
       "4           31856.0               8098.0               2.0          112.0   \n",
       "5               NaN                  NaN               NaN            NaN   \n",
       "\n",
       "   ponds_around3000  ponds_nearest  days_exposition locality_type  \n",
       "0               2.0          755.0              NaN        прочие  \n",
       "1               0.0            NaN             81.0       поселок  \n",
       "2               2.0          574.0            558.0        прочие  \n",
       "4               1.0           48.0            121.0        прочие  \n",
       "5               NaN            NaN             55.0       поселок  "
      ]
     },
     "execution_count": 19,
     "metadata": {},
     "output_type": "execute_result"
    }
   ],
   "source": [
    "data.head()"
   ]
  },
  {
   "cell_type": "code",
   "execution_count": 20,
   "metadata": {},
   "outputs": [],
   "source": [
    "# Поменяем в столбце с названиями типы поселков и е на ё сначала\n",
    "# Нам нужно убрать название поселка, города и т.д. \n",
    "data['locality_name'] = data['locality_name'].replace('|'.join(['посёлок ', 'поселок ','городского ','типа ','деревня ']), '', regex=True)"
   ]
  },
  {
   "cell_type": "code",
   "execution_count": 21,
   "metadata": {},
   "outputs": [
    {
     "data": {
      "text/plain": [
       "Санкт-Петербург                     13990\n",
       "Мурино                                455\n",
       "Шушары                                391\n",
       "Кудрово                               376\n",
       "Всеволожск                            357\n",
       "                                    ...  \n",
       "садовое товарищество Новая Ропша        1\n",
       "Сижно                                   1\n",
       "Котлы                                   1\n",
       "Старополье                              1\n",
       "Дзержинского                            1\n",
       "Name: locality_name, Length: 302, dtype: int64"
      ]
     },
     "execution_count": 21,
     "metadata": {},
     "output_type": "execute_result"
    }
   ],
   "source": [
    "data['locality_name'].value_counts()"
   ]
  },
  {
   "cell_type": "markdown",
   "metadata": {},
   "source": [
    "#### Пропуски в картографических данных заполним \"-1\", что будет означать что здесь пропуск."
   ]
  },
  {
   "cell_type": "markdown",
   "metadata": {},
   "source": [
    "***Столбец airports_nearest***"
   ]
  },
  {
   "cell_type": "code",
   "execution_count": 22,
   "metadata": {},
   "outputs": [],
   "source": [
    "data['airports_nearest'] = data['airports_nearest'].fillna(-1)"
   ]
  },
  {
   "cell_type": "markdown",
   "metadata": {},
   "source": [
    "***Столбец cityCenters_nearest***"
   ]
  },
  {
   "cell_type": "code",
   "execution_count": 23,
   "metadata": {},
   "outputs": [],
   "source": [
    "data['cityCenters_nearest'] = data['cityCenters_nearest'].fillna(-1)"
   ]
  },
  {
   "cell_type": "markdown",
   "metadata": {},
   "source": [
    "***Столбец parks_around3000***"
   ]
  },
  {
   "cell_type": "code",
   "execution_count": 24,
   "metadata": {},
   "outputs": [],
   "source": [
    "data['parks_around3000'] = data['parks_around3000'].fillna(-1)"
   ]
  },
  {
   "cell_type": "markdown",
   "metadata": {},
   "source": [
    "***Столбец parks_nearest***"
   ]
  },
  {
   "cell_type": "code",
   "execution_count": 25,
   "metadata": {},
   "outputs": [],
   "source": [
    "data['parks_nearest'] = data['parks_nearest'].fillna(-1)"
   ]
  },
  {
   "cell_type": "markdown",
   "metadata": {},
   "source": [
    "***Столбец ponds_around3000***"
   ]
  },
  {
   "cell_type": "code",
   "execution_count": 26,
   "metadata": {},
   "outputs": [],
   "source": [
    "data['ponds_around3000'] = data['ponds_around3000'].fillna(-1)"
   ]
  },
  {
   "cell_type": "markdown",
   "metadata": {},
   "source": [
    "***Столбец ponds_nearest***"
   ]
  },
  {
   "cell_type": "code",
   "execution_count": 27,
   "metadata": {},
   "outputs": [],
   "source": [
    "data['ponds_nearest'] = data['ponds_nearest'].fillna(-1)"
   ]
  },
  {
   "cell_type": "markdown",
   "metadata": {},
   "source": [
    "Аналогичным образом заполним столбец \"days_exposition\", т.е. сколько дней было размещено объявление (от публикации до снятия), \"-1\", что означает, что квартира еще не продана."
   ]
  },
  {
   "cell_type": "markdown",
   "metadata": {},
   "source": [
    "***Столбец days_exposition***"
   ]
  },
  {
   "cell_type": "code",
   "execution_count": 28,
   "metadata": {},
   "outputs": [],
   "source": [
    "data['days_exposition'] = data['days_exposition'].fillna(-1)"
   ]
  },
  {
   "cell_type": "markdown",
   "metadata": {},
   "source": [
    "***Типы данных***\n",
    "Поменяем типы данных:\n",
    "- Столбец \"first_day_exposition\" с типа ***строки*** в тип ***даты***. \n",
    "- Столбец \"floors_total\" с ***вещественного типы данных*** в ***целый***. \n",
    "- Столбец \"balcony\" с ***вещественного типы данных*** в ***целый***."
   ]
  },
  {
   "cell_type": "code",
   "execution_count": 29,
   "metadata": {},
   "outputs": [],
   "source": [
    "data['first_day_exposition'] = pd.to_datetime(data['first_day_exposition'], format = '%Y-%m-%dT%H:%M:%S')\n",
    "data['floors_total'] = data['floors_total'].astype('int')\n",
    "data['balcony'] = data['balcony'].astype('int')"
   ]
  },
  {
   "cell_type": "code",
   "execution_count": 30,
   "metadata": {},
   "outputs": [
    {
     "name": "stdout",
     "output_type": "stream",
     "text": [
      "<class 'pandas.core.frame.DataFrame'>\n",
      "Int64Index: 20830 entries, 0 to 23698\n",
      "Data columns (total 23 columns):\n",
      " #   Column                Non-Null Count  Dtype         \n",
      "---  ------                --------------  -----         \n",
      " 0   total_images          20830 non-null  int64         \n",
      " 1   last_price            20830 non-null  float64       \n",
      " 2   total_area            20830 non-null  float64       \n",
      " 3   first_day_exposition  20830 non-null  datetime64[ns]\n",
      " 4   rooms                 20830 non-null  int64         \n",
      " 5   ceiling_height        13272 non-null  float64       \n",
      " 6   floors_total          20830 non-null  int64         \n",
      " 7   living_area           20830 non-null  float64       \n",
      " 8   floor                 20830 non-null  int64         \n",
      " 9   is_apartment          20830 non-null  bool          \n",
      " 10  studio                20830 non-null  bool          \n",
      " 11  open_plan             20830 non-null  bool          \n",
      " 12  kitchen_area          20830 non-null  float64       \n",
      " 13  balcony               20830 non-null  int64         \n",
      " 14  locality_name         20830 non-null  object        \n",
      " 15  airports_nearest      20830 non-null  float64       \n",
      " 16  cityCenters_nearest   20830 non-null  float64       \n",
      " 17  parks_around3000      20830 non-null  float64       \n",
      " 18  parks_nearest         20830 non-null  float64       \n",
      " 19  ponds_around3000      20830 non-null  float64       \n",
      " 20  ponds_nearest         20830 non-null  float64       \n",
      " 21  days_exposition       20830 non-null  float64       \n",
      " 22  locality_type         20830 non-null  object        \n",
      "dtypes: bool(3), datetime64[ns](1), float64(12), int64(5), object(2)\n",
      "memory usage: 3.4+ MB\n"
     ]
    }
   ],
   "source": [
    "data.info()"
   ]
  },
  {
   "cell_type": "markdown",
   "metadata": {},
   "source": [
    "#### Обработка аномальных значений\n",
    "\n",
    "***Столбец Ceiling_height***"
   ]
  },
  {
   "cell_type": "markdown",
   "metadata": {},
   "source": [
    "Аномальными считается высота потолков больше 10м. Наверное была допущена опечатка, поэтому с помощью цикла монжо уберать эти значения делением на 10."
   ]
  },
  {
   "cell_type": "code",
   "execution_count": 31,
   "metadata": {},
   "outputs": [
    {
     "data": {
      "text/plain": [
       "22869    100.0\n",
       "3148      32.0\n",
       "22336     32.0\n",
       "21377     27.5\n",
       "21824     27.0\n",
       "         ...  \n",
       "23676      NaN\n",
       "23687      NaN\n",
       "23690      NaN\n",
       "23692      NaN\n",
       "23695      NaN\n",
       "Name: ceiling_height, Length: 20830, dtype: float64"
      ]
     },
     "execution_count": 31,
     "metadata": {},
     "output_type": "execute_result"
    }
   ],
   "source": [
    "for i in data['ceiling_height']:\n",
    "        if i > 10 and i in data['ceiling_height']:\n",
    "            i = i // 10\n",
    "data['ceiling_height'].sort_values(ascending=False)"
   ]
  },
  {
   "cell_type": "code",
   "execution_count": 32,
   "metadata": {},
   "outputs": [
    {
     "data": {
      "text/plain": [
       "0"
      ]
     },
     "execution_count": 32,
     "metadata": {},
     "output_type": "execute_result"
    }
   ],
   "source": [
    "#Замена пустых значений на медианное значение высоты потолка\n",
    "data['ceiling_height'] = data['ceiling_height'].fillna(data['ceiling_height'].median())\n",
    "#проверка остались ли пустые значения\n",
    "data['ceiling_height'].isnull().sum() "
   ]
  },
  {
   "cell_type": "markdown",
   "metadata": {},
   "source": [
    "***Стобец Total_area***"
   ]
  },
  {
   "cell_type": "code",
   "execution_count": 33,
   "metadata": {},
   "outputs": [
    {
     "data": {
      "image/png": "[encoded data removed]",
      "text/plain": [
       "<Figure size 432x288 with 1 Axes>"
      ]
     },
     "metadata": {
      "needs_background": "light"
     },
     "output_type": "display_data"
    }
   ],
   "source": [
    "\n",
    "data['total_area'].hist(bins=30);"
   ]
  },
  {
   "cell_type": "markdown",
   "metadata": {},
   "source": [
    "Считаем аномальными квартиры, которые больше 250 кв.м"
   ]
  },
  {
   "cell_type": "code",
   "execution_count": 34,
   "metadata": {},
   "outputs": [
    {
     "data": {
      "text/plain": [
       "13845    250.00\n",
       "23491    250.00\n",
       "20791    250.00\n",
       "13931    250.00\n",
       "13019    249.90\n",
       "          ...  \n",
       "114       21.40\n",
       "2461      21.10\n",
       "7755      20.67\n",
       "4077      20.00\n",
       "8873      20.00\n",
       "Name: total_area, Length: 20742, dtype: float64"
      ]
     },
     "execution_count": 34,
     "metadata": {},
     "output_type": "execute_result"
    }
   ],
   "source": [
    "data = data.query('total_area <= 250')\n",
    "data['total_area'].sort_values(ascending=False) #проверка, что нет значений больше 250"
   ]
  },
  {
   "cell_type": "markdown",
   "metadata": {},
   "source": [
    "***Столбец Ceiling_height***"
   ]
  },
  {
   "cell_type": "code",
   "execution_count": 35,
   "metadata": {},
   "outputs": [
    {
     "data": {
      "image/png": "[encoded data removed]",
      "text/plain": [
       "<Figure size 432x288 with 1 Axes>"
      ]
     },
     "metadata": {
      "needs_background": "light"
     },
     "output_type": "display_data"
    }
   ],
   "source": [
    "data['ceiling_height'].hist(bins=15);\n"
   ]
  },
  {
   "cell_type": "markdown",
   "metadata": {},
   "source": [
    "Считаем аномальными квартиры, у которых потолок выше 6м"
   ]
  },
  {
   "cell_type": "code",
   "execution_count": 36,
   "metadata": {},
   "outputs": [
    {
     "data": {
      "text/plain": [
       "23491    250.00\n",
       "13845    250.00\n",
       "20791    250.00\n",
       "13931    250.00\n",
       "13019    249.90\n",
       "          ...  \n",
       "114       21.40\n",
       "2461      21.10\n",
       "7755      20.67\n",
       "8873      20.00\n",
       "4077      20.00\n",
       "Name: total_area, Length: 20719, dtype: float64"
      ]
     },
     "execution_count": 36,
     "metadata": {},
     "output_type": "execute_result"
    }
   ],
   "source": [
    "data = data.query('ceiling_height <= 6')\n",
    "data['total_area'].sort_values(ascending=False) #проверка, что нет значений больше 6"
   ]
  },
  {
   "cell_type": "markdown",
   "metadata": {},
   "source": [
    "***Столбец Rooms***"
   ]
  },
  {
   "cell_type": "code",
   "execution_count": 37,
   "metadata": {},
   "outputs": [
    {
     "data": {
      "image/png": "[encoded data removed]",
      "text/plain": [
       "<Figure size 432x288 with 1 Axes>"
      ]
     },
     "metadata": {
      "needs_background": "light"
     },
     "output_type": "display_data"
    }
   ],
   "source": [
    "data['rooms'].hist(bins=30);"
   ]
  },
  {
   "cell_type": "markdown",
   "metadata": {},
   "source": [
    "Аномальными значениями можно считать квартиры, где комнат больше 7."
   ]
  },
  {
   "cell_type": "code",
   "execution_count": 38,
   "metadata": {},
   "outputs": [
    {
     "data": {
      "text/plain": [
       "1813     7\n",
       "13525    7\n",
       "22649    7\n",
       "22264    7\n",
       "4159     7\n",
       "        ..\n",
       "3257     1\n",
       "14063    1\n",
       "14066    1\n",
       "14068    1\n",
       "23698    1\n",
       "Name: rooms, Length: 20707, dtype: int64"
      ]
     },
     "execution_count": 38,
     "metadata": {},
     "output_type": "execute_result"
    }
   ],
   "source": [
    "data = data.query('rooms <= 7')\n",
    "data['rooms'].sort_values(ascending=False) #проверка, что нет значений больше 7"
   ]
  },
  {
   "cell_type": "markdown",
   "metadata": {},
   "source": [
    "### Вывод\n",
    "Предработка данных завершена. Из исходной таблицы удалила 2831 строку, так как эти строки не подходили по описанию данных и по заданным параметрам. Также обработала все неявные дубликаты и заполнила пропуски, соответсвующими значениями. "
   ]
  },
  {
   "cell_type": "markdown",
   "metadata": {},
   "source": [
    "### Добавьте в таблицу новые столбцы со следующими параметрами"
   ]
  },
  {
   "cell_type": "markdown",
   "metadata": {},
   "source": [
    "Добавление столбца 'metres_price'(цена одного квадратного метра): \n",
    "\n",
    "Цена 1 м кв= last_price/total_area"
   ]
  },
  {
   "cell_type": "code",
   "execution_count": 39,
   "metadata": {},
   "outputs": [],
   "source": [
    "data['metres_price'] = data['last_price'] / data['total_area']"
   ]
  },
  {
   "cell_type": "code",
   "execution_count": 40,
   "metadata": {},
   "outputs": [
    {
     "data": {
      "text/plain": [
       "0    120370.370370\n",
       "1     82920.792079\n",
       "2     92785.714286\n",
       "4    100000.000000\n",
       "5     95065.789474\n",
       "Name: metres_price, dtype: float64"
      ]
     },
     "execution_count": 40,
     "metadata": {},
     "output_type": "execute_result"
    }
   ],
   "source": [
    "data['metres_price'].head()"
   ]
  },
  {
   "cell_type": "markdown",
   "metadata": {},
   "source": [
    "Добавление столбца \"day_of_week\": \n",
    "\n",
    "день недели публикации объявления (0 — понедельник, 1 — вторник и так далее). "
   ]
  },
  {
   "cell_type": "code",
   "execution_count": 41,
   "metadata": {},
   "outputs": [],
   "source": [
    "def day_of_week(days):\n",
    "    if days.dayofweek == 0:\n",
    "        return \"понедельник\" \n",
    "    elif days.dayofweek == 1:\n",
    "        return \"вторник\"\n",
    "    elif days.dayofweek == 2:\n",
    "        return \"среда\"\n",
    "    elif days.dayofweek == 3:\n",
    "        return \"четверг\"\n",
    "    elif days.dayofweek == 4:\n",
    "        return \"пятница\"\n",
    "    elif days.dayofweek == 5:\n",
    "        return \"суббота\"\n",
    "    elif days.dayofweek == 6:\n",
    "        return \"воскресенье\"\n",
    "data['day_of_week'] = data['first_day_exposition'].apply(day_of_week)"
   ]
  },
  {
   "cell_type": "code",
   "execution_count": 42,
   "metadata": {},
   "outputs": [
    {
     "data": {
      "text/html": [
       "<div>\n",
       "<style scoped>\n",
       "    .dataframe tbody tr th:only-of-type {\n",
       "        vertical-align: middle;\n",
       "    }\n",
       "\n",
       "    .dataframe tbody tr th {\n",
       "        vertical-align: top;\n",
       "    }\n",
       "\n",
       "    .dataframe thead th {\n",
       "        text-align: right;\n",
       "    }\n",
       "</style>\n",
       "<table border=\"1\" class=\"dataframe\">\n",
       "  <thead>\n",
       "    <tr style=\"text-align: right;\">\n",
       "      <th></th>\n",
       "      <th>total_images</th>\n",
       "      <th>last_price</th>\n",
       "      <th>total_area</th>\n",
       "      <th>first_day_exposition</th>\n",
       "      <th>rooms</th>\n",
       "      <th>ceiling_height</th>\n",
       "      <th>floors_total</th>\n",
       "      <th>living_area</th>\n",
       "      <th>floor</th>\n",
       "      <th>is_apartment</th>\n",
       "      <th>studio</th>\n",
       "      <th>open_plan</th>\n",
       "      <th>kitchen_area</th>\n",
       "      <th>balcony</th>\n",
       "      <th>locality_name</th>\n",
       "      <th>airports_nearest</th>\n",
       "      <th>cityCenters_nearest</th>\n",
       "      <th>parks_around3000</th>\n",
       "      <th>parks_nearest</th>\n",
       "      <th>ponds_around3000</th>\n",
       "      <th>ponds_nearest</th>\n",
       "      <th>days_exposition</th>\n",
       "      <th>locality_type</th>\n",
       "      <th>metres_price</th>\n",
       "      <th>day_of_week</th>\n",
       "    </tr>\n",
       "  </thead>\n",
       "  <tbody>\n",
       "    <tr>\n",
       "      <th>0</th>\n",
       "      <td>20</td>\n",
       "      <td>13000000.0</td>\n",
       "      <td>108.0</td>\n",
       "      <td>2019-03-07</td>\n",
       "      <td>3</td>\n",
       "      <td>2.70</td>\n",
       "      <td>16</td>\n",
       "      <td>51.0</td>\n",
       "      <td>8</td>\n",
       "      <td>False</td>\n",
       "      <td>False</td>\n",
       "      <td>False</td>\n",
       "      <td>25.0</td>\n",
       "      <td>0</td>\n",
       "      <td>Санкт-Петербург</td>\n",
       "      <td>18863.0</td>\n",
       "      <td>16028.0</td>\n",
       "      <td>1.0</td>\n",
       "      <td>482.0</td>\n",
       "      <td>2.0</td>\n",
       "      <td>755.0</td>\n",
       "      <td>-1.0</td>\n",
       "      <td>прочие</td>\n",
       "      <td>120370.370370</td>\n",
       "      <td>четверг</td>\n",
       "    </tr>\n",
       "    <tr>\n",
       "      <th>1</th>\n",
       "      <td>7</td>\n",
       "      <td>3350000.0</td>\n",
       "      <td>40.4</td>\n",
       "      <td>2018-12-04</td>\n",
       "      <td>1</td>\n",
       "      <td>2.65</td>\n",
       "      <td>11</td>\n",
       "      <td>18.6</td>\n",
       "      <td>1</td>\n",
       "      <td>False</td>\n",
       "      <td>False</td>\n",
       "      <td>False</td>\n",
       "      <td>11.0</td>\n",
       "      <td>2</td>\n",
       "      <td>Шушары</td>\n",
       "      <td>12817.0</td>\n",
       "      <td>18603.0</td>\n",
       "      <td>0.0</td>\n",
       "      <td>-1.0</td>\n",
       "      <td>0.0</td>\n",
       "      <td>-1.0</td>\n",
       "      <td>81.0</td>\n",
       "      <td>поселок</td>\n",
       "      <td>82920.792079</td>\n",
       "      <td>вторник</td>\n",
       "    </tr>\n",
       "    <tr>\n",
       "      <th>2</th>\n",
       "      <td>10</td>\n",
       "      <td>5196000.0</td>\n",
       "      <td>56.0</td>\n",
       "      <td>2015-08-20</td>\n",
       "      <td>2</td>\n",
       "      <td>2.65</td>\n",
       "      <td>5</td>\n",
       "      <td>34.3</td>\n",
       "      <td>4</td>\n",
       "      <td>False</td>\n",
       "      <td>False</td>\n",
       "      <td>False</td>\n",
       "      <td>8.3</td>\n",
       "      <td>0</td>\n",
       "      <td>Санкт-Петербург</td>\n",
       "      <td>21741.0</td>\n",
       "      <td>13933.0</td>\n",
       "      <td>1.0</td>\n",
       "      <td>90.0</td>\n",
       "      <td>2.0</td>\n",
       "      <td>574.0</td>\n",
       "      <td>558.0</td>\n",
       "      <td>прочие</td>\n",
       "      <td>92785.714286</td>\n",
       "      <td>четверг</td>\n",
       "    </tr>\n",
       "    <tr>\n",
       "      <th>4</th>\n",
       "      <td>2</td>\n",
       "      <td>10000000.0</td>\n",
       "      <td>100.0</td>\n",
       "      <td>2018-06-19</td>\n",
       "      <td>2</td>\n",
       "      <td>3.03</td>\n",
       "      <td>14</td>\n",
       "      <td>32.0</td>\n",
       "      <td>13</td>\n",
       "      <td>False</td>\n",
       "      <td>False</td>\n",
       "      <td>False</td>\n",
       "      <td>41.0</td>\n",
       "      <td>0</td>\n",
       "      <td>Санкт-Петербург</td>\n",
       "      <td>31856.0</td>\n",
       "      <td>8098.0</td>\n",
       "      <td>2.0</td>\n",
       "      <td>112.0</td>\n",
       "      <td>1.0</td>\n",
       "      <td>48.0</td>\n",
       "      <td>121.0</td>\n",
       "      <td>прочие</td>\n",
       "      <td>100000.000000</td>\n",
       "      <td>вторник</td>\n",
       "    </tr>\n",
       "    <tr>\n",
       "      <th>5</th>\n",
       "      <td>10</td>\n",
       "      <td>2890000.0</td>\n",
       "      <td>30.4</td>\n",
       "      <td>2018-09-10</td>\n",
       "      <td>1</td>\n",
       "      <td>2.65</td>\n",
       "      <td>12</td>\n",
       "      <td>14.4</td>\n",
       "      <td>5</td>\n",
       "      <td>False</td>\n",
       "      <td>False</td>\n",
       "      <td>False</td>\n",
       "      <td>9.1</td>\n",
       "      <td>0</td>\n",
       "      <td>городской Янино-1</td>\n",
       "      <td>-1.0</td>\n",
       "      <td>-1.0</td>\n",
       "      <td>-1.0</td>\n",
       "      <td>-1.0</td>\n",
       "      <td>-1.0</td>\n",
       "      <td>-1.0</td>\n",
       "      <td>55.0</td>\n",
       "      <td>поселок</td>\n",
       "      <td>95065.789474</td>\n",
       "      <td>понедельник</td>\n",
       "    </tr>\n",
       "  </tbody>\n",
       "</table>\n",
       "</div>"
      ],
      "text/plain": [
       "   total_images  last_price  total_area first_day_exposition  rooms  \\\n",
       "0            20  13000000.0       108.0           2019-03-07      3   \n",
       "1             7   3350000.0        40.4           2018-12-04      1   \n",
       "2            10   5196000.0        56.0           2015-08-20      2   \n",
       "4             2  10000000.0       100.0           2018-06-19      2   \n",
       "5            10   2890000.0        30.4           2018-09-10      1   \n",
       "\n",
       "   ceiling_height  floors_total  living_area  floor  is_apartment  studio  \\\n",
       "0            2.70            16         51.0      8         False   False   \n",
       "1            2.65            11         18.6      1         False   False   \n",
       "2            2.65             5         34.3      4         False   False   \n",
       "4            3.03            14         32.0     13         False   False   \n",
       "5            2.65            12         14.4      5         False   False   \n",
       "\n",
       "   open_plan  kitchen_area  balcony      locality_name  airports_nearest  \\\n",
       "0      False          25.0        0    Санкт-Петербург           18863.0   \n",
       "1      False          11.0        2             Шушары           12817.0   \n",
       "2      False           8.3        0    Санкт-Петербург           21741.0   \n",
       "4      False          41.0        0    Санкт-Петербург           31856.0   \n",
       "5      False           9.1        0  городской Янино-1              -1.0   \n",
       "\n",
       "   cityCenters_nearest  parks_around3000  parks_nearest  ponds_around3000  \\\n",
       "0              16028.0               1.0          482.0               2.0   \n",
       "1              18603.0               0.0           -1.0               0.0   \n",
       "2              13933.0               1.0           90.0               2.0   \n",
       "4               8098.0               2.0          112.0               1.0   \n",
       "5                 -1.0              -1.0           -1.0              -1.0   \n",
       "\n",
       "   ponds_nearest  days_exposition locality_type   metres_price  day_of_week  \n",
       "0          755.0             -1.0        прочие  120370.370370      четверг  \n",
       "1           -1.0             81.0       поселок   82920.792079      вторник  \n",
       "2          574.0            558.0        прочие   92785.714286      четверг  \n",
       "4           48.0            121.0        прочие  100000.000000      вторник  \n",
       "5           -1.0             55.0       поселок   95065.789474  понедельник  "
      ]
     },
     "execution_count": 42,
     "metadata": {},
     "output_type": "execute_result"
    }
   ],
   "source": [
    "data.head()"
   ]
  },
  {
   "cell_type": "markdown",
   "metadata": {},
   "source": [
    "Добавление столбца \"name_month\": \n",
    "\n",
    "месяц публикации объявления, по аналогии с днем недели"
   ]
  },
  {
   "cell_type": "code",
   "execution_count": 43,
   "metadata": {},
   "outputs": [],
   "source": [
    "def name_month(months):\n",
    "    if months.month == 1:\n",
    "        return \"январь\" \n",
    "    elif months.month == 2:\n",
    "        return \"февраль\" \n",
    "    elif months.month == 3:\n",
    "        return \"март\"\n",
    "    elif months.month == 4:\n",
    "        return \"апрель\"\n",
    "    elif months.month == 5:\n",
    "        return \"май\"\n",
    "    elif months.month == 6:\n",
    "        return \"июнь\"\n",
    "    elif months.month == 7:\n",
    "        return \"июль\"\n",
    "    elif months.month == 8:\n",
    "        return \"август\"\n",
    "    elif months.month == 9:\n",
    "        return \"сентябрь\"\n",
    "    elif months.month == 10:\n",
    "        return \"октябрь\"\n",
    "    elif months.month == 11:\n",
    "        return \"ноябрь\"\n",
    "    elif months.month == 12:\n",
    "        return \"декабрь\"\n",
    "data['months_name'] = data['first_day_exposition'].apply(name_month)"
   ]
  },
  {
   "cell_type": "markdown",
   "metadata": {},
   "source": [
    "Добавление столбца \"years\": \n",
    "\n",
    "год публикации объявления"
   ]
  },
  {
   "cell_type": "code",
   "execution_count": 44,
   "metadata": {},
   "outputs": [],
   "source": [
    "data['years'] = data['first_day_exposition'].dt.year"
   ]
  },
  {
   "cell_type": "code",
   "execution_count": 45,
   "metadata": {},
   "outputs": [
    {
     "data": {
      "text/html": [
       "<div>\n",
       "<style scoped>\n",
       "    .dataframe tbody tr th:only-of-type {\n",
       "        vertical-align: middle;\n",
       "    }\n",
       "\n",
       "    .dataframe tbody tr th {\n",
       "        vertical-align: top;\n",
       "    }\n",
       "\n",
       "    .dataframe thead th {\n",
       "        text-align: right;\n",
       "    }\n",
       "</style>\n",
       "<table border=\"1\" class=\"dataframe\">\n",
       "  <thead>\n",
       "    <tr style=\"text-align: right;\">\n",
       "      <th></th>\n",
       "      <th>total_images</th>\n",
       "      <th>last_price</th>\n",
       "      <th>total_area</th>\n",
       "      <th>first_day_exposition</th>\n",
       "      <th>rooms</th>\n",
       "      <th>ceiling_height</th>\n",
       "      <th>floors_total</th>\n",
       "      <th>living_area</th>\n",
       "      <th>floor</th>\n",
       "      <th>is_apartment</th>\n",
       "      <th>studio</th>\n",
       "      <th>open_plan</th>\n",
       "      <th>kitchen_area</th>\n",
       "      <th>balcony</th>\n",
       "      <th>locality_name</th>\n",
       "      <th>airports_nearest</th>\n",
       "      <th>cityCenters_nearest</th>\n",
       "      <th>parks_around3000</th>\n",
       "      <th>parks_nearest</th>\n",
       "      <th>ponds_around3000</th>\n",
       "      <th>ponds_nearest</th>\n",
       "      <th>days_exposition</th>\n",
       "      <th>locality_type</th>\n",
       "      <th>metres_price</th>\n",
       "      <th>day_of_week</th>\n",
       "      <th>months_name</th>\n",
       "      <th>years</th>\n",
       "    </tr>\n",
       "  </thead>\n",
       "  <tbody>\n",
       "    <tr>\n",
       "      <th>0</th>\n",
       "      <td>20</td>\n",
       "      <td>13000000.0</td>\n",
       "      <td>108.00</td>\n",
       "      <td>2019-03-07</td>\n",
       "      <td>3</td>\n",
       "      <td>2.70</td>\n",
       "      <td>16</td>\n",
       "      <td>51.0</td>\n",
       "      <td>8</td>\n",
       "      <td>False</td>\n",
       "      <td>False</td>\n",
       "      <td>False</td>\n",
       "      <td>25.00</td>\n",
       "      <td>0</td>\n",
       "      <td>Санкт-Петербург</td>\n",
       "      <td>18863.0</td>\n",
       "      <td>16028.0</td>\n",
       "      <td>1.0</td>\n",
       "      <td>482.0</td>\n",
       "      <td>2.0</td>\n",
       "      <td>755.0</td>\n",
       "      <td>-1.0</td>\n",
       "      <td>прочие</td>\n",
       "      <td>120370.370370</td>\n",
       "      <td>четверг</td>\n",
       "      <td>март</td>\n",
       "      <td>2019</td>\n",
       "    </tr>\n",
       "    <tr>\n",
       "      <th>1</th>\n",
       "      <td>7</td>\n",
       "      <td>3350000.0</td>\n",
       "      <td>40.40</td>\n",
       "      <td>2018-12-04</td>\n",
       "      <td>1</td>\n",
       "      <td>2.65</td>\n",
       "      <td>11</td>\n",
       "      <td>18.6</td>\n",
       "      <td>1</td>\n",
       "      <td>False</td>\n",
       "      <td>False</td>\n",
       "      <td>False</td>\n",
       "      <td>11.00</td>\n",
       "      <td>2</td>\n",
       "      <td>Шушары</td>\n",
       "      <td>12817.0</td>\n",
       "      <td>18603.0</td>\n",
       "      <td>0.0</td>\n",
       "      <td>-1.0</td>\n",
       "      <td>0.0</td>\n",
       "      <td>-1.0</td>\n",
       "      <td>81.0</td>\n",
       "      <td>поселок</td>\n",
       "      <td>82920.792079</td>\n",
       "      <td>вторник</td>\n",
       "      <td>декабрь</td>\n",
       "      <td>2018</td>\n",
       "    </tr>\n",
       "    <tr>\n",
       "      <th>2</th>\n",
       "      <td>10</td>\n",
       "      <td>5196000.0</td>\n",
       "      <td>56.00</td>\n",
       "      <td>2015-08-20</td>\n",
       "      <td>2</td>\n",
       "      <td>2.65</td>\n",
       "      <td>5</td>\n",
       "      <td>34.3</td>\n",
       "      <td>4</td>\n",
       "      <td>False</td>\n",
       "      <td>False</td>\n",
       "      <td>False</td>\n",
       "      <td>8.30</td>\n",
       "      <td>0</td>\n",
       "      <td>Санкт-Петербург</td>\n",
       "      <td>21741.0</td>\n",
       "      <td>13933.0</td>\n",
       "      <td>1.0</td>\n",
       "      <td>90.0</td>\n",
       "      <td>2.0</td>\n",
       "      <td>574.0</td>\n",
       "      <td>558.0</td>\n",
       "      <td>прочие</td>\n",
       "      <td>92785.714286</td>\n",
       "      <td>четверг</td>\n",
       "      <td>август</td>\n",
       "      <td>2015</td>\n",
       "    </tr>\n",
       "    <tr>\n",
       "      <th>4</th>\n",
       "      <td>2</td>\n",
       "      <td>10000000.0</td>\n",
       "      <td>100.00</td>\n",
       "      <td>2018-06-19</td>\n",
       "      <td>2</td>\n",
       "      <td>3.03</td>\n",
       "      <td>14</td>\n",
       "      <td>32.0</td>\n",
       "      <td>13</td>\n",
       "      <td>False</td>\n",
       "      <td>False</td>\n",
       "      <td>False</td>\n",
       "      <td>41.00</td>\n",
       "      <td>0</td>\n",
       "      <td>Санкт-Петербург</td>\n",
       "      <td>31856.0</td>\n",
       "      <td>8098.0</td>\n",
       "      <td>2.0</td>\n",
       "      <td>112.0</td>\n",
       "      <td>1.0</td>\n",
       "      <td>48.0</td>\n",
       "      <td>121.0</td>\n",
       "      <td>прочие</td>\n",
       "      <td>100000.000000</td>\n",
       "      <td>вторник</td>\n",
       "      <td>июнь</td>\n",
       "      <td>2018</td>\n",
       "    </tr>\n",
       "    <tr>\n",
       "      <th>5</th>\n",
       "      <td>10</td>\n",
       "      <td>2890000.0</td>\n",
       "      <td>30.40</td>\n",
       "      <td>2018-09-10</td>\n",
       "      <td>1</td>\n",
       "      <td>2.65</td>\n",
       "      <td>12</td>\n",
       "      <td>14.4</td>\n",
       "      <td>5</td>\n",
       "      <td>False</td>\n",
       "      <td>False</td>\n",
       "      <td>False</td>\n",
       "      <td>9.10</td>\n",
       "      <td>0</td>\n",
       "      <td>городской Янино-1</td>\n",
       "      <td>-1.0</td>\n",
       "      <td>-1.0</td>\n",
       "      <td>-1.0</td>\n",
       "      <td>-1.0</td>\n",
       "      <td>-1.0</td>\n",
       "      <td>-1.0</td>\n",
       "      <td>55.0</td>\n",
       "      <td>поселок</td>\n",
       "      <td>95065.789474</td>\n",
       "      <td>понедельник</td>\n",
       "      <td>сентябрь</td>\n",
       "      <td>2018</td>\n",
       "    </tr>\n",
       "    <tr>\n",
       "      <th>...</th>\n",
       "      <td>...</td>\n",
       "      <td>...</td>\n",
       "      <td>...</td>\n",
       "      <td>...</td>\n",
       "      <td>...</td>\n",
       "      <td>...</td>\n",
       "      <td>...</td>\n",
       "      <td>...</td>\n",
       "      <td>...</td>\n",
       "      <td>...</td>\n",
       "      <td>...</td>\n",
       "      <td>...</td>\n",
       "      <td>...</td>\n",
       "      <td>...</td>\n",
       "      <td>...</td>\n",
       "      <td>...</td>\n",
       "      <td>...</td>\n",
       "      <td>...</td>\n",
       "      <td>...</td>\n",
       "      <td>...</td>\n",
       "      <td>...</td>\n",
       "      <td>...</td>\n",
       "      <td>...</td>\n",
       "      <td>...</td>\n",
       "      <td>...</td>\n",
       "      <td>...</td>\n",
       "      <td>...</td>\n",
       "    </tr>\n",
       "    <tr>\n",
       "      <th>23692</th>\n",
       "      <td>2</td>\n",
       "      <td>1350000.0</td>\n",
       "      <td>30.00</td>\n",
       "      <td>2017-07-07</td>\n",
       "      <td>1</td>\n",
       "      <td>2.65</td>\n",
       "      <td>5</td>\n",
       "      <td>17.5</td>\n",
       "      <td>4</td>\n",
       "      <td>False</td>\n",
       "      <td>False</td>\n",
       "      <td>False</td>\n",
       "      <td>6.00</td>\n",
       "      <td>0</td>\n",
       "      <td>Тихвин</td>\n",
       "      <td>-1.0</td>\n",
       "      <td>-1.0</td>\n",
       "      <td>-1.0</td>\n",
       "      <td>-1.0</td>\n",
       "      <td>-1.0</td>\n",
       "      <td>-1.0</td>\n",
       "      <td>413.0</td>\n",
       "      <td>прочие</td>\n",
       "      <td>45000.000000</td>\n",
       "      <td>пятница</td>\n",
       "      <td>июль</td>\n",
       "      <td>2017</td>\n",
       "    </tr>\n",
       "    <tr>\n",
       "      <th>23693</th>\n",
       "      <td>9</td>\n",
       "      <td>4600000.0</td>\n",
       "      <td>62.40</td>\n",
       "      <td>2016-08-05</td>\n",
       "      <td>3</td>\n",
       "      <td>2.60</td>\n",
       "      <td>9</td>\n",
       "      <td>40.0</td>\n",
       "      <td>8</td>\n",
       "      <td>False</td>\n",
       "      <td>False</td>\n",
       "      <td>False</td>\n",
       "      <td>8.00</td>\n",
       "      <td>0</td>\n",
       "      <td>Петергоф</td>\n",
       "      <td>45602.0</td>\n",
       "      <td>34104.0</td>\n",
       "      <td>1.0</td>\n",
       "      <td>352.0</td>\n",
       "      <td>1.0</td>\n",
       "      <td>675.0</td>\n",
       "      <td>239.0</td>\n",
       "      <td>прочие</td>\n",
       "      <td>73717.948718</td>\n",
       "      <td>пятница</td>\n",
       "      <td>август</td>\n",
       "      <td>2016</td>\n",
       "    </tr>\n",
       "    <tr>\n",
       "      <th>23694</th>\n",
       "      <td>9</td>\n",
       "      <td>9700000.0</td>\n",
       "      <td>133.81</td>\n",
       "      <td>2017-03-21</td>\n",
       "      <td>3</td>\n",
       "      <td>3.70</td>\n",
       "      <td>5</td>\n",
       "      <td>73.3</td>\n",
       "      <td>3</td>\n",
       "      <td>False</td>\n",
       "      <td>False</td>\n",
       "      <td>False</td>\n",
       "      <td>13.83</td>\n",
       "      <td>0</td>\n",
       "      <td>Санкт-Петербург</td>\n",
       "      <td>24665.0</td>\n",
       "      <td>4232.0</td>\n",
       "      <td>1.0</td>\n",
       "      <td>796.0</td>\n",
       "      <td>3.0</td>\n",
       "      <td>381.0</td>\n",
       "      <td>-1.0</td>\n",
       "      <td>прочие</td>\n",
       "      <td>72490.845228</td>\n",
       "      <td>вторник</td>\n",
       "      <td>март</td>\n",
       "      <td>2017</td>\n",
       "    </tr>\n",
       "    <tr>\n",
       "      <th>23695</th>\n",
       "      <td>14</td>\n",
       "      <td>3100000.0</td>\n",
       "      <td>59.00</td>\n",
       "      <td>2018-01-15</td>\n",
       "      <td>3</td>\n",
       "      <td>2.65</td>\n",
       "      <td>5</td>\n",
       "      <td>38.0</td>\n",
       "      <td>4</td>\n",
       "      <td>False</td>\n",
       "      <td>False</td>\n",
       "      <td>False</td>\n",
       "      <td>8.50</td>\n",
       "      <td>0</td>\n",
       "      <td>Тосно</td>\n",
       "      <td>-1.0</td>\n",
       "      <td>-1.0</td>\n",
       "      <td>-1.0</td>\n",
       "      <td>-1.0</td>\n",
       "      <td>-1.0</td>\n",
       "      <td>-1.0</td>\n",
       "      <td>45.0</td>\n",
       "      <td>прочие</td>\n",
       "      <td>52542.372881</td>\n",
       "      <td>понедельник</td>\n",
       "      <td>январь</td>\n",
       "      <td>2018</td>\n",
       "    </tr>\n",
       "    <tr>\n",
       "      <th>23698</th>\n",
       "      <td>4</td>\n",
       "      <td>1350000.0</td>\n",
       "      <td>32.30</td>\n",
       "      <td>2017-07-21</td>\n",
       "      <td>1</td>\n",
       "      <td>2.50</td>\n",
       "      <td>5</td>\n",
       "      <td>12.3</td>\n",
       "      <td>1</td>\n",
       "      <td>False</td>\n",
       "      <td>False</td>\n",
       "      <td>False</td>\n",
       "      <td>9.00</td>\n",
       "      <td>0</td>\n",
       "      <td>Новый Учхоз</td>\n",
       "      <td>-1.0</td>\n",
       "      <td>-1.0</td>\n",
       "      <td>-1.0</td>\n",
       "      <td>-1.0</td>\n",
       "      <td>-1.0</td>\n",
       "      <td>-1.0</td>\n",
       "      <td>-1.0</td>\n",
       "      <td>поселок</td>\n",
       "      <td>41795.665635</td>\n",
       "      <td>пятница</td>\n",
       "      <td>июль</td>\n",
       "      <td>2017</td>\n",
       "    </tr>\n",
       "  </tbody>\n",
       "</table>\n",
       "<p>20707 rows × 27 columns</p>\n",
       "</div>"
      ],
      "text/plain": [
       "       total_images  last_price  total_area first_day_exposition  rooms  \\\n",
       "0                20  13000000.0      108.00           2019-03-07      3   \n",
       "1                 7   3350000.0       40.40           2018-12-04      1   \n",
       "2                10   5196000.0       56.00           2015-08-20      2   \n",
       "4                 2  10000000.0      100.00           2018-06-19      2   \n",
       "5                10   2890000.0       30.40           2018-09-10      1   \n",
       "...             ...         ...         ...                  ...    ...   \n",
       "23692             2   1350000.0       30.00           2017-07-07      1   \n",
       "23693             9   4600000.0       62.40           2016-08-05      3   \n",
       "23694             9   9700000.0      133.81           2017-03-21      3   \n",
       "23695            14   3100000.0       59.00           2018-01-15      3   \n",
       "23698             4   1350000.0       32.30           2017-07-21      1   \n",
       "\n",
       "       ceiling_height  floors_total  living_area  floor  is_apartment  studio  \\\n",
       "0                2.70            16         51.0      8         False   False   \n",
       "1                2.65            11         18.6      1         False   False   \n",
       "2                2.65             5         34.3      4         False   False   \n",
       "4                3.03            14         32.0     13         False   False   \n",
       "5                2.65            12         14.4      5         False   False   \n",
       "...               ...           ...          ...    ...           ...     ...   \n",
       "23692            2.65             5         17.5      4         False   False   \n",
       "23693            2.60             9         40.0      8         False   False   \n",
       "23694            3.70             5         73.3      3         False   False   \n",
       "23695            2.65             5         38.0      4         False   False   \n",
       "23698            2.50             5         12.3      1         False   False   \n",
       "\n",
       "       open_plan  kitchen_area  balcony      locality_name  airports_nearest  \\\n",
       "0          False         25.00        0    Санкт-Петербург           18863.0   \n",
       "1          False         11.00        2             Шушары           12817.0   \n",
       "2          False          8.30        0    Санкт-Петербург           21741.0   \n",
       "4          False         41.00        0    Санкт-Петербург           31856.0   \n",
       "5          False          9.10        0  городской Янино-1              -1.0   \n",
       "...          ...           ...      ...                ...               ...   \n",
       "23692      False          6.00        0             Тихвин              -1.0   \n",
       "23693      False          8.00        0           Петергоф           45602.0   \n",
       "23694      False         13.83        0    Санкт-Петербург           24665.0   \n",
       "23695      False          8.50        0              Тосно              -1.0   \n",
       "23698      False          9.00        0        Новый Учхоз              -1.0   \n",
       "\n",
       "       cityCenters_nearest  parks_around3000  parks_nearest  ponds_around3000  \\\n",
       "0                  16028.0               1.0          482.0               2.0   \n",
       "1                  18603.0               0.0           -1.0               0.0   \n",
       "2                  13933.0               1.0           90.0               2.0   \n",
       "4                   8098.0               2.0          112.0               1.0   \n",
       "5                     -1.0              -1.0           -1.0              -1.0   \n",
       "...                    ...               ...            ...               ...   \n",
       "23692                 -1.0              -1.0           -1.0              -1.0   \n",
       "23693              34104.0               1.0          352.0               1.0   \n",
       "23694               4232.0               1.0          796.0               3.0   \n",
       "23695                 -1.0              -1.0           -1.0              -1.0   \n",
       "23698                 -1.0              -1.0           -1.0              -1.0   \n",
       "\n",
       "       ponds_nearest  days_exposition locality_type   metres_price  \\\n",
       "0              755.0             -1.0        прочие  120370.370370   \n",
       "1               -1.0             81.0       поселок   82920.792079   \n",
       "2              574.0            558.0        прочие   92785.714286   \n",
       "4               48.0            121.0        прочие  100000.000000   \n",
       "5               -1.0             55.0       поселок   95065.789474   \n",
       "...              ...              ...           ...            ...   \n",
       "23692           -1.0            413.0        прочие   45000.000000   \n",
       "23693          675.0            239.0        прочие   73717.948718   \n",
       "23694          381.0             -1.0        прочие   72490.845228   \n",
       "23695           -1.0             45.0        прочие   52542.372881   \n",
       "23698           -1.0             -1.0       поселок   41795.665635   \n",
       "\n",
       "       day_of_week months_name  years  \n",
       "0          четверг        март   2019  \n",
       "1          вторник     декабрь   2018  \n",
       "2          четверг      август   2015  \n",
       "4          вторник        июнь   2018  \n",
       "5      понедельник    сентябрь   2018  \n",
       "...            ...         ...    ...  \n",
       "23692      пятница        июль   2017  \n",
       "23693      пятница      август   2016  \n",
       "23694      вторник        март   2017  \n",
       "23695  понедельник      январь   2018  \n",
       "23698      пятница        июль   2017  \n",
       "\n",
       "[20707 rows x 27 columns]"
      ]
     },
     "execution_count": 45,
     "metadata": {},
     "output_type": "execute_result"
    }
   ],
   "source": [
    "data"
   ]
  },
  {
   "cell_type": "markdown",
   "metadata": {},
   "source": [
    "Добавление столбца \"floors_total\": \n",
    "\n",
    "тип этажа квартиры (значения — «первый», «последний», «другой»). С помощью функции"
   ]
  },
  {
   "cell_type": "code",
   "execution_count": 46,
   "metadata": {},
   "outputs": [
    {
     "data": {
      "text/plain": [
       "2253     60\n",
       "16731    52\n",
       "16934    37\n",
       "397      36\n",
       "11079    36\n",
       "         ..\n",
       "9752      1\n",
       "17744     1\n",
       "11641     1\n",
       "5300      1\n",
       "17020     1\n",
       "Name: floors_total, Length: 20707, dtype: int64"
      ]
     },
     "execution_count": 46,
     "metadata": {},
     "output_type": "execute_result"
    }
   ],
   "source": [
    "data['floors_total'].sort_values(ascending=False) "
   ]
  },
  {
   "cell_type": "markdown",
   "metadata": {},
   "source": [
    "По данным видно, что максимальный этаж - 60-ый."
   ]
  },
  {
   "cell_type": "code",
   "execution_count": 47,
   "metadata": {},
   "outputs": [
    {
     "data": {
      "text/plain": [
       "array([ 8,  1,  4, 13,  5,  6, 26,  7,  3,  2, 11, 15,  9, 18, 22, 10, 19,\n",
       "       20, 27, 25, 17, 14, 12, 21, 28, 24, 16, 23, 30, 29, 32, 33, 31])"
      ]
     },
     "execution_count": 47,
     "metadata": {},
     "output_type": "execute_result"
    }
   ],
   "source": [
    "data['floor'].unique()"
   ]
  },
  {
   "cell_type": "code",
   "execution_count": 48,
   "metadata": {},
   "outputs": [
    {
     "data": {
      "text/plain": [
       "array([16, 11,  5, 14, 12, 26, 27,  9,  6, 17, 25,  3, 23, 19, 18,  4, 24,\n",
       "        8,  2, 10,  7, 15, 22, 13, 20, 28, 36, 21, 35, 60,  1, 29, 33, 52,\n",
       "       37])"
      ]
     },
     "execution_count": 48,
     "metadata": {},
     "output_type": "execute_result"
    }
   ],
   "source": [
    "data['floors_total'].unique()"
   ]
  },
  {
   "cell_type": "code",
   "execution_count": 49,
   "metadata": {},
   "outputs": [],
   "source": [
    "def type_of_floor(floor, total):\n",
    "    if floor == 1:\n",
    "        return \"первый\"\n",
    "    elif floor == total:\n",
    "        return \"последний\"\n",
    "    else:\n",
    "        return \"другой\""
   ]
  },
  {
   "cell_type": "code",
   "execution_count": 50,
   "metadata": {},
   "outputs": [],
   "source": [
    "data['type_of_floor'] = data.apply(lambda x: type_of_floor(x['floor'], x['floors_total']), axis=1)"
   ]
  },
  {
   "cell_type": "markdown",
   "metadata": {},
   "source": [
    "Добавление столбца \"cityCenters_nearest_km\": \n",
    "\n",
    "расстояние до центра города в километрах"
   ]
  },
  {
   "cell_type": "code",
   "execution_count": 51,
   "metadata": {},
   "outputs": [],
   "source": [
    "data['cityCenters_nearest_km'] = (data['cityCenters_nearest'] / 1000).round()"
   ]
  },
  {
   "cell_type": "code",
   "execution_count": 52,
   "metadata": {},
   "outputs": [
    {
     "data": {
      "text/html": [
       "<div>\n",
       "<style scoped>\n",
       "    .dataframe tbody tr th:only-of-type {\n",
       "        vertical-align: middle;\n",
       "    }\n",
       "\n",
       "    .dataframe tbody tr th {\n",
       "        vertical-align: top;\n",
       "    }\n",
       "\n",
       "    .dataframe thead th {\n",
       "        text-align: right;\n",
       "    }\n",
       "</style>\n",
       "<table border=\"1\" class=\"dataframe\">\n",
       "  <thead>\n",
       "    <tr style=\"text-align: right;\">\n",
       "      <th></th>\n",
       "      <th>total_images</th>\n",
       "      <th>last_price</th>\n",
       "      <th>total_area</th>\n",
       "      <th>first_day_exposition</th>\n",
       "      <th>rooms</th>\n",
       "      <th>ceiling_height</th>\n",
       "      <th>floors_total</th>\n",
       "      <th>living_area</th>\n",
       "      <th>floor</th>\n",
       "      <th>is_apartment</th>\n",
       "      <th>studio</th>\n",
       "      <th>open_plan</th>\n",
       "      <th>kitchen_area</th>\n",
       "      <th>balcony</th>\n",
       "      <th>locality_name</th>\n",
       "      <th>airports_nearest</th>\n",
       "      <th>cityCenters_nearest</th>\n",
       "      <th>parks_around3000</th>\n",
       "      <th>parks_nearest</th>\n",
       "      <th>ponds_around3000</th>\n",
       "      <th>ponds_nearest</th>\n",
       "      <th>days_exposition</th>\n",
       "      <th>locality_type</th>\n",
       "      <th>metres_price</th>\n",
       "      <th>day_of_week</th>\n",
       "      <th>months_name</th>\n",
       "      <th>years</th>\n",
       "      <th>type_of_floor</th>\n",
       "      <th>cityCenters_nearest_km</th>\n",
       "    </tr>\n",
       "  </thead>\n",
       "  <tbody>\n",
       "    <tr>\n",
       "      <th>0</th>\n",
       "      <td>20</td>\n",
       "      <td>13000000.0</td>\n",
       "      <td>108.0</td>\n",
       "      <td>2019-03-07</td>\n",
       "      <td>3</td>\n",
       "      <td>2.70</td>\n",
       "      <td>16</td>\n",
       "      <td>51.0</td>\n",
       "      <td>8</td>\n",
       "      <td>False</td>\n",
       "      <td>False</td>\n",
       "      <td>False</td>\n",
       "      <td>25.0</td>\n",
       "      <td>0</td>\n",
       "      <td>Санкт-Петербург</td>\n",
       "      <td>18863.0</td>\n",
       "      <td>16028.0</td>\n",
       "      <td>1.0</td>\n",
       "      <td>482.0</td>\n",
       "      <td>2.0</td>\n",
       "      <td>755.0</td>\n",
       "      <td>-1.0</td>\n",
       "      <td>прочие</td>\n",
       "      <td>120370.370370</td>\n",
       "      <td>четверг</td>\n",
       "      <td>март</td>\n",
       "      <td>2019</td>\n",
       "      <td>другой</td>\n",
       "      <td>16.0</td>\n",
       "    </tr>\n",
       "    <tr>\n",
       "      <th>1</th>\n",
       "      <td>7</td>\n",
       "      <td>3350000.0</td>\n",
       "      <td>40.4</td>\n",
       "      <td>2018-12-04</td>\n",
       "      <td>1</td>\n",
       "      <td>2.65</td>\n",
       "      <td>11</td>\n",
       "      <td>18.6</td>\n",
       "      <td>1</td>\n",
       "      <td>False</td>\n",
       "      <td>False</td>\n",
       "      <td>False</td>\n",
       "      <td>11.0</td>\n",
       "      <td>2</td>\n",
       "      <td>Шушары</td>\n",
       "      <td>12817.0</td>\n",
       "      <td>18603.0</td>\n",
       "      <td>0.0</td>\n",
       "      <td>-1.0</td>\n",
       "      <td>0.0</td>\n",
       "      <td>-1.0</td>\n",
       "      <td>81.0</td>\n",
       "      <td>поселок</td>\n",
       "      <td>82920.792079</td>\n",
       "      <td>вторник</td>\n",
       "      <td>декабрь</td>\n",
       "      <td>2018</td>\n",
       "      <td>первый</td>\n",
       "      <td>19.0</td>\n",
       "    </tr>\n",
       "    <tr>\n",
       "      <th>2</th>\n",
       "      <td>10</td>\n",
       "      <td>5196000.0</td>\n",
       "      <td>56.0</td>\n",
       "      <td>2015-08-20</td>\n",
       "      <td>2</td>\n",
       "      <td>2.65</td>\n",
       "      <td>5</td>\n",
       "      <td>34.3</td>\n",
       "      <td>4</td>\n",
       "      <td>False</td>\n",
       "      <td>False</td>\n",
       "      <td>False</td>\n",
       "      <td>8.3</td>\n",
       "      <td>0</td>\n",
       "      <td>Санкт-Петербург</td>\n",
       "      <td>21741.0</td>\n",
       "      <td>13933.0</td>\n",
       "      <td>1.0</td>\n",
       "      <td>90.0</td>\n",
       "      <td>2.0</td>\n",
       "      <td>574.0</td>\n",
       "      <td>558.0</td>\n",
       "      <td>прочие</td>\n",
       "      <td>92785.714286</td>\n",
       "      <td>четверг</td>\n",
       "      <td>август</td>\n",
       "      <td>2015</td>\n",
       "      <td>другой</td>\n",
       "      <td>14.0</td>\n",
       "    </tr>\n",
       "    <tr>\n",
       "      <th>4</th>\n",
       "      <td>2</td>\n",
       "      <td>10000000.0</td>\n",
       "      <td>100.0</td>\n",
       "      <td>2018-06-19</td>\n",
       "      <td>2</td>\n",
       "      <td>3.03</td>\n",
       "      <td>14</td>\n",
       "      <td>32.0</td>\n",
       "      <td>13</td>\n",
       "      <td>False</td>\n",
       "      <td>False</td>\n",
       "      <td>False</td>\n",
       "      <td>41.0</td>\n",
       "      <td>0</td>\n",
       "      <td>Санкт-Петербург</td>\n",
       "      <td>31856.0</td>\n",
       "      <td>8098.0</td>\n",
       "      <td>2.0</td>\n",
       "      <td>112.0</td>\n",
       "      <td>1.0</td>\n",
       "      <td>48.0</td>\n",
       "      <td>121.0</td>\n",
       "      <td>прочие</td>\n",
       "      <td>100000.000000</td>\n",
       "      <td>вторник</td>\n",
       "      <td>июнь</td>\n",
       "      <td>2018</td>\n",
       "      <td>другой</td>\n",
       "      <td>8.0</td>\n",
       "    </tr>\n",
       "    <tr>\n",
       "      <th>5</th>\n",
       "      <td>10</td>\n",
       "      <td>2890000.0</td>\n",
       "      <td>30.4</td>\n",
       "      <td>2018-09-10</td>\n",
       "      <td>1</td>\n",
       "      <td>2.65</td>\n",
       "      <td>12</td>\n",
       "      <td>14.4</td>\n",
       "      <td>5</td>\n",
       "      <td>False</td>\n",
       "      <td>False</td>\n",
       "      <td>False</td>\n",
       "      <td>9.1</td>\n",
       "      <td>0</td>\n",
       "      <td>городской Янино-1</td>\n",
       "      <td>-1.0</td>\n",
       "      <td>-1.0</td>\n",
       "      <td>-1.0</td>\n",
       "      <td>-1.0</td>\n",
       "      <td>-1.0</td>\n",
       "      <td>-1.0</td>\n",
       "      <td>55.0</td>\n",
       "      <td>поселок</td>\n",
       "      <td>95065.789474</td>\n",
       "      <td>понедельник</td>\n",
       "      <td>сентябрь</td>\n",
       "      <td>2018</td>\n",
       "      <td>другой</td>\n",
       "      <td>-0.0</td>\n",
       "    </tr>\n",
       "  </tbody>\n",
       "</table>\n",
       "</div>"
      ],
      "text/plain": [
       "   total_images  last_price  total_area first_day_exposition  rooms  \\\n",
       "0            20  13000000.0       108.0           2019-03-07      3   \n",
       "1             7   3350000.0        40.4           2018-12-04      1   \n",
       "2            10   5196000.0        56.0           2015-08-20      2   \n",
       "4             2  10000000.0       100.0           2018-06-19      2   \n",
       "5            10   2890000.0        30.4           2018-09-10      1   \n",
       "\n",
       "   ceiling_height  floors_total  living_area  floor  is_apartment  studio  \\\n",
       "0            2.70            16         51.0      8         False   False   \n",
       "1            2.65            11         18.6      1         False   False   \n",
       "2            2.65             5         34.3      4         False   False   \n",
       "4            3.03            14         32.0     13         False   False   \n",
       "5            2.65            12         14.4      5         False   False   \n",
       "\n",
       "   open_plan  kitchen_area  balcony      locality_name  airports_nearest  \\\n",
       "0      False          25.0        0    Санкт-Петербург           18863.0   \n",
       "1      False          11.0        2             Шушары           12817.0   \n",
       "2      False           8.3        0    Санкт-Петербург           21741.0   \n",
       "4      False          41.0        0    Санкт-Петербург           31856.0   \n",
       "5      False           9.1        0  городской Янино-1              -1.0   \n",
       "\n",
       "   cityCenters_nearest  parks_around3000  parks_nearest  ponds_around3000  \\\n",
       "0              16028.0               1.0          482.0               2.0   \n",
       "1              18603.0               0.0           -1.0               0.0   \n",
       "2              13933.0               1.0           90.0               2.0   \n",
       "4               8098.0               2.0          112.0               1.0   \n",
       "5                 -1.0              -1.0           -1.0              -1.0   \n",
       "\n",
       "   ponds_nearest  days_exposition locality_type   metres_price  day_of_week  \\\n",
       "0          755.0             -1.0        прочие  120370.370370      четверг   \n",
       "1           -1.0             81.0       поселок   82920.792079      вторник   \n",
       "2          574.0            558.0        прочие   92785.714286      четверг   \n",
       "4           48.0            121.0        прочие  100000.000000      вторник   \n",
       "5           -1.0             55.0       поселок   95065.789474  понедельник   \n",
       "\n",
       "  months_name  years type_of_floor  cityCenters_nearest_km  \n",
       "0        март   2019        другой                    16.0  \n",
       "1     декабрь   2018        первый                    19.0  \n",
       "2      август   2015        другой                    14.0  \n",
       "4        июнь   2018        другой                     8.0  \n",
       "5    сентябрь   2018        другой                    -0.0  "
      ]
     },
     "execution_count": 52,
     "metadata": {},
     "output_type": "execute_result"
    }
   ],
   "source": [
    "data.head()"
   ]
  },
  {
   "cell_type": "markdown",
   "metadata": {},
   "source": [
    "### Исследовательский анализ данных"
   ]
  },
  {
   "cell_type": "markdown",
   "metadata": {},
   "source": [
    "Найдем взаимосвязьс каждым из данных параметров.\n",
    "\n",
    "Для этого сначала рассмотрим каждый параметр по отдельности. А потом уже из зависимости"
   ]
  },
  {
   "cell_type": "markdown",
   "metadata": {},
   "source": [
    "***Общая площадь объекта***"
   ]
  },
  {
   "cell_type": "code",
   "execution_count": 53,
   "metadata": {},
   "outputs": [
    {
     "data": {
      "text/plain": [
       "count    20707.000000\n",
       "mean        59.320977\n",
       "std         28.302637\n",
       "min         20.000000\n",
       "25%         40.500000\n",
       "50%         52.000000\n",
       "75%         69.600000\n",
       "max        250.000000\n",
       "Name: total_area, dtype: float64"
      ]
     },
     "execution_count": 53,
     "metadata": {},
     "output_type": "execute_result"
    }
   ],
   "source": [
    "data['total_area'].describe()"
   ]
  },
  {
   "cell_type": "code",
   "execution_count": 54,
   "metadata": {},
   "outputs": [
    {
     "data": {
      "image/png": "[encoded data removed]",
      "text/plain": [
       "<Figure size 432x288 with 1 Axes>"
      ]
     },
     "metadata": {
      "needs_background": "light"
     },
     "output_type": "display_data"
    }
   ],
   "source": [
    "data.boxplot('total_area');"
   ]
  },
  {
   "cell_type": "code",
   "execution_count": 55,
   "metadata": {},
   "outputs": [
    {
     "data": {
      "image/png": "[encoded data removed]",
      "text/plain": [
       "<Figure size 432x288 with 1 Axes>"
      ]
     },
     "metadata": {
      "needs_background": "light"
     },
     "output_type": "display_data"
    }
   ],
   "source": [
    "data['total_area'].hist(bins=100); "
   ]
  },
  {
   "cell_type": "markdown",
   "metadata": {},
   "source": [
    "По графикам видно, что большее количество квартир имееют площадь равную примерно медианному значению, т.е. около 59м. "
   ]
  },
  {
   "cell_type": "markdown",
   "metadata": {},
   "source": [
    "***Жилая площадь***"
   ]
  },
  {
   "cell_type": "code",
   "execution_count": 56,
   "metadata": {},
   "outputs": [
    {
     "data": {
      "text/plain": [
       "count    20707.000000\n",
       "mean        33.929814\n",
       "std         18.647260\n",
       "min          6.500000\n",
       "25%         18.800000\n",
       "50%         30.000000\n",
       "75%         42.300000\n",
       "max        184.000000\n",
       "Name: living_area, dtype: float64"
      ]
     },
     "execution_count": 56,
     "metadata": {},
     "output_type": "execute_result"
    }
   ],
   "source": [
    "data['living_area'].describe()"
   ]
  },
  {
   "cell_type": "code",
   "execution_count": 57,
   "metadata": {},
   "outputs": [
    {
     "data": {
      "image/png": "[encoded data removed]",
      "text/plain": [
       "<Figure size 432x288 with 1 Axes>"
      ]
     },
     "metadata": {
      "needs_background": "light"
     },
     "output_type": "display_data"
    }
   ],
   "source": [
    "data.boxplot('living_area');"
   ]
  },
  {
   "cell_type": "code",
   "execution_count": 58,
   "metadata": {},
   "outputs": [
    {
     "data": {
      "image/png": "[encoded data removed]",
      "text/plain": [
       "<Figure size 432x288 with 1 Axes>"
      ]
     },
     "metadata": {
      "needs_background": "light"
     },
     "output_type": "display_data"
    }
   ],
   "source": [
    "data['living_area'].hist(bins=30);"
   ]
  },
  {
   "cell_type": "markdown",
   "metadata": {},
   "source": [
    "Большинство квартир имеют медианное значение жилой площади."
   ]
  },
  {
   "cell_type": "markdown",
   "metadata": {},
   "source": [
    "***Площадь кухни***"
   ]
  },
  {
   "cell_type": "code",
   "execution_count": 59,
   "metadata": {},
   "outputs": [
    {
     "data": {
      "text/plain": [
       "count    20707.000000\n",
       "mean        10.430043\n",
       "std          5.505994\n",
       "min          4.600000\n",
       "25%          7.000000\n",
       "50%          9.000000\n",
       "75%         12.000000\n",
       "max        107.000000\n",
       "Name: kitchen_area, dtype: float64"
      ]
     },
     "execution_count": 59,
     "metadata": {},
     "output_type": "execute_result"
    }
   ],
   "source": [
    "data['kitchen_area'].describe()"
   ]
  },
  {
   "cell_type": "code",
   "execution_count": 60,
   "metadata": {},
   "outputs": [
    {
     "data": {
      "image/png": "[encoded data removed]",
      "text/plain": [
       "<Figure size 432x288 with 1 Axes>"
      ]
     },
     "metadata": {
      "needs_background": "light"
     },
     "output_type": "display_data"
    }
   ],
   "source": [
    "data.boxplot('kitchen_area');"
   ]
  },
  {
   "cell_type": "code",
   "execution_count": 61,
   "metadata": {},
   "outputs": [
    {
     "data": {
      "image/png": "[encoded data removed]",
      "text/plain": [
       "<Figure size 432x288 with 1 Axes>"
      ]
     },
     "metadata": {
      "needs_background": "light"
     },
     "output_type": "display_data"
    }
   ],
   "source": [
    "data['kitchen_area'].hist(bins=40);"
   ]
  },
  {
   "cell_type": "markdown",
   "metadata": {},
   "source": [
    "В основном все квартиры имеют среднюю площадь кухни, но есть и те, которые выбиваются, но их значительно меньше"
   ]
  },
  {
   "cell_type": "markdown",
   "metadata": {},
   "source": [
    "***Цена объекта***"
   ]
  },
  {
   "cell_type": "code",
   "execution_count": 62,
   "metadata": {},
   "outputs": [],
   "source": [
    "data['last_price'] = data['last_price'] / 1000000"
   ]
  },
  {
   "cell_type": "code",
   "execution_count": 63,
   "metadata": {},
   "outputs": [
    {
     "data": {
      "text/plain": [
       "count    20707.000000\n",
       "mean         6.219294\n",
       "std          7.039070\n",
       "min          0.012190\n",
       "25%          3.500000\n",
       "50%          4.690000\n",
       "75%          6.750000\n",
       "max        330.000000\n",
       "Name: last_price, dtype: float64"
      ]
     },
     "execution_count": 63,
     "metadata": {},
     "output_type": "execute_result"
    }
   ],
   "source": [
    "data['last_price'].describe()"
   ]
  },
  {
   "cell_type": "code",
   "execution_count": 64,
   "metadata": {},
   "outputs": [
    {
     "data": {
      "image/png": "[encoded data removed]",
      "text/plain": [
       "<Figure size 432x288 with 1 Axes>"
      ]
     },
     "metadata": {
      "needs_background": "light"
     },
     "output_type": "display_data"
    }
   ],
   "source": [
    "data.boxplot('last_price');"
   ]
  },
  {
   "cell_type": "code",
   "execution_count": 65,
   "metadata": {},
   "outputs": [
    {
     "data": {
      "image/png": "[encoded data removed]",
      "text/plain": [
       "<Figure size 432x288 with 1 Axes>"
      ]
     },
     "metadata": {
      "needs_background": "light"
     },
     "output_type": "display_data"
    }
   ],
   "source": [
    "data['last_price'].hist(bins=1000);"
   ]
  },
  {
   "cell_type": "markdown",
   "metadata": {},
   "source": [
    "По графику видно, что цены на квартиры абсолютно разные, но чаще встречаемая цена это около 5 млн. Чем выше цена, тем меньше представленных объектов"
   ]
  },
  {
   "cell_type": "markdown",
   "metadata": {},
   "source": [
    "***Количество комнат***"
   ]
  },
  {
   "cell_type": "code",
   "execution_count": 66,
   "metadata": {},
   "outputs": [
    {
     "data": {
      "text/plain": [
       "count    20707.000000\n",
       "mean         2.074516\n",
       "std          0.998309\n",
       "min          1.000000\n",
       "25%          1.000000\n",
       "50%          2.000000\n",
       "75%          3.000000\n",
       "max          7.000000\n",
       "Name: rooms, dtype: float64"
      ]
     },
     "execution_count": 66,
     "metadata": {},
     "output_type": "execute_result"
    }
   ],
   "source": [
    "data['rooms'].describe()"
   ]
  },
  {
   "cell_type": "code",
   "execution_count": 67,
   "metadata": {},
   "outputs": [
    {
     "data": {
      "image/png": "[encoded data removed]",
      "text/plain": [
       "<Figure size 432x288 with 1 Axes>"
      ]
     },
     "metadata": {
      "needs_background": "light"
     },
     "output_type": "display_data"
    }
   ],
   "source": [
    "data.boxplot('rooms');"
   ]
  },
  {
   "cell_type": "code",
   "execution_count": 68,
   "metadata": {},
   "outputs": [
    {
     "data": {
      "image/png": "[encoded data removed]",
      "text/plain": [
       "<Figure size 432x288 with 1 Axes>"
      ]
     },
     "metadata": {
      "needs_background": "light"
     },
     "output_type": "display_data"
    }
   ],
   "source": [
    "data['rooms'].hist(bins=50);"
   ]
  },
  {
   "cell_type": "markdown",
   "metadata": {},
   "source": [
    "В представленных данных большое количество однокомнатных и двухкомнатных квартир, и этих квартир почти одинаковое количество. Дальше идут трехкомнатные квартиры. И соответсвенно, чем больше комнат, тем меньше представленных квартир."
   ]
  },
  {
   "cell_type": "markdown",
   "metadata": {},
   "source": [
    "***Высота потолков***"
   ]
  },
  {
   "cell_type": "code",
   "execution_count": 69,
   "metadata": {},
   "outputs": [
    {
     "data": {
      "text/plain": [
       "count    20707.000000\n",
       "mean         2.694848\n",
       "std          0.217569\n",
       "min          1.000000\n",
       "25%          2.600000\n",
       "50%          2.650000\n",
       "75%          2.700000\n",
       "max          6.000000\n",
       "Name: ceiling_height, dtype: float64"
      ]
     },
     "execution_count": 69,
     "metadata": {},
     "output_type": "execute_result"
    }
   ],
   "source": [
    "data['ceiling_height'].describe()"
   ]
  },
  {
   "cell_type": "code",
   "execution_count": 70,
   "metadata": {},
   "outputs": [
    {
     "data": {
      "image/png": "[encoded data removed]",
      "text/plain": [
       "<Figure size 432x288 with 1 Axes>"
      ]
     },
     "metadata": {
      "needs_background": "light"
     },
     "output_type": "display_data"
    }
   ],
   "source": [
    "data.boxplot('ceiling_height');"
   ]
  },
  {
   "cell_type": "code",
   "execution_count": 71,
   "metadata": {},
   "outputs": [
    {
     "data": {
      "image/png": "[encoded data removed]",
      "text/plain": [
       "<Figure size 432x288 with 1 Axes>"
      ]
     },
     "metadata": {
      "needs_background": "light"
     },
     "output_type": "display_data"
    }
   ],
   "source": [
    "data['ceiling_height'].hist(bins=20);"
   ]
  },
  {
   "cell_type": "markdown",
   "metadata": {},
   "source": [
    "По графику видно, что  основном в квартирах высота потолка где-то 3 м. Все, что выше 7 м, считаются выбросами.\n",
    "\n",
    "***Этаж***"
   ]
  },
  {
   "cell_type": "code",
   "execution_count": 72,
   "metadata": {},
   "outputs": [
    {
     "data": {
      "text/plain": [
       "count    20707.000000\n",
       "mean         5.843918\n",
       "std          4.814875\n",
       "min          1.000000\n",
       "25%          2.000000\n",
       "50%          4.000000\n",
       "75%          8.000000\n",
       "max         33.000000\n",
       "Name: floor, dtype: float64"
      ]
     },
     "execution_count": 72,
     "metadata": {},
     "output_type": "execute_result"
    }
   ],
   "source": [
    "data['floor'].describe()"
   ]
  },
  {
   "cell_type": "code",
   "execution_count": 73,
   "metadata": {},
   "outputs": [
    {
     "data": {
      "image/png": "[encoded data removed]",
      "text/plain": [
       "<Figure size 432x288 with 1 Axes>"
      ]
     },
     "metadata": {
      "needs_background": "light"
     },
     "output_type": "display_data"
    }
   ],
   "source": [
    "data.boxplot('floor');"
   ]
  },
  {
   "cell_type": "code",
   "execution_count": 74,
   "metadata": {},
   "outputs": [
    {
     "data": {
      "image/png": "[encoded data removed]",
      "text/plain": [
       "<Figure size 432x288 with 1 Axes>"
      ]
     },
     "metadata": {
      "needs_background": "light"
     },
     "output_type": "display_data"
    }
   ],
   "source": [
    "data['floor'].hist(bins=40);"
   ]
  },
  {
   "cell_type": "markdown",
   "metadata": {},
   "source": [
    "Большинство квартир находится на 2-3 этаже. Чем выше этаж, тем меньше представленных квартир."
   ]
  },
  {
   "cell_type": "markdown",
   "metadata": {},
   "source": [
    "***Тип этажа квартиры («первый», «последний», «другой»)***"
   ]
  },
  {
   "cell_type": "code",
   "execution_count": 75,
   "metadata": {},
   "outputs": [
    {
     "data": {
      "text/plain": [
       "count      20707\n",
       "unique         3\n",
       "top       другой\n",
       "freq       15250\n",
       "Name: type_of_floor, dtype: object"
      ]
     },
     "execution_count": 75,
     "metadata": {},
     "output_type": "execute_result"
    }
   ],
   "source": [
    "data['type_of_floor'].describe()"
   ]
  },
  {
   "cell_type": "code",
   "execution_count": 76,
   "metadata": {},
   "outputs": [
    {
     "data": {
      "image/png": "[encoded data removed]",
      "text/plain": [
       "<Figure size 432x288 with 1 Axes>"
      ]
     },
     "metadata": {
      "needs_background": "light"
     },
     "output_type": "display_data"
    }
   ],
   "source": [
    "data['type_of_floor'].hist(bins=40);"
   ]
  },
  {
   "cell_type": "markdown",
   "metadata": {},
   "source": [
    "Большое количество квартир находятся на средних этажах."
   ]
  },
  {
   "cell_type": "markdown",
   "metadata": {},
   "source": [
    "***Общее количество этажей в доме***"
   ]
  },
  {
   "cell_type": "code",
   "execution_count": 77,
   "metadata": {},
   "outputs": [
    {
     "data": {
      "text/plain": [
       "count    20707.000000\n",
       "mean        10.588448\n",
       "std          6.515993\n",
       "min          1.000000\n",
       "25%          5.000000\n",
       "50%          9.000000\n",
       "75%         15.000000\n",
       "max         60.000000\n",
       "Name: floors_total, dtype: float64"
      ]
     },
     "execution_count": 77,
     "metadata": {},
     "output_type": "execute_result"
    }
   ],
   "source": [
    "data['floors_total'].describe()"
   ]
  },
  {
   "cell_type": "code",
   "execution_count": 78,
   "metadata": {},
   "outputs": [
    {
     "data": {
      "image/png": "[encoded data removed]",
      "text/plain": [
       "<Figure size 432x288 with 1 Axes>"
      ]
     },
     "metadata": {
      "needs_background": "light"
     },
     "output_type": "display_data"
    }
   ],
   "source": [
    "data.boxplot('floors_total');"
   ]
  },
  {
   "cell_type": "code",
   "execution_count": 79,
   "metadata": {},
   "outputs": [
    {
     "data": {
      "image/png": "[encoded data removed]",
      "text/plain": [
       "<Figure size 432x288 with 1 Axes>"
      ]
     },
     "metadata": {
      "needs_background": "light"
     },
     "output_type": "display_data"
    }
   ],
   "source": [
    "data['floors_total'].hist(bins=40);"
   ]
  },
  {
   "cell_type": "markdown",
   "metadata": {},
   "source": [
    "Много квартир есть в пятиэтажных домах, а потом в девятиэтажных домах. "
   ]
  },
  {
   "cell_type": "markdown",
   "metadata": {},
   "source": [
    "***Расстояние до центра города в метрах***"
   ]
  },
  {
   "cell_type": "code",
   "execution_count": 80,
   "metadata": {},
   "outputs": [
    {
     "data": {
      "text/plain": [
       "count    20707.000000\n",
       "mean     11104.687159\n",
       "std       9673.987850\n",
       "min         -1.000000\n",
       "25%       3022.500000\n",
       "50%      11477.000000\n",
       "75%      15336.000000\n",
       "max      65968.000000\n",
       "Name: cityCenters_nearest, dtype: float64"
      ]
     },
     "execution_count": 80,
     "metadata": {},
     "output_type": "execute_result"
    }
   ],
   "source": [
    "data['cityCenters_nearest'].describe()"
   ]
  },
  {
   "cell_type": "code",
   "execution_count": 81,
   "metadata": {},
   "outputs": [
    {
     "data": {
      "image/png": "[encoded data removed]",
      "text/plain": [
       "<Figure size 432x288 with 1 Axes>"
      ]
     },
     "metadata": {
      "needs_background": "light"
     },
     "output_type": "display_data"
    }
   ],
   "source": [
    "data.boxplot('cityCenters_nearest');"
   ]
  },
  {
   "cell_type": "code",
   "execution_count": 82,
   "metadata": {},
   "outputs": [
    {
     "data": {
      "image/png": "[encoded data removed]",
      "text/plain": [
       "<Figure size 432x288 with 1 Axes>"
      ]
     },
     "metadata": {
      "needs_background": "light"
     },
     "output_type": "display_data"
    }
   ],
   "source": [
    "data['cityCenters_nearest'].hist(bins=40);"
   ]
  },
  {
   "cell_type": "markdown",
   "metadata": {},
   "source": [
    "Большинство квартир находится в центре, также есть квартиры, которые находятся в 10-20 км от центра."
   ]
  },
  {
   "cell_type": "markdown",
   "metadata": {},
   "source": [
    "***Расстояние до ближайшего аэропорта***"
   ]
  },
  {
   "cell_type": "code",
   "execution_count": 83,
   "metadata": {},
   "outputs": [
    {
     "data": {
      "text/plain": [
       "count    20707.000000\n",
       "mean     22364.390786\n",
       "std      16395.809867\n",
       "min         -1.000000\n",
       "25%      10876.000000\n",
       "50%      22017.000000\n",
       "75%      34605.000000\n",
       "max      84869.000000\n",
       "Name: airports_nearest, dtype: float64"
      ]
     },
     "execution_count": 83,
     "metadata": {},
     "output_type": "execute_result"
    }
   ],
   "source": [
    "data['airports_nearest'].describe()"
   ]
  },
  {
   "cell_type": "code",
   "execution_count": 84,
   "metadata": {},
   "outputs": [
    {
     "data": {
      "image/png": "[encoded data removed]",
      "text/plain": [
       "<Figure size 432x288 with 1 Axes>"
      ]
     },
     "metadata": {
      "needs_background": "light"
     },
     "output_type": "display_data"
    }
   ],
   "source": [
    "data.boxplot('airports_nearest');"
   ]
  },
  {
   "cell_type": "code",
   "execution_count": 85,
   "metadata": {},
   "outputs": [
    {
     "data": {
      "image/png": "[encoded data removed]",
      "text/plain": [
       "<Figure size 432x288 with 1 Axes>"
      ]
     },
     "metadata": {
      "needs_background": "light"
     },
     "output_type": "display_data"
    }
   ],
   "source": [
    "data['airports_nearest'].hist(bins=40);"
   ]
  },
  {
   "cell_type": "markdown",
   "metadata": {},
   "source": [
    "Пропуски обозначали 0. Среднее расстояние до аэропорта от всех квартир где-то 20 км."
   ]
  },
  {
   "cell_type": "markdown",
   "metadata": {},
   "source": [
    "***Расстояние до ближайшего парка***"
   ]
  },
  {
   "cell_type": "code",
   "execution_count": 86,
   "metadata": {},
   "outputs": [
    {
     "data": {
      "text/plain": [
       "count    20707.000000\n",
       "mean       168.078186\n",
       "std        306.233406\n",
       "min         -1.000000\n",
       "25%         -1.000000\n",
       "50%         -1.000000\n",
       "75%        307.500000\n",
       "max       3190.000000\n",
       "Name: parks_nearest, dtype: float64"
      ]
     },
     "execution_count": 86,
     "metadata": {},
     "output_type": "execute_result"
    }
   ],
   "source": [
    "data['parks_nearest'].describe()"
   ]
  },
  {
   "cell_type": "code",
   "execution_count": 87,
   "metadata": {},
   "outputs": [
    {
     "data": {
      "image/png": "[encoded data removed]",
      "text/plain": [
       "<Figure size 432x288 with 1 Axes>"
      ]
     },
     "metadata": {
      "needs_background": "light"
     },
     "output_type": "display_data"
    }
   ],
   "source": [
    "data.boxplot('parks_nearest');"
   ]
  },
  {
   "cell_type": "code",
   "execution_count": 88,
   "metadata": {},
   "outputs": [
    {
     "data": {
      "image/png": "[encoded data removed]",
      "text/plain": [
       "<Figure size 432x288 with 1 Axes>"
      ]
     },
     "metadata": {
      "needs_background": "light"
     },
     "output_type": "display_data"
    }
   ],
   "source": [
    "data['parks_nearest'].hist(bins=40);"
   ]
  },
  {
   "cell_type": "markdown",
   "metadata": {},
   "source": [
    "В среднем квартиры расположены в 500 м от парка. Пропуски заполнили 0"
   ]
  },
  {
   "cell_type": "markdown",
   "metadata": {},
   "source": [
    "***День публикации объявления***"
   ]
  },
  {
   "cell_type": "code",
   "execution_count": 89,
   "metadata": {},
   "outputs": [
    {
     "data": {
      "text/plain": [
       "count       20707\n",
       "unique          7\n",
       "top       четверг\n",
       "freq         3772\n",
       "Name: day_of_week, dtype: object"
      ]
     },
     "execution_count": 89,
     "metadata": {},
     "output_type": "execute_result"
    }
   ],
   "source": [
    "data['day_of_week'].describe()"
   ]
  },
  {
   "cell_type": "code",
   "execution_count": 90,
   "metadata": {},
   "outputs": [
    {
     "data": {
      "image/png": "[encoded data removed]",
      "text/plain": [
       "<Figure size 720x432 with 1 Axes>"
      ]
     },
     "metadata": {
      "needs_background": "light"
     },
     "output_type": "display_data"
    }
   ],
   "source": [
    "data['day_of_week'].hist(bins=7, figsize=(10,6));"
   ]
  },
  {
   "cell_type": "markdown",
   "metadata": {},
   "source": [
    "По графику видно, что в четверг выставляли самое большое количество квартир. А в воскресенье самое меньшее количество. Получается, что в выходные меньше выставляют на продажу, чем в простые рабочие дни."
   ]
  },
  {
   "cell_type": "markdown",
   "metadata": {},
   "source": [
    "***Месяц публикации объявления***"
   ]
  },
  {
   "cell_type": "code",
   "execution_count": 91,
   "metadata": {},
   "outputs": [
    {
     "data": {
      "text/plain": [
       "count       20707\n",
       "unique         12\n",
       "top       февраль\n",
       "freq         2282\n",
       "Name: months_name, dtype: object"
      ]
     },
     "execution_count": 91,
     "metadata": {},
     "output_type": "execute_result"
    }
   ],
   "source": [
    "data['months_name'].describe()"
   ]
  },
  {
   "cell_type": "code",
   "execution_count": 92,
   "metadata": {},
   "outputs": [
    {
     "data": {
      "image/png": "[encoded data removed]",
      "text/plain": [
       "<Figure size 864x432 with 1 Axes>"
      ]
     },
     "metadata": {
      "needs_background": "light"
     },
     "output_type": "display_data"
    }
   ],
   "source": [
    "data['months_name'].hist(bins=12, figsize=(12,6));\n"
   ]
  },
  {
   "cell_type": "markdown",
   "metadata": {},
   "source": [
    "В марте было выставлено больше всего объявлений. А в декабре, январе и мае наименьшее количество."
   ]
  },
  {
   "cell_type": "markdown",
   "metadata": {},
   "source": [
    "***Продажи квартир***\n",
    "\n",
    "Теперь изучим, как быстро продавались квартиры"
   ]
  },
  {
   "cell_type": "code",
   "execution_count": 93,
   "metadata": {},
   "outputs": [
    {
     "data": {
      "text/plain": [
       "2853"
      ]
     },
     "execution_count": 93,
     "metadata": {},
     "output_type": "execute_result"
    }
   ],
   "source": [
    "data[data['days_exposition'] == -1]['days_exposition'].count() "
   ]
  },
  {
   "cell_type": "code",
   "execution_count": 94,
   "metadata": {},
   "outputs": [
    {
     "data": {
      "text/plain": [
       "185.1696538590792"
      ]
     },
     "execution_count": 94,
     "metadata": {},
     "output_type": "execute_result"
    }
   ],
   "source": [
    "data[data['days_exposition'] != -1]['days_exposition'].mean()"
   ]
  },
  {
   "cell_type": "code",
   "execution_count": 95,
   "metadata": {},
   "outputs": [
    {
     "data": {
      "text/plain": [
       "102.0"
      ]
     },
     "execution_count": 95,
     "metadata": {},
     "output_type": "execute_result"
    }
   ],
   "source": [
    "data[data['days_exposition'] != -1]['days_exposition'].median()"
   ]
  },
  {
   "cell_type": "code",
   "execution_count": 96,
   "metadata": {},
   "outputs": [
    {
     "data": {
      "text/plain": [
       "1580.0"
      ]
     },
     "execution_count": 96,
     "metadata": {},
     "output_type": "execute_result"
    }
   ],
   "source": [
    "data[data['days_exposition'] != -1]['days_exposition'].max()"
   ]
  },
  {
   "cell_type": "code",
   "execution_count": 97,
   "metadata": {},
   "outputs": [
    {
     "data": {
      "text/plain": [
       "1.0"
      ]
     },
     "execution_count": 97,
     "metadata": {},
     "output_type": "execute_result"
    }
   ],
   "source": [
    "data[data['days_exposition'] != -1]['days_exposition'].min()"
   ]
  },
  {
   "cell_type": "code",
   "execution_count": 127,
   "metadata": {},
   "outputs": [
    {
     "data": {
      "image/png": "[encoded data removed]",
      "text/plain": [
       "<Figure size 432x288 with 1 Axes>"
      ]
     },
     "metadata": {
      "needs_background": "light"
     },
     "output_type": "display_data"
    }
   ],
   "source": [
    "data[data['days_exposition'] != -1]['days_exposition'].hist(bins=50);"
   ]
  },
  {
   "cell_type": "code",
   "execution_count": 128,
   "metadata": {},
   "outputs": [
    {
     "data": {
      "image/png": "[encoded data removed]",
      "text/plain": [
       "<Figure size 432x288 with 1 Axes>"
      ]
     },
     "metadata": {
      "needs_background": "light"
     },
     "output_type": "display_data"
    }
   ],
   "source": [
    "data[data['days_exposition'] != -1]['days_exposition'].hist(bins=50, range=(1, 102));"
   ]
  },
  {
   "cell_type": "code",
   "execution_count": 129,
   "metadata": {},
   "outputs": [
    {
     "data": {
      "image/png": "[encoded data removed]",
      "text/plain": [
       "<Figure size 432x288 with 1 Axes>"
      ]
     },
     "metadata": {
      "needs_background": "light"
     },
     "output_type": "display_data"
    }
   ],
   "source": [
    "data[data['days_exposition'] != -1]['days_exposition'].hist(bins=50, range=(102, 1580));"
   ]
  },
  {
   "cell_type": "markdown",
   "metadata": {},
   "source": [
    "По графику видно,что в среднем объявление находится на сайте около 110-150 дней. До медианного значения есть два пика, это 45-50 дней и 60 дней. Самыми быстрыми объявлениями можно считать до 20 дней, самыми долгими после 1200 дней, так как их очень мало."
   ]
  },
  {
   "cell_type": "markdown",
   "metadata": {},
   "source": [
    "***Зависимости цены от данных параметров***"
   ]
  },
  {
   "cell_type": "code",
   "execution_count": 130,
   "metadata": {},
   "outputs": [
    {
     "data": {
      "image/png": "[encoded data removed]",
      "text/plain": [
       "<Figure size 432x288 with 1 Axes>"
      ]
     },
     "metadata": {
      "needs_background": "light"
     },
     "output_type": "display_data"
    }
   ],
   "source": [
    "data.pivot_table(index = 'total_area', values='last_price').plot();"
   ]
  },
  {
   "cell_type": "code",
   "execution_count": 131,
   "metadata": {},
   "outputs": [
    {
     "data": {
      "image/png": "[encoded data removed]",
      "text/plain": [
       "<Figure size 432x288 with 1 Axes>"
      ]
     },
     "metadata": {
      "needs_background": "light"
     },
     "output_type": "display_data"
    }
   ],
   "source": [
    "data.pivot_table(index = 'total_area', values='last_price').hist(bins=6);"
   ]
  },
  {
   "cell_type": "code",
   "execution_count": 132,
   "metadata": {},
   "outputs": [
    {
     "data": {
      "image/png": "[encoded data removed]",
      "text/plain": [
       "<Figure size 432x288 with 1 Axes>"
      ]
     },
     "metadata": {
      "needs_background": "light"
     },
     "output_type": "display_data"
    }
   ],
   "source": [
    "data.plot(x = 'total_area', y='last_price', kind='scatter', grid=True);"
   ]
  },
  {
   "cell_type": "markdown",
   "metadata": {},
   "source": [
    "По графикам видно следующую зависимость: Чем больше площадь, тем больше цена."
   ]
  },
  {
   "cell_type": "markdown",
   "metadata": {},
   "source": [
    "***Жилая площадь от цены***"
   ]
  },
  {
   "cell_type": "code",
   "execution_count": 133,
   "metadata": {},
   "outputs": [
    {
     "data": {
      "image/png": "[encoded data removed]",
      "text/plain": [
       "<Figure size 432x288 with 1 Axes>"
      ]
     },
     "metadata": {
      "needs_background": "light"
     },
     "output_type": "display_data"
    }
   ],
   "source": [
    "data.pivot_table(index = 'living_area', values='last_price').plot();"
   ]
  },
  {
   "cell_type": "code",
   "execution_count": 134,
   "metadata": {},
   "outputs": [
    {
     "data": {
      "image/png": "[encoded data removed]",
      "text/plain": [
       "<Figure size 432x288 with 1 Axes>"
      ]
     },
     "metadata": {
      "needs_background": "light"
     },
     "output_type": "display_data"
    }
   ],
   "source": [
    "data.pivot_table(index = 'living_area', values='last_price').hist(bins=20);"
   ]
  },
  {
   "cell_type": "code",
   "execution_count": 135,
   "metadata": {},
   "outputs": [
    {
     "data": {
      "image/png": "[encoded data removed]",
      "text/plain": [
       "<Figure size 432x288 with 1 Axes>"
      ]
     },
     "metadata": {
      "needs_background": "light"
     },
     "output_type": "display_data"
    }
   ],
   "source": [
    "data.plot(x = 'living_area', y='last_price', kind='scatter', grid=True);"
   ]
  },
  {
   "cell_type": "markdown",
   "metadata": {},
   "source": [
    "На графиках видно, что нет прямой зависимоси жилой площади от цены"
   ]
  },
  {
   "cell_type": "markdown",
   "metadata": {},
   "source": [
    "***Площадь кухни и цена***"
   ]
  },
  {
   "cell_type": "code",
   "execution_count": 136,
   "metadata": {},
   "outputs": [
    {
     "data": {
      "image/png": "[encoded data removed]",
      "text/plain": [
       "<Figure size 432x288 with 1 Axes>"
      ]
     },
     "metadata": {
      "needs_background": "light"
     },
     "output_type": "display_data"
    }
   ],
   "source": [
    "data.pivot_table(index = 'kitchen_area', values='last_price').plot();"
   ]
  },
  {
   "cell_type": "code",
   "execution_count": 137,
   "metadata": {},
   "outputs": [
    {
     "data": {
      "image/png": "[encoded data removed]",
      "text/plain": [
       "<Figure size 432x288 with 1 Axes>"
      ]
     },
     "metadata": {
      "needs_background": "light"
     },
     "output_type": "display_data"
    }
   ],
   "source": [
    "data.pivot_table(index = 'kitchen_area', values='last_price').hist(bins=20);"
   ]
  },
  {
   "cell_type": "code",
   "execution_count": 138,
   "metadata": {},
   "outputs": [
    {
     "data": {
      "image/png": "[encoded data removed]",
      "text/plain": [
       "<Figure size 432x288 with 1 Axes>"
      ]
     },
     "metadata": {
      "needs_background": "light"
     },
     "output_type": "display_data"
    }
   ],
   "source": [
    "data.plot(x = 'kitchen_area', y='last_price', kind='scatter', grid=True);"
   ]
  },
  {
   "cell_type": "markdown",
   "metadata": {},
   "source": [
    "По графикам видно,что нет прямой зависимости от стоимости и пощади кухни"
   ]
  },
  {
   "cell_type": "markdown",
   "metadata": {},
   "source": [
    "***Количество комнат и цена***"
   ]
  },
  {
   "cell_type": "code",
   "execution_count": 110,
   "metadata": {},
   "outputs": [
    {
     "data": {
      "text/plain": [
       "<AxesSubplot:xlabel='rooms'>"
      ]
     },
     "execution_count": 110,
     "metadata": {},
     "output_type": "execute_result"
    },
    {
     "data": {
      "image/png": "[encoded data removed]",
      "text/plain": [
       "<Figure size 432x288 with 1 Axes>"
      ]
     },
     "metadata": {
      "needs_background": "light"
     },
     "output_type": "display_data"
    }
   ],
   "source": [
    "data.pivot_table(index = 'rooms', values='last_price').plot();"
   ]
  },
  {
   "cell_type": "code",
   "execution_count": 111,
   "metadata": {},
   "outputs": [
    {
     "data": {
      "text/plain": [
       "array([[<AxesSubplot:title={'center':'last_price'}>]], dtype=object)"
      ]
     },
     "execution_count": 111,
     "metadata": {},
     "output_type": "execute_result"
    },
    {
     "data": {
      "image/png": "[encoded data removed]",
      "text/plain": [
       "<Figure size 432x288 with 1 Axes>"
      ]
     },
     "metadata": {
      "needs_background": "light"
     },
     "output_type": "display_data"
    }
   ],
   "source": [
    "data.pivot_table(index = 'rooms', values='last_price').hist(bins=20);"
   ]
  },
  {
   "cell_type": "code",
   "execution_count": 112,
   "metadata": {},
   "outputs": [
    {
     "data": {
      "text/plain": [
       "<AxesSubplot:xlabel='rooms', ylabel='last_price'>"
      ]
     },
     "execution_count": 112,
     "metadata": {},
     "output_type": "execute_result"
    },
    {
     "data": {
      "image/png": "[encoded data removed]",
      "text/plain": [
       "<Figure size 432x288 with 1 Axes>"
      ]
     },
     "metadata": {
      "needs_background": "light"
     },
     "output_type": "display_data"
    }
   ],
   "source": [
    "data.plot(x = 'rooms', y='last_price', kind='scatter', grid=True);"
   ]
  },
  {
   "cell_type": "markdown",
   "metadata": {},
   "source": [
    "Нет явной зависимости от числа комнат и цены"
   ]
  },
  {
   "cell_type": "code",
   "execution_count": 113,
   "metadata": {},
   "outputs": [
    {
     "data": {
      "text/html": [
       "<div>\n",
       "<style scoped>\n",
       "    .dataframe tbody tr th:only-of-type {\n",
       "        vertical-align: middle;\n",
       "    }\n",
       "\n",
       "    .dataframe tbody tr th {\n",
       "        vertical-align: top;\n",
       "    }\n",
       "\n",
       "    .dataframe thead th {\n",
       "        text-align: right;\n",
       "    }\n",
       "</style>\n",
       "<table border=\"1\" class=\"dataframe\">\n",
       "  <thead>\n",
       "    <tr style=\"text-align: right;\">\n",
       "      <th></th>\n",
       "      <th>total_area</th>\n",
       "      <th>last_price</th>\n",
       "      <th>living_area</th>\n",
       "      <th>kitchen_area</th>\n",
       "      <th>rooms</th>\n",
       "    </tr>\n",
       "  </thead>\n",
       "  <tbody>\n",
       "    <tr>\n",
       "      <th>total_area</th>\n",
       "      <td>1.000000</td>\n",
       "      <td>0.666256</td>\n",
       "      <td>0.930436</td>\n",
       "      <td>0.581894</td>\n",
       "      <td>0.788194</td>\n",
       "    </tr>\n",
       "    <tr>\n",
       "      <th>last_price</th>\n",
       "      <td>0.666256</td>\n",
       "      <td>1.000000</td>\n",
       "      <td>0.567044</td>\n",
       "      <td>0.524362</td>\n",
       "      <td>0.388155</td>\n",
       "    </tr>\n",
       "    <tr>\n",
       "      <th>living_area</th>\n",
       "      <td>0.930436</td>\n",
       "      <td>0.567044</td>\n",
       "      <td>1.000000</td>\n",
       "      <td>0.356259</td>\n",
       "      <td>0.870574</td>\n",
       "    </tr>\n",
       "    <tr>\n",
       "      <th>kitchen_area</th>\n",
       "      <td>0.581894</td>\n",
       "      <td>0.524362</td>\n",
       "      <td>0.356259</td>\n",
       "      <td>1.000000</td>\n",
       "      <td>0.219994</td>\n",
       "    </tr>\n",
       "    <tr>\n",
       "      <th>rooms</th>\n",
       "      <td>0.788194</td>\n",
       "      <td>0.388155</td>\n",
       "      <td>0.870574</td>\n",
       "      <td>0.219994</td>\n",
       "      <td>1.000000</td>\n",
       "    </tr>\n",
       "  </tbody>\n",
       "</table>\n",
       "</div>"
      ],
      "text/plain": [
       "              total_area  last_price  living_area  kitchen_area     rooms\n",
       "total_area      1.000000    0.666256     0.930436      0.581894  0.788194\n",
       "last_price      0.666256    1.000000     0.567044      0.524362  0.388155\n",
       "living_area     0.930436    0.567044     1.000000      0.356259  0.870574\n",
       "kitchen_area    0.581894    0.524362     0.356259      1.000000  0.219994\n",
       "rooms           0.788194    0.388155     0.870574      0.219994  1.000000"
      ]
     },
     "execution_count": 113,
     "metadata": {},
     "output_type": "execute_result"
    }
   ],
   "source": [
    "data[['total_area', 'last_price', 'living_area', 'kitchen_area', 'rooms']].corr()"
   ]
  },
  {
   "cell_type": "code",
   "execution_count": 115,
   "metadata": {},
   "outputs": [
    {
     "data": {
      "text/plain": [
       "<AxesSubplot:xlabel='type_of_floor'>"
      ]
     },
     "execution_count": 115,
     "metadata": {},
     "output_type": "execute_result"
    },
    {
     "data": {
      "image/png": "[encoded data removed]",
      "text/plain": [
       "<Figure size 432x288 with 1 Axes>"
      ]
     },
     "metadata": {
      "needs_background": "light"
     },
     "output_type": "display_data"
    }
   ],
   "source": [
    "data.pivot_table(index = 'type_of_floor', values='last_price').plot.bar();"
   ]
  },
  {
   "cell_type": "markdown",
   "metadata": {},
   "source": [
    "Получается, что чем выше этаж, тем больше стоимость."
   ]
  },
  {
   "cell_type": "markdown",
   "metadata": {},
   "source": [
    "***День недели и цена***"
   ]
  },
  {
   "cell_type": "code",
   "execution_count": 144,
   "metadata": {},
   "outputs": [
    {
     "data": {
      "image/png": "[encoded data removed]",
      "text/plain": [
       "<Figure size 864x720 with 1 Axes>"
      ]
     },
     "metadata": {
      "needs_background": "light"
     },
     "output_type": "display_data"
    }
   ],
   "source": [
    "data.pivot_table(index = 'day_of_week', values='last_price').plot(kind='bar',figsize=(12,10));"
   ]
  },
  {
   "cell_type": "markdown",
   "metadata": {},
   "source": [
    "Получается, что в пятницу были самые худшие продажи."
   ]
  },
  {
   "cell_type": "markdown",
   "metadata": {},
   "source": [
    "***Месяц и цена***"
   ]
  },
  {
   "cell_type": "code",
   "execution_count": 145,
   "metadata": {},
   "outputs": [
    {
     "data": {
      "image/png": "[encoded data removed]",
      "text/plain": [
       "<Figure size 864x720 with 1 Axes>"
      ]
     },
     "metadata": {
      "needs_background": "light"
     },
     "output_type": "display_data"
    }
   ],
   "source": [
    "data.pivot_table(index = 'months_name',values='last_price').plot(figsize=(12,10), grid=True);"
   ]
  },
  {
   "cell_type": "code",
   "execution_count": 146,
   "metadata": {},
   "outputs": [
    {
     "data": {
      "image/png": "[encoded data removed]",
      "text/plain": [
       "<Figure size 864x720 with 1 Axes>"
      ]
     },
     "metadata": {
      "needs_background": "light"
     },
     "output_type": "display_data"
    }
   ],
   "source": [
    "data.pivot_table(index = 'months_name',values='last_price').plot(kind='bar', figsize=(12,10), grid=True);"
   ]
  },
  {
   "cell_type": "markdown",
   "metadata": {},
   "source": [
    "В октябре продаются хуже всего, а в декабре самые лучшие продажи."
   ]
  },
  {
   "cell_type": "markdown",
   "metadata": {},
   "source": [
    "***Год и цена***"
   ]
  },
  {
   "cell_type": "code",
   "execution_count": 147,
   "metadata": {},
   "outputs": [
    {
     "data": {
      "image/png": "[encoded data removed]",
      "text/plain": [
       "<Figure size 864x720 with 1 Axes>"
      ]
     },
     "metadata": {
      "needs_background": "light"
     },
     "output_type": "display_data"
    }
   ],
   "source": [
    "data.pivot_table(index = 'years',values='last_price').plot(kind='bar', figsize=(12,10), grid=True);"
   ]
  },
  {
   "cell_type": "markdown",
   "metadata": {},
   "source": [
    "Наибольшее количество продаж было в 2014 году, а дальше все начало снижаться. Но потом небольшой подъем в 2019 году, по сравнению с 2018 годом."
   ]
  },
  {
   "cell_type": "markdown",
   "metadata": {},
   "source": [
    "***Наиболее чаще всего встречаемых населенных пунктов и средняя цена за кв м в каждом населенном пункте***\n"
   ]
  },
  {
   "cell_type": "code",
   "execution_count": 148,
   "metadata": {},
   "outputs": [
    {
     "data": {
      "text/plain": [
       "Санкт-Петербург    13880\n",
       "Мурино               454\n",
       "Шушары               391\n",
       "Кудрово              376\n",
       "Всеволожск           357\n",
       "Пушкин               334\n",
       "Колпино              321\n",
       "Парголово            288\n",
       "Гатчина              288\n",
       "Петергоф             190\n",
       "Name: locality_name, dtype: int64"
      ]
     },
     "execution_count": 148,
     "metadata": {},
     "output_type": "execute_result"
    }
   ],
   "source": [
    "data['locality_name'].value_counts().head(10) "
   ]
  },
  {
   "cell_type": "markdown",
   "metadata": {},
   "source": [
    "Нашли топ 10 частовстречаемых объявлений. Санкт-Петербург самый часто встречаемый населенных пунктов."
   ]
  },
  {
   "cell_type": "code",
   "execution_count": 123,
   "metadata": {},
   "outputs": [
    {
     "data": {
      "text/html": [
       "<div>\n",
       "<style scoped>\n",
       "    .dataframe tbody tr th:only-of-type {\n",
       "        vertical-align: middle;\n",
       "    }\n",
       "\n",
       "    .dataframe tbody tr th {\n",
       "        vertical-align: top;\n",
       "    }\n",
       "\n",
       "    .dataframe thead th {\n",
       "        text-align: right;\n",
       "    }\n",
       "</style>\n",
       "<table border=\"1\" class=\"dataframe\">\n",
       "  <thead>\n",
       "    <tr style=\"text-align: right;\">\n",
       "      <th></th>\n",
       "      <th>metres_price</th>\n",
       "    </tr>\n",
       "    <tr>\n",
       "      <th>locality_name</th>\n",
       "      <th></th>\n",
       "    </tr>\n",
       "  </thead>\n",
       "  <tbody>\n",
       "    <tr>\n",
       "      <th>Всеволожск</th>\n",
       "      <td>69029.150099</td>\n",
       "    </tr>\n",
       "    <tr>\n",
       "      <th>Гатчина</th>\n",
       "      <td>68655.023216</td>\n",
       "    </tr>\n",
       "    <tr>\n",
       "      <th>Колпино</th>\n",
       "      <td>75129.845412</td>\n",
       "    </tr>\n",
       "    <tr>\n",
       "      <th>Кудрово</th>\n",
       "      <td>95269.611676</td>\n",
       "    </tr>\n",
       "    <tr>\n",
       "      <th>Мурино</th>\n",
       "      <td>85669.463692</td>\n",
       "    </tr>\n",
       "    <tr>\n",
       "      <th>Парголово</th>\n",
       "      <td>90756.003417</td>\n",
       "    </tr>\n",
       "    <tr>\n",
       "      <th>Петергоф</th>\n",
       "      <td>83754.204102</td>\n",
       "    </tr>\n",
       "    <tr>\n",
       "      <th>Пушкин</th>\n",
       "      <td>103249.095316</td>\n",
       "    </tr>\n",
       "    <tr>\n",
       "      <th>Санкт-Петербург</th>\n",
       "      <td>113233.106508</td>\n",
       "    </tr>\n",
       "    <tr>\n",
       "      <th>Шушары</th>\n",
       "      <td>78350.719309</td>\n",
       "    </tr>\n",
       "  </tbody>\n",
       "</table>\n",
       "</div>"
      ],
      "text/plain": [
       "                  metres_price\n",
       "locality_name                 \n",
       "Всеволожск        69029.150099\n",
       "Гатчина           68655.023216\n",
       "Колпино           75129.845412\n",
       "Кудрово           95269.611676\n",
       "Мурино            85669.463692\n",
       "Парголово         90756.003417\n",
       "Петергоф          83754.204102\n",
       "Пушкин           103249.095316\n",
       "Санкт-Петербург  113233.106508\n",
       "Шушары            78350.719309"
      ]
     },
     "execution_count": 123,
     "metadata": {},
     "output_type": "execute_result"
    }
   ],
   "source": [
    "#создадим отдельный датафрейм в котором найдем эти города\n",
    "sr = data.query('(locality_name == \"Санкт-Петербург\") or (locality_name == \"Мурино\")  or (locality_name == \"Шушары\") or (locality_name == \"Кудрово\" ) or (locality_name == \"Всеволожск\" ) or (locality_name == \"Пушкин\") or (locality_name == \"Колпино\") or (locality_name == \"Гатчина\") or (locality_name == \"Парголово\") or (locality_name == \"Петергоф\")') #############)\n",
    "res = sr.pivot_table(index='locality_name', values='metres_price', aggfunc='mean')\n",
    "res"
   ]
  },
  {
   "cell_type": "code",
   "execution_count": 124,
   "metadata": {},
   "outputs": [
    {
     "name": "stdout",
     "output_type": "stream",
     "text": [
      "metres_price    68655.023216\n",
      "dtype: float64\n"
     ]
    },
    {
     "data": {
      "text/plain": [
       "metres_price    113233.106508\n",
       "dtype: float64"
      ]
     },
     "execution_count": 124,
     "metadata": {},
     "output_type": "execute_result"
    }
   ],
   "source": [
    "print(res.min())\n",
    "res.max()"
   ]
  },
  {
   "cell_type": "code",
   "execution_count": 125,
   "metadata": {},
   "outputs": [
    {
     "data": {
      "text/plain": [
       "metres_price \n",
       "68655.023216     1\n",
       "69029.150099     1\n",
       "75129.845412     1\n",
       "78350.719309     1\n",
       "83754.204102     1\n",
       "85669.463692     1\n",
       "90756.003417     1\n",
       "95269.611676     1\n",
       "103249.095316    1\n",
       "113233.106508    1\n",
       "dtype: int64"
      ]
     },
     "execution_count": 125,
     "metadata": {},
     "output_type": "execute_result"
    }
   ],
   "source": [
    "res.value_counts()"
   ]
  },
  {
   "cell_type": "markdown",
   "metadata": {},
   "source": [
    "Топ 1 - Санкт-Петербург\n",
    "\n",
    "Топ10 - Гатчина\n",
    "\n",
    "Минимальная цена из 10 чатовстречаемых городов в Гатчине, максимальная в Санкт_петербурге"
   ]
  },
  {
   "cell_type": "markdown",
   "metadata": {},
   "source": [
    "***Санкт-Петербург***"
   ]
  },
  {
   "cell_type": "code",
   "execution_count": 151,
   "metadata": {},
   "outputs": [
    {
     "name": "stdout",
     "output_type": "stream",
     "text": [
      "                        last_price\n",
      "cityCenters_nearest_km            \n",
      "0.0                      17.736542\n",
      "1.0                      20.522893\n",
      "2.0                      16.615552\n",
      "3.0                      10.183891\n",
      "4.0                      11.160857\n"
     ]
    },
    {
     "data": {
      "image/png": "[encoded data removed]",
      "text/plain": [
       "<Figure size 432x288 with 1 Axes>"
      ]
     },
     "metadata": {
      "needs_background": "light"
     },
     "output_type": "display_data"
    }
   ],
   "source": [
    "saint = data.query('locality_name == \"Санкт-Петербург\"')\n",
    "print(saint.pivot_table(index='cityCenters_nearest_km',values='last_price', aggfunc='mean').head())\n",
    "saint.pivot_table(index='cityCenters_nearest_km',values='last_price', aggfunc='mean').plot();"
   ]
  },
  {
   "cell_type": "markdown",
   "metadata": {},
   "source": [
    "Видно, что чем дальше от центра находится квартира, тем она дешевле."
   ]
  },
  {
   "cell_type": "markdown",
   "metadata": {},
   "source": [
    "Центр города приблизительно заканчивается на 5 км"
   ]
  },
  {
   "cell_type": "markdown",
   "metadata": {},
   "source": [
    "Центр города приблизительно заканчивается после 6-7км"
   ]
  },
  {
   "cell_type": "markdown",
   "metadata": {},
   "source": [
    "# Вывод"
   ]
  },
  {
   "cell_type": "markdown",
   "metadata": {},
   "source": [
    "Я сделала предработку данных и нашла интересные зависимости на рынке.\n",
    "\n",
    "В предработке данных:\n",
    "- В предработке данных я уменьшила изначальную таблицу где-то на 10%. \n",
    "- Убрала пропущенные значения (сколько этажей в здании ) и аномальные значения, не соответсвующие гос.стандартам.\n",
    "  Такие как:\n",
    "      - площадь кухни меньше 4.50 метра; \n",
    "      - жилая площадь меньше 7.00; \n",
    "      - общая площадь больше 250 и т.д. \n",
    "- Также заполнила картографические пропуски значением -1, что означает пропущенное значение.\n",
    "- Поменяла тип данных в некоторых столбцах, чтобы в дальнейшем с ними было удобней раотать. \n",
    "Так завершилась предработка данных. \n",
    "\n",
    "Дальше я добавила несколько столбцов, которые помогли в дальнейшем исследовании проверить некоторые зависимости. \n",
    "Интересные зависмости после проведения исследовательского анализа данных:\n",
    "- Зависимость между общей площадью и ценой объекта достаточно явная. ***Чем больше площадь, тем больше цена объекта.***\n",
    "- Также достаточно явная зависимость наблюдается между на каком этаже находится квартира и ценой объекта. ***Чем выше находится квартира, тем больше цена.***\n",
    "- Самый худший день недели для начала продаж является пятница. Потом уже идут выходные дни. \n",
    "- Как ни странно  самый худший месяц это октябрь, а год 2018. \n",
    "- Самым благоприятным днем недели считается понедельник, в декабре, в 2014 году. \n",
    "- Из 10 самых встречаемых объектов является Санкт-Петербург, также в этом городе самая большая цена за квадратный метр.\n",
    "- Интересная зависимость, что чем дальше от центра города находится квартира, тем  цена меньше. \n",
    "\n",
    "В итоге я выявила интересные зависимости на рынке недвижимости.\n"
   ]
  }
 ],
 "metadata": {
  "ExecuteTimeLog": [
   {
    "duration": 581,
    "start_time": "2022-11-24T17:03:58.074Z"
   },
   {
    "duration": 2307,
    "start_time": "2022-11-24T17:04:14.547Z"
   },
   {
    "duration": 17,
    "start_time": "2022-11-24T17:04:56.579Z"
   },
   {
    "duration": 135,
    "start_time": "2022-11-24T17:24:53.439Z"
   },
   {
    "duration": 1939,
    "start_time": "2022-11-24T17:24:53.576Z"
   },
   {
    "duration": 24,
    "start_time": "2022-11-24T17:24:55.517Z"
   },
   {
    "duration": 9,
    "start_time": "2022-11-24T17:24:55.543Z"
   },
   {
    "duration": 26,
    "start_time": "2022-11-24T17:24:55.554Z"
   },
   {
    "duration": 10,
    "start_time": "2022-11-24T17:24:55.582Z"
   },
   {
    "duration": 21,
    "start_time": "2022-11-24T17:24:55.593Z"
   },
   {
    "duration": 5,
    "start_time": "2022-11-24T17:24:55.615Z"
   },
   {
    "duration": 31,
    "start_time": "2022-11-24T17:24:55.622Z"
   },
   {
    "duration": 58,
    "start_time": "2022-11-24T17:24:55.654Z"
   },
   {
    "duration": 7,
    "start_time": "2022-11-24T17:24:55.713Z"
   },
   {
    "duration": 12,
    "start_time": "2022-11-24T17:24:55.722Z"
   },
   {
    "duration": 11,
    "start_time": "2022-11-24T17:24:55.735Z"
   },
   {
    "duration": 10,
    "start_time": "2022-11-24T17:24:55.749Z"
   },
   {
    "duration": 15,
    "start_time": "2022-11-24T17:24:55.760Z"
   },
   {
    "duration": 28,
    "start_time": "2022-11-24T17:24:55.776Z"
   },
   {
    "duration": 19,
    "start_time": "2022-11-24T17:24:55.805Z"
   },
   {
    "duration": 22,
    "start_time": "2022-11-24T17:24:55.825Z"
   },
   {
    "duration": 16,
    "start_time": "2022-11-24T17:24:55.849Z"
   },
   {
    "duration": 8,
    "start_time": "2022-11-24T17:24:55.867Z"
   },
   {
    "duration": 25,
    "start_time": "2022-11-24T17:24:55.877Z"
   },
   {
    "duration": 37,
    "start_time": "2022-11-24T17:24:55.903Z"
   },
   {
    "duration": 30,
    "start_time": "2022-11-24T17:24:55.942Z"
   },
   {
    "duration": 20,
    "start_time": "2022-11-24T17:24:55.973Z"
   },
   {
    "duration": 9,
    "start_time": "2022-11-24T17:24:55.995Z"
   },
   {
    "duration": 4,
    "start_time": "2022-11-24T17:24:56.005Z"
   },
   {
    "duration": 5,
    "start_time": "2022-11-24T17:24:56.011Z"
   },
   {
    "duration": 20,
    "start_time": "2022-11-24T17:24:56.018Z"
   },
   {
    "duration": 5,
    "start_time": "2022-11-24T17:24:56.040Z"
   },
   {
    "duration": 7,
    "start_time": "2022-11-24T17:24:56.046Z"
   },
   {
    "duration": 5,
    "start_time": "2022-11-24T17:24:56.054Z"
   },
   {
    "duration": 5,
    "start_time": "2022-11-24T17:24:56.060Z"
   },
   {
    "duration": 7,
    "start_time": "2022-11-24T17:24:56.067Z"
   },
   {
    "duration": 9,
    "start_time": "2022-11-24T17:24:56.075Z"
   },
   {
    "duration": 4,
    "start_time": "2022-11-24T17:24:56.085Z"
   },
   {
    "duration": 8,
    "start_time": "2022-11-24T17:24:56.091Z"
   },
   {
    "duration": 38,
    "start_time": "2022-11-24T17:24:56.100Z"
   },
   {
    "duration": 4,
    "start_time": "2022-11-24T17:24:56.140Z"
   },
   {
    "duration": 44,
    "start_time": "2022-11-24T17:24:56.145Z"
   },
   {
    "duration": 10,
    "start_time": "2022-11-24T17:24:56.191Z"
   },
   {
    "duration": 34,
    "start_time": "2022-11-24T17:24:56.205Z"
   },
   {
    "duration": 4,
    "start_time": "2022-11-24T17:24:56.241Z"
   },
   {
    "duration": 10,
    "start_time": "2022-11-24T17:24:56.246Z"
   },
   {
    "duration": 64,
    "start_time": "2022-11-24T17:24:56.257Z"
   },
   {
    "duration": 50,
    "start_time": "2022-11-24T17:24:56.322Z"
   },
   {
    "duration": 67,
    "start_time": "2022-11-24T17:24:56.374Z"
   },
   {
    "duration": 5,
    "start_time": "2022-11-24T17:24:56.443Z"
   },
   {
    "duration": 51,
    "start_time": "2022-11-24T17:24:56.449Z"
   },
   {
    "duration": 6,
    "start_time": "2022-11-24T17:24:56.502Z"
   },
   {
    "duration": 5,
    "start_time": "2022-11-24T17:24:56.509Z"
   },
   {
    "duration": 25,
    "start_time": "2022-11-24T17:24:56.516Z"
   },
   {
    "duration": 6,
    "start_time": "2022-11-24T17:24:56.542Z"
   },
   {
    "duration": 341,
    "start_time": "2022-11-24T17:24:56.549Z"
   },
   {
    "duration": 4,
    "start_time": "2022-11-24T17:24:56.892Z"
   },
   {
    "duration": 62,
    "start_time": "2022-11-24T17:24:56.898Z"
   },
   {
    "duration": 1303,
    "start_time": "2022-11-26T09:09:54.832Z"
   },
   {
    "duration": 199,
    "start_time": "2022-11-26T09:10:07.740Z"
   },
   {
    "duration": 1716,
    "start_time": "2022-11-26T09:10:07.941Z"
   },
   {
    "duration": 16,
    "start_time": "2022-11-26T09:10:09.659Z"
   },
   {
    "duration": 9,
    "start_time": "2022-11-26T09:10:09.676Z"
   },
   {
    "duration": 10,
    "start_time": "2022-11-26T09:10:09.687Z"
   },
   {
    "duration": 7,
    "start_time": "2022-11-26T09:10:09.698Z"
   },
   {
    "duration": 8,
    "start_time": "2022-11-26T09:10:09.707Z"
   },
   {
    "duration": 5,
    "start_time": "2022-11-26T09:10:09.716Z"
   },
   {
    "duration": 12,
    "start_time": "2022-11-26T09:10:09.722Z"
   },
   {
    "duration": 78,
    "start_time": "2022-11-26T09:10:09.735Z"
   },
   {
    "duration": 8,
    "start_time": "2022-11-26T09:10:09.815Z"
   },
   {
    "duration": 8,
    "start_time": "2022-11-26T09:10:09.825Z"
   },
   {
    "duration": 13,
    "start_time": "2022-11-26T09:10:09.835Z"
   },
   {
    "duration": 4,
    "start_time": "2022-11-26T09:10:09.852Z"
   },
   {
    "duration": 6,
    "start_time": "2022-11-26T09:10:09.877Z"
   },
   {
    "duration": 15,
    "start_time": "2022-11-26T09:10:09.884Z"
   },
   {
    "duration": 7,
    "start_time": "2022-11-26T09:10:09.900Z"
   },
   {
    "duration": 10,
    "start_time": "2022-11-26T09:10:09.908Z"
   },
   {
    "duration": 9,
    "start_time": "2022-11-26T09:10:09.919Z"
   },
   {
    "duration": 5,
    "start_time": "2022-11-26T09:10:09.929Z"
   },
   {
    "duration": 51,
    "start_time": "2022-11-26T09:10:09.935Z"
   },
   {
    "duration": 23,
    "start_time": "2022-11-26T09:10:09.987Z"
   },
   {
    "duration": 31,
    "start_time": "2022-11-26T09:10:10.011Z"
   },
   {
    "duration": 14,
    "start_time": "2022-11-26T09:10:10.044Z"
   },
   {
    "duration": 23,
    "start_time": "2022-11-26T09:10:10.060Z"
   },
   {
    "duration": 6,
    "start_time": "2022-11-26T09:10:10.084Z"
   },
   {
    "duration": 7,
    "start_time": "2022-11-26T09:10:10.091Z"
   },
   {
    "duration": 7,
    "start_time": "2022-11-26T09:10:10.099Z"
   },
   {
    "duration": 4,
    "start_time": "2022-11-26T09:10:10.107Z"
   },
   {
    "duration": 4,
    "start_time": "2022-11-26T09:10:10.113Z"
   },
   {
    "duration": 4,
    "start_time": "2022-11-26T09:10:10.119Z"
   },
   {
    "duration": 5,
    "start_time": "2022-11-26T09:10:10.124Z"
   },
   {
    "duration": 50,
    "start_time": "2022-11-26T09:10:10.130Z"
   },
   {
    "duration": 4,
    "start_time": "2022-11-26T09:10:10.181Z"
   },
   {
    "duration": 8,
    "start_time": "2022-11-26T09:10:10.186Z"
   },
   {
    "duration": 6,
    "start_time": "2022-11-26T09:10:10.195Z"
   },
   {
    "duration": 9,
    "start_time": "2022-11-26T09:10:10.202Z"
   },
   {
    "duration": 5,
    "start_time": "2022-11-26T09:10:10.212Z"
   },
   {
    "duration": 67,
    "start_time": "2022-11-26T09:10:10.218Z"
   },
   {
    "duration": 9,
    "start_time": "2022-11-26T09:10:10.286Z"
   },
   {
    "duration": 12,
    "start_time": "2022-11-26T09:10:10.299Z"
   },
   {
    "duration": 3,
    "start_time": "2022-11-26T09:10:10.312Z"
   },
   {
    "duration": 11,
    "start_time": "2022-11-26T09:10:10.316Z"
   },
   {
    "duration": 82,
    "start_time": "2022-11-26T09:10:10.328Z"
   },
   {
    "duration": 36,
    "start_time": "2022-11-26T09:10:10.411Z"
   },
   {
    "duration": 89,
    "start_time": "2022-11-26T09:10:10.448Z"
   },
   {
    "duration": 5,
    "start_time": "2022-11-26T09:10:10.539Z"
   },
   {
    "duration": 57,
    "start_time": "2022-11-26T09:10:10.545Z"
   },
   {
    "duration": 5,
    "start_time": "2022-11-26T09:10:10.603Z"
   },
   {
    "duration": 4,
    "start_time": "2022-11-26T09:10:10.610Z"
   },
   {
    "duration": 5,
    "start_time": "2022-11-26T09:10:10.615Z"
   },
   {
    "duration": 4,
    "start_time": "2022-11-26T09:10:10.621Z"
   },
   {
    "duration": 261,
    "start_time": "2022-11-26T09:10:10.626Z"
   },
   {
    "duration": 4,
    "start_time": "2022-11-26T09:10:10.888Z"
   },
   {
    "duration": 48,
    "start_time": "2022-11-26T09:10:10.893Z"
   },
   {
    "duration": 3,
    "start_time": "2022-11-26T09:10:10.942Z"
   },
   {
    "duration": 129,
    "start_time": "2022-11-26T09:21:24.750Z"
   },
   {
    "duration": 1746,
    "start_time": "2022-11-26T09:21:24.882Z"
   },
   {
    "duration": 14,
    "start_time": "2022-11-26T09:21:26.629Z"
   },
   {
    "duration": 8,
    "start_time": "2022-11-26T09:21:26.644Z"
   },
   {
    "duration": 29,
    "start_time": "2022-11-26T09:21:26.654Z"
   },
   {
    "duration": 7,
    "start_time": "2022-11-26T09:21:26.689Z"
   },
   {
    "duration": 6,
    "start_time": "2022-11-26T09:21:26.697Z"
   },
   {
    "duration": 6,
    "start_time": "2022-11-26T09:21:26.704Z"
   },
   {
    "duration": 7,
    "start_time": "2022-11-26T09:21:26.711Z"
   },
   {
    "duration": 59,
    "start_time": "2022-11-26T09:21:26.720Z"
   },
   {
    "duration": 7,
    "start_time": "2022-11-26T09:21:26.781Z"
   },
   {
    "duration": 23,
    "start_time": "2022-11-26T09:21:26.790Z"
   },
   {
    "duration": 7,
    "start_time": "2022-11-26T09:21:26.815Z"
   },
   {
    "duration": 3,
    "start_time": "2022-11-26T09:21:26.825Z"
   },
   {
    "duration": 12,
    "start_time": "2022-11-26T09:21:26.830Z"
   },
   {
    "duration": 19,
    "start_time": "2022-11-26T09:21:26.844Z"
   },
   {
    "duration": 19,
    "start_time": "2022-11-26T09:21:26.864Z"
   },
   {
    "duration": 10,
    "start_time": "2022-11-26T09:21:26.884Z"
   },
   {
    "duration": 7,
    "start_time": "2022-11-26T09:21:26.896Z"
   },
   {
    "duration": 5,
    "start_time": "2022-11-26T09:21:26.904Z"
   },
   {
    "duration": 13,
    "start_time": "2022-11-26T09:21:26.910Z"
   },
   {
    "duration": 23,
    "start_time": "2022-11-26T09:21:26.924Z"
   },
   {
    "duration": 55,
    "start_time": "2022-11-26T09:21:26.948Z"
   },
   {
    "duration": 9,
    "start_time": "2022-11-26T09:21:27.005Z"
   },
   {
    "duration": 6,
    "start_time": "2022-11-26T09:21:27.015Z"
   },
   {
    "duration": 4,
    "start_time": "2022-11-26T09:21:27.023Z"
   },
   {
    "duration": 16,
    "start_time": "2022-11-26T09:21:27.028Z"
   },
   {
    "duration": 9,
    "start_time": "2022-11-26T09:21:27.045Z"
   },
   {
    "duration": 23,
    "start_time": "2022-11-26T09:21:27.055Z"
   },
   {
    "duration": 4,
    "start_time": "2022-11-26T09:21:27.080Z"
   },
   {
    "duration": 9,
    "start_time": "2022-11-26T09:21:27.085Z"
   },
   {
    "duration": 9,
    "start_time": "2022-11-26T09:21:27.095Z"
   },
   {
    "duration": 6,
    "start_time": "2022-11-26T09:21:27.106Z"
   },
   {
    "duration": 3,
    "start_time": "2022-11-26T09:21:27.114Z"
   },
   {
    "duration": 9,
    "start_time": "2022-11-26T09:21:27.119Z"
   },
   {
    "duration": 7,
    "start_time": "2022-11-26T09:21:27.130Z"
   },
   {
    "duration": 13,
    "start_time": "2022-11-26T09:21:27.138Z"
   },
   {
    "duration": 25,
    "start_time": "2022-11-26T09:21:27.153Z"
   },
   {
    "duration": 40,
    "start_time": "2022-11-26T09:21:27.179Z"
   },
   {
    "duration": 9,
    "start_time": "2022-11-26T09:21:27.220Z"
   },
   {
    "duration": 13,
    "start_time": "2022-11-26T09:21:27.233Z"
   },
   {
    "duration": 3,
    "start_time": "2022-11-26T09:21:27.247Z"
   },
   {
    "duration": 27,
    "start_time": "2022-11-26T09:21:27.251Z"
   },
   {
    "duration": 53,
    "start_time": "2022-11-26T09:21:27.280Z"
   },
   {
    "duration": 46,
    "start_time": "2022-11-26T09:21:27.334Z"
   },
   {
    "duration": 142,
    "start_time": "2022-11-26T09:21:27.381Z"
   },
   {
    "duration": 4,
    "start_time": "2022-11-26T09:21:27.525Z"
   },
   {
    "duration": 52,
    "start_time": "2022-11-26T09:21:27.530Z"
   },
   {
    "duration": 6,
    "start_time": "2022-11-26T09:21:27.583Z"
   },
   {
    "duration": 5,
    "start_time": "2022-11-26T09:21:27.591Z"
   },
   {
    "duration": 13,
    "start_time": "2022-11-26T09:21:27.597Z"
   },
   {
    "duration": 6,
    "start_time": "2022-11-26T09:21:27.611Z"
   },
   {
    "duration": 236,
    "start_time": "2022-11-26T09:21:27.618Z"
   },
   {
    "duration": 5,
    "start_time": "2022-11-26T09:21:27.855Z"
   },
   {
    "duration": 50,
    "start_time": "2022-11-26T09:21:27.861Z"
   },
   {
    "duration": 5,
    "start_time": "2022-11-26T09:21:27.913Z"
   },
   {
    "duration": 14,
    "start_time": "2022-11-26T09:21:27.919Z"
   },
   {
    "duration": 103,
    "start_time": "2022-11-26T09:21:27.935Z"
   },
   {
    "duration": 198,
    "start_time": "2022-11-26T09:21:28.040Z"
   },
   {
    "duration": 10,
    "start_time": "2022-11-26T09:21:28.240Z"
   },
   {
    "duration": 134,
    "start_time": "2022-11-26T09:21:28.252Z"
   },
   {
    "duration": 154,
    "start_time": "2022-11-26T09:21:28.388Z"
   },
   {
    "duration": 8,
    "start_time": "2022-11-26T09:21:28.543Z"
   },
   {
    "duration": 100,
    "start_time": "2022-11-26T09:21:28.553Z"
   },
   {
    "duration": 152,
    "start_time": "2022-11-26T09:21:28.655Z"
   },
   {
    "duration": 8,
    "start_time": "2022-11-26T09:21:28.808Z"
   },
   {
    "duration": 127,
    "start_time": "2022-11-26T09:21:28.818Z"
   },
   {
    "duration": 207,
    "start_time": "2022-11-26T09:21:28.947Z"
   },
   {
    "duration": 7,
    "start_time": "2022-11-26T09:21:29.156Z"
   },
   {
    "duration": 226,
    "start_time": "2022-11-26T09:21:29.165Z"
   },
   {
    "duration": 171,
    "start_time": "2022-11-26T09:21:29.393Z"
   },
   {
    "duration": 14,
    "start_time": "2022-11-26T09:21:29.566Z"
   },
   {
    "duration": 110,
    "start_time": "2022-11-26T09:21:29.582Z"
   },
   {
    "duration": 135,
    "start_time": "2022-11-26T09:21:29.694Z"
   },
   {
    "duration": 8,
    "start_time": "2022-11-26T09:21:29.830Z"
   },
   {
    "duration": 109,
    "start_time": "2022-11-26T09:21:29.839Z"
   },
   {
    "duration": 162,
    "start_time": "2022-11-26T09:21:29.949Z"
   },
   {
    "duration": 9,
    "start_time": "2022-11-26T09:21:30.113Z"
   },
   {
    "duration": 168,
    "start_time": "2022-11-26T09:21:30.123Z"
   },
   {
    "duration": 9,
    "start_time": "2022-11-26T09:21:30.293Z"
   },
   {
    "duration": 130,
    "start_time": "2022-11-26T09:21:30.303Z"
   },
   {
    "duration": 146,
    "start_time": "2022-11-26T09:21:30.434Z"
   },
   {
    "duration": 7,
    "start_time": "2022-11-26T09:21:30.582Z"
   },
   {
    "duration": 117,
    "start_time": "2022-11-26T09:21:30.590Z"
   },
   {
    "duration": 154,
    "start_time": "2022-11-26T09:21:30.709Z"
   },
   {
    "duration": 14,
    "start_time": "2022-11-26T09:21:30.865Z"
   },
   {
    "duration": 111,
    "start_time": "2022-11-26T09:21:30.881Z"
   },
   {
    "duration": 149,
    "start_time": "2022-11-26T09:21:30.993Z"
   },
   {
    "duration": 8,
    "start_time": "2022-11-26T09:21:31.143Z"
   },
   {
    "duration": 118,
    "start_time": "2022-11-26T09:21:31.152Z"
   },
   {
    "duration": 175,
    "start_time": "2022-11-26T09:21:31.277Z"
   },
   {
    "duration": 9,
    "start_time": "2022-11-26T09:21:31.454Z"
   },
   {
    "duration": 135,
    "start_time": "2022-11-26T09:21:31.465Z"
   },
   {
    "duration": 8,
    "start_time": "2022-11-26T09:21:31.601Z"
   },
   {
    "duration": 143,
    "start_time": "2022-11-26T09:21:31.610Z"
   },
   {
    "duration": 282,
    "start_time": "2022-11-26T09:21:31.754Z"
   },
   {
    "duration": 4,
    "start_time": "2022-11-26T09:21:32.037Z"
   },
   {
    "duration": 8,
    "start_time": "2022-11-26T09:21:32.042Z"
   },
   {
    "duration": 5,
    "start_time": "2022-11-26T09:21:32.051Z"
   },
   {
    "duration": 4,
    "start_time": "2022-11-26T09:21:32.078Z"
   },
   {
    "duration": 153,
    "start_time": "2022-11-26T09:21:32.084Z"
   },
   {
    "duration": 154,
    "start_time": "2022-11-26T09:21:32.238Z"
   },
   {
    "duration": 144,
    "start_time": "2022-11-26T11:05:44.550Z"
   },
   {
    "duration": 1676,
    "start_time": "2022-11-26T11:05:44.696Z"
   },
   {
    "duration": 14,
    "start_time": "2022-11-26T11:05:46.377Z"
   },
   {
    "duration": 8,
    "start_time": "2022-11-26T11:05:46.393Z"
   },
   {
    "duration": 10,
    "start_time": "2022-11-26T11:05:46.403Z"
   },
   {
    "duration": 6,
    "start_time": "2022-11-26T11:05:46.415Z"
   },
   {
    "duration": 6,
    "start_time": "2022-11-26T11:05:46.423Z"
   },
   {
    "duration": 4,
    "start_time": "2022-11-26T11:05:46.430Z"
   },
   {
    "duration": 44,
    "start_time": "2022-11-26T11:05:46.435Z"
   },
   {
    "duration": 41,
    "start_time": "2022-11-26T11:05:46.481Z"
   },
   {
    "duration": 7,
    "start_time": "2022-11-26T11:05:46.523Z"
   },
   {
    "duration": 6,
    "start_time": "2022-11-26T11:05:46.531Z"
   },
   {
    "duration": 10,
    "start_time": "2022-11-26T11:05:46.539Z"
   },
   {
    "duration": 28,
    "start_time": "2022-11-26T11:05:46.550Z"
   },
   {
    "duration": 5,
    "start_time": "2022-11-26T11:05:46.579Z"
   },
   {
    "duration": 21,
    "start_time": "2022-11-26T11:05:46.586Z"
   },
   {
    "duration": 7,
    "start_time": "2022-11-26T11:05:46.608Z"
   },
   {
    "duration": 8,
    "start_time": "2022-11-26T11:05:46.617Z"
   },
   {
    "duration": 7,
    "start_time": "2022-11-26T11:05:46.627Z"
   },
   {
    "duration": 5,
    "start_time": "2022-11-26T11:05:46.635Z"
   },
   {
    "duration": 41,
    "start_time": "2022-11-26T11:05:46.641Z"
   },
   {
    "duration": 24,
    "start_time": "2022-11-26T11:05:46.684Z"
   },
   {
    "duration": 30,
    "start_time": "2022-11-26T11:05:46.709Z"
   },
   {
    "duration": 10,
    "start_time": "2022-11-26T11:05:46.741Z"
   },
   {
    "duration": 26,
    "start_time": "2022-11-26T11:05:46.753Z"
   },
   {
    "duration": 4,
    "start_time": "2022-11-26T11:05:46.780Z"
   },
   {
    "duration": 6,
    "start_time": "2022-11-26T11:05:46.786Z"
   },
   {
    "duration": 8,
    "start_time": "2022-11-26T11:05:46.799Z"
   },
   {
    "duration": 5,
    "start_time": "2022-11-26T11:05:46.809Z"
   },
   {
    "duration": 4,
    "start_time": "2022-11-26T11:05:46.816Z"
   },
   {
    "duration": 4,
    "start_time": "2022-11-26T11:05:46.822Z"
   },
   {
    "duration": 7,
    "start_time": "2022-11-26T11:05:46.827Z"
   },
   {
    "duration": 6,
    "start_time": "2022-11-26T11:05:46.835Z"
   },
   {
    "duration": 3,
    "start_time": "2022-11-26T11:05:46.878Z"
   },
   {
    "duration": 6,
    "start_time": "2022-11-26T11:05:46.882Z"
   },
   {
    "duration": 9,
    "start_time": "2022-11-26T11:05:46.889Z"
   },
   {
    "duration": 10,
    "start_time": "2022-11-26T11:05:46.900Z"
   },
   {
    "duration": 4,
    "start_time": "2022-11-26T11:05:46.911Z"
   },
   {
    "duration": 37,
    "start_time": "2022-11-26T11:05:46.917Z"
   },
   {
    "duration": 25,
    "start_time": "2022-11-26T11:05:46.956Z"
   },
   {
    "duration": 15,
    "start_time": "2022-11-26T11:05:46.983Z"
   },
   {
    "duration": 4,
    "start_time": "2022-11-26T11:05:46.999Z"
   },
   {
    "duration": 7,
    "start_time": "2022-11-26T11:05:47.004Z"
   },
   {
    "duration": 226,
    "start_time": "2022-11-26T11:05:47.013Z"
   },
   {
    "duration": 39,
    "start_time": "2022-11-26T11:05:47.241Z"
   },
   {
    "duration": 55,
    "start_time": "2022-11-26T11:05:47.282Z"
   },
   {
    "duration": 5,
    "start_time": "2022-11-26T11:05:47.338Z"
   },
   {
    "duration": 56,
    "start_time": "2022-11-26T11:05:47.344Z"
   },
   {
    "duration": 5,
    "start_time": "2022-11-26T11:05:47.402Z"
   },
   {
    "duration": 3,
    "start_time": "2022-11-26T11:05:47.409Z"
   },
   {
    "duration": 6,
    "start_time": "2022-11-26T11:05:47.413Z"
   },
   {
    "duration": 4,
    "start_time": "2022-11-26T11:05:47.420Z"
   },
   {
    "duration": 259,
    "start_time": "2022-11-26T11:05:47.425Z"
   },
   {
    "duration": 4,
    "start_time": "2022-11-26T11:05:47.685Z"
   },
   {
    "duration": 45,
    "start_time": "2022-11-26T11:05:47.691Z"
   },
   {
    "duration": 3,
    "start_time": "2022-11-26T11:05:47.737Z"
   },
   {
    "duration": 16,
    "start_time": "2022-11-26T11:05:47.742Z"
   },
   {
    "duration": 125,
    "start_time": "2022-11-26T11:05:47.759Z"
   },
   {
    "duration": 198,
    "start_time": "2022-11-26T11:05:47.885Z"
   },
   {
    "duration": 11,
    "start_time": "2022-11-26T11:05:48.084Z"
   },
   {
    "duration": 124,
    "start_time": "2022-11-26T11:05:48.096Z"
   },
   {
    "duration": 157,
    "start_time": "2022-11-26T11:05:48.221Z"
   },
   {
    "duration": 10,
    "start_time": "2022-11-26T11:05:48.379Z"
   },
   {
    "duration": 110,
    "start_time": "2022-11-26T11:05:48.391Z"
   },
   {
    "duration": 148,
    "start_time": "2022-11-26T11:05:48.503Z"
   },
   {
    "duration": 9,
    "start_time": "2022-11-26T11:05:48.652Z"
   },
   {
    "duration": 117,
    "start_time": "2022-11-26T11:05:48.662Z"
   },
   {
    "duration": 203,
    "start_time": "2022-11-26T11:05:48.781Z"
   },
   {
    "duration": 9,
    "start_time": "2022-11-26T11:05:48.986Z"
   },
   {
    "duration": 133,
    "start_time": "2022-11-26T11:05:48.997Z"
   },
   {
    "duration": 186,
    "start_time": "2022-11-26T11:05:49.132Z"
   },
   {
    "duration": 9,
    "start_time": "2022-11-26T11:05:49.319Z"
   },
   {
    "duration": 113,
    "start_time": "2022-11-26T11:05:49.329Z"
   },
   {
    "duration": 149,
    "start_time": "2022-11-26T11:05:49.444Z"
   },
   {
    "duration": 11,
    "start_time": "2022-11-26T11:05:49.595Z"
   },
   {
    "duration": 129,
    "start_time": "2022-11-26T11:05:49.608Z"
   },
   {
    "duration": 170,
    "start_time": "2022-11-26T11:05:49.739Z"
   },
   {
    "duration": 9,
    "start_time": "2022-11-26T11:05:49.911Z"
   },
   {
    "duration": 323,
    "start_time": "2022-11-26T11:05:49.921Z"
   },
   {
    "duration": 8,
    "start_time": "2022-11-26T11:05:50.246Z"
   },
   {
    "duration": 113,
    "start_time": "2022-11-26T11:05:50.255Z"
   },
   {
    "duration": 164,
    "start_time": "2022-11-26T11:05:50.379Z"
   },
   {
    "duration": 8,
    "start_time": "2022-11-26T11:05:50.545Z"
   },
   {
    "duration": 148,
    "start_time": "2022-11-26T11:05:50.556Z"
   },
   {
    "duration": 163,
    "start_time": "2022-11-26T11:05:50.706Z"
   },
   {
    "duration": 8,
    "start_time": "2022-11-26T11:05:50.877Z"
   },
   {
    "duration": 110,
    "start_time": "2022-11-26T11:05:50.887Z"
   },
   {
    "duration": 158,
    "start_time": "2022-11-26T11:05:50.999Z"
   },
   {
    "duration": 10,
    "start_time": "2022-11-26T11:05:51.159Z"
   },
   {
    "duration": 127,
    "start_time": "2022-11-26T11:05:51.178Z"
   },
   {
    "duration": 162,
    "start_time": "2022-11-26T11:05:51.307Z"
   },
   {
    "duration": 14,
    "start_time": "2022-11-26T11:05:51.471Z"
   },
   {
    "duration": 135,
    "start_time": "2022-11-26T11:05:51.486Z"
   },
   {
    "duration": 9,
    "start_time": "2022-11-26T11:05:51.623Z"
   },
   {
    "duration": 148,
    "start_time": "2022-11-26T11:05:51.634Z"
   },
   {
    "duration": 166,
    "start_time": "2022-11-26T11:05:51.783Z"
   },
   {
    "duration": 5,
    "start_time": "2022-11-26T11:05:51.951Z"
   },
   {
    "duration": 21,
    "start_time": "2022-11-26T11:05:51.957Z"
   },
   {
    "duration": 5,
    "start_time": "2022-11-26T11:05:51.979Z"
   },
   {
    "duration": 6,
    "start_time": "2022-11-26T11:05:51.986Z"
   },
   {
    "duration": 180,
    "start_time": "2022-11-26T11:05:51.993Z"
   },
   {
    "duration": 169,
    "start_time": "2022-11-26T11:05:52.178Z"
   },
   {
    "duration": 122,
    "start_time": "2022-11-26T11:05:52.348Z"
   },
   {
    "duration": 138,
    "start_time": "2022-11-26T11:05:52.472Z"
   },
   {
    "duration": 171,
    "start_time": "2022-11-26T11:05:52.611Z"
   },
   {
    "duration": 158,
    "start_time": "2022-11-26T11:05:52.784Z"
   },
   {
    "duration": 156,
    "start_time": "2022-11-26T11:05:52.943Z"
   },
   {
    "duration": 185,
    "start_time": "2022-11-26T11:05:53.101Z"
   },
   {
    "duration": 136,
    "start_time": "2022-11-26T11:05:53.288Z"
   },
   {
    "duration": 153,
    "start_time": "2022-11-26T11:05:53.427Z"
   },
   {
    "duration": 156,
    "start_time": "2022-11-26T11:05:53.582Z"
   },
   {
    "duration": 127,
    "start_time": "2022-11-26T11:05:53.740Z"
   },
   {
    "duration": 177,
    "start_time": "2022-11-26T11:05:53.869Z"
   },
   {
    "duration": 207,
    "start_time": "2022-11-26T11:05:54.049Z"
   },
   {
    "duration": 133,
    "start_time": "2022-11-26T11:05:54.258Z"
   },
   {
    "duration": 137,
    "start_time": "2022-11-26T11:05:54.393Z"
   },
   {
    "duration": 367,
    "start_time": "2022-11-26T11:05:54.532Z"
   },
   {
    "duration": 431,
    "start_time": "2022-11-26T11:05:54.900Z"
   },
   {
    "duration": 330,
    "start_time": "2022-11-26T11:05:55.332Z"
   },
   {
    "duration": 342,
    "start_time": "2022-11-26T11:05:55.664Z"
   },
   {
    "duration": 267,
    "start_time": "2022-11-26T11:05:56.008Z"
   },
   {
    "duration": 8,
    "start_time": "2022-11-26T11:05:56.277Z"
   },
   {
    "duration": 33,
    "start_time": "2022-11-26T11:05:56.287Z"
   },
   {
    "duration": 26,
    "start_time": "2022-11-26T11:05:56.322Z"
   },
   {
    "duration": 184,
    "start_time": "2022-11-26T11:05:56.350Z"
   },
   {
    "duration": 883,
    "start_time": "2022-11-26T11:55:51.857Z"
   },
   {
    "duration": 2373,
    "start_time": "2022-11-26T11:55:52.742Z"
   },
   {
    "duration": 19,
    "start_time": "2022-11-26T11:55:55.117Z"
   },
   {
    "duration": 11,
    "start_time": "2022-11-26T11:55:55.138Z"
   },
   {
    "duration": 13,
    "start_time": "2022-11-26T11:55:55.150Z"
   },
   {
    "duration": 9,
    "start_time": "2022-11-26T11:55:55.166Z"
   },
   {
    "duration": 14,
    "start_time": "2022-11-26T11:55:55.177Z"
   },
   {
    "duration": 6,
    "start_time": "2022-11-26T11:55:55.193Z"
   },
   {
    "duration": 17,
    "start_time": "2022-11-26T11:55:55.201Z"
   },
   {
    "duration": 79,
    "start_time": "2022-11-26T11:55:55.222Z"
   },
   {
    "duration": 9,
    "start_time": "2022-11-26T11:55:55.303Z"
   },
   {
    "duration": 8,
    "start_time": "2022-11-26T11:55:55.314Z"
   },
   {
    "duration": 31,
    "start_time": "2022-11-26T11:55:55.324Z"
   },
   {
    "duration": 5,
    "start_time": "2022-11-26T11:55:55.356Z"
   },
   {
    "duration": 6,
    "start_time": "2022-11-26T11:55:55.363Z"
   },
   {
    "duration": 15,
    "start_time": "2022-11-26T11:55:55.370Z"
   },
   {
    "duration": 7,
    "start_time": "2022-11-26T11:55:55.387Z"
   },
   {
    "duration": 56,
    "start_time": "2022-11-26T11:55:55.396Z"
   },
   {
    "duration": 19,
    "start_time": "2022-11-26T11:55:55.454Z"
   },
   {
    "duration": 4,
    "start_time": "2022-11-26T11:55:55.475Z"
   },
   {
    "duration": 17,
    "start_time": "2022-11-26T11:55:55.480Z"
   },
   {
    "duration": 35,
    "start_time": "2022-11-26T11:55:55.499Z"
   },
   {
    "duration": 41,
    "start_time": "2022-11-26T11:55:55.536Z"
   },
   {
    "duration": 8,
    "start_time": "2022-11-26T11:55:55.579Z"
   },
   {
    "duration": 6,
    "start_time": "2022-11-26T11:55:55.589Z"
   },
   {
    "duration": 4,
    "start_time": "2022-11-26T11:55:55.597Z"
   },
   {
    "duration": 10,
    "start_time": "2022-11-26T11:55:55.603Z"
   },
   {
    "duration": 10,
    "start_time": "2022-11-26T11:55:55.652Z"
   },
   {
    "duration": 7,
    "start_time": "2022-11-26T11:55:55.664Z"
   },
   {
    "duration": 5,
    "start_time": "2022-11-26T11:55:55.673Z"
   },
   {
    "duration": 4,
    "start_time": "2022-11-26T11:55:55.680Z"
   },
   {
    "duration": 9,
    "start_time": "2022-11-26T11:55:55.686Z"
   },
   {
    "duration": 6,
    "start_time": "2022-11-26T11:55:55.697Z"
   },
   {
    "duration": 9,
    "start_time": "2022-11-26T11:55:55.704Z"
   },
   {
    "duration": 40,
    "start_time": "2022-11-26T11:55:55.714Z"
   },
   {
    "duration": 9,
    "start_time": "2022-11-26T11:55:55.756Z"
   },
   {
    "duration": 11,
    "start_time": "2022-11-26T11:55:55.767Z"
   },
   {
    "duration": 5,
    "start_time": "2022-11-26T11:55:55.780Z"
   },
   {
    "duration": 92,
    "start_time": "2022-11-26T11:55:55.788Z"
   },
   {
    "duration": 11,
    "start_time": "2022-11-26T11:55:55.882Z"
   },
   {
    "duration": 18,
    "start_time": "2022-11-26T11:55:55.895Z"
   },
   {
    "duration": 6,
    "start_time": "2022-11-26T11:55:55.915Z"
   },
   {
    "duration": 9,
    "start_time": "2022-11-26T11:55:55.923Z"
   },
   {
    "duration": 79,
    "start_time": "2022-11-26T11:55:55.934Z"
   },
   {
    "duration": 55,
    "start_time": "2022-11-26T11:55:56.015Z"
   },
   {
    "duration": 163,
    "start_time": "2022-11-26T11:55:56.073Z"
   },
   {
    "duration": 5,
    "start_time": "2022-11-26T11:55:56.238Z"
   },
   {
    "duration": 48,
    "start_time": "2022-11-26T11:55:56.252Z"
   },
   {
    "duration": 8,
    "start_time": "2022-11-26T11:55:56.302Z"
   },
   {
    "duration": 5,
    "start_time": "2022-11-26T11:55:56.312Z"
   },
   {
    "duration": 35,
    "start_time": "2022-11-26T11:55:56.318Z"
   },
   {
    "duration": 3,
    "start_time": "2022-11-26T11:55:56.355Z"
   },
   {
    "duration": 254,
    "start_time": "2022-11-26T11:55:56.360Z"
   },
   {
    "duration": 6,
    "start_time": "2022-11-26T11:55:56.616Z"
   },
   {
    "duration": 60,
    "start_time": "2022-11-26T11:55:56.623Z"
   },
   {
    "duration": 497,
    "start_time": "2022-11-26T11:55:56.685Z"
   },
   {
    "duration": 13,
    "start_time": "2022-11-26T11:55:57.184Z"
   },
   {
    "duration": 127,
    "start_time": "2022-11-26T11:55:57.198Z"
   },
   {
    "duration": 324,
    "start_time": "2022-11-26T11:55:57.327Z"
   },
   {
    "duration": 9,
    "start_time": "2022-11-26T11:55:57.653Z"
   },
   {
    "duration": 145,
    "start_time": "2022-11-26T11:55:57.664Z"
   },
   {
    "duration": 199,
    "start_time": "2022-11-26T11:55:57.811Z"
   },
   {
    "duration": 10,
    "start_time": "2022-11-26T11:55:58.012Z"
   },
   {
    "duration": 132,
    "start_time": "2022-11-26T11:55:58.024Z"
   },
   {
    "duration": 169,
    "start_time": "2022-11-26T11:55:58.158Z"
   },
   {
    "duration": 11,
    "start_time": "2022-11-26T11:55:58.328Z"
   },
   {
    "duration": 133,
    "start_time": "2022-11-26T11:55:58.353Z"
   },
   {
    "duration": 235,
    "start_time": "2022-11-26T11:55:58.488Z"
   },
   {
    "duration": 9,
    "start_time": "2022-11-26T11:55:58.725Z"
   },
   {
    "duration": 133,
    "start_time": "2022-11-26T11:55:58.736Z"
   },
   {
    "duration": 211,
    "start_time": "2022-11-26T11:55:58.871Z"
   },
   {
    "duration": 12,
    "start_time": "2022-11-26T11:55:59.085Z"
   },
   {
    "duration": 217,
    "start_time": "2022-11-26T11:55:59.099Z"
   },
   {
    "duration": 155,
    "start_time": "2022-11-26T11:55:59.318Z"
   },
   {
    "duration": 9,
    "start_time": "2022-11-26T11:55:59.475Z"
   },
   {
    "duration": 138,
    "start_time": "2022-11-26T11:55:59.486Z"
   },
   {
    "duration": 183,
    "start_time": "2022-11-26T11:55:59.627Z"
   },
   {
    "duration": 9,
    "start_time": "2022-11-26T11:55:59.812Z"
   },
   {
    "duration": 181,
    "start_time": "2022-11-26T11:55:59.824Z"
   },
   {
    "duration": 8,
    "start_time": "2022-11-26T11:56:00.007Z"
   },
   {
    "duration": 138,
    "start_time": "2022-11-26T11:56:00.016Z"
   },
   {
    "duration": 183,
    "start_time": "2022-11-26T11:56:00.161Z"
   },
   {
    "duration": 17,
    "start_time": "2022-11-26T11:56:00.347Z"
   },
   {
    "duration": 157,
    "start_time": "2022-11-26T11:56:00.367Z"
   },
   {
    "duration": 194,
    "start_time": "2022-11-26T11:56:00.526Z"
   },
   {
    "duration": 12,
    "start_time": "2022-11-26T11:56:00.723Z"
   },
   {
    "duration": 133,
    "start_time": "2022-11-26T11:56:00.738Z"
   },
   {
    "duration": 187,
    "start_time": "2022-11-26T11:56:00.872Z"
   },
   {
    "duration": 9,
    "start_time": "2022-11-26T11:56:01.061Z"
   },
   {
    "duration": 148,
    "start_time": "2022-11-26T11:56:01.072Z"
   },
   {
    "duration": 181,
    "start_time": "2022-11-26T11:56:01.222Z"
   },
   {
    "duration": 9,
    "start_time": "2022-11-26T11:56:01.405Z"
   },
   {
    "duration": 180,
    "start_time": "2022-11-26T11:56:01.416Z"
   },
   {
    "duration": 8,
    "start_time": "2022-11-26T11:56:01.598Z"
   },
   {
    "duration": 189,
    "start_time": "2022-11-26T11:56:01.608Z"
   },
   {
    "duration": 324,
    "start_time": "2022-11-26T11:56:01.799Z"
   },
   {
    "duration": 5,
    "start_time": "2022-11-26T11:56:02.124Z"
   },
   {
    "duration": 30,
    "start_time": "2022-11-26T11:56:02.131Z"
   },
   {
    "duration": 40,
    "start_time": "2022-11-26T11:56:02.163Z"
   },
   {
    "duration": 35,
    "start_time": "2022-11-26T11:56:02.205Z"
   },
   {
    "duration": 176,
    "start_time": "2022-11-26T11:56:02.242Z"
   },
   {
    "duration": 274,
    "start_time": "2022-11-26T11:56:02.420Z"
   },
   {
    "duration": 165,
    "start_time": "2022-11-26T11:56:02.699Z"
   },
   {
    "duration": 159,
    "start_time": "2022-11-26T11:56:02.867Z"
   },
   {
    "duration": 184,
    "start_time": "2022-11-26T11:56:03.027Z"
   },
   {
    "duration": 189,
    "start_time": "2022-11-26T11:56:03.214Z"
   },
   {
    "duration": 177,
    "start_time": "2022-11-26T11:56:03.405Z"
   },
   {
    "duration": 193,
    "start_time": "2022-11-26T11:56:03.583Z"
   },
   {
    "duration": 148,
    "start_time": "2022-11-26T11:56:03.779Z"
   },
   {
    "duration": 170,
    "start_time": "2022-11-26T11:56:03.929Z"
   },
   {
    "duration": 199,
    "start_time": "2022-11-26T11:56:04.101Z"
   },
   {
    "duration": 139,
    "start_time": "2022-11-26T11:56:04.302Z"
   },
   {
    "duration": 177,
    "start_time": "2022-11-26T11:56:04.443Z"
   },
   {
    "duration": 186,
    "start_time": "2022-11-26T11:56:04.623Z"
   },
   {
    "duration": 163,
    "start_time": "2022-11-26T11:56:04.811Z"
   },
   {
    "duration": 176,
    "start_time": "2022-11-26T11:56:04.976Z"
   },
   {
    "duration": 417,
    "start_time": "2022-11-26T11:56:05.154Z"
   },
   {
    "duration": 431,
    "start_time": "2022-11-26T11:56:05.573Z"
   },
   {
    "duration": 387,
    "start_time": "2022-11-26T11:56:06.006Z"
   },
   {
    "duration": 388,
    "start_time": "2022-11-26T11:56:06.396Z"
   },
   {
    "duration": 310,
    "start_time": "2022-11-26T11:56:06.786Z"
   },
   {
    "duration": 9,
    "start_time": "2022-11-26T11:56:07.099Z"
   },
   {
    "duration": 73,
    "start_time": "2022-11-26T11:56:07.111Z"
   },
   {
    "duration": 13,
    "start_time": "2022-11-26T11:56:07.186Z"
   },
   {
    "duration": 198,
    "start_time": "2022-11-26T11:56:07.202Z"
   },
   {
    "duration": 10,
    "start_time": "2022-11-26T12:02:53.720Z"
   },
   {
    "duration": 21,
    "start_time": "2022-11-26T12:03:50.791Z"
   },
   {
    "duration": 98,
    "start_time": "2022-11-26T12:03:54.216Z"
   },
   {
    "duration": 629,
    "start_time": "2022-11-26T12:04:06.481Z"
   },
   {
    "duration": 2286,
    "start_time": "2022-11-26T12:04:07.112Z"
   },
   {
    "duration": 18,
    "start_time": "2022-11-26T12:04:09.400Z"
   },
   {
    "duration": 10,
    "start_time": "2022-11-26T12:04:09.421Z"
   },
   {
    "duration": 31,
    "start_time": "2022-11-26T12:04:09.433Z"
   },
   {
    "duration": 9,
    "start_time": "2022-11-26T12:04:09.467Z"
   },
   {
    "duration": 13,
    "start_time": "2022-11-26T12:04:09.478Z"
   },
   {
    "duration": 16,
    "start_time": "2022-11-26T12:04:09.494Z"
   },
   {
    "duration": 42,
    "start_time": "2022-11-26T12:04:09.512Z"
   },
   {
    "duration": 77,
    "start_time": "2022-11-26T12:04:09.557Z"
   },
   {
    "duration": 12,
    "start_time": "2022-11-26T12:04:09.654Z"
   },
   {
    "duration": 9,
    "start_time": "2022-11-26T12:04:09.668Z"
   },
   {
    "duration": 19,
    "start_time": "2022-11-26T12:04:09.679Z"
   },
   {
    "duration": 9,
    "start_time": "2022-11-26T12:04:09.701Z"
   },
   {
    "duration": 11,
    "start_time": "2022-11-26T12:04:09.713Z"
   },
   {
    "duration": 57,
    "start_time": "2022-11-26T12:04:09.727Z"
   },
   {
    "duration": 23,
    "start_time": "2022-11-26T12:04:09.786Z"
   },
   {
    "duration": 11,
    "start_time": "2022-11-26T12:04:09.811Z"
   },
   {
    "duration": 8,
    "start_time": "2022-11-26T12:04:09.824Z"
   },
   {
    "duration": 19,
    "start_time": "2022-11-26T12:04:09.834Z"
   },
   {
    "duration": 15,
    "start_time": "2022-11-26T12:04:09.855Z"
   },
   {
    "duration": 44,
    "start_time": "2022-11-26T12:04:09.873Z"
   },
   {
    "duration": 69,
    "start_time": "2022-11-26T12:04:09.920Z"
   },
   {
    "duration": 12,
    "start_time": "2022-11-26T12:04:09.991Z"
   },
   {
    "duration": 15,
    "start_time": "2022-11-26T12:04:10.005Z"
   },
   {
    "duration": 24,
    "start_time": "2022-11-26T12:04:10.022Z"
   },
   {
    "duration": 16,
    "start_time": "2022-11-26T12:04:10.049Z"
   },
   {
    "duration": 13,
    "start_time": "2022-11-26T12:04:10.069Z"
   },
   {
    "duration": 12,
    "start_time": "2022-11-26T12:04:10.084Z"
   },
   {
    "duration": 8,
    "start_time": "2022-11-26T12:04:10.099Z"
   },
   {
    "duration": 5,
    "start_time": "2022-11-26T12:04:10.109Z"
   },
   {
    "duration": 8,
    "start_time": "2022-11-26T12:04:10.116Z"
   },
   {
    "duration": 28,
    "start_time": "2022-11-26T12:04:10.126Z"
   },
   {
    "duration": 6,
    "start_time": "2022-11-26T12:04:10.156Z"
   },
   {
    "duration": 6,
    "start_time": "2022-11-26T12:04:10.164Z"
   },
   {
    "duration": 7,
    "start_time": "2022-11-26T12:04:10.172Z"
   },
   {
    "duration": 10,
    "start_time": "2022-11-26T12:04:10.180Z"
   },
   {
    "duration": 7,
    "start_time": "2022-11-26T12:04:10.192Z"
   },
   {
    "duration": 98,
    "start_time": "2022-11-26T12:04:10.201Z"
   },
   {
    "duration": 11,
    "start_time": "2022-11-26T12:04:10.302Z"
   },
   {
    "duration": 38,
    "start_time": "2022-11-26T12:04:10.316Z"
   },
   {
    "duration": 85,
    "start_time": "2022-11-26T12:04:10.356Z"
   },
   {
    "duration": 5,
    "start_time": "2022-11-26T12:04:10.451Z"
   },
   {
    "duration": 10,
    "start_time": "2022-11-26T12:04:10.458Z"
   },
   {
    "duration": 130,
    "start_time": "2022-11-26T12:04:10.471Z"
   },
   {
    "duration": 73,
    "start_time": "2022-11-26T12:04:10.603Z"
   },
   {
    "duration": 91,
    "start_time": "2022-11-26T12:04:10.678Z"
   },
   {
    "duration": 6,
    "start_time": "2022-11-26T12:04:10.771Z"
   },
   {
    "duration": 46,
    "start_time": "2022-11-26T12:04:10.778Z"
   },
   {
    "duration": 30,
    "start_time": "2022-11-26T12:04:10.825Z"
   },
   {
    "duration": 6,
    "start_time": "2022-11-26T12:04:10.858Z"
   },
   {
    "duration": 8,
    "start_time": "2022-11-26T12:04:10.867Z"
   },
   {
    "duration": 5,
    "start_time": "2022-11-26T12:04:10.877Z"
   },
   {
    "duration": 364,
    "start_time": "2022-11-26T12:04:10.885Z"
   },
   {
    "duration": 5,
    "start_time": "2022-11-26T12:04:11.250Z"
   },
   {
    "duration": 66,
    "start_time": "2022-11-26T12:04:11.257Z"
   },
   {
    "duration": 553,
    "start_time": "2022-11-26T12:04:11.326Z"
   },
   {
    "duration": 14,
    "start_time": "2022-11-26T12:04:11.881Z"
   },
   {
    "duration": 137,
    "start_time": "2022-11-26T12:04:11.896Z"
   },
   {
    "duration": 326,
    "start_time": "2022-11-26T12:04:12.035Z"
   },
   {
    "duration": 12,
    "start_time": "2022-11-26T12:04:12.364Z"
   },
   {
    "duration": 215,
    "start_time": "2022-11-26T12:04:12.378Z"
   },
   {
    "duration": 286,
    "start_time": "2022-11-26T12:04:12.595Z"
   },
   {
    "duration": 14,
    "start_time": "2022-11-26T12:04:12.884Z"
   },
   {
    "duration": 153,
    "start_time": "2022-11-26T12:04:12.901Z"
   },
   {
    "duration": 176,
    "start_time": "2022-11-26T12:04:13.056Z"
   },
   {
    "duration": 20,
    "start_time": "2022-11-26T12:04:13.234Z"
   },
   {
    "duration": 229,
    "start_time": "2022-11-26T12:04:13.257Z"
   },
   {
    "duration": 266,
    "start_time": "2022-11-26T12:04:13.488Z"
   },
   {
    "duration": 9,
    "start_time": "2022-11-26T12:04:13.755Z"
   },
   {
    "duration": 154,
    "start_time": "2022-11-26T12:04:13.765Z"
   },
   {
    "duration": 328,
    "start_time": "2022-11-26T12:04:13.922Z"
   },
   {
    "duration": 13,
    "start_time": "2022-11-26T12:04:14.253Z"
   },
   {
    "duration": 154,
    "start_time": "2022-11-26T12:04:14.268Z"
   },
   {
    "duration": 167,
    "start_time": "2022-11-26T12:04:14.425Z"
   },
   {
    "duration": 11,
    "start_time": "2022-11-26T12:04:14.595Z"
   },
   {
    "duration": 262,
    "start_time": "2022-11-26T12:04:14.609Z"
   },
   {
    "duration": 257,
    "start_time": "2022-11-26T12:04:14.874Z"
   },
   {
    "duration": 10,
    "start_time": "2022-11-26T12:04:15.133Z"
   },
   {
    "duration": 170,
    "start_time": "2022-11-26T12:04:15.153Z"
   },
   {
    "duration": 9,
    "start_time": "2022-11-26T12:04:15.325Z"
   },
   {
    "duration": 169,
    "start_time": "2022-11-26T12:04:15.351Z"
   },
   {
    "duration": 241,
    "start_time": "2022-11-26T12:04:15.523Z"
   },
   {
    "duration": 12,
    "start_time": "2022-11-26T12:04:15.766Z"
   },
   {
    "duration": 140,
    "start_time": "2022-11-26T12:04:15.780Z"
   },
   {
    "duration": 211,
    "start_time": "2022-11-26T12:04:15.924Z"
   },
   {
    "duration": 19,
    "start_time": "2022-11-26T12:04:16.138Z"
   },
   {
    "duration": 120,
    "start_time": "2022-11-26T12:04:16.160Z"
   },
   {
    "duration": 172,
    "start_time": "2022-11-26T12:04:16.282Z"
   },
   {
    "duration": 9,
    "start_time": "2022-11-26T12:04:16.457Z"
   },
   {
    "duration": 153,
    "start_time": "2022-11-26T12:04:16.469Z"
   },
   {
    "duration": 200,
    "start_time": "2022-11-26T12:04:16.624Z"
   },
   {
    "duration": 13,
    "start_time": "2022-11-26T12:04:16.827Z"
   },
   {
    "duration": 175,
    "start_time": "2022-11-26T12:04:16.842Z"
   },
   {
    "duration": 9,
    "start_time": "2022-11-26T12:04:17.019Z"
   },
   {
    "duration": 187,
    "start_time": "2022-11-26T12:04:17.030Z"
   },
   {
    "duration": 194,
    "start_time": "2022-11-26T12:04:17.219Z"
   },
   {
    "duration": 5,
    "start_time": "2022-11-26T12:04:17.415Z"
   },
   {
    "duration": 25,
    "start_time": "2022-11-26T12:04:17.422Z"
   },
   {
    "duration": 19,
    "start_time": "2022-11-26T12:04:17.449Z"
   },
   {
    "duration": 18,
    "start_time": "2022-11-26T12:04:17.470Z"
   },
   {
    "duration": 319,
    "start_time": "2022-11-26T12:04:17.491Z"
   },
   {
    "duration": 206,
    "start_time": "2022-11-26T12:04:17.812Z"
   },
   {
    "duration": 176,
    "start_time": "2022-11-26T12:04:18.021Z"
   },
   {
    "duration": 148,
    "start_time": "2022-11-26T12:04:18.199Z"
   },
   {
    "duration": 174,
    "start_time": "2022-11-26T12:04:18.353Z"
   },
   {
    "duration": 160,
    "start_time": "2022-11-26T12:04:18.530Z"
   },
   {
    "duration": 225,
    "start_time": "2022-11-26T12:04:18.692Z"
   },
   {
    "duration": 250,
    "start_time": "2022-11-26T12:04:18.920Z"
   },
   {
    "duration": 173,
    "start_time": "2022-11-26T12:04:19.173Z"
   },
   {
    "duration": 184,
    "start_time": "2022-11-26T12:04:19.352Z"
   },
   {
    "duration": 203,
    "start_time": "2022-11-26T12:04:19.538Z"
   },
   {
    "duration": 159,
    "start_time": "2022-11-26T12:04:19.743Z"
   },
   {
    "duration": 313,
    "start_time": "2022-11-26T12:04:19.903Z"
   },
   {
    "duration": 263,
    "start_time": "2022-11-26T12:04:20.218Z"
   },
   {
    "duration": 191,
    "start_time": "2022-11-26T12:04:20.483Z"
   },
   {
    "duration": 155,
    "start_time": "2022-11-26T12:04:20.675Z"
   },
   {
    "duration": 422,
    "start_time": "2022-11-26T12:04:20.832Z"
   },
   {
    "duration": 255,
    "start_time": "2022-11-26T12:04:21.257Z"
   },
   {
    "duration": 575,
    "start_time": "2022-11-26T12:04:21.514Z"
   },
   {
    "duration": 431,
    "start_time": "2022-11-26T12:04:22.090Z"
   },
   {
    "duration": 350,
    "start_time": "2022-11-26T12:04:22.525Z"
   },
   {
    "duration": 13,
    "start_time": "2022-11-26T12:04:22.878Z"
   },
   {
    "duration": 37,
    "start_time": "2022-11-26T12:04:22.893Z"
   },
   {
    "duration": 35,
    "start_time": "2022-11-26T12:04:22.932Z"
   },
   {
    "duration": 190,
    "start_time": "2022-11-26T12:04:22.969Z"
   },
   {
    "duration": 75,
    "start_time": "2022-11-26T12:04:53.626Z"
   },
   {
    "duration": 8,
    "start_time": "2022-11-26T12:05:10.272Z"
   },
   {
    "duration": 1430,
    "start_time": "2022-11-27T07:00:28.022Z"
   },
   {
    "duration": 92,
    "start_time": "2022-11-27T07:01:12.776Z"
   },
   {
    "duration": 116,
    "start_time": "2022-11-27T07:01:12.870Z"
   },
   {
    "duration": 0,
    "start_time": "2022-11-27T07:01:12.993Z"
   },
   {
    "duration": 0,
    "start_time": "2022-11-27T07:01:12.994Z"
   },
   {
    "duration": 0,
    "start_time": "2022-11-27T07:01:12.996Z"
   },
   {
    "duration": 0,
    "start_time": "2022-11-27T07:01:12.997Z"
   },
   {
    "duration": 0,
    "start_time": "2022-11-27T07:01:12.998Z"
   },
   {
    "duration": 0,
    "start_time": "2022-11-27T07:01:13.023Z"
   },
   {
    "duration": 0,
    "start_time": "2022-11-27T07:01:13.025Z"
   },
   {
    "duration": 0,
    "start_time": "2022-11-27T07:01:13.026Z"
   },
   {
    "duration": 0,
    "start_time": "2022-11-27T07:01:13.027Z"
   },
   {
    "duration": 0,
    "start_time": "2022-11-27T07:01:13.028Z"
   },
   {
    "duration": 0,
    "start_time": "2022-11-27T07:01:13.030Z"
   },
   {
    "duration": 0,
    "start_time": "2022-11-27T07:01:13.031Z"
   },
   {
    "duration": 0,
    "start_time": "2022-11-27T07:01:13.033Z"
   },
   {
    "duration": 0,
    "start_time": "2022-11-27T07:01:13.034Z"
   },
   {
    "duration": 0,
    "start_time": "2022-11-27T07:01:13.035Z"
   },
   {
    "duration": 0,
    "start_time": "2022-11-27T07:01:13.037Z"
   },
   {
    "duration": 0,
    "start_time": "2022-11-27T07:01:13.038Z"
   },
   {
    "duration": 0,
    "start_time": "2022-11-27T07:01:13.039Z"
   },
   {
    "duration": 0,
    "start_time": "2022-11-27T07:01:13.040Z"
   },
   {
    "duration": 0,
    "start_time": "2022-11-27T07:01:13.041Z"
   },
   {
    "duration": 0,
    "start_time": "2022-11-27T07:01:13.042Z"
   },
   {
    "duration": 0,
    "start_time": "2022-11-27T07:01:13.044Z"
   },
   {
    "duration": 0,
    "start_time": "2022-11-27T07:01:13.045Z"
   },
   {
    "duration": 0,
    "start_time": "2022-11-27T07:01:13.046Z"
   },
   {
    "duration": 0,
    "start_time": "2022-11-27T07:01:13.047Z"
   },
   {
    "duration": 0,
    "start_time": "2022-11-27T07:01:13.048Z"
   },
   {
    "duration": 0,
    "start_time": "2022-11-27T07:01:13.049Z"
   },
   {
    "duration": 0,
    "start_time": "2022-11-27T07:01:13.050Z"
   },
   {
    "duration": 0,
    "start_time": "2022-11-27T07:01:13.051Z"
   },
   {
    "duration": 0,
    "start_time": "2022-11-27T07:01:13.052Z"
   },
   {
    "duration": 0,
    "start_time": "2022-11-27T07:01:13.053Z"
   },
   {
    "duration": 0,
    "start_time": "2022-11-27T07:01:13.054Z"
   },
   {
    "duration": 0,
    "start_time": "2022-11-27T07:01:13.054Z"
   },
   {
    "duration": 0,
    "start_time": "2022-11-27T07:01:13.055Z"
   },
   {
    "duration": 0,
    "start_time": "2022-11-27T07:01:13.056Z"
   },
   {
    "duration": 0,
    "start_time": "2022-11-27T07:01:13.057Z"
   },
   {
    "duration": 0,
    "start_time": "2022-11-27T07:01:13.059Z"
   },
   {
    "duration": 1,
    "start_time": "2022-11-27T07:01:13.121Z"
   },
   {
    "duration": 0,
    "start_time": "2022-11-27T07:01:13.123Z"
   },
   {
    "duration": 0,
    "start_time": "2022-11-27T07:01:13.124Z"
   },
   {
    "duration": 0,
    "start_time": "2022-11-27T07:01:13.125Z"
   },
   {
    "duration": 0,
    "start_time": "2022-11-27T07:01:13.127Z"
   },
   {
    "duration": 0,
    "start_time": "2022-11-27T07:01:13.128Z"
   },
   {
    "duration": 0,
    "start_time": "2022-11-27T07:01:13.129Z"
   },
   {
    "duration": 0,
    "start_time": "2022-11-27T07:01:13.130Z"
   },
   {
    "duration": 0,
    "start_time": "2022-11-27T07:01:13.132Z"
   },
   {
    "duration": 0,
    "start_time": "2022-11-27T07:01:13.133Z"
   },
   {
    "duration": 0,
    "start_time": "2022-11-27T07:01:13.134Z"
   },
   {
    "duration": 0,
    "start_time": "2022-11-27T07:01:13.136Z"
   },
   {
    "duration": 0,
    "start_time": "2022-11-27T07:01:13.137Z"
   },
   {
    "duration": 0,
    "start_time": "2022-11-27T07:01:13.139Z"
   },
   {
    "duration": 0,
    "start_time": "2022-11-27T07:01:13.140Z"
   },
   {
    "duration": 0,
    "start_time": "2022-11-27T07:01:13.141Z"
   },
   {
    "duration": 0,
    "start_time": "2022-11-27T07:01:13.142Z"
   },
   {
    "duration": 0,
    "start_time": "2022-11-27T07:01:13.143Z"
   },
   {
    "duration": 0,
    "start_time": "2022-11-27T07:01:13.144Z"
   },
   {
    "duration": 0,
    "start_time": "2022-11-27T07:01:13.145Z"
   },
   {
    "duration": 0,
    "start_time": "2022-11-27T07:01:13.146Z"
   },
   {
    "duration": 0,
    "start_time": "2022-11-27T07:01:13.147Z"
   },
   {
    "duration": 0,
    "start_time": "2022-11-27T07:01:13.148Z"
   },
   {
    "duration": 0,
    "start_time": "2022-11-27T07:01:13.149Z"
   },
   {
    "duration": 0,
    "start_time": "2022-11-27T07:01:13.150Z"
   },
   {
    "duration": 0,
    "start_time": "2022-11-27T07:01:13.151Z"
   },
   {
    "duration": 0,
    "start_time": "2022-11-27T07:01:13.152Z"
   },
   {
    "duration": 0,
    "start_time": "2022-11-27T07:01:13.153Z"
   },
   {
    "duration": 0,
    "start_time": "2022-11-27T07:01:13.154Z"
   },
   {
    "duration": 0,
    "start_time": "2022-11-27T07:01:13.155Z"
   },
   {
    "duration": 0,
    "start_time": "2022-11-27T07:01:13.156Z"
   },
   {
    "duration": 0,
    "start_time": "2022-11-27T07:01:13.157Z"
   },
   {
    "duration": 0,
    "start_time": "2022-11-27T07:01:13.158Z"
   },
   {
    "duration": 0,
    "start_time": "2022-11-27T07:01:13.158Z"
   },
   {
    "duration": 0,
    "start_time": "2022-11-27T07:01:13.160Z"
   },
   {
    "duration": 0,
    "start_time": "2022-11-27T07:01:13.161Z"
   },
   {
    "duration": 0,
    "start_time": "2022-11-27T07:01:13.222Z"
   },
   {
    "duration": 0,
    "start_time": "2022-11-27T07:01:13.223Z"
   },
   {
    "duration": 0,
    "start_time": "2022-11-27T07:01:13.224Z"
   },
   {
    "duration": 0,
    "start_time": "2022-11-27T07:01:13.225Z"
   },
   {
    "duration": 0,
    "start_time": "2022-11-27T07:01:13.226Z"
   },
   {
    "duration": 0,
    "start_time": "2022-11-27T07:01:13.227Z"
   },
   {
    "duration": 0,
    "start_time": "2022-11-27T07:01:13.228Z"
   },
   {
    "duration": 0,
    "start_time": "2022-11-27T07:01:13.229Z"
   },
   {
    "duration": 0,
    "start_time": "2022-11-27T07:01:13.230Z"
   },
   {
    "duration": 0,
    "start_time": "2022-11-27T07:01:13.231Z"
   },
   {
    "duration": 0,
    "start_time": "2022-11-27T07:01:13.232Z"
   },
   {
    "duration": 0,
    "start_time": "2022-11-27T07:01:13.232Z"
   },
   {
    "duration": 0,
    "start_time": "2022-11-27T07:01:13.233Z"
   },
   {
    "duration": 0,
    "start_time": "2022-11-27T07:01:13.234Z"
   },
   {
    "duration": 0,
    "start_time": "2022-11-27T07:01:13.235Z"
   },
   {
    "duration": 0,
    "start_time": "2022-11-27T07:01:13.237Z"
   },
   {
    "duration": 0,
    "start_time": "2022-11-27T07:01:13.238Z"
   },
   {
    "duration": 0,
    "start_time": "2022-11-27T07:01:13.238Z"
   },
   {
    "duration": 0,
    "start_time": "2022-11-27T07:01:13.239Z"
   },
   {
    "duration": 0,
    "start_time": "2022-11-27T07:01:13.240Z"
   },
   {
    "duration": 0,
    "start_time": "2022-11-27T07:01:13.241Z"
   },
   {
    "duration": 0,
    "start_time": "2022-11-27T07:01:13.242Z"
   },
   {
    "duration": 0,
    "start_time": "2022-11-27T07:01:13.243Z"
   },
   {
    "duration": 0,
    "start_time": "2022-11-27T07:01:13.244Z"
   },
   {
    "duration": 0,
    "start_time": "2022-11-27T07:01:13.245Z"
   },
   {
    "duration": 0,
    "start_time": "2022-11-27T07:01:13.246Z"
   },
   {
    "duration": 0,
    "start_time": "2022-11-27T07:01:13.247Z"
   },
   {
    "duration": 0,
    "start_time": "2022-11-27T07:01:13.248Z"
   },
   {
    "duration": 0,
    "start_time": "2022-11-27T07:01:13.249Z"
   },
   {
    "duration": 0,
    "start_time": "2022-11-27T07:01:13.250Z"
   },
   {
    "duration": 0,
    "start_time": "2022-11-27T07:01:13.251Z"
   },
   {
    "duration": 0,
    "start_time": "2022-11-27T07:01:13.253Z"
   },
   {
    "duration": 0,
    "start_time": "2022-11-27T07:01:13.254Z"
   },
   {
    "duration": 0,
    "start_time": "2022-11-27T07:01:13.256Z"
   },
   {
    "duration": 0,
    "start_time": "2022-11-27T07:01:13.257Z"
   },
   {
    "duration": 0,
    "start_time": "2022-11-27T07:01:13.258Z"
   },
   {
    "duration": 0,
    "start_time": "2022-11-27T07:01:13.323Z"
   },
   {
    "duration": 0,
    "start_time": "2022-11-27T07:01:13.324Z"
   },
   {
    "duration": 0,
    "start_time": "2022-11-27T07:01:13.325Z"
   },
   {
    "duration": 0,
    "start_time": "2022-11-27T07:01:13.327Z"
   },
   {
    "duration": 0,
    "start_time": "2022-11-27T07:01:13.329Z"
   },
   {
    "duration": 0,
    "start_time": "2022-11-27T07:01:13.330Z"
   },
   {
    "duration": 0,
    "start_time": "2022-11-27T07:01:13.331Z"
   },
   {
    "duration": 0,
    "start_time": "2022-11-27T07:01:13.333Z"
   },
   {
    "duration": 0,
    "start_time": "2022-11-27T07:01:13.334Z"
   },
   {
    "duration": 0,
    "start_time": "2022-11-27T07:01:13.335Z"
   },
   {
    "duration": 0,
    "start_time": "2022-11-27T07:01:13.336Z"
   },
   {
    "duration": 0,
    "start_time": "2022-11-27T07:01:13.338Z"
   },
   {
    "duration": 0,
    "start_time": "2022-11-27T07:01:13.339Z"
   },
   {
    "duration": 86,
    "start_time": "2022-11-27T07:02:06.804Z"
   },
   {
    "duration": 10,
    "start_time": "2022-11-27T07:02:09.221Z"
   },
   {
    "duration": 118,
    "start_time": "2022-11-27T07:02:31.027Z"
   },
   {
    "duration": 1979,
    "start_time": "2022-11-27T07:02:42.316Z"
   },
   {
    "duration": 1800,
    "start_time": "2022-11-27T07:03:02.596Z"
   },
   {
    "duration": 22,
    "start_time": "2022-11-27T07:23:01.769Z"
   },
   {
    "duration": 9,
    "start_time": "2022-11-27T07:23:13.306Z"
   },
   {
    "duration": 121,
    "start_time": "2022-11-27T07:23:22.416Z"
   },
   {
    "duration": 7,
    "start_time": "2022-11-27T07:23:23.790Z"
   },
   {
    "duration": 10,
    "start_time": "2022-11-27T07:23:27.192Z"
   },
   {
    "duration": 6,
    "start_time": "2022-11-27T07:23:27.650Z"
   },
   {
    "duration": 8,
    "start_time": "2022-11-27T07:23:28.677Z"
   },
   {
    "duration": 35,
    "start_time": "2022-11-27T07:23:31.028Z"
   },
   {
    "duration": 9,
    "start_time": "2022-11-27T07:23:31.949Z"
   },
   {
    "duration": 10,
    "start_time": "2022-11-27T07:23:36.058Z"
   },
   {
    "duration": 8,
    "start_time": "2022-11-27T07:23:36.852Z"
   },
   {
    "duration": 4,
    "start_time": "2022-11-27T07:23:54.473Z"
   },
   {
    "duration": 5,
    "start_time": "2022-11-27T07:23:58.508Z"
   },
   {
    "duration": 14,
    "start_time": "2022-11-27T07:24:01.017Z"
   },
   {
    "duration": 10,
    "start_time": "2022-11-27T07:24:11.721Z"
   },
   {
    "duration": 10,
    "start_time": "2022-11-27T07:24:15.490Z"
   },
   {
    "duration": 6,
    "start_time": "2022-11-27T07:24:18.613Z"
   },
   {
    "duration": 4,
    "start_time": "2022-11-27T07:24:20.547Z"
   },
   {
    "duration": 11,
    "start_time": "2022-11-27T07:24:21.786Z"
   },
   {
    "duration": 23,
    "start_time": "2022-11-27T07:24:22.888Z"
   },
   {
    "duration": 37,
    "start_time": "2022-11-27T07:24:24.097Z"
   },
   {
    "duration": 8,
    "start_time": "2022-11-27T07:24:25.133Z"
   },
   {
    "duration": 6,
    "start_time": "2022-11-27T07:24:29.877Z"
   },
   {
    "duration": 4,
    "start_time": "2022-11-27T07:24:32.870Z"
   },
   {
    "duration": 7,
    "start_time": "2022-11-27T07:24:33.441Z"
   },
   {
    "duration": 4,
    "start_time": "2022-11-27T07:34:09.321Z"
   },
   {
    "duration": 4,
    "start_time": "2022-11-27T07:34:25.897Z"
   },
   {
    "duration": 4,
    "start_time": "2022-11-27T07:34:43.203Z"
   },
   {
    "duration": 4,
    "start_time": "2022-11-27T07:35:00.986Z"
   },
   {
    "duration": 5,
    "start_time": "2022-11-27T07:35:14.620Z"
   },
   {
    "duration": 3,
    "start_time": "2022-11-27T07:35:47.738Z"
   },
   {
    "duration": 4,
    "start_time": "2022-11-27T07:39:27.464Z"
   },
   {
    "duration": 34,
    "start_time": "2022-11-27T07:39:28.882Z"
   },
   {
    "duration": 12,
    "start_time": "2022-11-27T07:41:13.484Z"
   },
   {
    "duration": 14,
    "start_time": "2022-11-27T07:41:14.399Z"
   },
   {
    "duration": 5,
    "start_time": "2022-11-27T07:49:55.184Z"
   },
   {
    "duration": 15,
    "start_time": "2022-11-27T07:50:18.275Z"
   },
   {
    "duration": 9,
    "start_time": "2022-11-27T07:50:24.015Z"
   },
   {
    "duration": 5,
    "start_time": "2022-11-27T07:56:09.672Z"
   },
   {
    "duration": 3,
    "start_time": "2022-11-27T07:56:58.879Z"
   },
   {
    "duration": 6,
    "start_time": "2022-11-27T07:56:59.486Z"
   },
   {
    "duration": 60,
    "start_time": "2022-11-27T07:57:00.709Z"
   },
   {
    "duration": 39,
    "start_time": "2022-11-27T07:57:01.309Z"
   },
   {
    "duration": 57,
    "start_time": "2022-11-27T07:57:02.689Z"
   },
   {
    "duration": 7,
    "start_time": "2022-11-27T07:57:03.904Z"
   },
   {
    "duration": 37,
    "start_time": "2022-11-27T07:57:04.557Z"
   },
   {
    "duration": 7,
    "start_time": "2022-11-27T07:57:07.435Z"
   },
   {
    "duration": 5,
    "start_time": "2022-11-27T07:57:08.652Z"
   },
   {
    "duration": 4,
    "start_time": "2022-11-27T07:57:09.279Z"
   },
   {
    "duration": 4,
    "start_time": "2022-11-27T07:57:09.843Z"
   },
   {
    "duration": 256,
    "start_time": "2022-11-27T07:57:10.736Z"
   },
   {
    "duration": 4,
    "start_time": "2022-11-27T07:57:12.296Z"
   },
   {
    "duration": 72,
    "start_time": "2022-11-27T07:57:12.837Z"
   },
   {
    "duration": 8,
    "start_time": "2022-11-27T07:57:17.944Z"
   },
   {
    "duration": 106,
    "start_time": "2022-11-27T07:57:18.597Z"
   },
   {
    "duration": 212,
    "start_time": "2022-11-27T07:57:19.496Z"
   },
   {
    "duration": 9,
    "start_time": "2022-11-27T07:57:21.384Z"
   },
   {
    "duration": 206,
    "start_time": "2022-11-27T07:57:22.081Z"
   },
   {
    "duration": 164,
    "start_time": "2022-11-27T07:57:22.800Z"
   },
   {
    "duration": 10,
    "start_time": "2022-11-27T07:57:25.122Z"
   },
   {
    "duration": 107,
    "start_time": "2022-11-27T07:57:25.676Z"
   },
   {
    "duration": 165,
    "start_time": "2022-11-27T07:57:26.312Z"
   },
   {
    "duration": 10,
    "start_time": "2022-11-27T07:57:42.244Z"
   },
   {
    "duration": 102,
    "start_time": "2022-11-27T07:57:43.234Z"
   },
   {
    "duration": 245,
    "start_time": "2022-11-27T07:57:44.494Z"
   },
   {
    "duration": 1434,
    "start_time": "2022-11-27T08:31:36.166Z"
   },
   {
    "duration": 141,
    "start_time": "2022-11-27T08:31:42.725Z"
   },
   {
    "duration": 128,
    "start_time": "2022-11-27T08:31:50.203Z"
   },
   {
    "duration": 9,
    "start_time": "2022-11-27T08:32:30.257Z"
   },
   {
    "duration": 366,
    "start_time": "2022-11-27T08:32:37.747Z"
   },
   {
    "duration": 10,
    "start_time": "2022-11-27T08:33:36.712Z"
   },
   {
    "duration": 1194,
    "start_time": "2022-11-27T08:34:07.202Z"
   },
   {
    "duration": 4,
    "start_time": "2022-11-27T08:34:16.343Z"
   },
   {
    "duration": 3,
    "start_time": "2022-11-27T08:34:23.766Z"
   },
   {
    "duration": 12,
    "start_time": "2022-11-27T08:34:25.139Z"
   },
   {
    "duration": 107,
    "start_time": "2022-11-27T08:34:31.688Z"
   },
   {
    "duration": 248,
    "start_time": "2022-11-27T08:34:35.756Z"
   },
   {
    "duration": 9,
    "start_time": "2022-11-27T08:34:47.622Z"
   },
   {
    "duration": 109,
    "start_time": "2022-11-27T08:34:48.668Z"
   },
   {
    "duration": 226,
    "start_time": "2022-11-27T08:34:50.835Z"
   },
   {
    "duration": 13,
    "start_time": "2022-11-27T08:34:52.862Z"
   },
   {
    "duration": 161,
    "start_time": "2022-11-27T08:34:53.283Z"
   },
   {
    "duration": 147,
    "start_time": "2022-11-27T08:34:54.304Z"
   },
   {
    "duration": 10,
    "start_time": "2022-11-27T08:34:56.479Z"
   },
   {
    "duration": 118,
    "start_time": "2022-11-27T08:34:57.131Z"
   },
   {
    "duration": 175,
    "start_time": "2022-11-27T08:34:57.807Z"
   },
   {
    "duration": 9,
    "start_time": "2022-11-27T08:34:59.898Z"
   },
   {
    "duration": 168,
    "start_time": "2022-11-27T08:35:00.599Z"
   },
   {
    "duration": 9,
    "start_time": "2022-11-27T08:35:02.531Z"
   },
   {
    "duration": 111,
    "start_time": "2022-11-27T08:35:03.179Z"
   },
   {
    "duration": 201,
    "start_time": "2022-11-27T08:35:03.943Z"
   },
   {
    "duration": 10,
    "start_time": "2022-11-27T08:35:06.039Z"
   },
   {
    "duration": 117,
    "start_time": "2022-11-27T08:35:06.718Z"
   },
   {
    "duration": 164,
    "start_time": "2022-11-27T08:35:07.545Z"
   },
   {
    "duration": 9,
    "start_time": "2022-11-27T08:36:23.045Z"
   },
   {
    "duration": 116,
    "start_time": "2022-11-27T08:36:24.523Z"
   },
   {
    "duration": 158,
    "start_time": "2022-11-27T08:36:29.879Z"
   },
   {
    "duration": 9,
    "start_time": "2022-11-27T08:36:39.820Z"
   },
   {
    "duration": 114,
    "start_time": "2022-11-27T08:36:45.581Z"
   },
   {
    "duration": 173,
    "start_time": "2022-11-27T08:36:48.326Z"
   },
   {
    "duration": 9,
    "start_time": "2022-11-27T08:36:57.647Z"
   },
   {
    "duration": 339,
    "start_time": "2022-11-27T08:37:01.311Z"
   },
   {
    "duration": 144,
    "start_time": "2022-11-27T08:38:08.404Z"
   },
   {
    "duration": 140,
    "start_time": "2022-11-27T08:38:15.536Z"
   },
   {
    "duration": 9,
    "start_time": "2022-11-27T08:39:12.491Z"
   },
   {
    "duration": 167,
    "start_time": "2022-11-27T08:39:13.355Z"
   },
   {
    "duration": 189,
    "start_time": "2022-11-27T08:39:45.575Z"
   },
   {
    "duration": 198,
    "start_time": "2022-11-27T08:39:51.224Z"
   },
   {
    "duration": 179,
    "start_time": "2022-11-27T08:39:59.448Z"
   },
   {
    "duration": 178,
    "start_time": "2022-11-27T08:40:21.168Z"
   },
   {
    "duration": 188,
    "start_time": "2022-11-27T08:40:58.826Z"
   },
   {
    "duration": 4,
    "start_time": "2022-11-27T08:41:00.096Z"
   },
   {
    "duration": 5,
    "start_time": "2022-11-27T08:41:01.176Z"
   },
   {
    "duration": 5,
    "start_time": "2022-11-27T08:41:02.253Z"
   },
   {
    "duration": 5,
    "start_time": "2022-11-27T08:41:05.564Z"
   },
   {
    "duration": 171,
    "start_time": "2022-11-27T08:41:09.384Z"
   },
   {
    "duration": 198,
    "start_time": "2022-11-27T08:41:15.171Z"
   },
   {
    "duration": 5,
    "start_time": "2022-11-27T08:43:11.120Z"
   },
   {
    "duration": 1935,
    "start_time": "2022-11-27T08:43:32.521Z"
   },
   {
    "duration": 9,
    "start_time": "2022-11-27T08:45:07.909Z"
   },
   {
    "duration": 14,
    "start_time": "2022-11-27T08:45:47.190Z"
   },
   {
    "duration": 225,
    "start_time": "2022-11-27T08:46:01.574Z"
   },
   {
    "duration": 9,
    "start_time": "2022-11-27T08:46:49.284Z"
   },
   {
    "duration": 218,
    "start_time": "2022-11-27T08:48:04.245Z"
   },
   {
    "duration": 5,
    "start_time": "2022-11-27T08:48:27.280Z"
   },
   {
    "duration": 12,
    "start_time": "2022-11-27T08:49:01.866Z"
   },
   {
    "duration": 8,
    "start_time": "2022-11-27T08:49:26.980Z"
   },
   {
    "duration": 9,
    "start_time": "2022-11-27T08:49:47.810Z"
   },
   {
    "duration": 9,
    "start_time": "2022-11-27T08:49:57.911Z"
   },
   {
    "duration": 8,
    "start_time": "2022-11-27T08:50:20.656Z"
   },
   {
    "duration": 9,
    "start_time": "2022-11-27T08:50:26.525Z"
   },
   {
    "duration": 2882,
    "start_time": "2022-11-27T08:50:40.794Z"
   },
   {
    "duration": 205,
    "start_time": "2022-11-27T08:50:54.820Z"
   },
   {
    "duration": 437,
    "start_time": "2022-11-27T08:51:11.271Z"
   },
   {
    "duration": 186,
    "start_time": "2022-11-27T08:51:18.549Z"
   },
   {
    "duration": 145,
    "start_time": "2022-11-27T08:51:48.095Z"
   },
   {
    "duration": 195,
    "start_time": "2022-11-27T08:51:54.238Z"
   },
   {
    "duration": 243,
    "start_time": "2022-11-27T08:51:58.694Z"
   },
   {
    "duration": 184,
    "start_time": "2022-11-27T08:52:23.656Z"
   },
   {
    "duration": 174,
    "start_time": "2022-11-27T08:52:25.003Z"
   },
   {
    "duration": 182,
    "start_time": "2022-11-27T08:52:26.145Z"
   },
   {
    "duration": 14,
    "start_time": "2022-11-27T08:54:46.170Z"
   },
   {
    "duration": 14,
    "start_time": "2022-11-27T08:54:53.510Z"
   },
   {
    "duration": 10,
    "start_time": "2022-11-27T08:58:22.435Z"
   },
   {
    "duration": 8,
    "start_time": "2022-11-27T08:58:28.265Z"
   },
   {
    "duration": 9,
    "start_time": "2022-11-27T08:58:43.090Z"
   },
   {
    "duration": 133,
    "start_time": "2022-11-27T08:58:54.879Z"
   },
   {
    "duration": 145,
    "start_time": "2022-11-27T08:58:56.118Z"
   },
   {
    "duration": 171,
    "start_time": "2022-11-27T08:58:56.824Z"
   },
   {
    "duration": 153,
    "start_time": "2022-11-27T08:58:58.954Z"
   },
   {
    "duration": 152,
    "start_time": "2022-11-27T08:58:59.713Z"
   },
   {
    "duration": 202,
    "start_time": "2022-11-27T08:59:00.595Z"
   },
   {
    "duration": 129,
    "start_time": "2022-11-27T08:59:03.267Z"
   },
   {
    "duration": 184,
    "start_time": "2022-11-27T08:59:03.971Z"
   },
   {
    "duration": 163,
    "start_time": "2022-11-27T08:59:04.698Z"
   },
   {
    "duration": 131,
    "start_time": "2022-11-27T08:59:07.656Z"
   },
   {
    "duration": 152,
    "start_time": "2022-11-27T08:59:08.391Z"
   },
   {
    "duration": 166,
    "start_time": "2022-11-27T08:59:09.551Z"
   },
   {
    "duration": 31,
    "start_time": "2022-11-27T09:00:32.294Z"
   },
   {
    "duration": 21,
    "start_time": "2022-11-27T09:00:47.098Z"
   },
   {
    "duration": 55,
    "start_time": "2022-11-27T09:00:59.938Z"
   },
   {
    "duration": 19,
    "start_time": "2022-11-27T09:04:11.569Z"
   },
   {
    "duration": 13448,
    "start_time": "2022-11-27T09:04:28.420Z"
   },
   {
    "duration": 62,
    "start_time": "2022-11-27T09:04:55.662Z"
   },
   {
    "duration": 14,
    "start_time": "2022-11-27T09:06:25.895Z"
   },
   {
    "duration": 17,
    "start_time": "2022-11-27T09:06:44.382Z"
   },
   {
    "duration": 17,
    "start_time": "2022-11-27T09:06:50.259Z"
   },
   {
    "duration": 83,
    "start_time": "2022-11-27T09:07:01.761Z"
   },
   {
    "duration": 19,
    "start_time": "2022-11-27T09:07:23.088Z"
   },
   {
    "duration": 135,
    "start_time": "2022-11-27T09:07:59.945Z"
   },
   {
    "duration": 158,
    "start_time": "2022-11-27T09:10:17.823Z"
   },
   {
    "duration": 185,
    "start_time": "2022-11-27T09:10:30.424Z"
   },
   {
    "duration": 170,
    "start_time": "2022-11-27T09:10:42.641Z"
   },
   {
    "duration": 227,
    "start_time": "2022-11-27T09:10:49.524Z"
   },
   {
    "duration": 174,
    "start_time": "2022-11-27T09:11:15.888Z"
   },
   {
    "duration": 174,
    "start_time": "2022-11-27T09:11:22.373Z"
   },
   {
    "duration": 8,
    "start_time": "2022-11-27T09:11:56.723Z"
   },
   {
    "duration": 38,
    "start_time": "2022-11-27T09:13:05.808Z"
   },
   {
    "duration": 58,
    "start_time": "2022-11-27T09:13:33.847Z"
   },
   {
    "duration": 778,
    "start_time": "2022-11-27T09:14:29.418Z"
   },
   {
    "duration": 22,
    "start_time": "2022-11-27T09:14:52.268Z"
   },
   {
    "duration": 29,
    "start_time": "2022-11-27T09:15:04.778Z"
   },
   {
    "duration": 25,
    "start_time": "2022-11-27T09:16:11.187Z"
   },
   {
    "duration": 30,
    "start_time": "2022-11-27T09:16:19.868Z"
   },
   {
    "duration": 30,
    "start_time": "2022-11-27T09:16:30.873Z"
   },
   {
    "duration": 7,
    "start_time": "2022-11-27T09:16:40.492Z"
   },
   {
    "duration": 7,
    "start_time": "2022-11-27T09:16:49.589Z"
   },
   {
    "duration": 8,
    "start_time": "2022-11-27T09:16:57.830Z"
   },
   {
    "duration": 23,
    "start_time": "2022-11-27T09:17:44.245Z"
   },
   {
    "duration": 7,
    "start_time": "2022-11-27T09:18:02.764Z"
   },
   {
    "duration": 1230,
    "start_time": "2022-11-27T09:19:08.342Z"
   },
   {
    "duration": 1211,
    "start_time": "2022-11-27T09:19:21.549Z"
   },
   {
    "duration": 7,
    "start_time": "2022-11-27T09:19:27.767Z"
   },
   {
    "duration": 175,
    "start_time": "2022-11-27T09:20:14.319Z"
   },
   {
    "duration": 7,
    "start_time": "2022-11-27T09:55:53.729Z"
   },
   {
    "duration": 150,
    "start_time": "2022-11-27T09:56:02.921Z"
   },
   {
    "duration": 2631,
    "start_time": "2022-11-27T09:56:03.073Z"
   },
   {
    "duration": 37,
    "start_time": "2022-11-27T09:56:05.706Z"
   },
   {
    "duration": 11,
    "start_time": "2022-11-27T09:56:05.746Z"
   },
   {
    "duration": 18,
    "start_time": "2022-11-27T09:56:05.759Z"
   },
   {
    "duration": 8,
    "start_time": "2022-11-27T09:56:05.779Z"
   },
   {
    "duration": 53,
    "start_time": "2022-11-27T09:56:05.789Z"
   },
   {
    "duration": 26,
    "start_time": "2022-11-27T09:56:05.845Z"
   },
   {
    "duration": 28,
    "start_time": "2022-11-27T09:56:05.873Z"
   },
   {
    "duration": 52,
    "start_time": "2022-11-27T09:56:05.906Z"
   },
   {
    "duration": 11,
    "start_time": "2022-11-27T09:56:05.960Z"
   },
   {
    "duration": 20,
    "start_time": "2022-11-27T09:56:05.972Z"
   },
   {
    "duration": 11,
    "start_time": "2022-11-27T09:56:05.995Z"
   },
   {
    "duration": 4,
    "start_time": "2022-11-27T09:56:06.022Z"
   },
   {
    "duration": 30,
    "start_time": "2022-11-27T09:56:06.030Z"
   },
   {
    "duration": 22,
    "start_time": "2022-11-27T09:56:06.062Z"
   },
   {
    "duration": 11,
    "start_time": "2022-11-27T09:56:06.086Z"
   },
   {
    "duration": 35,
    "start_time": "2022-11-27T09:56:06.099Z"
   },
   {
    "duration": 19,
    "start_time": "2022-11-27T09:56:06.137Z"
   },
   {
    "duration": 9,
    "start_time": "2022-11-27T09:56:06.157Z"
   },
   {
    "duration": 28,
    "start_time": "2022-11-27T09:56:06.167Z"
   },
   {
    "duration": 36,
    "start_time": "2022-11-27T09:56:06.197Z"
   },
   {
    "duration": 48,
    "start_time": "2022-11-27T09:56:06.235Z"
   },
   {
    "duration": 12,
    "start_time": "2022-11-27T09:56:06.285Z"
   },
   {
    "duration": 6,
    "start_time": "2022-11-27T09:56:06.299Z"
   },
   {
    "duration": 21,
    "start_time": "2022-11-27T09:56:06.307Z"
   },
   {
    "duration": 19,
    "start_time": "2022-11-27T09:56:06.330Z"
   },
   {
    "duration": 8,
    "start_time": "2022-11-27T09:56:06.352Z"
   },
   {
    "duration": 8,
    "start_time": "2022-11-27T09:56:06.362Z"
   },
   {
    "duration": 8,
    "start_time": "2022-11-27T09:56:06.372Z"
   },
   {
    "duration": 8,
    "start_time": "2022-11-27T09:56:06.382Z"
   },
   {
    "duration": 59,
    "start_time": "2022-11-27T09:56:06.392Z"
   },
   {
    "duration": 15,
    "start_time": "2022-11-27T09:56:06.453Z"
   },
   {
    "duration": 16,
    "start_time": "2022-11-27T09:56:06.470Z"
   },
   {
    "duration": 5,
    "start_time": "2022-11-27T09:56:06.488Z"
   },
   {
    "duration": 47,
    "start_time": "2022-11-27T09:56:06.495Z"
   },
   {
    "duration": 94,
    "start_time": "2022-11-27T09:56:06.545Z"
   },
   {
    "duration": 48,
    "start_time": "2022-11-27T09:56:06.641Z"
   },
   {
    "duration": 83,
    "start_time": "2022-11-27T09:56:06.691Z"
   },
   {
    "duration": 6,
    "start_time": "2022-11-27T09:56:06.776Z"
   },
   {
    "duration": 63,
    "start_time": "2022-11-27T09:56:06.787Z"
   },
   {
    "duration": 8,
    "start_time": "2022-11-27T09:56:06.852Z"
   },
   {
    "duration": 8,
    "start_time": "2022-11-27T09:56:06.861Z"
   },
   {
    "duration": 10,
    "start_time": "2022-11-27T09:56:06.870Z"
   },
   {
    "duration": 11,
    "start_time": "2022-11-27T09:56:06.882Z"
   },
   {
    "duration": 329,
    "start_time": "2022-11-27T09:56:06.894Z"
   },
   {
    "duration": 7,
    "start_time": "2022-11-27T09:56:07.226Z"
   },
   {
    "duration": 76,
    "start_time": "2022-11-27T09:56:07.235Z"
   },
   {
    "duration": 25,
    "start_time": "2022-11-27T09:56:07.312Z"
   },
   {
    "duration": 136,
    "start_time": "2022-11-27T09:56:07.340Z"
   },
   {
    "duration": 279,
    "start_time": "2022-11-27T09:56:07.478Z"
   },
   {
    "duration": 10,
    "start_time": "2022-11-27T09:56:07.759Z"
   },
   {
    "duration": 176,
    "start_time": "2022-11-27T09:56:07.771Z"
   },
   {
    "duration": 209,
    "start_time": "2022-11-27T09:56:07.949Z"
   },
   {
    "duration": 11,
    "start_time": "2022-11-27T09:56:08.160Z"
   },
   {
    "duration": 154,
    "start_time": "2022-11-27T09:56:08.173Z"
   },
   {
    "duration": 207,
    "start_time": "2022-11-27T09:56:08.329Z"
   },
   {
    "duration": 8,
    "start_time": "2022-11-27T09:56:08.539Z"
   },
   {
    "duration": 12,
    "start_time": "2022-11-27T09:56:08.549Z"
   },
   {
    "duration": 139,
    "start_time": "2022-11-27T09:56:08.562Z"
   },
   {
    "duration": 278,
    "start_time": "2022-11-27T09:56:08.702Z"
   },
   {
    "duration": 11,
    "start_time": "2022-11-27T09:56:08.982Z"
   },
   {
    "duration": 176,
    "start_time": "2022-11-27T09:56:08.995Z"
   },
   {
    "duration": 221,
    "start_time": "2022-11-27T09:56:09.172Z"
   },
   {
    "duration": 9,
    "start_time": "2022-11-27T09:56:09.395Z"
   },
   {
    "duration": 154,
    "start_time": "2022-11-27T09:56:09.406Z"
   },
   {
    "duration": 209,
    "start_time": "2022-11-27T09:56:09.562Z"
   },
   {
    "duration": 11,
    "start_time": "2022-11-27T09:56:09.773Z"
   },
   {
    "duration": 171,
    "start_time": "2022-11-27T09:56:09.785Z"
   },
   {
    "duration": 204,
    "start_time": "2022-11-27T09:56:09.957Z"
   },
   {
    "duration": 9,
    "start_time": "2022-11-27T09:56:10.163Z"
   },
   {
    "duration": 206,
    "start_time": "2022-11-27T09:56:10.173Z"
   },
   {
    "duration": 9,
    "start_time": "2022-11-27T09:56:10.380Z"
   },
   {
    "duration": 170,
    "start_time": "2022-11-27T09:56:10.391Z"
   },
   {
    "duration": 190,
    "start_time": "2022-11-27T09:56:10.563Z"
   },
   {
    "duration": 11,
    "start_time": "2022-11-27T09:56:10.756Z"
   },
   {
    "duration": 155,
    "start_time": "2022-11-27T09:56:10.769Z"
   },
   {
    "duration": 206,
    "start_time": "2022-11-27T09:56:10.925Z"
   },
   {
    "duration": 19,
    "start_time": "2022-11-27T09:56:11.132Z"
   },
   {
    "duration": 132,
    "start_time": "2022-11-27T09:56:11.153Z"
   },
   {
    "duration": 196,
    "start_time": "2022-11-27T09:56:11.288Z"
   },
   {
    "duration": 11,
    "start_time": "2022-11-27T09:56:11.487Z"
   },
   {
    "duration": 185,
    "start_time": "2022-11-27T09:56:11.500Z"
   },
   {
    "duration": 217,
    "start_time": "2022-11-27T09:56:11.688Z"
   },
   {
    "duration": 21,
    "start_time": "2022-11-27T09:56:11.906Z"
   },
   {
    "duration": 222,
    "start_time": "2022-11-27T09:56:11.929Z"
   },
   {
    "duration": 9,
    "start_time": "2022-11-27T09:56:12.153Z"
   },
   {
    "duration": 608,
    "start_time": "2022-11-27T09:56:12.164Z"
   },
   {
    "duration": 8,
    "start_time": "2022-11-27T09:56:12.774Z"
   },
   {
    "duration": 13,
    "start_time": "2022-11-27T09:56:12.784Z"
   },
   {
    "duration": 32,
    "start_time": "2022-11-27T09:56:12.798Z"
   },
   {
    "duration": 15,
    "start_time": "2022-11-27T09:56:12.832Z"
   },
   {
    "duration": 10,
    "start_time": "2022-11-27T09:56:12.849Z"
   },
   {
    "duration": 235,
    "start_time": "2022-11-27T09:56:12.861Z"
   },
   {
    "duration": 229,
    "start_time": "2022-11-27T09:56:13.098Z"
   },
   {
    "duration": 258,
    "start_time": "2022-11-27T09:56:13.329Z"
   },
   {
    "duration": 172,
    "start_time": "2022-11-27T09:56:13.589Z"
   },
   {
    "duration": 189,
    "start_time": "2022-11-27T09:56:13.764Z"
   },
   {
    "duration": 224,
    "start_time": "2022-11-27T09:56:13.955Z"
   },
   {
    "duration": 215,
    "start_time": "2022-11-27T09:56:14.181Z"
   },
   {
    "duration": 217,
    "start_time": "2022-11-27T09:56:14.399Z"
   },
   {
    "duration": 218,
    "start_time": "2022-11-27T09:56:14.618Z"
   },
   {
    "duration": 167,
    "start_time": "2022-11-27T09:56:14.838Z"
   },
   {
    "duration": 202,
    "start_time": "2022-11-27T09:56:15.007Z"
   },
   {
    "duration": 189,
    "start_time": "2022-11-27T09:56:15.211Z"
   },
   {
    "duration": 179,
    "start_time": "2022-11-27T09:56:15.401Z"
   },
   {
    "duration": 193,
    "start_time": "2022-11-27T09:56:15.582Z"
   },
   {
    "duration": 216,
    "start_time": "2022-11-27T09:56:15.776Z"
   },
   {
    "duration": 14,
    "start_time": "2022-11-27T09:56:15.994Z"
   },
   {
    "duration": 164,
    "start_time": "2022-11-27T09:56:16.021Z"
   },
   {
    "duration": 229,
    "start_time": "2022-11-27T09:56:16.187Z"
   },
   {
    "duration": 231,
    "start_time": "2022-11-27T09:56:16.417Z"
   },
   {
    "duration": 229,
    "start_time": "2022-11-27T09:56:16.650Z"
   },
   {
    "duration": 271,
    "start_time": "2022-11-27T09:56:16.880Z"
   },
   {
    "duration": 208,
    "start_time": "2022-11-27T09:56:17.153Z"
   },
   {
    "duration": 215,
    "start_time": "2022-11-27T09:56:17.363Z"
   },
   {
    "duration": 8,
    "start_time": "2022-11-27T09:56:17.580Z"
   },
   {
    "duration": 56,
    "start_time": "2022-11-27T09:56:17.590Z"
   },
   {
    "duration": 13,
    "start_time": "2022-11-27T09:56:17.648Z"
   },
   {
    "duration": 13,
    "start_time": "2022-11-27T09:56:17.663Z"
   },
   {
    "duration": 223,
    "start_time": "2022-11-27T09:56:17.678Z"
   },
   {
    "duration": 1302,
    "start_time": "2022-11-27T10:22:28.236Z"
   },
   {
    "duration": 2358,
    "start_time": "2022-11-27T10:22:42.525Z"
   },
   {
    "duration": 23,
    "start_time": "2022-11-27T10:23:01.271Z"
   },
   {
    "duration": 9,
    "start_time": "2022-11-27T10:23:04.790Z"
   },
   {
    "duration": 19,
    "start_time": "2022-11-27T10:23:30.475Z"
   },
   {
    "duration": 9,
    "start_time": "2022-11-27T10:23:31.656Z"
   },
   {
    "duration": 11,
    "start_time": "2022-11-27T10:23:34.690Z"
   },
   {
    "duration": 5,
    "start_time": "2022-11-27T10:23:35.603Z"
   },
   {
    "duration": 10,
    "start_time": "2022-11-27T10:23:37.038Z"
   },
   {
    "duration": 44,
    "start_time": "2022-11-27T10:23:39.293Z"
   },
   {
    "duration": 9,
    "start_time": "2022-11-27T10:23:40.204Z"
   },
   {
    "duration": 9,
    "start_time": "2022-11-27T10:23:45.178Z"
   },
   {
    "duration": 8,
    "start_time": "2022-11-27T10:23:46.215Z"
   },
   {
    "duration": 4,
    "start_time": "2022-11-27T10:23:49.797Z"
   },
   {
    "duration": 7,
    "start_time": "2022-11-27T10:23:52.255Z"
   },
   {
    "duration": 19,
    "start_time": "2022-11-27T10:23:53.202Z"
   },
   {
    "duration": 10,
    "start_time": "2022-11-27T10:23:55.054Z"
   },
   {
    "duration": 11,
    "start_time": "2022-11-27T10:23:58.801Z"
   },
   {
    "duration": 7,
    "start_time": "2022-11-27T10:23:59.732Z"
   },
   {
    "duration": 5,
    "start_time": "2022-11-27T10:24:00.680Z"
   },
   {
    "duration": 12,
    "start_time": "2022-11-27T10:24:01.692Z"
   },
   {
    "duration": 25,
    "start_time": "2022-11-27T10:24:02.694Z"
   },
   {
    "duration": 36,
    "start_time": "2022-11-27T10:24:03.804Z"
   },
   {
    "duration": 9,
    "start_time": "2022-11-27T10:24:05.089Z"
   },
   {
    "duration": 4,
    "start_time": "2022-11-27T10:24:11.521Z"
   },
   {
    "duration": 4,
    "start_time": "2022-11-27T10:24:13.061Z"
   },
   {
    "duration": 5,
    "start_time": "2022-11-27T10:24:16.201Z"
   },
   {
    "duration": 3,
    "start_time": "2022-11-27T10:24:17.362Z"
   },
   {
    "duration": 5,
    "start_time": "2022-11-27T10:24:18.761Z"
   },
   {
    "duration": 4,
    "start_time": "2022-11-27T10:24:20.137Z"
   },
   {
    "duration": 4,
    "start_time": "2022-11-27T10:24:22.388Z"
   },
   {
    "duration": 51,
    "start_time": "2022-11-27T10:24:24.253Z"
   },
   {
    "duration": 17,
    "start_time": "2022-11-27T10:24:26.319Z"
   },
   {
    "duration": 20,
    "start_time": "2022-11-27T10:24:27.117Z"
   },
   {
    "duration": 6,
    "start_time": "2022-11-27T10:24:37.849Z"
   },
   {
    "duration": 5,
    "start_time": "2022-11-27T10:24:38.611Z"
   },
   {
    "duration": 91,
    "start_time": "2022-11-27T10:24:39.796Z"
   },
   {
    "duration": 41,
    "start_time": "2022-11-27T10:24:40.457Z"
   },
   {
    "duration": 69,
    "start_time": "2022-11-27T10:24:41.779Z"
   },
   {
    "duration": 8,
    "start_time": "2022-11-27T10:24:42.729Z"
   },
   {
    "duration": 51,
    "start_time": "2022-11-27T10:24:43.175Z"
   },
   {
    "duration": 10,
    "start_time": "2022-11-27T10:24:44.989Z"
   },
   {
    "duration": 4,
    "start_time": "2022-11-27T10:24:46.484Z"
   },
   {
    "duration": 5,
    "start_time": "2022-11-27T10:24:47.118Z"
   },
   {
    "duration": 3,
    "start_time": "2022-11-27T10:24:48.039Z"
   },
   {
    "duration": 270,
    "start_time": "2022-11-27T10:24:48.710Z"
   },
   {
    "duration": 5,
    "start_time": "2022-11-27T10:24:49.784Z"
   },
   {
    "duration": 68,
    "start_time": "2022-11-27T10:24:50.285Z"
   },
   {
    "duration": 12,
    "start_time": "2022-11-27T10:24:54.609Z"
   },
   {
    "duration": 121,
    "start_time": "2022-11-27T10:24:55.126Z"
   },
   {
    "duration": 365,
    "start_time": "2022-11-27T10:24:55.645Z"
   },
   {
    "duration": 9,
    "start_time": "2022-11-27T10:24:57.447Z"
   },
   {
    "duration": 132,
    "start_time": "2022-11-27T10:24:57.887Z"
   },
   {
    "duration": 177,
    "start_time": "2022-11-27T10:24:58.405Z"
   },
   {
    "duration": 11,
    "start_time": "2022-11-27T10:25:00.079Z"
   },
   {
    "duration": 160,
    "start_time": "2022-11-27T10:25:00.650Z"
   },
   {
    "duration": 222,
    "start_time": "2022-11-27T10:25:01.291Z"
   },
   {
    "duration": 4,
    "start_time": "2022-11-27T10:25:03.064Z"
   },
   {
    "duration": 13,
    "start_time": "2022-11-27T10:25:03.537Z"
   },
   {
    "duration": 132,
    "start_time": "2022-11-27T10:25:04.075Z"
   },
   {
    "duration": 225,
    "start_time": "2022-11-27T10:25:04.576Z"
   },
   {
    "duration": 9,
    "start_time": "2022-11-27T10:25:08.715Z"
   },
   {
    "duration": 136,
    "start_time": "2022-11-27T10:25:09.551Z"
   },
   {
    "duration": 203,
    "start_time": "2022-11-27T10:25:10.284Z"
   },
   {
    "duration": 10,
    "start_time": "2022-11-27T10:25:12.565Z"
   },
   {
    "duration": 123,
    "start_time": "2022-11-27T10:25:13.144Z"
   },
   {
    "duration": 278,
    "start_time": "2022-11-27T10:25:13.781Z"
   },
   {
    "duration": 12,
    "start_time": "2022-11-27T10:25:21.328Z"
   },
   {
    "duration": 116,
    "start_time": "2022-11-27T10:25:22.465Z"
   },
   {
    "duration": 190,
    "start_time": "2022-11-27T10:25:23.057Z"
   },
   {
    "duration": 9,
    "start_time": "2022-11-27T10:25:25.154Z"
   },
   {
    "duration": 227,
    "start_time": "2022-11-27T10:25:25.765Z"
   },
   {
    "duration": 11,
    "start_time": "2022-11-27T10:25:27.993Z"
   },
   {
    "duration": 119,
    "start_time": "2022-11-27T10:25:29.104Z"
   },
   {
    "duration": 180,
    "start_time": "2022-11-27T10:25:30.047Z"
   },
   {
    "duration": 10,
    "start_time": "2022-11-27T10:25:32.671Z"
   },
   {
    "duration": 123,
    "start_time": "2022-11-27T10:25:33.261Z"
   },
   {
    "duration": 276,
    "start_time": "2022-11-27T10:25:34.027Z"
   },
   {
    "duration": 14,
    "start_time": "2022-11-27T10:25:35.877Z"
   },
   {
    "duration": 176,
    "start_time": "2022-11-27T10:25:36.436Z"
   },
   {
    "duration": 163,
    "start_time": "2022-11-27T10:25:36.967Z"
   },
   {
    "duration": 9,
    "start_time": "2022-11-27T10:25:43.446Z"
   },
   {
    "duration": 153,
    "start_time": "2022-11-27T10:25:44.257Z"
   },
   {
    "duration": 295,
    "start_time": "2022-11-27T10:25:45.184Z"
   },
   {
    "duration": 10,
    "start_time": "2022-11-27T10:25:47.742Z"
   },
   {
    "duration": 181,
    "start_time": "2022-11-27T10:25:48.610Z"
   },
   {
    "duration": 11,
    "start_time": "2022-11-27T10:25:54.468Z"
   },
   {
    "duration": 211,
    "start_time": "2022-11-27T10:25:55.187Z"
   },
   {
    "duration": 11,
    "start_time": "2022-11-27T10:26:04.474Z"
   },
   {
    "duration": 10,
    "start_time": "2022-11-27T10:26:05.078Z"
   },
   {
    "duration": 16,
    "start_time": "2022-11-27T10:26:05.822Z"
   },
   {
    "duration": 10,
    "start_time": "2022-11-27T10:26:06.408Z"
   },
   {
    "duration": 11,
    "start_time": "2022-11-27T10:26:07.030Z"
   },
   {
    "duration": 190,
    "start_time": "2022-11-27T10:26:07.543Z"
   },
   {
    "duration": 182,
    "start_time": "2022-11-27T10:26:08.078Z"
   },
   {
    "duration": 205,
    "start_time": "2022-11-27T10:26:09.404Z"
   },
   {
    "duration": 149,
    "start_time": "2022-11-27T10:26:11.918Z"
   },
   {
    "duration": 143,
    "start_time": "2022-11-27T10:26:12.640Z"
   },
   {
    "duration": 188,
    "start_time": "2022-11-27T10:26:13.247Z"
   },
   {
    "duration": 166,
    "start_time": "2022-11-27T10:26:15.130Z"
   },
   {
    "duration": 179,
    "start_time": "2022-11-27T10:26:15.767Z"
   },
   {
    "duration": 210,
    "start_time": "2022-11-27T10:26:16.328Z"
   },
   {
    "duration": 186,
    "start_time": "2022-11-27T10:26:18.126Z"
   },
   {
    "duration": 182,
    "start_time": "2022-11-27T10:26:18.756Z"
   },
   {
    "duration": 304,
    "start_time": "2022-11-27T10:26:19.361Z"
   },
   {
    "duration": 188,
    "start_time": "2022-11-27T10:26:21.887Z"
   },
   {
    "duration": 170,
    "start_time": "2022-11-27T10:26:22.554Z"
   },
   {
    "duration": 180,
    "start_time": "2022-11-27T10:26:23.303Z"
   },
   {
    "duration": 14,
    "start_time": "2022-11-27T10:26:26.659Z"
   },
   {
    "duration": 134,
    "start_time": "2022-11-27T10:26:27.604Z"
   },
   {
    "duration": 190,
    "start_time": "2022-11-27T10:26:32.597Z"
   },
   {
    "duration": 193,
    "start_time": "2022-11-27T10:26:33.159Z"
   },
   {
    "duration": 202,
    "start_time": "2022-11-27T10:26:35.320Z"
   },
   {
    "duration": 234,
    "start_time": "2022-11-27T10:26:36.074Z"
   },
   {
    "duration": 179,
    "start_time": "2022-11-27T10:26:38.625Z"
   },
   {
    "duration": 185,
    "start_time": "2022-11-27T10:26:40.243Z"
   },
   {
    "duration": 8,
    "start_time": "2022-11-27T10:26:43.214Z"
   },
   {
    "duration": 37,
    "start_time": "2022-11-27T10:26:45.081Z"
   },
   {
    "duration": 11,
    "start_time": "2022-11-27T10:26:46.051Z"
   },
   {
    "duration": 9,
    "start_time": "2022-11-27T10:26:46.818Z"
   },
   {
    "duration": 175,
    "start_time": "2022-11-27T10:26:57.681Z"
   },
   {
    "duration": 1318,
    "start_time": "2022-11-27T18:20:57.461Z"
   },
   {
    "duration": 2062,
    "start_time": "2022-11-27T18:20:58.781Z"
   },
   {
    "duration": 17,
    "start_time": "2022-11-27T18:21:00.845Z"
   },
   {
    "duration": 19,
    "start_time": "2022-11-27T18:21:00.863Z"
   },
   {
    "duration": 25,
    "start_time": "2022-11-27T18:21:00.884Z"
   },
   {
    "duration": 25,
    "start_time": "2022-11-27T18:21:00.911Z"
   },
   {
    "duration": 29,
    "start_time": "2022-11-27T18:21:00.938Z"
   },
   {
    "duration": 7,
    "start_time": "2022-11-27T18:21:00.969Z"
   },
   {
    "duration": 22,
    "start_time": "2022-11-27T18:21:00.979Z"
   },
   {
    "duration": 42,
    "start_time": "2022-11-27T18:21:01.002Z"
   },
   {
    "duration": 8,
    "start_time": "2022-11-27T18:21:01.045Z"
   },
   {
    "duration": 11,
    "start_time": "2022-11-27T18:21:01.055Z"
   },
   {
    "duration": 7,
    "start_time": "2022-11-27T18:21:01.068Z"
   },
   {
    "duration": 16,
    "start_time": "2022-11-27T18:21:01.077Z"
   },
   {
    "duration": 8,
    "start_time": "2022-11-27T18:21:01.095Z"
   },
   {
    "duration": 17,
    "start_time": "2022-11-27T18:21:01.104Z"
   },
   {
    "duration": 8,
    "start_time": "2022-11-27T18:21:01.138Z"
   },
   {
    "duration": 10,
    "start_time": "2022-11-27T18:21:01.147Z"
   },
   {
    "duration": 6,
    "start_time": "2022-11-27T18:21:01.159Z"
   },
   {
    "duration": 4,
    "start_time": "2022-11-27T18:21:01.167Z"
   },
   {
    "duration": 17,
    "start_time": "2022-11-27T18:21:01.173Z"
   },
   {
    "duration": 49,
    "start_time": "2022-11-27T18:21:01.191Z"
   },
   {
    "duration": 29,
    "start_time": "2022-11-27T18:21:01.242Z"
   },
   {
    "duration": 8,
    "start_time": "2022-11-27T18:21:01.273Z"
   },
   {
    "duration": 10,
    "start_time": "2022-11-27T18:21:01.282Z"
   },
   {
    "duration": 5,
    "start_time": "2022-11-27T18:21:01.294Z"
   },
   {
    "duration": 6,
    "start_time": "2022-11-27T18:21:01.300Z"
   },
   {
    "duration": 7,
    "start_time": "2022-11-27T18:21:01.308Z"
   },
   {
    "duration": 27,
    "start_time": "2022-11-27T18:21:01.317Z"
   },
   {
    "duration": 6,
    "start_time": "2022-11-27T18:21:01.345Z"
   },
   {
    "duration": 6,
    "start_time": "2022-11-27T18:21:01.353Z"
   },
   {
    "duration": 38,
    "start_time": "2022-11-27T18:21:01.361Z"
   },
   {
    "duration": 13,
    "start_time": "2022-11-27T18:21:01.401Z"
   },
   {
    "duration": 31,
    "start_time": "2022-11-27T18:21:01.416Z"
   },
   {
    "duration": 3,
    "start_time": "2022-11-27T18:21:01.449Z"
   },
   {
    "duration": 11,
    "start_time": "2022-11-27T18:21:01.454Z"
   },
   {
    "duration": 72,
    "start_time": "2022-11-27T18:21:01.466Z"
   },
   {
    "duration": 42,
    "start_time": "2022-11-27T18:21:01.540Z"
   },
   {
    "duration": 81,
    "start_time": "2022-11-27T18:21:01.584Z"
   },
   {
    "duration": 5,
    "start_time": "2022-11-27T18:21:01.667Z"
   },
   {
    "duration": 39,
    "start_time": "2022-11-27T18:21:01.677Z"
   },
   {
    "duration": 23,
    "start_time": "2022-11-27T18:21:01.718Z"
   },
   {
    "duration": 5,
    "start_time": "2022-11-27T18:21:01.742Z"
   },
   {
    "duration": 10,
    "start_time": "2022-11-27T18:21:01.748Z"
   },
   {
    "duration": 17,
    "start_time": "2022-11-27T18:21:01.760Z"
   },
   {
    "duration": 277,
    "start_time": "2022-11-27T18:21:01.779Z"
   },
   {
    "duration": 4,
    "start_time": "2022-11-27T18:21:02.058Z"
   },
   {
    "duration": 88,
    "start_time": "2022-11-27T18:21:02.064Z"
   },
   {
    "duration": 11,
    "start_time": "2022-11-27T18:21:02.154Z"
   },
   {
    "duration": 148,
    "start_time": "2022-11-27T18:21:02.166Z"
   },
   {
    "duration": 338,
    "start_time": "2022-11-27T18:21:02.315Z"
   },
   {
    "duration": 10,
    "start_time": "2022-11-27T18:21:02.655Z"
   },
   {
    "duration": 138,
    "start_time": "2022-11-27T18:21:02.667Z"
   },
   {
    "duration": 193,
    "start_time": "2022-11-27T18:21:02.806Z"
   },
   {
    "duration": 9,
    "start_time": "2022-11-27T18:21:03.000Z"
   },
   {
    "duration": 131,
    "start_time": "2022-11-27T18:21:03.011Z"
   },
   {
    "duration": 171,
    "start_time": "2022-11-27T18:21:03.144Z"
   },
   {
    "duration": 5,
    "start_time": "2022-11-27T18:21:03.317Z"
   },
   {
    "duration": 19,
    "start_time": "2022-11-27T18:21:03.324Z"
   },
   {
    "duration": 121,
    "start_time": "2022-11-27T18:21:03.345Z"
   },
   {
    "duration": 294,
    "start_time": "2022-11-27T18:21:03.468Z"
   },
   {
    "duration": 12,
    "start_time": "2022-11-27T18:21:03.764Z"
   },
   {
    "duration": 179,
    "start_time": "2022-11-27T18:21:03.779Z"
   },
   {
    "duration": 206,
    "start_time": "2022-11-27T18:21:03.959Z"
   },
   {
    "duration": 10,
    "start_time": "2022-11-27T18:21:04.167Z"
   },
   {
    "duration": 127,
    "start_time": "2022-11-27T18:21:04.179Z"
   },
   {
    "duration": 236,
    "start_time": "2022-11-27T18:21:04.307Z"
   },
   {
    "duration": 8,
    "start_time": "2022-11-27T18:21:04.545Z"
   },
   {
    "duration": 134,
    "start_time": "2022-11-27T18:21:04.555Z"
   },
   {
    "duration": 168,
    "start_time": "2022-11-27T18:21:04.691Z"
   },
   {
    "duration": 10,
    "start_time": "2022-11-27T18:21:04.861Z"
   },
   {
    "duration": 181,
    "start_time": "2022-11-27T18:21:04.873Z"
   },
   {
    "duration": 9,
    "start_time": "2022-11-27T18:21:05.056Z"
   },
   {
    "duration": 131,
    "start_time": "2022-11-27T18:21:05.066Z"
   },
   {
    "duration": 186,
    "start_time": "2022-11-27T18:21:05.199Z"
   },
   {
    "duration": 8,
    "start_time": "2022-11-27T18:21:05.387Z"
   },
   {
    "duration": 127,
    "start_time": "2022-11-27T18:21:05.397Z"
   },
   {
    "duration": 182,
    "start_time": "2022-11-27T18:21:05.526Z"
   },
   {
    "duration": 9,
    "start_time": "2022-11-27T18:21:05.709Z"
   },
   {
    "duration": 149,
    "start_time": "2022-11-27T18:21:05.720Z"
   },
   {
    "duration": 168,
    "start_time": "2022-11-27T18:21:05.871Z"
   },
   {
    "duration": 9,
    "start_time": "2022-11-27T18:21:06.041Z"
   },
   {
    "duration": 140,
    "start_time": "2022-11-27T18:21:06.052Z"
   },
   {
    "duration": 194,
    "start_time": "2022-11-27T18:21:06.194Z"
   },
   {
    "duration": 10,
    "start_time": "2022-11-27T18:21:06.390Z"
   },
   {
    "duration": 298,
    "start_time": "2022-11-27T18:21:06.401Z"
   },
   {
    "duration": 9,
    "start_time": "2022-11-27T18:21:06.701Z"
   },
   {
    "duration": 199,
    "start_time": "2022-11-27T18:21:06.712Z"
   },
   {
    "duration": 8,
    "start_time": "2022-11-27T18:21:06.912Z"
   },
   {
    "duration": 17,
    "start_time": "2022-11-27T18:21:06.922Z"
   },
   {
    "duration": 8,
    "start_time": "2022-11-27T18:21:06.940Z"
   },
   {
    "duration": 21,
    "start_time": "2022-11-27T18:21:06.949Z"
   },
   {
    "duration": 14,
    "start_time": "2022-11-27T18:21:06.972Z"
   },
   {
    "duration": 223,
    "start_time": "2022-11-27T18:21:06.987Z"
   },
   {
    "duration": 180,
    "start_time": "2022-11-27T18:21:07.212Z"
   },
   {
    "duration": 201,
    "start_time": "2022-11-27T18:21:07.393Z"
   },
   {
    "duration": 137,
    "start_time": "2022-11-27T18:21:07.596Z"
   },
   {
    "duration": 151,
    "start_time": "2022-11-27T18:21:07.734Z"
   },
   {
    "duration": 185,
    "start_time": "2022-11-27T18:21:07.886Z"
   },
   {
    "duration": 156,
    "start_time": "2022-11-27T18:21:08.072Z"
   },
   {
    "duration": 156,
    "start_time": "2022-11-27T18:21:08.230Z"
   },
   {
    "duration": 191,
    "start_time": "2022-11-27T18:21:08.388Z"
   },
   {
    "duration": 141,
    "start_time": "2022-11-27T18:21:08.581Z"
   },
   {
    "duration": 183,
    "start_time": "2022-11-27T18:21:08.723Z"
   },
   {
    "duration": 207,
    "start_time": "2022-11-27T18:21:08.909Z"
   },
   {
    "duration": 148,
    "start_time": "2022-11-27T18:21:09.118Z"
   },
   {
    "duration": 279,
    "start_time": "2022-11-27T18:21:09.267Z"
   },
   {
    "duration": 190,
    "start_time": "2022-11-27T18:21:09.549Z"
   },
   {
    "duration": 14,
    "start_time": "2022-11-27T18:21:09.740Z"
   },
   {
    "duration": 144,
    "start_time": "2022-11-27T18:21:09.755Z"
   },
   {
    "duration": 146,
    "start_time": "2022-11-27T18:21:09.901Z"
   },
   {
    "duration": 188,
    "start_time": "2022-11-27T18:21:10.049Z"
   },
   {
    "duration": 194,
    "start_time": "2022-11-27T18:21:10.240Z"
   },
   {
    "duration": 230,
    "start_time": "2022-11-27T18:21:10.436Z"
   },
   {
    "duration": 175,
    "start_time": "2022-11-27T18:21:10.668Z"
   },
   {
    "duration": 189,
    "start_time": "2022-11-27T18:21:10.845Z"
   },
   {
    "duration": 8,
    "start_time": "2022-11-27T18:21:11.037Z"
   },
   {
    "duration": 27,
    "start_time": "2022-11-27T18:21:11.046Z"
   },
   {
    "duration": 7,
    "start_time": "2022-11-27T18:21:11.074Z"
   },
   {
    "duration": 8,
    "start_time": "2022-11-27T18:21:11.082Z"
   },
   {
    "duration": 187,
    "start_time": "2022-11-27T18:21:11.091Z"
   },
   {
    "duration": 23,
    "start_time": "2022-11-27T18:24:08.348Z"
   },
   {
    "duration": 78,
    "start_time": "2022-11-27T18:24:12.244Z"
   },
   {
    "duration": 1337,
    "start_time": "2022-11-27T18:24:25.827Z"
   },
   {
    "duration": 2099,
    "start_time": "2022-11-27T18:24:27.166Z"
   },
   {
    "duration": 17,
    "start_time": "2022-11-27T18:24:29.266Z"
   },
   {
    "duration": 9,
    "start_time": "2022-11-27T18:24:29.285Z"
   },
   {
    "duration": 12,
    "start_time": "2022-11-27T18:24:29.296Z"
   },
   {
    "duration": 32,
    "start_time": "2022-11-27T18:24:29.310Z"
   },
   {
    "duration": 10,
    "start_time": "2022-11-27T18:24:29.344Z"
   },
   {
    "duration": 5,
    "start_time": "2022-11-27T18:24:29.355Z"
   },
   {
    "duration": 9,
    "start_time": "2022-11-27T18:24:29.362Z"
   },
   {
    "duration": 68,
    "start_time": "2022-11-27T18:24:29.374Z"
   },
   {
    "duration": 9,
    "start_time": "2022-11-27T18:24:29.444Z"
   },
   {
    "duration": 9,
    "start_time": "2022-11-27T18:24:29.454Z"
   },
   {
    "duration": 10,
    "start_time": "2022-11-27T18:24:29.465Z"
   },
   {
    "duration": 3,
    "start_time": "2022-11-27T18:24:29.477Z"
   },
   {
    "duration": 10,
    "start_time": "2022-11-27T18:24:29.482Z"
   },
   {
    "duration": 44,
    "start_time": "2022-11-27T18:24:29.493Z"
   },
   {
    "duration": 8,
    "start_time": "2022-11-27T18:24:29.540Z"
   },
   {
    "duration": 10,
    "start_time": "2022-11-27T18:24:29.550Z"
   },
   {
    "duration": 9,
    "start_time": "2022-11-27T18:24:29.561Z"
   },
   {
    "duration": 5,
    "start_time": "2022-11-27T18:24:29.572Z"
   },
   {
    "duration": 23,
    "start_time": "2022-11-27T18:24:29.579Z"
   },
   {
    "duration": 57,
    "start_time": "2022-11-27T18:24:29.604Z"
   },
   {
    "duration": 31,
    "start_time": "2022-11-27T18:24:29.662Z"
   },
   {
    "duration": 7,
    "start_time": "2022-11-27T18:24:29.695Z"
   },
   {
    "duration": 7,
    "start_time": "2022-11-27T18:24:29.704Z"
   },
   {
    "duration": 26,
    "start_time": "2022-11-27T18:24:29.712Z"
   },
   {
    "duration": 7,
    "start_time": "2022-11-27T18:24:29.739Z"
   },
   {
    "duration": 9,
    "start_time": "2022-11-27T18:24:29.750Z"
   },
   {
    "duration": 7,
    "start_time": "2022-11-27T18:24:29.761Z"
   },
   {
    "duration": 9,
    "start_time": "2022-11-27T18:24:29.770Z"
   },
   {
    "duration": 13,
    "start_time": "2022-11-27T18:24:29.781Z"
   },
   {
    "duration": 41,
    "start_time": "2022-11-27T18:24:29.796Z"
   },
   {
    "duration": 14,
    "start_time": "2022-11-27T18:24:29.839Z"
   },
   {
    "duration": 17,
    "start_time": "2022-11-27T18:24:29.855Z"
   },
   {
    "duration": 85,
    "start_time": "2022-11-27T18:24:29.874Z"
   },
   {
    "duration": 4,
    "start_time": "2022-11-27T18:24:29.961Z"
   },
   {
    "duration": 7,
    "start_time": "2022-11-27T18:24:29.966Z"
   },
   {
    "duration": 79,
    "start_time": "2022-11-27T18:24:29.974Z"
   },
   {
    "duration": 40,
    "start_time": "2022-11-27T18:24:30.055Z"
   },
   {
    "duration": 74,
    "start_time": "2022-11-27T18:24:30.097Z"
   },
   {
    "duration": 5,
    "start_time": "2022-11-27T18:24:30.173Z"
   },
   {
    "duration": 75,
    "start_time": "2022-11-27T18:24:30.179Z"
   },
   {
    "duration": 7,
    "start_time": "2022-11-27T18:24:30.255Z"
   },
   {
    "duration": 31,
    "start_time": "2022-11-27T18:24:30.263Z"
   },
   {
    "duration": 14,
    "start_time": "2022-11-27T18:24:30.296Z"
   },
   {
    "duration": 28,
    "start_time": "2022-11-27T18:24:30.312Z"
   },
   {
    "duration": 292,
    "start_time": "2022-11-27T18:24:30.342Z"
   },
   {
    "duration": 4,
    "start_time": "2022-11-27T18:24:30.638Z"
   },
   {
    "duration": 97,
    "start_time": "2022-11-27T18:24:30.644Z"
   },
   {
    "duration": 22,
    "start_time": "2022-11-27T18:24:30.742Z"
   },
   {
    "duration": 114,
    "start_time": "2022-11-27T18:24:30.766Z"
   },
   {
    "duration": 348,
    "start_time": "2022-11-27T18:24:30.882Z"
   },
   {
    "duration": 15,
    "start_time": "2022-11-27T18:24:31.231Z"
   },
   {
    "duration": 140,
    "start_time": "2022-11-27T18:24:31.247Z"
   },
   {
    "duration": 187,
    "start_time": "2022-11-27T18:24:31.389Z"
   },
   {
    "duration": 11,
    "start_time": "2022-11-27T18:24:31.578Z"
   },
   {
    "duration": 138,
    "start_time": "2022-11-27T18:24:31.591Z"
   },
   {
    "duration": 176,
    "start_time": "2022-11-27T18:24:31.736Z"
   },
   {
    "duration": 3,
    "start_time": "2022-11-27T18:24:31.914Z"
   },
   {
    "duration": 19,
    "start_time": "2022-11-27T18:24:31.919Z"
   },
   {
    "duration": 118,
    "start_time": "2022-11-27T18:24:31.941Z"
   },
   {
    "duration": 235,
    "start_time": "2022-11-27T18:24:32.061Z"
   },
   {
    "duration": 9,
    "start_time": "2022-11-27T18:24:32.298Z"
   },
   {
    "duration": 131,
    "start_time": "2022-11-27T18:24:32.308Z"
   },
   {
    "duration": 196,
    "start_time": "2022-11-27T18:24:32.441Z"
   },
   {
    "duration": 9,
    "start_time": "2022-11-27T18:24:32.639Z"
   },
   {
    "duration": 135,
    "start_time": "2022-11-27T18:24:32.650Z"
   },
   {
    "duration": 245,
    "start_time": "2022-11-27T18:24:32.786Z"
   },
   {
    "duration": 10,
    "start_time": "2022-11-27T18:24:33.036Z"
   },
   {
    "duration": 135,
    "start_time": "2022-11-27T18:24:33.048Z"
   },
   {
    "duration": 189,
    "start_time": "2022-11-27T18:24:33.185Z"
   },
   {
    "duration": 9,
    "start_time": "2022-11-27T18:24:33.376Z"
   },
   {
    "duration": 167,
    "start_time": "2022-11-27T18:24:33.386Z"
   },
   {
    "duration": 9,
    "start_time": "2022-11-27T18:24:33.554Z"
   },
   {
    "duration": 133,
    "start_time": "2022-11-27T18:24:33.564Z"
   },
   {
    "duration": 210,
    "start_time": "2022-11-27T18:24:33.699Z"
   },
   {
    "duration": 9,
    "start_time": "2022-11-27T18:24:33.910Z"
   },
   {
    "duration": 145,
    "start_time": "2022-11-27T18:24:33.920Z"
   },
   {
    "duration": 203,
    "start_time": "2022-11-27T18:24:34.066Z"
   },
   {
    "duration": 9,
    "start_time": "2022-11-27T18:24:34.271Z"
   },
   {
    "duration": 126,
    "start_time": "2022-11-27T18:24:34.282Z"
   },
   {
    "duration": 169,
    "start_time": "2022-11-27T18:24:34.414Z"
   },
   {
    "duration": 10,
    "start_time": "2022-11-27T18:24:34.585Z"
   },
   {
    "duration": 145,
    "start_time": "2022-11-27T18:24:34.596Z"
   },
   {
    "duration": 285,
    "start_time": "2022-11-27T18:24:34.743Z"
   },
   {
    "duration": 18,
    "start_time": "2022-11-27T18:24:35.030Z"
   },
   {
    "duration": 220,
    "start_time": "2022-11-27T18:24:35.050Z"
   },
   {
    "duration": 10,
    "start_time": "2022-11-27T18:24:35.271Z"
   },
   {
    "duration": 194,
    "start_time": "2022-11-27T18:24:35.283Z"
   },
   {
    "duration": 9,
    "start_time": "2022-11-27T18:24:35.479Z"
   },
   {
    "duration": 10,
    "start_time": "2022-11-27T18:24:35.490Z"
   },
   {
    "duration": 9,
    "start_time": "2022-11-27T18:24:35.501Z"
   },
   {
    "duration": 10,
    "start_time": "2022-11-27T18:24:35.537Z"
   },
   {
    "duration": 12,
    "start_time": "2022-11-27T18:24:35.549Z"
   },
   {
    "duration": 223,
    "start_time": "2022-11-27T18:24:35.563Z"
   },
   {
    "duration": 201,
    "start_time": "2022-11-27T18:24:35.788Z"
   },
   {
    "duration": 225,
    "start_time": "2022-11-27T18:24:35.991Z"
   },
   {
    "duration": 176,
    "start_time": "2022-11-27T18:24:36.218Z"
   },
   {
    "duration": 167,
    "start_time": "2022-11-27T18:24:36.396Z"
   },
   {
    "duration": 179,
    "start_time": "2022-11-27T18:24:36.565Z"
   },
   {
    "duration": 152,
    "start_time": "2022-11-27T18:24:36.745Z"
   },
   {
    "duration": 156,
    "start_time": "2022-11-27T18:24:36.898Z"
   },
   {
    "duration": 195,
    "start_time": "2022-11-27T18:24:37.056Z"
   },
   {
    "duration": 136,
    "start_time": "2022-11-27T18:24:37.253Z"
   },
   {
    "duration": 169,
    "start_time": "2022-11-27T18:24:37.391Z"
   },
   {
    "duration": 320,
    "start_time": "2022-11-27T18:24:37.562Z"
   },
   {
    "duration": 156,
    "start_time": "2022-11-27T18:24:37.883Z"
   },
   {
    "duration": 168,
    "start_time": "2022-11-27T18:24:38.041Z"
   },
   {
    "duration": 184,
    "start_time": "2022-11-27T18:24:38.211Z"
   },
   {
    "duration": 14,
    "start_time": "2022-11-27T18:24:38.396Z"
   },
   {
    "duration": 152,
    "start_time": "2022-11-27T18:24:38.412Z"
   },
   {
    "duration": 154,
    "start_time": "2022-11-27T18:24:38.566Z"
   },
   {
    "duration": 236,
    "start_time": "2022-11-27T18:24:38.721Z"
   },
   {
    "duration": 207,
    "start_time": "2022-11-27T18:24:38.959Z"
   },
   {
    "duration": 225,
    "start_time": "2022-11-27T18:24:39.168Z"
   },
   {
    "duration": 190,
    "start_time": "2022-11-27T18:24:39.395Z"
   },
   {
    "duration": 190,
    "start_time": "2022-11-27T18:24:39.587Z"
   },
   {
    "duration": 9,
    "start_time": "2022-11-27T18:24:39.779Z"
   },
   {
    "duration": 48,
    "start_time": "2022-11-27T18:24:39.789Z"
   },
   {
    "duration": 8,
    "start_time": "2022-11-27T18:24:39.840Z"
   },
   {
    "duration": 21,
    "start_time": "2022-11-27T18:24:39.858Z"
   },
   {
    "duration": 162,
    "start_time": "2022-11-27T18:24:39.880Z"
   },
   {
    "duration": 189,
    "start_time": "2022-11-27T18:25:08.873Z"
   },
   {
    "duration": 147,
    "start_time": "2022-11-27T18:28:03.829Z"
   },
   {
    "duration": 1416,
    "start_time": "2022-11-28T11:59:08.026Z"
   },
   {
    "duration": 2090,
    "start_time": "2022-11-28T11:59:12.196Z"
   },
   {
    "duration": 16,
    "start_time": "2022-11-28T11:59:25.045Z"
   },
   {
    "duration": 10,
    "start_time": "2022-11-28T11:59:25.710Z"
   },
   {
    "duration": 10,
    "start_time": "2022-11-28T11:59:27.525Z"
   },
   {
    "duration": 7,
    "start_time": "2022-11-28T11:59:27.733Z"
   },
   {
    "duration": 9,
    "start_time": "2022-11-28T11:59:29.673Z"
   },
   {
    "duration": 4,
    "start_time": "2022-11-28T11:59:30.060Z"
   },
   {
    "duration": 8,
    "start_time": "2022-11-28T11:59:30.574Z"
   },
   {
    "duration": 41,
    "start_time": "2022-11-28T11:59:32.376Z"
   },
   {
    "duration": 9,
    "start_time": "2022-11-28T11:59:32.974Z"
   },
   {
    "duration": 15,
    "start_time": "2022-11-28T11:59:34.974Z"
   },
   {
    "duration": 9,
    "start_time": "2022-11-28T11:59:35.463Z"
   },
   {
    "duration": 4,
    "start_time": "2022-11-28T11:59:38.224Z"
   },
   {
    "duration": 5,
    "start_time": "2022-11-28T11:59:39.823Z"
   },
   {
    "duration": 13,
    "start_time": "2022-11-28T11:59:40.502Z"
   },
   {
    "duration": 8,
    "start_time": "2022-11-28T11:59:41.631Z"
   },
   {
    "duration": 10,
    "start_time": "2022-11-28T11:59:42.541Z"
   },
   {
    "duration": 8,
    "start_time": "2022-11-28T11:59:42.749Z"
   },
   {
    "duration": 5,
    "start_time": "2022-11-28T11:59:42.949Z"
   },
   {
    "duration": 17,
    "start_time": "2022-11-28T11:59:43.169Z"
   },
   {
    "duration": 22,
    "start_time": "2022-11-28T11:59:43.393Z"
   },
   {
    "duration": 30,
    "start_time": "2022-11-28T11:59:43.799Z"
   },
   {
    "duration": 14,
    "start_time": "2022-11-28T11:59:44.019Z"
   },
   {
    "duration": 5,
    "start_time": "2022-11-28T11:59:45.573Z"
   },
   {
    "duration": 4,
    "start_time": "2022-11-28T11:59:47.545Z"
   },
   {
    "duration": 4,
    "start_time": "2022-11-28T11:59:55.937Z"
   },
   {
    "duration": 4,
    "start_time": "2022-11-28T11:59:56.406Z"
   },
   {
    "duration": 4,
    "start_time": "2022-11-28T11:59:56.803Z"
   },
   {
    "duration": 3,
    "start_time": "2022-11-28T11:59:57.312Z"
   },
   {
    "duration": 3,
    "start_time": "2022-11-28T11:59:58.925Z"
   },
   {
    "duration": 36,
    "start_time": "2022-11-28T12:00:00.692Z"
   },
   {
    "duration": 12,
    "start_time": "2022-11-28T12:00:03.658Z"
   },
   {
    "duration": 15,
    "start_time": "2022-11-28T12:00:04.223Z"
   },
   {
    "duration": 10,
    "start_time": "2022-11-28T12:07:00.387Z"
   },
   {
    "duration": 14,
    "start_time": "2022-11-28T12:08:02.745Z"
   },
   {
    "duration": 173,
    "start_time": "2022-11-28T12:13:00.321Z"
   },
   {
    "duration": 6,
    "start_time": "2022-11-28T12:17:04.327Z"
   },
   {
    "duration": 16,
    "start_time": "2022-11-28T12:17:20.918Z"
   },
   {
    "duration": 13,
    "start_time": "2022-11-28T12:17:24.341Z"
   },
   {
    "duration": 153,
    "start_time": "2022-11-28T12:17:26.948Z"
   },
   {
    "duration": 12,
    "start_time": "2022-11-28T12:18:03.445Z"
   },
   {
    "duration": 4,
    "start_time": "2022-11-28T12:18:30.319Z"
   },
   {
    "duration": 5,
    "start_time": "2022-11-28T12:18:30.719Z"
   },
   {
    "duration": 61,
    "start_time": "2022-11-28T12:18:31.197Z"
   },
   {
    "duration": 38,
    "start_time": "2022-11-28T12:18:31.492Z"
   },
   {
    "duration": 56,
    "start_time": "2022-11-28T12:18:32.799Z"
   },
   {
    "duration": 6,
    "start_time": "2022-11-28T12:18:33.946Z"
   },
   {
    "duration": 49,
    "start_time": "2022-11-28T12:18:34.951Z"
   },
   {
    "duration": 7,
    "start_time": "2022-11-28T12:18:36.351Z"
   },
   {
    "duration": 7,
    "start_time": "2022-11-28T12:18:37.590Z"
   },
   {
    "duration": 5,
    "start_time": "2022-11-28T12:18:38.197Z"
   },
   {
    "duration": 3,
    "start_time": "2022-11-28T12:18:38.800Z"
   },
   {
    "duration": 251,
    "start_time": "2022-11-28T12:18:39.500Z"
   },
   {
    "duration": 4,
    "start_time": "2022-11-28T12:18:40.668Z"
   },
   {
    "duration": 96,
    "start_time": "2022-11-28T12:18:41.285Z"
   },
   {
    "duration": 8,
    "start_time": "2022-11-28T12:18:46.832Z"
   },
   {
    "duration": 112,
    "start_time": "2022-11-28T12:18:47.597Z"
   },
   {
    "duration": 353,
    "start_time": "2022-11-28T12:18:48.317Z"
   },
   {
    "duration": 9,
    "start_time": "2022-11-28T12:18:50.694Z"
   },
   {
    "duration": 122,
    "start_time": "2022-11-28T12:18:51.447Z"
   },
   {
    "duration": 159,
    "start_time": "2022-11-28T12:18:53.002Z"
   },
   {
    "duration": 10,
    "start_time": "2022-11-28T12:18:54.989Z"
   },
   {
    "duration": 115,
    "start_time": "2022-11-28T12:18:55.549Z"
   },
   {
    "duration": 181,
    "start_time": "2022-11-28T12:18:56.117Z"
   },
   {
    "duration": 4,
    "start_time": "2022-11-28T12:18:58.817Z"
   },
   {
    "duration": 9,
    "start_time": "2022-11-28T12:18:59.432Z"
   },
   {
    "duration": 119,
    "start_time": "2022-11-28T12:19:00.135Z"
   },
   {
    "duration": 240,
    "start_time": "2022-11-28T12:19:00.850Z"
   },
   {
    "duration": 8,
    "start_time": "2022-11-28T12:19:13.168Z"
   },
   {
    "duration": 122,
    "start_time": "2022-11-28T12:19:13.900Z"
   },
   {
    "duration": 174,
    "start_time": "2022-11-28T12:19:14.998Z"
   },
   {
    "duration": 9,
    "start_time": "2022-11-28T12:19:17.238Z"
   },
   {
    "duration": 185,
    "start_time": "2022-11-28T12:19:17.919Z"
   },
   {
    "duration": 139,
    "start_time": "2022-11-28T12:19:18.430Z"
   },
   {
    "duration": 8,
    "start_time": "2022-11-28T12:19:27.068Z"
   },
   {
    "duration": 109,
    "start_time": "2022-11-28T12:19:27.752Z"
   },
   {
    "duration": 161,
    "start_time": "2022-11-28T12:19:28.552Z"
   },
   {
    "duration": 11,
    "start_time": "2022-11-28T12:19:32.328Z"
   },
   {
    "duration": 150,
    "start_time": "2022-11-28T12:19:33.002Z"
   },
   {
    "duration": 9,
    "start_time": "2022-11-28T12:19:35.193Z"
   },
   {
    "duration": 118,
    "start_time": "2022-11-28T12:19:38.336Z"
   },
   {
    "duration": 189,
    "start_time": "2022-11-28T12:19:38.947Z"
   },
   {
    "duration": 9,
    "start_time": "2022-11-28T12:19:41.701Z"
   },
   {
    "duration": 110,
    "start_time": "2022-11-28T12:19:42.517Z"
   },
   {
    "duration": 159,
    "start_time": "2022-11-28T12:19:43.501Z"
   },
   {
    "duration": 9,
    "start_time": "2022-11-28T12:19:49.608Z"
   },
   {
    "duration": 102,
    "start_time": "2022-11-28T12:19:50.247Z"
   },
   {
    "duration": 161,
    "start_time": "2022-11-28T12:19:50.886Z"
   },
   {
    "duration": 8,
    "start_time": "2022-11-28T12:19:53.416Z"
   },
   {
    "duration": 215,
    "start_time": "2022-11-28T12:19:54.130Z"
   },
   {
    "duration": 191,
    "start_time": "2022-11-28T12:19:55.719Z"
   },
   {
    "duration": 9,
    "start_time": "2022-11-28T12:19:57.900Z"
   },
   {
    "duration": 183,
    "start_time": "2022-11-28T12:19:59.556Z"
   },
   {
    "duration": 8,
    "start_time": "2022-11-28T12:20:02.213Z"
   },
   {
    "duration": 191,
    "start_time": "2022-11-28T12:20:02.802Z"
   },
   {
    "duration": 9,
    "start_time": "2022-11-28T12:20:15.800Z"
   },
   {
    "duration": 11,
    "start_time": "2022-11-28T12:20:15.996Z"
   },
   {
    "duration": 8,
    "start_time": "2022-11-28T12:20:16.206Z"
   },
   {
    "duration": 8,
    "start_time": "2022-11-28T12:20:16.460Z"
   },
   {
    "duration": 8,
    "start_time": "2022-11-28T12:20:16.935Z"
   },
   {
    "duration": 184,
    "start_time": "2022-11-28T12:20:17.450Z"
   },
   {
    "duration": 185,
    "start_time": "2022-11-28T12:20:18.052Z"
   },
   {
    "duration": 219,
    "start_time": "2022-11-28T12:20:18.922Z"
   },
   {
    "duration": 156,
    "start_time": "2022-11-28T12:20:23.598Z"
   },
   {
    "duration": 174,
    "start_time": "2022-11-28T12:20:24.114Z"
   },
   {
    "duration": 184,
    "start_time": "2022-11-28T12:20:25.070Z"
   },
   {
    "duration": 171,
    "start_time": "2022-11-28T12:20:27.384Z"
   },
   {
    "duration": 152,
    "start_time": "2022-11-28T12:20:28.302Z"
   },
   {
    "duration": 196,
    "start_time": "2022-11-28T12:20:29.269Z"
   },
   {
    "duration": 248,
    "start_time": "2022-11-28T12:20:31.893Z"
   },
   {
    "duration": 140,
    "start_time": "2022-11-28T12:20:32.468Z"
   },
   {
    "duration": 192,
    "start_time": "2022-11-28T12:20:33.235Z"
   },
   {
    "duration": 150,
    "start_time": "2022-11-28T12:20:35.709Z"
   },
   {
    "duration": 203,
    "start_time": "2022-11-28T12:20:36.445Z"
   },
   {
    "duration": 192,
    "start_time": "2022-11-28T12:20:39.353Z"
   },
   {
    "duration": 12,
    "start_time": "2022-11-28T12:20:45.618Z"
   },
   {
    "duration": 143,
    "start_time": "2022-11-28T12:20:46.990Z"
   },
   {
    "duration": 152,
    "start_time": "2022-11-28T12:20:59.037Z"
   },
   {
    "duration": 168,
    "start_time": "2022-11-28T12:21:01.903Z"
   },
   {
    "duration": 207,
    "start_time": "2022-11-28T12:21:02.389Z"
   },
   {
    "duration": 214,
    "start_time": "2022-11-28T12:21:04.502Z"
   },
   {
    "duration": 279,
    "start_time": "2022-11-28T12:21:05.093Z"
   },
   {
    "duration": 189,
    "start_time": "2022-11-28T12:21:06.918Z"
   },
   {
    "duration": 181,
    "start_time": "2022-11-28T12:21:07.223Z"
   },
   {
    "duration": 8,
    "start_time": "2022-11-28T12:21:09.035Z"
   },
   {
    "duration": 26,
    "start_time": "2022-11-28T12:21:09.952Z"
   },
   {
    "duration": 8,
    "start_time": "2022-11-28T12:21:10.452Z"
   },
   {
    "duration": 7,
    "start_time": "2022-11-28T12:21:10.892Z"
   },
   {
    "duration": 157,
    "start_time": "2022-11-28T12:21:12.619Z"
   },
   {
    "duration": 1267,
    "start_time": "2022-11-28T12:41:18.612Z"
   },
   {
    "duration": 1926,
    "start_time": "2022-11-28T12:41:27.798Z"
   },
   {
    "duration": 23,
    "start_time": "2022-11-28T12:42:56.426Z"
   },
   {
    "duration": 15,
    "start_time": "2022-11-28T12:43:05.898Z"
   },
   {
    "duration": 14,
    "start_time": "2022-11-28T12:43:13.273Z"
   },
   {
    "duration": 8,
    "start_time": "2022-11-28T12:43:19.147Z"
   },
   {
    "duration": 9,
    "start_time": "2022-11-28T12:43:23.498Z"
   },
   {
    "duration": 6,
    "start_time": "2022-11-28T12:43:24.232Z"
   },
   {
    "duration": 9,
    "start_time": "2022-11-28T12:43:25.598Z"
   },
   {
    "duration": 42,
    "start_time": "2022-11-28T12:43:28.731Z"
   },
   {
    "duration": 8,
    "start_time": "2022-11-28T12:43:29.559Z"
   },
   {
    "duration": 8,
    "start_time": "2022-11-28T12:43:32.328Z"
   },
   {
    "duration": 7,
    "start_time": "2022-11-28T12:43:33.074Z"
   },
   {
    "duration": 5,
    "start_time": "2022-11-28T12:43:34.976Z"
   },
   {
    "duration": 19,
    "start_time": "2022-11-28T12:43:40.677Z"
   },
   {
    "duration": 15,
    "start_time": "2022-11-28T12:43:51.090Z"
   },
   {
    "duration": 10,
    "start_time": "2022-11-28T12:43:54.090Z"
   },
   {
    "duration": 10,
    "start_time": "2022-11-28T12:43:59.060Z"
   },
   {
    "duration": 6,
    "start_time": "2022-11-28T12:43:59.842Z"
   },
   {
    "duration": 4,
    "start_time": "2022-11-28T12:44:00.703Z"
   },
   {
    "duration": 12,
    "start_time": "2022-11-28T12:44:01.715Z"
   },
   {
    "duration": 25,
    "start_time": "2022-11-28T12:44:02.484Z"
   },
   {
    "duration": 46,
    "start_time": "2022-11-28T12:44:05.755Z"
   },
   {
    "duration": 11,
    "start_time": "2022-11-28T12:44:06.903Z"
   },
   {
    "duration": 4,
    "start_time": "2022-11-28T12:44:10.017Z"
   },
   {
    "duration": 4,
    "start_time": "2022-11-28T12:44:11.726Z"
   },
   {
    "duration": 5,
    "start_time": "2022-11-28T12:44:32.310Z"
   },
   {
    "duration": 5,
    "start_time": "2022-11-28T12:44:33.943Z"
   },
   {
    "duration": 4,
    "start_time": "2022-11-28T12:44:35.062Z"
   },
   {
    "duration": 3,
    "start_time": "2022-11-28T12:44:36.816Z"
   },
   {
    "duration": 3,
    "start_time": "2022-11-28T12:44:42.195Z"
   },
   {
    "duration": 32,
    "start_time": "2022-11-28T12:45:10.807Z"
   },
   {
    "duration": 14,
    "start_time": "2022-11-28T12:45:16.586Z"
   },
   {
    "duration": 14,
    "start_time": "2022-11-28T12:45:21.591Z"
   },
   {
    "duration": 65,
    "start_time": "2022-11-28T12:45:26.494Z"
   },
   {
    "duration": 149,
    "start_time": "2022-11-28T12:45:29.155Z"
   },
   {
    "duration": 15,
    "start_time": "2022-11-28T12:45:35.980Z"
   },
   {
    "duration": 166,
    "start_time": "2022-11-28T12:45:39.130Z"
   },
   {
    "duration": 15,
    "start_time": "2022-11-28T12:45:40.893Z"
   },
   {
    "duration": 166,
    "start_time": "2022-11-28T12:47:08.914Z"
   },
   {
    "duration": 170,
    "start_time": "2022-11-28T12:48:14.674Z"
   },
   {
    "duration": 153,
    "start_time": "2022-11-28T12:48:28.206Z"
   },
   {
    "duration": 165,
    "start_time": "2022-11-28T12:48:40.243Z"
   },
   {
    "duration": 169,
    "start_time": "2022-11-28T12:48:51.035Z"
   },
   {
    "duration": 133,
    "start_time": "2022-11-28T12:48:58.615Z"
   },
   {
    "duration": 154,
    "start_time": "2022-11-28T12:49:05.835Z"
   },
   {
    "duration": 10,
    "start_time": "2022-11-28T12:49:42.590Z"
   },
   {
    "duration": 13,
    "start_time": "2022-11-28T12:49:54.763Z"
   },
   {
    "duration": 13,
    "start_time": "2022-11-28T12:52:14.723Z"
   },
   {
    "duration": 179,
    "start_time": "2022-11-28T12:52:55.759Z"
   },
   {
    "duration": 12,
    "start_time": "2022-11-28T12:52:56.910Z"
   },
   {
    "duration": 4,
    "start_time": "2022-11-28T12:52:59.025Z"
   },
   {
    "duration": 5,
    "start_time": "2022-11-28T12:52:59.457Z"
   },
   {
    "duration": 233,
    "start_time": "2022-11-28T12:53:00.802Z"
   },
   {
    "duration": 44,
    "start_time": "2022-11-28T12:53:01.503Z"
   },
   {
    "duration": 64,
    "start_time": "2022-11-28T12:53:06.278Z"
   },
   {
    "duration": 6,
    "start_time": "2022-11-28T12:53:13.228Z"
   },
   {
    "duration": 48,
    "start_time": "2022-11-28T12:53:13.889Z"
   },
   {
    "duration": 7,
    "start_time": "2022-11-28T12:53:15.425Z"
   },
   {
    "duration": 5,
    "start_time": "2022-11-28T12:53:16.425Z"
   },
   {
    "duration": 4,
    "start_time": "2022-11-28T12:53:16.775Z"
   },
   {
    "duration": 3,
    "start_time": "2022-11-28T12:53:17.041Z"
   },
   {
    "duration": 273,
    "start_time": "2022-11-28T12:53:20.725Z"
   },
   {
    "duration": 4,
    "start_time": "2022-11-28T12:53:21.234Z"
   },
   {
    "duration": 71,
    "start_time": "2022-11-28T12:53:21.949Z"
   },
   {
    "duration": 11,
    "start_time": "2022-11-28T12:53:25.428Z"
   },
   {
    "duration": 106,
    "start_time": "2022-11-28T12:53:25.951Z"
   },
   {
    "duration": 254,
    "start_time": "2022-11-28T12:53:26.475Z"
   },
   {
    "duration": 12,
    "start_time": "2022-11-28T12:53:28.085Z"
   },
   {
    "duration": 110,
    "start_time": "2022-11-28T12:53:28.635Z"
   },
   {
    "duration": 219,
    "start_time": "2022-11-28T12:53:29.621Z"
   },
   {
    "duration": 9,
    "start_time": "2022-11-28T12:53:31.702Z"
   },
   {
    "duration": 110,
    "start_time": "2022-11-28T12:53:32.169Z"
   },
   {
    "duration": 155,
    "start_time": "2022-11-28T12:53:32.669Z"
   },
   {
    "duration": 4,
    "start_time": "2022-11-28T12:53:35.236Z"
   },
   {
    "duration": 10,
    "start_time": "2022-11-28T12:53:35.984Z"
   },
   {
    "duration": 124,
    "start_time": "2022-11-28T12:53:36.632Z"
   },
   {
    "duration": 220,
    "start_time": "2022-11-28T12:53:37.289Z"
   },
   {
    "duration": 11,
    "start_time": "2022-11-28T12:53:39.153Z"
   },
   {
    "duration": 128,
    "start_time": "2022-11-28T12:53:39.418Z"
   },
   {
    "duration": 174,
    "start_time": "2022-11-28T12:53:39.618Z"
   },
   {
    "duration": 9,
    "start_time": "2022-11-28T12:53:40.434Z"
   },
   {
    "duration": 106,
    "start_time": "2022-11-28T12:53:40.826Z"
   },
   {
    "duration": 147,
    "start_time": "2022-11-28T12:53:41.015Z"
   },
   {
    "duration": 8,
    "start_time": "2022-11-28T12:53:41.483Z"
   },
   {
    "duration": 110,
    "start_time": "2022-11-28T12:53:41.715Z"
   },
   {
    "duration": 258,
    "start_time": "2022-11-28T12:53:41.945Z"
   },
   {
    "duration": 9,
    "start_time": "2022-11-28T12:53:42.699Z"
   },
   {
    "duration": 187,
    "start_time": "2022-11-28T12:53:42.961Z"
   },
   {
    "duration": 8,
    "start_time": "2022-11-28T12:53:43.682Z"
   },
   {
    "duration": 149,
    "start_time": "2022-11-28T12:53:43.975Z"
   },
   {
    "duration": 182,
    "start_time": "2022-11-28T12:53:44.169Z"
   },
   {
    "duration": 10,
    "start_time": "2022-11-28T12:53:45.020Z"
   },
   {
    "duration": 119,
    "start_time": "2022-11-28T12:53:45.162Z"
   },
   {
    "duration": 166,
    "start_time": "2022-11-28T12:53:45.412Z"
   },
   {
    "duration": 9,
    "start_time": "2022-11-28T12:53:46.136Z"
   },
   {
    "duration": 108,
    "start_time": "2022-11-28T12:53:46.343Z"
   },
   {
    "duration": 149,
    "start_time": "2022-11-28T12:53:46.726Z"
   },
   {
    "duration": 9,
    "start_time": "2022-11-28T12:53:47.216Z"
   },
   {
    "duration": 115,
    "start_time": "2022-11-28T12:53:47.412Z"
   },
   {
    "duration": 177,
    "start_time": "2022-11-28T12:53:47.774Z"
   },
   {
    "duration": 9,
    "start_time": "2022-11-28T12:53:48.331Z"
   },
   {
    "duration": 168,
    "start_time": "2022-11-28T12:53:48.574Z"
   },
   {
    "duration": 9,
    "start_time": "2022-11-28T12:53:49.303Z"
   },
   {
    "duration": 291,
    "start_time": "2022-11-28T12:53:49.551Z"
   },
   {
    "duration": 9,
    "start_time": "2022-11-28T12:53:50.921Z"
   },
   {
    "duration": 10,
    "start_time": "2022-11-28T12:53:51.002Z"
   },
   {
    "duration": 10,
    "start_time": "2022-11-28T12:53:51.314Z"
   },
   {
    "duration": 8,
    "start_time": "2022-11-28T12:53:51.462Z"
   },
   {
    "duration": 8,
    "start_time": "2022-11-28T12:53:51.714Z"
   },
   {
    "duration": 191,
    "start_time": "2022-11-28T12:53:51.970Z"
   },
   {
    "duration": 179,
    "start_time": "2022-11-28T12:53:52.216Z"
   },
   {
    "duration": 190,
    "start_time": "2022-11-28T12:53:52.434Z"
   },
   {
    "duration": 147,
    "start_time": "2022-11-28T12:53:53.718Z"
   },
   {
    "duration": 161,
    "start_time": "2022-11-28T12:53:54.066Z"
   },
   {
    "duration": 189,
    "start_time": "2022-11-28T12:53:54.229Z"
   },
   {
    "duration": 150,
    "start_time": "2022-11-28T12:53:55.115Z"
   },
   {
    "duration": 155,
    "start_time": "2022-11-28T12:53:55.267Z"
   },
   {
    "duration": 180,
    "start_time": "2022-11-28T12:53:55.514Z"
   },
   {
    "duration": 147,
    "start_time": "2022-11-28T12:53:56.279Z"
   },
   {
    "duration": 151,
    "start_time": "2022-11-28T12:53:56.556Z"
   },
   {
    "duration": 190,
    "start_time": "2022-11-28T12:53:56.795Z"
   },
   {
    "duration": 153,
    "start_time": "2022-11-28T12:53:57.605Z"
   },
   {
    "duration": 163,
    "start_time": "2022-11-28T12:53:57.862Z"
   },
   {
    "duration": 300,
    "start_time": "2022-11-28T12:53:58.260Z"
   },
   {
    "duration": 13,
    "start_time": "2022-11-28T12:53:58.917Z"
   },
   {
    "duration": 134,
    "start_time": "2022-11-28T12:53:59.402Z"
   },
   {
    "duration": 125,
    "start_time": "2022-11-28T12:54:00.357Z"
   },
   {
    "duration": 150,
    "start_time": "2022-11-28T12:54:01.135Z"
   },
   {
    "duration": 179,
    "start_time": "2022-11-28T12:54:01.441Z"
   },
   {
    "duration": 198,
    "start_time": "2022-11-28T12:54:02.201Z"
   },
   {
    "duration": 223,
    "start_time": "2022-11-28T12:54:02.456Z"
   },
   {
    "duration": 183,
    "start_time": "2022-11-28T12:54:03.234Z"
   },
   {
    "duration": 186,
    "start_time": "2022-11-28T12:54:03.505Z"
   },
   {
    "duration": 8,
    "start_time": "2022-11-28T12:54:12.552Z"
   },
   {
    "duration": 29,
    "start_time": "2022-11-28T12:54:13.029Z"
   },
   {
    "duration": 10,
    "start_time": "2022-11-28T12:54:13.334Z"
   },
   {
    "duration": 7,
    "start_time": "2022-11-28T12:54:13.479Z"
   },
   {
    "duration": 164,
    "start_time": "2022-11-28T12:54:14.569Z"
   },
   {
    "duration": 1394,
    "start_time": "2022-11-28T20:02:40.850Z"
   },
   {
    "duration": 2019,
    "start_time": "2022-11-28T20:02:42.246Z"
   },
   {
    "duration": 18,
    "start_time": "2022-11-28T20:02:44.267Z"
   },
   {
    "duration": 10,
    "start_time": "2022-11-28T20:02:44.287Z"
   },
   {
    "duration": 10,
    "start_time": "2022-11-28T20:02:44.299Z"
   },
   {
    "duration": 7,
    "start_time": "2022-11-28T20:02:44.310Z"
   },
   {
    "duration": 43,
    "start_time": "2022-11-28T20:02:44.318Z"
   },
   {
    "duration": 4,
    "start_time": "2022-11-28T20:02:44.363Z"
   },
   {
    "duration": 11,
    "start_time": "2022-11-28T20:02:44.368Z"
   },
   {
    "duration": 36,
    "start_time": "2022-11-28T20:02:44.382Z"
   },
   {
    "duration": 38,
    "start_time": "2022-11-28T20:02:44.420Z"
   },
   {
    "duration": 9,
    "start_time": "2022-11-28T20:02:44.460Z"
   },
   {
    "duration": 8,
    "start_time": "2022-11-28T20:02:44.470Z"
   },
   {
    "duration": 4,
    "start_time": "2022-11-28T20:02:44.480Z"
   },
   {
    "duration": 7,
    "start_time": "2022-11-28T20:02:44.486Z"
   },
   {
    "duration": 19,
    "start_time": "2022-11-28T20:02:44.494Z"
   },
   {
    "duration": 8,
    "start_time": "2022-11-28T20:02:44.514Z"
   },
   {
    "duration": 42,
    "start_time": "2022-11-28T20:02:44.523Z"
   },
   {
    "duration": 6,
    "start_time": "2022-11-28T20:02:44.566Z"
   },
   {
    "duration": 7,
    "start_time": "2022-11-28T20:02:44.574Z"
   },
   {
    "duration": 17,
    "start_time": "2022-11-28T20:02:44.582Z"
   },
   {
    "duration": 43,
    "start_time": "2022-11-28T20:02:44.601Z"
   },
   {
    "duration": 37,
    "start_time": "2022-11-28T20:02:44.655Z"
   },
   {
    "duration": 11,
    "start_time": "2022-11-28T20:02:44.694Z"
   },
   {
    "duration": 12,
    "start_time": "2022-11-28T20:02:44.707Z"
   },
   {
    "duration": 11,
    "start_time": "2022-11-28T20:02:44.721Z"
   },
   {
    "duration": 30,
    "start_time": "2022-11-28T20:02:44.734Z"
   },
   {
    "duration": 18,
    "start_time": "2022-11-28T20:02:44.770Z"
   },
   {
    "duration": 14,
    "start_time": "2022-11-28T20:02:44.790Z"
   },
   {
    "duration": 13,
    "start_time": "2022-11-28T20:02:44.807Z"
   },
   {
    "duration": 7,
    "start_time": "2022-11-28T20:02:44.823Z"
   },
   {
    "duration": 36,
    "start_time": "2022-11-28T20:02:44.832Z"
   },
   {
    "duration": 12,
    "start_time": "2022-11-28T20:02:44.870Z"
   },
   {
    "duration": 15,
    "start_time": "2022-11-28T20:02:44.884Z"
   },
   {
    "duration": 83,
    "start_time": "2022-11-28T20:02:44.901Z"
   },
   {
    "duration": 145,
    "start_time": "2022-11-28T20:02:44.985Z"
   },
   {
    "duration": 23,
    "start_time": "2022-11-28T20:02:45.132Z"
   },
   {
    "duration": 142,
    "start_time": "2022-11-28T20:02:45.157Z"
   },
   {
    "duration": 16,
    "start_time": "2022-11-28T20:02:45.300Z"
   },
   {
    "duration": 169,
    "start_time": "2022-11-28T20:02:45.317Z"
   },
   {
    "duration": 12,
    "start_time": "2022-11-28T20:02:45.488Z"
   },
   {
    "duration": 4,
    "start_time": "2022-11-28T20:02:45.501Z"
   },
   {
    "duration": 7,
    "start_time": "2022-11-28T20:02:45.507Z"
   },
   {
    "duration": 80,
    "start_time": "2022-11-28T20:02:45.515Z"
   },
   {
    "duration": 39,
    "start_time": "2022-11-28T20:02:45.597Z"
   },
   {
    "duration": 71,
    "start_time": "2022-11-28T20:02:45.638Z"
   },
   {
    "duration": 5,
    "start_time": "2022-11-28T20:02:45.711Z"
   },
   {
    "duration": 48,
    "start_time": "2022-11-28T20:02:45.718Z"
   },
   {
    "duration": 6,
    "start_time": "2022-11-28T20:02:45.768Z"
   },
   {
    "duration": 10,
    "start_time": "2022-11-28T20:02:45.776Z"
   },
   {
    "duration": 10,
    "start_time": "2022-11-28T20:02:45.787Z"
   },
   {
    "duration": 5,
    "start_time": "2022-11-28T20:02:45.799Z"
   },
   {
    "duration": 368,
    "start_time": "2022-11-28T20:02:45.805Z"
   },
   {
    "duration": 4,
    "start_time": "2022-11-28T20:02:46.175Z"
   },
   {
    "duration": 75,
    "start_time": "2022-11-28T20:02:46.180Z"
   },
   {
    "duration": 9,
    "start_time": "2022-11-28T20:02:46.256Z"
   },
   {
    "duration": 121,
    "start_time": "2022-11-28T20:02:46.266Z"
   },
   {
    "duration": 242,
    "start_time": "2022-11-28T20:02:46.389Z"
   },
   {
    "duration": 9,
    "start_time": "2022-11-28T20:02:46.633Z"
   },
   {
    "duration": 126,
    "start_time": "2022-11-28T20:02:46.655Z"
   },
   {
    "duration": 173,
    "start_time": "2022-11-28T20:02:46.783Z"
   },
   {
    "duration": 10,
    "start_time": "2022-11-28T20:02:46.958Z"
   },
   {
    "duration": 131,
    "start_time": "2022-11-28T20:02:46.970Z"
   },
   {
    "duration": 184,
    "start_time": "2022-11-28T20:02:47.103Z"
   },
   {
    "duration": 3,
    "start_time": "2022-11-28T20:02:47.289Z"
   },
   {
    "duration": 12,
    "start_time": "2022-11-28T20:02:47.294Z"
   },
   {
    "duration": 135,
    "start_time": "2022-11-28T20:02:47.308Z"
   },
   {
    "duration": 249,
    "start_time": "2022-11-28T20:02:47.445Z"
   },
   {
    "duration": 9,
    "start_time": "2022-11-28T20:02:47.696Z"
   },
   {
    "duration": 208,
    "start_time": "2022-11-28T20:02:47.707Z"
   },
   {
    "duration": 201,
    "start_time": "2022-11-28T20:02:47.917Z"
   },
   {
    "duration": 9,
    "start_time": "2022-11-28T20:02:48.120Z"
   },
   {
    "duration": 134,
    "start_time": "2022-11-28T20:02:48.130Z"
   },
   {
    "duration": 153,
    "start_time": "2022-11-28T20:02:48.265Z"
   },
   {
    "duration": 9,
    "start_time": "2022-11-28T20:02:48.420Z"
   },
   {
    "duration": 134,
    "start_time": "2022-11-28T20:02:48.430Z"
   },
   {
    "duration": 174,
    "start_time": "2022-11-28T20:02:48.565Z"
   },
   {
    "duration": 19,
    "start_time": "2022-11-28T20:02:48.741Z"
   },
   {
    "duration": 185,
    "start_time": "2022-11-28T20:02:48.762Z"
   },
   {
    "duration": 13,
    "start_time": "2022-11-28T20:02:48.949Z"
   },
   {
    "duration": 132,
    "start_time": "2022-11-28T20:02:48.964Z"
   },
   {
    "duration": 192,
    "start_time": "2022-11-28T20:02:49.103Z"
   },
   {
    "duration": 9,
    "start_time": "2022-11-28T20:02:49.297Z"
   },
   {
    "duration": 129,
    "start_time": "2022-11-28T20:02:49.307Z"
   },
   {
    "duration": 175,
    "start_time": "2022-11-28T20:02:49.438Z"
   },
   {
    "duration": 9,
    "start_time": "2022-11-28T20:02:49.614Z"
   },
   {
    "duration": 218,
    "start_time": "2022-11-28T20:02:49.625Z"
   },
   {
    "duration": 160,
    "start_time": "2022-11-28T20:02:49.855Z"
   },
   {
    "duration": 9,
    "start_time": "2022-11-28T20:02:50.017Z"
   },
   {
    "duration": 135,
    "start_time": "2022-11-28T20:02:50.028Z"
   },
   {
    "duration": 178,
    "start_time": "2022-11-28T20:02:50.164Z"
   },
   {
    "duration": 15,
    "start_time": "2022-11-28T20:02:50.343Z"
   },
   {
    "duration": 176,
    "start_time": "2022-11-28T20:02:50.359Z"
   },
   {
    "duration": 9,
    "start_time": "2022-11-28T20:02:50.536Z"
   },
   {
    "duration": 190,
    "start_time": "2022-11-28T20:02:50.555Z"
   },
   {
    "duration": 15,
    "start_time": "2022-11-28T20:02:50.747Z"
   },
   {
    "duration": 12,
    "start_time": "2022-11-28T20:02:50.764Z"
   },
   {
    "duration": 9,
    "start_time": "2022-11-28T20:02:50.777Z"
   },
   {
    "duration": 8,
    "start_time": "2022-11-28T20:02:50.788Z"
   },
   {
    "duration": 9,
    "start_time": "2022-11-28T20:02:50.798Z"
   },
   {
    "duration": 246,
    "start_time": "2022-11-28T20:02:50.809Z"
   },
   {
    "duration": 179,
    "start_time": "2022-11-28T20:02:51.057Z"
   },
   {
    "duration": 191,
    "start_time": "2022-11-28T20:02:51.238Z"
   },
   {
    "duration": 153,
    "start_time": "2022-11-28T20:02:51.430Z"
   },
   {
    "duration": 164,
    "start_time": "2022-11-28T20:02:51.584Z"
   },
   {
    "duration": 203,
    "start_time": "2022-11-28T20:02:51.750Z"
   },
   {
    "duration": 185,
    "start_time": "2022-11-28T20:02:51.954Z"
   },
   {
    "duration": 269,
    "start_time": "2022-11-28T20:02:52.141Z"
   },
   {
    "duration": 194,
    "start_time": "2022-11-28T20:02:52.411Z"
   },
   {
    "duration": 149,
    "start_time": "2022-11-28T20:02:52.606Z"
   },
   {
    "duration": 147,
    "start_time": "2022-11-28T20:02:52.757Z"
   },
   {
    "duration": 190,
    "start_time": "2022-11-28T20:02:52.906Z"
   },
   {
    "duration": 152,
    "start_time": "2022-11-28T20:02:53.097Z"
   },
   {
    "duration": 188,
    "start_time": "2022-11-28T20:02:53.255Z"
   },
   {
    "duration": 211,
    "start_time": "2022-11-28T20:02:53.450Z"
   },
   {
    "duration": 14,
    "start_time": "2022-11-28T20:02:53.663Z"
   },
   {
    "duration": 177,
    "start_time": "2022-11-28T20:02:53.679Z"
   },
   {
    "duration": 139,
    "start_time": "2022-11-28T20:02:53.858Z"
   },
   {
    "duration": 149,
    "start_time": "2022-11-28T20:02:53.999Z"
   },
   {
    "duration": 193,
    "start_time": "2022-11-28T20:02:54.155Z"
   },
   {
    "duration": 229,
    "start_time": "2022-11-28T20:02:54.349Z"
   },
   {
    "duration": 242,
    "start_time": "2022-11-28T20:02:54.580Z"
   },
   {
    "duration": 191,
    "start_time": "2022-11-28T20:02:54.825Z"
   },
   {
    "duration": 199,
    "start_time": "2022-11-28T20:02:55.018Z"
   },
   {
    "duration": 9,
    "start_time": "2022-11-28T20:02:55.219Z"
   },
   {
    "duration": 48,
    "start_time": "2022-11-28T20:02:55.230Z"
   },
   {
    "duration": 9,
    "start_time": "2022-11-28T20:02:55.280Z"
   },
   {
    "duration": 26,
    "start_time": "2022-11-28T20:02:55.291Z"
   },
   {
    "duration": 170,
    "start_time": "2022-11-28T20:02:55.319Z"
   },
   {
    "duration": 17,
    "start_time": "2022-11-28T20:03:07.432Z"
   },
   {
    "duration": 79,
    "start_time": "2022-11-28T20:03:41.552Z"
   }
  ],
  "kernelspec": {
   "display_name": "Python 3 (ipykernel)",
   "language": "python",
   "name": "python3"
  },
  "language_info": {
   "codemirror_mode": {
    "name": "ipython",
    "version": 3
   },
   "file_extension": ".py",
   "mimetype": "text/x-python",
   "name": "python",
   "nbconvert_exporter": "python",
   "pygments_lexer": "ipython3",
   "version": "3.9.12"
  },
  "toc": {
   "base_numbering": 1,
   "nav_menu": {},
   "number_sections": true,
   "sideBar": true,
   "skip_h1_title": true,
   "title_cell": "Table of Contents",
   "title_sidebar": "Contents",
   "toc_cell": false,
   "toc_position": {
    "height": "calc(100% - 180px)",
    "left": "10px",
    "top": "150px",
    "width": "275px"
   },
   "toc_section_display": true,
   "toc_window_display": true
  }
 },
 "nbformat": 4,
 "nbformat_minor": 2
}
